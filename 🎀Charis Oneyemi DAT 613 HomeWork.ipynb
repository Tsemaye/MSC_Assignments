{
 "cells": [
  {
   "cell_type": "markdown",
   "id": "e3821f5c",
   "metadata": {},
   "source": [
    "# Charis Oneyemi DAT 613 Assignment"
   ]
  },
  {
   "cell_type": "markdown",
   "id": "3f02fe19",
   "metadata": {},
   "source": [
    "data.txt (from the elearning) houses students' scores. Find:\n",
    "\n",
    "1. The average score.\n",
    "2. The student with the lowest score.\n",
    "3. The student with the highest score.\n",
    "4. Write the output to a file: output.txt."
   ]
  },
  {
   "cell_type": "code",
   "execution_count": 2,
   "id": "731e122e",
   "metadata": {},
   "outputs": [
    {
     "name": "stdout",
     "output_type": "stream",
     "text": [
      "james 20 \n",
      "\n",
      "Biodun 56 \n",
      "\n",
      "Kaka 76 \n",
      "\n",
      "Jumoke 30 \n",
      "\n"
     ]
    }
   ],
   "source": [
    "readDataFile = open(\"/Users/caleboneyemi/Downloads/data.txt\", \"r\")\n",
    "for each_line in readDataFile:\n",
    "    print(each_line)\n",
    "readDataFile.close()"
   ]
  },
  {
   "cell_type": "code",
   "execution_count": 3,
   "id": "17188159",
   "metadata": {},
   "outputs": [
    {
     "name": "stdout",
     "output_type": "stream",
     "text": [
      "The names are: ['james', 'Biodun', 'Kaka', 'Jumoke']\n",
      "The scores are: [20, 56, 76, 30]\n"
     ]
    }
   ],
   "source": [
    "readDataFile = open(\"/Users/caleboneyemi/Downloads/data.txt\", \"r\")\n",
    "\n",
    "names = [] \n",
    "scores = []\n",
    "#I created an empty list to store the names & list when i split them\n",
    "\n",
    "for each_line in readDataFile:\n",
    "    name, score = each_line.split() \n",
    "    #That is we are going through line by line to split into name and score\n",
    "    names.append(name)\n",
    "    scores.append(int(score))\n",
    "    \n",
    "\n",
    "readDataFile.close()\n",
    "print(f\"The names are: {names}\")\n",
    "print(f\"The scores are: {scores}\")"
   ]
  },
  {
   "cell_type": "markdown",
   "id": "29919445",
   "metadata": {},
   "source": [
    "## 1. The average score"
   ]
  },
  {
   "cell_type": "code",
   "execution_count": 4,
   "id": "8322a3d6",
   "metadata": {},
   "outputs": [
    {
     "name": "stdout",
     "output_type": "stream",
     "text": [
      "[20, 56, 76, 30]\n"
     ]
    }
   ],
   "source": [
    "print(scores)"
   ]
  },
  {
   "cell_type": "markdown",
   "id": "6e085cee",
   "metadata": {},
   "source": [
    "Since average is the sum of all / the lenght, I'll use for loop to calculate the sum "
   ]
  },
  {
   "cell_type": "code",
   "execution_count": 5,
   "id": "9b49255e",
   "metadata": {},
   "outputs": [
    {
     "name": "stdout",
     "output_type": "stream",
     "text": [
      "182\n"
     ]
    }
   ],
   "source": [
    "sumOfScores = 0\n",
    "for score in scores:\n",
    "    sumOfScores += score\n",
    "print(sumOfScores)"
   ]
  },
  {
   "cell_type": "code",
   "execution_count": 6,
   "id": "54877de0",
   "metadata": {},
   "outputs": [
    {
     "name": "stdout",
     "output_type": "stream",
     "text": [
      "The Average score is 45.5\n"
     ]
    }
   ],
   "source": [
    "AverageScore = sumOfScores/len(scores)\n",
    "print(f\"The Average score is {AverageScore}\")"
   ]
  },
  {
   "cell_type": "markdown",
   "id": "5277a34a",
   "metadata": {},
   "source": [
    "## 2. The student with the lowest score"
   ]
  },
  {
   "cell_type": "code",
   "execution_count": 8,
   "id": "9b3b9461",
   "metadata": {},
   "outputs": [
    {
     "name": "stdout",
     "output_type": "stream",
     "text": [
      "[20, 56, 76, 30]\n"
     ]
    }
   ],
   "source": [
    "print(scores)"
   ]
  },
  {
   "cell_type": "code",
   "execution_count": 8,
   "id": "a4570a6e",
   "metadata": {},
   "outputs": [
    {
     "name": "stdout",
     "output_type": "stream",
     "text": [
      "james has the Lowest score which is 20\n"
     ]
    }
   ],
   "source": [
    "LowestScore = min(scores)\n",
    "LowestScoreIndex = scores.index(LowestScore)\n",
    "LowestScoreStudent = names[LowestScoreIndex]\n",
    "print(f\"{LowestScoreStudent} has the Lowest score which is {LowestScore}\")"
   ]
  },
  {
   "cell_type": "markdown",
   "id": "cc49ff96",
   "metadata": {},
   "source": [
    "## 3. The student with the highest score\n"
   ]
  },
  {
   "cell_type": "code",
   "execution_count": 10,
   "id": "82716992",
   "metadata": {},
   "outputs": [
    {
     "name": "stdout",
     "output_type": "stream",
     "text": [
      "Kaka has the Highest score which is 76\n"
     ]
    }
   ],
   "source": [
    "HighestScore = max(scores)\n",
    "HighestScoreIndex = scores.index(HighestScore)\n",
    "HighestScoreStudent = names[HighestScoreIndex]\n",
    "print(f\"{HighestScoreStudent} has the Highest score which is {HighestScore}\")"
   ]
  },
  {
   "cell_type": "markdown",
   "id": "e0b49511",
   "metadata": {},
   "source": [
    "## 4. Write the output to a file: output.txt."
   ]
  },
  {
   "cell_type": "code",
   "execution_count": 11,
   "id": "1ce3093f",
   "metadata": {},
   "outputs": [],
   "source": [
    "file_handle = open(\"output.txt\", \"w\") \n",
    "file_handle.write(f\"The Average score is {AverageScore}\\n{LowestScoreStudent} has the Lowest score which is {LowestScore} \\n{HighestScoreStudent} has the Highest score which is {HighestScore}\")\n",
    "file_handle.close()"
   ]
  },
  {
   "cell_type": "code",
   "execution_count": null,
   "id": "cd8319b6",
   "metadata": {},
   "outputs": [],
   "source": []
  },
  {
   "cell_type": "code",
   "execution_count": null,
   "id": "97f15f9d",
   "metadata": {},
   "outputs": [],
   "source": []
  },
  {
   "cell_type": "code",
   "execution_count": null,
   "id": "34d60729",
   "metadata": {},
   "outputs": [],
   "source": []
  }
 ],
 "metadata": {
  "kernelspec": {
   "display_name": "Python 3 (ipykernel)",
   "language": "python",
   "name": "python3"
  },
  "language_info": {
   "codemirror_mode": {
    "name": "ipython",
    "version": 3
   },
   "file_extension": ".py",
   "mimetype": "text/x-python",
   "name": "python",
   "nbconvert_exporter": "python",
   "pygments_lexer": "ipython3",
   "version": "3.11.5"
  }
 },
 "nbformat": 4,
 "nbformat_minor": 5
}
