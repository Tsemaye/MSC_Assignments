{
 "cells": [
  {
   "cell_type": "markdown",
   "id": "4e8b3daf",
   "metadata": {},
   "source": [
    "# Python Indentation"
   ]
  },
  {
   "cell_type": "code",
   "execution_count": 3,
   "id": "55058803",
   "metadata": {},
   "outputs": [],
   "source": [
    "x = 2\n",
    "if x > 5:\n",
    "    print(\"greater\")"
   ]
  },
  {
   "cell_type": "markdown",
   "id": "0e251dcd",
   "metadata": {},
   "source": [
    "#### Indentation refers to the spaces at the beginning of a code line. Python will give you an error if you skip the indentation:\n",
    "\n",
    "#### The above didn't run because there's no else part. "
   ]
  },
  {
   "cell_type": "code",
   "execution_count": 4,
   "id": "0a44be0c",
   "metadata": {},
   "outputs": [
    {
     "name": "stdout",
     "output_type": "stream",
     "text": [
      "lesser\n"
     ]
    }
   ],
   "source": [
    "x = 2\n",
    "if x > 5:\n",
    "    print(\"greater\")\n",
    "else:\n",
    "    print(\"lesser\")"
   ]
  },
  {
   "cell_type": "markdown",
   "id": "30bea214",
   "metadata": {},
   "source": [
    "# Comments in Python"
   ]
  },
  {
   "cell_type": "code",
   "execution_count": 5,
   "id": "f4f79602",
   "metadata": {},
   "outputs": [
    {
     "name": "stdout",
     "output_type": "stream",
     "text": [
      "2\n"
     ]
    }
   ],
   "source": [
    "# This is a single line comment so it won't run\n",
    "\n",
    "\"\"\" This is a multiline comment so it won't run\"\"\"\n",
    "\n",
    "a = 2\n",
    "print(a)"
   ]
  },
  {
   "cell_type": "markdown",
   "id": "8438078d",
   "metadata": {},
   "source": [
    "# Variables\n",
    "#### Variables are containers for storing values"
   ]
  },
  {
   "cell_type": "code",
   "execution_count": 6,
   "id": "021ac96e",
   "metadata": {},
   "outputs": [],
   "source": [
    "anInteger = 2\n",
    "aFloat = 2.2\n",
    "aString = \"Two\"\n"
   ]
  },
  {
   "cell_type": "markdown",
   "id": "8958773e",
   "metadata": {},
   "source": [
    "# Type"
   ]
  },
  {
   "cell_type": "code",
   "execution_count": 8,
   "id": "1b985fab",
   "metadata": {},
   "outputs": [
    {
     "data": {
      "text/plain": [
       "int"
      ]
     },
     "execution_count": 8,
     "metadata": {},
     "output_type": "execute_result"
    }
   ],
   "source": [
    "type(anInteger)\n"
   ]
  },
  {
   "cell_type": "code",
   "execution_count": 10,
   "id": "f7ed8635",
   "metadata": {},
   "outputs": [
    {
     "data": {
      "text/plain": [
       "float"
      ]
     },
     "execution_count": 10,
     "metadata": {},
     "output_type": "execute_result"
    }
   ],
   "source": [
    "type(aFloat)\n"
   ]
  },
  {
   "cell_type": "code",
   "execution_count": 11,
   "id": "b4166e44",
   "metadata": {},
   "outputs": [
    {
     "data": {
      "text/plain": [
       "str"
      ]
     },
     "execution_count": 11,
     "metadata": {},
     "output_type": "execute_result"
    }
   ],
   "source": [
    "type(aString)"
   ]
  },
  {
   "cell_type": "code",
   "execution_count": 16,
   "id": "5658dd75",
   "metadata": {},
   "outputs": [
    {
     "data": {
      "text/plain": [
       "int"
      ]
     },
     "execution_count": 16,
     "metadata": {},
     "output_type": "execute_result"
    }
   ],
   "source": [
    "type(5)"
   ]
  },
  {
   "cell_type": "code",
   "execution_count": 18,
   "id": "ec278db2",
   "metadata": {},
   "outputs": [
    {
     "data": {
      "text/plain": [
       "str"
      ]
     },
     "execution_count": 18,
     "metadata": {},
     "output_type": "execute_result"
    }
   ],
   "source": [
    "type(\"hi\")"
   ]
  },
  {
   "cell_type": "code",
   "execution_count": 19,
   "id": "1855c8ed",
   "metadata": {},
   "outputs": [
    {
     "data": {
      "text/plain": [
       "float"
      ]
     },
     "execution_count": 19,
     "metadata": {},
     "output_type": "execute_result"
    }
   ],
   "source": [
    "type(5.0)"
   ]
  },
  {
   "cell_type": "markdown",
   "id": "9eb67566",
   "metadata": {},
   "source": [
    "# Casting AKA Type Conversion\n",
    "#### Casting is done to specify the data type of our variables"
   ]
  },
  {
   "cell_type": "code",
   "execution_count": 12,
   "id": "41fac691",
   "metadata": {},
   "outputs": [
    {
     "data": {
      "text/plain": [
       "'2'"
      ]
     },
     "execution_count": 12,
     "metadata": {},
     "output_type": "execute_result"
    }
   ],
   "source": [
    "str(anInteger)"
   ]
  },
  {
   "cell_type": "code",
   "execution_count": 13,
   "id": "6d55370f",
   "metadata": {},
   "outputs": [
    {
     "name": "stdout",
     "output_type": "stream",
     "text": [
      "2\n"
     ]
    }
   ],
   "source": [
    "print(anInteger)"
   ]
  },
  {
   "cell_type": "code",
   "execution_count": 14,
   "id": "512b728c",
   "metadata": {},
   "outputs": [
    {
     "data": {
      "text/plain": [
       "int"
      ]
     },
     "execution_count": 14,
     "metadata": {},
     "output_type": "execute_result"
    }
   ],
   "source": [
    "type(anInteger)"
   ]
  },
  {
   "cell_type": "markdown",
   "id": "0cbfe593",
   "metadata": {},
   "source": [
    "#### In Python, casting from an integer to a string using str() creates a new string object representing the integer's value. However, the original integer variable remains unchanged.\n",
    "\n"
   ]
  },
  {
   "cell_type": "markdown",
   "id": "a8ab3328",
   "metadata": {},
   "source": [
    "### Cating is neccessary for\n",
    "Mathematical operations:\n",
    "\n",
    "When performing arithmetic operations, you often need to ensure that the operands are of the same data type. For example, if you want to add an integer and a float, you might need to cast the integer to a float first.\n",
    "Function arguments:\n",
    "\n",
    "Some functions require specific data types for their arguments. If you pass a value of a different type, you may need to cast it to the expected type before calling the function.\n",
    "String formatting:\n",
    "\n",
    "When using string formatting methods like format() or f-strings, you might need to cast values to strings to include them in the formatted string.\n",
    "Input/output operations:\n",
    "\n",
    "When reading input from the user or writing output to a file, you might need to convert values to the appropriate data type. For example, if you read a number from the user as a string, you might need to cast it to an integer or float before performing calculations.\n",
    "Type hints:\n",
    "\n",
    "Type hints provide more information about the expected types of variables and function arguments. Casting can be used to ensure that values adhere to these type hints."
   ]
  },
  {
   "cell_type": "code",
   "execution_count": 15,
   "id": "45be1182",
   "metadata": {},
   "outputs": [
    {
     "name": "stdout",
     "output_type": "stream",
     "text": [
      "Hello, 123!\n",
      "Enter a number: 2\n"
     ]
    }
   ],
   "source": [
    "# Mathematical operations\n",
    "x = 5\n",
    "y = 2.5\n",
    "result = x + int(y)  # Cast y to an integer before adding\n",
    "\n",
    "# Function arguments\n",
    "def greet(name):\n",
    "    print(\"Hello, \" + str(name) + \"!\")\n",
    "\n",
    "greet(123)  # Cast 123 to a string before concatenating\n",
    "\n",
    "# String formatting\n",
    "age = 25\n",
    "message = f\"I am {age} years old.\"\n",
    "\n",
    "# Input/output operations\n",
    "number = input(\"Enter a number: \")\n",
    "number = int(number)  # Cast the input to an integer"
   ]
  },
  {
   "cell_type": "markdown",
   "id": "2808a957",
   "metadata": {},
   "source": [
    "# Case-Sensitive\n"
   ]
  },
  {
   "cell_type": "markdown",
   "id": "17091471",
   "metadata": {},
   "source": [
    "Variable names are case sensitive. Variable A is not the same as variable a"
   ]
  },
  {
   "cell_type": "code",
   "execution_count": 21,
   "id": "7cecaa25",
   "metadata": {},
   "outputs": [
    {
     "ename": "NameError",
     "evalue": "name 'Greeting' is not defined",
     "output_type": "error",
     "traceback": [
      "\u001b[0;31m---------------------------------------------------------------------------\u001b[0m",
      "\u001b[0;31mNameError\u001b[0m                                 Traceback (most recent call last)",
      "Cell \u001b[0;32mIn[21], line 2\u001b[0m\n\u001b[1;32m      1\u001b[0m greeting \u001b[38;5;241m=\u001b[39m \u001b[38;5;124m\"\u001b[39m\u001b[38;5;124mHi there\u001b[39m\u001b[38;5;124m\"\u001b[39m\n\u001b[0;32m----> 2\u001b[0m \u001b[38;5;28mprint\u001b[39m(Greeting)\n",
      "\u001b[0;31mNameError\u001b[0m: name 'Greeting' is not defined"
     ]
    }
   ],
   "source": [
    "greeting = \"Hi there\"\n",
    "print(Greeting)"
   ]
  },
  {
   "cell_type": "code",
   "execution_count": 22,
   "id": "a4d16fcc",
   "metadata": {},
   "outputs": [
    {
     "name": "stdout",
     "output_type": "stream",
     "text": [
      "Hi there\n"
     ]
    }
   ],
   "source": [
    "greeting = \"Hi there\"\n",
    "print(greeting)"
   ]
  },
  {
   "cell_type": "markdown",
   "id": "fa2b2ac2",
   "metadata": {},
   "source": [
    "# Naming Variables"
   ]
  },
  {
   "cell_type": "markdown",
   "id": "b2e1cc47",
   "metadata": {},
   "source": [
    "A variable name must start with a letter or the underscore character\n",
    "A variable name cannot start with a number\n",
    "A variable name can only contain alpha-numeric characters and underscores (A-z, 0-9, and _ )\n",
    "Variable names are case-sensitive (age, Age and AGE are three different variables)\n",
    "A variable name cannot be any of the Python keywords.\n",
    "\n",
    "\n",
    "### Python keywords\n",
    "\n",
    "and, assert, break, continue, else, elif, for, if, in, not, or, pass, raise, return, try, while, with, class, def, del, global, lambda, nonlocal, False, None, True, as, from, import, init, str, repr, getitem, setitem, len, del, call, abs, all, any, bin, bool, chr, complex, divmod, enumerate, eval, exec, filter, float, format, frozenset, getattr, hasattr, hash, help, hex, id, input, int, isinstance, issubclass, iter, len, list, map, max, min, next, oct, open, ord, pow, print, range, reversed, round, set, slice, sorted, str, sum, tuple, type, zip, BaseException, Exception, ArithmeticError, AssertionError, AttributeError, BufferError, ChildProcessError, ConnectionError, EOFError, FileExistsError, FileNotFoundError, GeneratorExit, ImportError, IndexError, KeyError, KeyboardInterrupt, LookupError, MemoryError, ModuleNotFoundError, NameError, NotImplementedError, OSError, OverflowError,\n",
    "\n",
    " RuntimeError, SyntaxError, SystemError, TypeError, ValueError, ZeroDivisionError, await, async, nonlocal, yield, yield from\n"
   ]
  },
  {
   "cell_type": "markdown",
   "id": "18efbefe",
   "metadata": {},
   "source": [
    "# Assigning Multiple Values to multiple variables"
   ]
  },
  {
   "cell_type": "code",
   "execution_count": 25,
   "id": "2331f9f6",
   "metadata": {},
   "outputs": [
    {
     "name": "stdout",
     "output_type": "stream",
     "text": [
      "10 20 30\n"
     ]
    }
   ],
   "source": [
    "b,c,d = 10,20,30\n",
    "print(b,c,d)"
   ]
  },
  {
   "cell_type": "code",
   "execution_count": 26,
   "id": "b4ac0ff5",
   "metadata": {},
   "outputs": [
    {
     "ename": "ValueError",
     "evalue": "not enough values to unpack (expected 3, got 2)",
     "output_type": "error",
     "traceback": [
      "\u001b[0;31m---------------------------------------------------------------------------\u001b[0m",
      "\u001b[0;31mValueError\u001b[0m                                Traceback (most recent call last)",
      "Cell \u001b[0;32mIn[26], line 1\u001b[0m\n\u001b[0;32m----> 1\u001b[0m e,f,g \u001b[38;5;241m=\u001b[39m \u001b[38;5;241m10\u001b[39m,\u001b[38;5;241m20\u001b[39m\n",
      "\u001b[0;31mValueError\u001b[0m: not enough values to unpack (expected 3, got 2)"
     ]
    }
   ],
   "source": [
    "e,f,g = 10,20\n",
    "\n"
   ]
  },
  {
   "cell_type": "code",
   "execution_count": 27,
   "id": "3318b7e4",
   "metadata": {},
   "outputs": [
    {
     "ename": "ValueError",
     "evalue": "too many values to unpack (expected 3)",
     "output_type": "error",
     "traceback": [
      "\u001b[0;31m---------------------------------------------------------------------------\u001b[0m",
      "\u001b[0;31mValueError\u001b[0m                                Traceback (most recent call last)",
      "Cell \u001b[0;32mIn[27], line 1\u001b[0m\n\u001b[0;32m----> 1\u001b[0m i,j,k \u001b[38;5;241m=\u001b[39m \u001b[38;5;124m\"\u001b[39m\u001b[38;5;124morange\u001b[39m\u001b[38;5;124m\"\u001b[39m\n\u001b[1;32m      2\u001b[0m \u001b[38;5;28mprint\u001b[39m(i,j,k)\n",
      "\u001b[0;31mValueError\u001b[0m: too many values to unpack (expected 3)"
     ]
    }
   ],
   "source": [
    "i,j,k = \"orange\"\n",
    "print(i,j,k)"
   ]
  },
  {
   "cell_type": "code",
   "execution_count": 29,
   "id": "40c40e10",
   "metadata": {},
   "outputs": [
    {
     "name": "stdout",
     "output_type": "stream",
     "text": [
      "orange orange orange\n"
     ]
    }
   ],
   "source": [
    "i = j = k = \"orange\"\n",
    "print(i,j,k)"
   ]
  },
  {
   "cell_type": "markdown",
   "id": "941b8449",
   "metadata": {},
   "source": [
    "#### so this is how you assign one value to multiple variables = not ,\n",
    "\n",
    "### 🚨N/B You can assign multiple variables \"same amount\" of multiple values and multiple variables can have one value but one variable can't have multiple values🚨"
   ]
  },
  {
   "cell_type": "markdown",
   "id": "167619a9",
   "metadata": {},
   "source": [
    "# Unpack a Collection\n",
    "#### If you have a collection of values in a list, tuple etc. Python allows you to extract the values into variables. This is called unpacking."
   ]
  },
  {
   "cell_type": "code",
   "execution_count": 36,
   "id": "8b86ae29",
   "metadata": {},
   "outputs": [
    {
     "ename": "NameError",
     "evalue": "name 'fruits' is not defined",
     "output_type": "error",
     "traceback": [
      "\u001b[0;31m---------------------------------------------------------------------------\u001b[0m",
      "\u001b[0;31mNameError\u001b[0m                                 Traceback (most recent call last)",
      "Cell \u001b[0;32mIn[36], line 2\u001b[0m\n\u001b[1;32m      1\u001b[0m friuts \u001b[38;5;241m=\u001b[39m [\u001b[38;5;124m'\u001b[39m\u001b[38;5;124morange\u001b[39m\u001b[38;5;124m'\u001b[39m, \u001b[38;5;124m'\u001b[39m\u001b[38;5;124mapple\u001b[39m\u001b[38;5;124m'\u001b[39m, \u001b[38;5;124m'\u001b[39m\u001b[38;5;124mkiwi\u001b[39m\u001b[38;5;124m'\u001b[39m] \u001b[38;5;66;03m#unpacking lists\u001b[39;00m\n\u001b[0;32m----> 2\u001b[0m x1,y1,z1 \u001b[38;5;241m=\u001b[39m fruits\n\u001b[1;32m      3\u001b[0m \u001b[38;5;28mprint\u001b[39m(x1,y1,z1)\n",
      "\u001b[0;31mNameError\u001b[0m: name 'fruits' is not defined"
     ]
    }
   ],
   "source": [
    "friuts = ['orange', 'apple', 'kiwi'] #unpacking lists\n",
    "x1,y1,z1 = fruits\n",
    "print(x1,y1,z1)"
   ]
  },
  {
   "cell_type": "markdown",
   "id": "713127fc",
   "metadata": {},
   "source": [
    "### So we have to be careful with our spellings especially during exams since it's paper written"
   ]
  },
  {
   "cell_type": "code",
   "execution_count": 35,
   "id": "81814b8b",
   "metadata": {},
   "outputs": [
    {
     "name": "stdout",
     "output_type": "stream",
     "text": [
      "orange apple kiwi\n"
     ]
    }
   ],
   "source": [
    "friuts = ['orange', 'apple', 'kiwi']#unpacking lists\n",
    "x1,y1,z1 = friuts\n",
    "print(x1,y1,z1)"
   ]
  },
  {
   "cell_type": "code",
   "execution_count": 39,
   "id": "992a05a4",
   "metadata": {},
   "outputs": [
    {
     "name": "stdout",
     "output_type": "stream",
     "text": [
      "orange apple kiwi\n"
     ]
    }
   ],
   "source": [
    "friut = ('orange', 'apple', 'kiwi')#unpacking tuples\n",
    "x2,y2,z2 = friut\n",
    "print(x2,y2,z2)"
   ]
  },
  {
   "cell_type": "markdown",
   "id": "2b711592",
   "metadata": {},
   "source": [
    "# Print Function"
   ]
  },
  {
   "cell_type": "markdown",
   "id": "25baa309",
   "metadata": {},
   "source": [
    "In the print() function, you output multiple variables, separated by a comma:\n",
    "like we did above\n",
    "\n",
    "You can also use the + operator to output multiple variables:\n",
    "\n",
    "Notice the space character after \"Python \" and \"is \", without them the result would be \"Pythonisawesome\".\n",
    "\n"
   ]
  },
  {
   "cell_type": "code",
   "execution_count": 40,
   "id": "9f0c6e6e",
   "metadata": {},
   "outputs": [
    {
     "name": "stdout",
     "output_type": "stream",
     "text": [
      "Python is awesome\n"
     ]
    }
   ],
   "source": [
    "x3 = \"Python \"\n",
    "y3 = \"is \"\n",
    "z3 = \"awesome\"\n",
    "print(x3 + y3 + z3)"
   ]
  },
  {
   "cell_type": "markdown",
   "id": "7f5a2772",
   "metadata": {},
   "source": [
    "# Global Variables\n",
    "Variables that are created outside of a function (as in all of the examples above) are known as global variables.\n",
    "\n",
    "Global variables can be used by everyone, both inside of functions and outside."
   ]
  },
  {
   "cell_type": "markdown",
   "id": "479d76b0",
   "metadata": {},
   "source": [
    "If you create a variable with the same name inside a function, \n",
    "this variable will be local, and can only be used inside the function. \n",
    "The global variable with the same name will remain as it was, global and with the original value."
   ]
  },
  {
   "cell_type": "code",
   "execution_count": 42,
   "id": "1ab13792",
   "metadata": {},
   "outputs": [
    {
     "ename": "SyntaxError",
     "evalue": "expected '(' (2092681903.py, line 2)",
     "output_type": "error",
     "traceback": [
      "\u001b[0;36m  Cell \u001b[0;32mIn[42], line 2\u001b[0;36m\u001b[0m\n\u001b[0;31m    def function greet():\u001b[0m\n\u001b[0m                 ^\u001b[0m\n\u001b[0;31mSyntaxError\u001b[0m\u001b[0;31m:\u001b[0m expected '('\n"
     ]
    }
   ],
   "source": [
    "x = \"alice\"\n",
    "def function greet():\n",
    "    return (\"Hi there \" + x)\n",
    "greet()"
   ]
  },
  {
   "cell_type": "code",
   "execution_count": 46,
   "id": "ca6eda4f",
   "metadata": {},
   "outputs": [
    {
     "data": {
      "text/plain": [
       "'Hi there alice'"
      ]
     },
     "execution_count": 46,
     "metadata": {},
     "output_type": "execute_result"
    }
   ],
   "source": [
    "x = \"alice\"\n",
    "def greet():\n",
    "    return (\"Hi there \" + x)\n",
    "greet()\n"
   ]
  },
  {
   "cell_type": "markdown",
   "id": "8d4ba773",
   "metadata": {},
   "source": [
    "You see that error? so you don't specify function it's not sql that you'll do create table names"
   ]
  },
  {
   "cell_type": "code",
   "execution_count": 50,
   "id": "455de5e8",
   "metadata": {},
   "outputs": [
    {
     "data": {
      "text/plain": [
       "'Hi there jane'"
      ]
     },
     "execution_count": 50,
     "metadata": {},
     "output_type": "execute_result"
    }
   ],
   "source": [
    "x = \"alice\"\n",
    "def greet():\n",
    "    x = \"jane\"\n",
    "    return (\"Hi there \" + x)\n",
    "greet()\n"
   ]
  },
  {
   "cell_type": "markdown",
   "id": "eb902256",
   "metadata": {},
   "source": [
    "# Python Data Types"
   ]
  },
  {
   "cell_type": "markdown",
   "id": "7bbbb56f",
   "metadata": {},
   "source": [
    "#### Python has the following data types built-in by default, in these categories:\n",
    "\n",
    "#### Text Type:\tstr\n",
    "#### Numeric Types:\tint, float, complex\n",
    "#### Sequence Types:\tlist, tuple, range\n",
    "#### Mapping Type:\tdict\n",
    "#### Set Types:\tset, frozenset\n",
    "#### Boolean Type:\tbool\n",
    "#### Binary Types:\tbytes, bytearray, memoryview\n",
    "#### None Type:\tNoneType\n",
    "#### You can get the data type of any object by using the type() function:\n",
    "\n"
   ]
  },
  {
   "cell_type": "code",
   "execution_count": 1,
   "id": "1442a530",
   "metadata": {},
   "outputs": [
    {
     "name": "stdout",
     "output_type": "stream",
     "text": [
      "<class 'int'>\n"
     ]
    }
   ],
   "source": [
    "five = 5\n",
    "print(type(five))"
   ]
  },
  {
   "cell_type": "markdown",
   "id": "2e11936e",
   "metadata": {},
   "source": [
    "### The differences between tuples and lists in Python:\n",
    "\n",
    "#### Tuples:\n",
    "\n",
    "#### Immutable: Once created, their elements cannot be changed or modified.\n",
    "#### Enclosed in parentheses (): This distinguishes them from lists.\n",
    "#### Used for:\n",
    "#### Storing fixed, unchangeable data (e.g., coordinates, days of the week).\n",
    "#### Creating lookup tables or dictionaries.\n",
    "#### Serving as keys in dictionaries.\n",
    "\n",
    "\n",
    "#### Lists:\n",
    "\n",
    "#### Mutable: Their elements can be added, removed, or modified after creation.\n",
    "#### Enclosed in square brackets []: This distinguishes them from tuples.\n",
    "#### Used for:\n",
    "#### Storing dynamic data that may change.\n",
    "#### Performing operations like sorting, filtering, and #### appending.\n",
    "#### Creating data structures like stacks, queues, and linked lists.\n",
    "\n",
    "\n",
    "#### Key Differences:\n",
    "\n",
    "#### Feature\tTuples\tLists\n",
    "#### Mutability\tImmutable\tMutable\n",
    "#### Syntax     \t()\t                  []\n",
    "#### Use Cases\tfor tuples Fixed data, lookup tables, dictionary keys.  \tfor lists Dynamic data, operations, data structures\n",
    "\n"
   ]
  },
  {
   "cell_type": "code",
   "execution_count": 2,
   "id": "84b1a30f",
   "metadata": {},
   "outputs": [
    {
     "ename": "NameError",
     "evalue": "name 'Python' is not defined",
     "output_type": "error",
     "traceback": [
      "\u001b[0;31m---------------------------------------------------------------------------\u001b[0m",
      "\u001b[0;31mNameError\u001b[0m                                 Traceback (most recent call last)",
      "Cell \u001b[0;32mIn[2], line 1\u001b[0m\n\u001b[0;32m----> 1\u001b[0m Python\n\u001b[1;32m      2\u001b[0m \u001b[38;5;66;03m# Creating a tuple\u001b[39;00m\n\u001b[1;32m      3\u001b[0m my_tuple \u001b[38;5;241m=\u001b[39m (\u001b[38;5;241m1\u001b[39m, \u001b[38;5;241m2\u001b[39m, \u001b[38;5;241m3\u001b[39m, \u001b[38;5;124m\"\u001b[39m\u001b[38;5;124mhello\u001b[39m\u001b[38;5;124m\"\u001b[39m)\n",
      "\u001b[0;31mNameError\u001b[0m: name 'Python' is not defined"
     ]
    }
   ],
   "source": [
    "Python\n",
    "# Creating a tuple\n",
    "my_tuple = (1, 2, 3, \"hello\")\n",
    "\n",
    "# Trying to change an element (not allowed)\n",
    "my_tuple[0] = 4  # Raises a TypeError\n",
    "\n",
    "# Creating a list\n",
    "my_list = [1, 2, 3, \"hello\"]\n",
    "\n",
    "# Modifying an element (allowed)\n",
    "my_list[0] = 4"
   ]
  },
  {
   "cell_type": "code",
   "execution_count": 4,
   "id": "2bfb7e1f",
   "metadata": {},
   "outputs": [
    {
     "name": "stdout",
     "output_type": "stream",
     "text": [
      "[4, 2, 3, 'hello']\n"
     ]
    }
   ],
   "source": [
    "# Creating a list\n",
    "my_list = [1, 2, 3, \"hello\"]\n",
    "\n",
    "# Modifying an element (allowed)\n",
    "my_list[0] = 4\n",
    "print (my_list)"
   ]
  },
  {
   "cell_type": "markdown",
   "id": "52a30d0c",
   "metadata": {},
   "source": [
    "## Setting the Specific Data Type\n",
    "### Different from casting"
   ]
  },
  {
   "cell_type": "markdown",
   "id": "02022d77",
   "metadata": {},
   "source": [
    "#### Key Differences:\n",
    "\n",
    "#### Initialization: When creating a variable with a specific data type, you're directly initializing it with that type.\n",
    "\n",
    "#### Conversion: Casting involves converting an existing value to a different data type."
   ]
  },
  {
   "cell_type": "code",
   "execution_count": 5,
   "id": "87a6a4ad",
   "metadata": {},
   "outputs": [
    {
     "name": "stdout",
     "output_type": "stream",
     "text": [
      "<class 'int'>\n"
     ]
    }
   ],
   "source": [
    "A = int(20)\n",
    "B = \"girls\"\n",
    "print(type(A))"
   ]
  },
  {
   "cell_type": "code",
   "execution_count": 7,
   "id": "5bb23dd1",
   "metadata": {},
   "outputs": [
    {
     "name": "stdout",
     "output_type": "stream",
     "text": [
      "20 girls\n",
      "She is part of the girls and she is 20 years old\n"
     ]
    }
   ],
   "source": [
    "print(str(A)+\" \" + B)\n",
    "print(f\"She is part of the {B} and she is {str(A)} years old\")\n"
   ]
  },
  {
   "cell_type": "code",
   "execution_count": 8,
   "id": "e7b0d0b6",
   "metadata": {},
   "outputs": [
    {
     "name": "stdout",
     "output_type": "stream",
     "text": [
      "<class 'int'>\n"
     ]
    }
   ],
   "source": [
    "print(type(A))"
   ]
  },
  {
   "cell_type": "markdown",
   "id": "226a32c7",
   "metadata": {},
   "source": [
    "#### It still remains int because it was initialised to be int but during type conversion aka casting, we just converted it to use at that point in time"
   ]
  },
  {
   "cell_type": "markdown",
   "id": "0c807435",
   "metadata": {},
   "source": [
    "## Numeric Data Types"
   ]
  },
  {
   "cell_type": "markdown",
   "id": "17ffe8a2",
   "metadata": {},
   "source": [
    "### Int, or integer, is a whole number, positive or \"negative\", without decimals, of unlimited length.\n",
    "\n",
    "### Float, or \"floating point number\" is a number, positive or negative, containing one or more decimals.\n",
    "\n",
    "### Float can also be scientific numbers with an \"e\" to indicate the power of 10.\n",
    "\n",
    "\n",
    "#### z = -87.7e100\n"
   ]
  },
  {
   "cell_type": "markdown",
   "id": "5df5def2",
   "metadata": {},
   "source": [
    "### Complex numbers are written with a \"j\" as the imaginary part:\n",
    "\n"
   ]
  },
  {
   "cell_type": "code",
   "execution_count": 10,
   "id": "01f9b320",
   "metadata": {},
   "outputs": [
    {
     "name": "stdout",
     "output_type": "stream",
     "text": [
      "2\n",
      "(1+0j)\n"
     ]
    }
   ],
   "source": [
    "C = int(2.8)\n",
    "print(C) # You can see that it won't change 2.8 to 3 but 2\n",
    "\n",
    "D = complex(1)\n",
    "print(D)\n"
   ]
  },
  {
   "cell_type": "markdown",
   "id": "bc1769b6",
   "metadata": {},
   "source": [
    "# Random Number\n",
    "### Python does not have a random() function to make a random number, but Python has a built-in module called random that can be used to make random numbers:\n",
    "\n"
   ]
  },
  {
   "cell_type": "code",
   "execution_count": 11,
   "id": "8a211aec",
   "metadata": {},
   "outputs": [
    {
     "name": "stdout",
     "output_type": "stream",
     "text": [
      "3\n"
     ]
    }
   ],
   "source": [
    "import random\n",
    "\n",
    "print(random.randrange(1,10))\n",
    "#To pick a random number betwen 1 and 9"
   ]
  },
  {
   "cell_type": "code",
   "execution_count": 14,
   "id": "9697c900",
   "metadata": {},
   "outputs": [
    {
     "name": "stdout",
     "output_type": "stream",
     "text": [
      "3\n"
     ]
    }
   ],
   "source": [
    "import random\n",
    "\n",
    "print(random.randrange(1, 11, 2))#to pick any odd number between 1 and 10"
   ]
  },
  {
   "cell_type": "code",
   "execution_count": 16,
   "id": "793f84f2",
   "metadata": {},
   "outputs": [
    {
     "name": "stdout",
     "output_type": "stream",
     "text": [
      "6\n"
     ]
    }
   ],
   "source": [
    "import random\n",
    "\n",
    "print(random.randrange(0,11,2))#to pick any even btw 0 and 11"
   ]
  },
  {
   "cell_type": "markdown",
   "id": "9de9774e",
   "metadata": {},
   "source": [
    "# Python strings"
   ]
  },
  {
   "cell_type": "code",
   "execution_count": 17,
   "id": "0ea9cbfd",
   "metadata": {},
   "outputs": [
    {
     "name": "stdout",
     "output_type": "stream",
     "text": [
      "hi\n",
      "hi\n"
     ]
    }
   ],
   "source": [
    "print(\"hi\")\n",
    "print('hi')\n",
    "#'hi' is the same as \"hi\""
   ]
  },
  {
   "cell_type": "markdown",
   "id": "46add56e",
   "metadata": {},
   "source": [
    "## Quotes inside quotes"
   ]
  },
  {
   "cell_type": "code",
   "execution_count": 22,
   "id": "ee9c58a5",
   "metadata": {},
   "outputs": [
    {
     "ename": "SyntaxError",
     "evalue": "unterminated string literal (detected at line 8) (1244790313.py, line 8)",
     "output_type": "error",
     "traceback": [
      "\u001b[0;36m  Cell \u001b[0;32mIn[22], line 8\u001b[0;36m\u001b[0m\n\u001b[0;31m    print(\"And he said \\\"you can use a backward slash\"\")\u001b[0m\n\u001b[0m                                                      ^\u001b[0m\n\u001b[0;31mSyntaxError\u001b[0m\u001b[0;31m:\u001b[0m unterminated string literal (detected at line 8)\n"
     ]
    }
   ],
   "source": [
    "print(\"\"\"Hi, He's coming soon and He said \"Be ready\".\"\"\")\n",
    "\"\"\"\n",
    "This is a multiline comment \n",
    "But in print, it is not\n",
    "\"\"\"\n",
    "\n",
    "print(\"Jesus' Love is Charis\")\n",
    "print(\"And he said \\\"you can use a forward slash\"\")"
   ]
  },
  {
   "cell_type": "code",
   "execution_count": 37,
   "id": "de8b5d1d",
   "metadata": {},
   "outputs": [
    {
     "name": "stdout",
     "output_type": "stream",
     "text": [
      "Hi, He's coming soon and He said \"Be ready\".\n",
      "\n",
      "hi there, she said \"yes\" ciao\n",
      "Jesus' Love is Charis\n",
      "\n",
      "And he said \"you can use a forward slash for the escape sequence \"\n"
     ]
    }
   ],
   "source": [
    "print(\"\"\"Hi, He's coming soon and He said \"Be ready\".\"\"\")\n",
    "\"\"\"\n",
    "This is a multiline comment \n",
    "But in print, it is not\n",
    "\"\"\"\n",
    "\n",
    "'''\n",
    "comment?\n",
    "'''\n",
    "print('''\\nhi there, she said \"yes\" ciao''')\n",
    "\n",
    "print(\"Jesus' Love is Charis\\n\")\n",
    "print(\"And he said \\\"you can use a forward slash for the escape sequence \\\"\")"
   ]
  },
  {
   "cell_type": "markdown",
   "id": "1e767301",
   "metadata": {},
   "source": [
    "The error was that there wasn't a second forward slash \\\"\\\". So it is slash quote slash quote not quote and slash"
   ]
  },
  {
   "cell_type": "code",
   "execution_count": 34,
   "id": "817d7c84",
   "metadata": {},
   "outputs": [
    {
     "name": "stdout",
     "output_type": "stream",
     "text": [
      "And he said \"you can use a forward slash. If we want to write \\ we have to put another if we want any other put another \\\"\n"
     ]
    }
   ],
   "source": [
    "print(\"And he said \\\"you can use a forward slash. If we want to write \\\\ we have to put another if we want any other put another \\\\\\\"\")"
   ]
  },
  {
   "cell_type": "markdown",
   "id": "a8441344",
   "metadata": {},
   "source": [
    "## Strings are Arrays\n"
   ]
  },
  {
   "cell_type": "markdown",
   "id": "85ad225a",
   "metadata": {},
   "source": [
    "Like many other popular programming languages, strings in Python are arrays of bytes representing unicode characters.\n",
    "\n",
    "However, Python does not have a character data type, a single character is simply a string with a length of 1.\n",
    "\n",
    "Square brackets can be used to access elements of the string."
   ]
  },
  {
   "cell_type": "markdown",
   "id": "92e92f39",
   "metadata": {},
   "source": [
    "## Looping through a string"
   ]
  },
  {
   "cell_type": "code",
   "execution_count": 42,
   "id": "455f9bc0",
   "metadata": {},
   "outputs": [
    {
     "ename": "SyntaxError",
     "evalue": "Missing parentheses in call to 'print'. Did you mean print(...)? (1560233879.py, line 5)",
     "output_type": "error",
     "traceback": [
      "\u001b[0;36m  Cell \u001b[0;32mIn[42], line 5\u001b[0;36m\u001b[0m\n\u001b[0;31m    print letter\u001b[0m\n\u001b[0m    ^\u001b[0m\n\u001b[0;31mSyntaxError\u001b[0m\u001b[0;31m:\u001b[0m Missing parentheses in call to 'print'. Did you mean print(...)?\n"
     ]
    }
   ],
   "source": [
    "Name = 'Ade'\n",
    "print (Name[1])\n",
    "\n",
    "for letter in Name:\n",
    "    print letter"
   ]
  },
  {
   "cell_type": "code",
   "execution_count": 43,
   "id": "2173a2ad",
   "metadata": {},
   "outputs": [
    {
     "name": "stdout",
     "output_type": "stream",
     "text": [
      "d\n",
      "A\n",
      "d\n",
      "e\n"
     ]
    }
   ],
   "source": [
    "Name = 'Ade'\n",
    "print (Name[1])\n",
    "\n",
    "for letter in Name:\n",
    "    print (letter)"
   ]
  },
  {
   "cell_type": "code",
   "execution_count": 44,
   "id": "0a8ffd4a",
   "metadata": {},
   "outputs": [
    {
     "ename": "SyntaxError",
     "evalue": "unexpected character after line continuation character (2396160981.py, line 2)",
     "output_type": "error",
     "traceback": [
      "\u001b[0;36m  Cell \u001b[0;32mIn[44], line 2\u001b[0;36m\u001b[0m\n\u001b[0;31m    print (Name[1]\\n)\u001b[0m\n\u001b[0m                   ^\u001b[0m\n\u001b[0;31mSyntaxError\u001b[0m\u001b[0;31m:\u001b[0m unexpected character after line continuation character\n"
     ]
    }
   ],
   "source": [
    "Name = 'Ade'\n",
    "print (Name[1]\\n)\n",
    "\n",
    "for letter in Name:\n",
    "    print (letter)"
   ]
  },
  {
   "cell_type": "code",
   "execution_count": 46,
   "id": "4da7c986",
   "metadata": {},
   "outputs": [
    {
     "ename": "SyntaxError",
     "evalue": "invalid syntax. Perhaps you forgot a comma? (722594018.py, line 2)",
     "output_type": "error",
     "traceback": [
      "\u001b[0;36m  Cell \u001b[0;32mIn[46], line 2\u001b[0;36m\u001b[0m\n\u001b[0;31m    print (Name[1]\"\\n\")\u001b[0m\n\u001b[0m           ^\u001b[0m\n\u001b[0;31mSyntaxError\u001b[0m\u001b[0;31m:\u001b[0m invalid syntax. Perhaps you forgot a comma?\n"
     ]
    }
   ],
   "source": [
    "Name = 'Ade'\n",
    "print (Name[1]\"\\n\")\n",
    "\n",
    "for letter in Name:\n",
    "    print (letter)"
   ]
  },
  {
   "cell_type": "code",
   "execution_count": 47,
   "id": "18ac1bf1",
   "metadata": {},
   "outputs": [
    {
     "name": "stdout",
     "output_type": "stream",
     "text": [
      "d \n",
      "\n",
      "A\n",
      "d\n",
      "e\n"
     ]
    }
   ],
   "source": [
    "Name = 'Ade'\n",
    "print (Name[1],\"\\n\")\n",
    "\n",
    "for letter in Name:\n",
    "    print (letter)"
   ]
  },
  {
   "cell_type": "markdown",
   "id": "ad1e8ef1",
   "metadata": {},
   "source": [
    "## Length of a string"
   ]
  },
  {
   "cell_type": "code",
   "execution_count": 48,
   "id": "dab69cd5",
   "metadata": {},
   "outputs": [
    {
     "name": "stdout",
     "output_type": "stream",
     "text": [
      "3\n"
     ]
    }
   ],
   "source": [
    "print(len(Name))"
   ]
  },
  {
   "cell_type": "markdown",
   "id": "472fff64",
   "metadata": {},
   "source": [
    "## Check string and Check if NOT"
   ]
  },
  {
   "cell_type": "code",
   "execution_count": 49,
   "id": "8241b056",
   "metadata": {},
   "outputs": [
    {
     "name": "stdout",
     "output_type": "stream",
     "text": [
      "True\n"
     ]
    }
   ],
   "source": [
    "words = \"God is great\"\n",
    "print(\"is\" in words)"
   ]
  },
  {
   "cell_type": "code",
   "execution_count": 50,
   "id": "1940c553",
   "metadata": {},
   "outputs": [
    {
     "name": "stdout",
     "output_type": "stream",
     "text": [
      "False\n"
     ]
    }
   ],
   "source": [
    "words = \"God is great\"\n",
    "print(\"in\" in words)"
   ]
  },
  {
   "cell_type": "code",
   "execution_count": 51,
   "id": "2704a0bf",
   "metadata": {},
   "outputs": [
    {
     "name": "stdout",
     "output_type": "stream",
     "text": [
      "False\n"
     ]
    }
   ],
   "source": [
    "words = \"God is great\"\n",
    "print(\"is\" not in words)"
   ]
  },
  {
   "cell_type": "code",
   "execution_count": 52,
   "id": "27478b76",
   "metadata": {},
   "outputs": [
    {
     "name": "stdout",
     "output_type": "stream",
     "text": [
      "True\n"
     ]
    }
   ],
   "source": [
    "words = \"God is great\"\n",
    "print(\"in\" not in words)"
   ]
  },
  {
   "cell_type": "markdown",
   "id": "6ffac814",
   "metadata": {},
   "source": [
    "# Slicing strings\n",
    "\n",
    "You can return a range of characters by using the slice syntax.\n",
    "\n",
    "Specify the start index and the end index, separated by a colon, to return a part of the string.\n",
    "\n",
    "Note: The first character has index 0.\n",
    "\n"
   ]
  },
  {
   "cell_type": "code",
   "execution_count": 55,
   "id": "82c40063",
   "metadata": {},
   "outputs": [
    {
     "name": "stdout",
     "output_type": "stream",
     "text": [
      "a- pr\n"
     ]
    }
   ],
   "source": [
    "#Get the characters from position 2 to position 7(not included):\n",
    "\n",
    "word = \"eva- premium table water\"\n",
    "print(word[2:7])"
   ]
  },
  {
   "cell_type": "markdown",
   "id": "0258c35d",
   "metadata": {},
   "source": [
    "## Reversing a string"
   ]
  },
  {
   "cell_type": "code",
   "execution_count": 82,
   "id": "84bb91c4",
   "metadata": {},
   "outputs": [
    {
     "name": "stdout",
     "output_type": "stream",
     "text": [
      "retaw elbat muimerp -ave\n"
     ]
    }
   ],
   "source": [
    "print(word[::-1])"
   ]
  },
  {
   "cell_type": "code",
   "execution_count": 83,
   "id": "d72f1444",
   "metadata": {},
   "outputs": [
    {
     "name": "stdout",
     "output_type": "stream",
     "text": [
      "water\n"
     ]
    }
   ],
   "source": [
    "print(word[-5:])"
   ]
  },
  {
   "cell_type": "code",
   "execution_count": 84,
   "id": "430ed0bc",
   "metadata": {},
   "outputs": [
    {
     "name": "stdout",
     "output_type": "stream",
     "text": [
      "premium table water\n"
     ]
    }
   ],
   "source": [
    "print(word[5:])"
   ]
  },
  {
   "cell_type": "code",
   "execution_count": 85,
   "id": "85411e07",
   "metadata": {},
   "outputs": [
    {
     "name": "stdout",
     "output_type": "stream",
     "text": [
      "premium table \n"
     ]
    }
   ],
   "source": [
    "print(word[5:-5])"
   ]
  },
  {
   "cell_type": "code",
   "execution_count": null,
   "id": "34a21d8f",
   "metadata": {},
   "outputs": [],
   "source": []
  },
  {
   "cell_type": "code",
   "execution_count": null,
   "id": "3a005d18",
   "metadata": {},
   "outputs": [],
   "source": []
  },
  {
   "cell_type": "code",
   "execution_count": null,
   "id": "82a5e7d8",
   "metadata": {},
   "outputs": [],
   "source": []
  },
  {
   "cell_type": "code",
   "execution_count": null,
   "id": "5c659704",
   "metadata": {},
   "outputs": [],
   "source": []
  },
  {
   "cell_type": "code",
   "execution_count": null,
   "id": "d4112450",
   "metadata": {},
   "outputs": [],
   "source": []
  },
  {
   "cell_type": "code",
   "execution_count": null,
   "id": "42ad2b79",
   "metadata": {},
   "outputs": [],
   "source": []
  },
  {
   "cell_type": "markdown",
   "id": "bc72fcdd",
   "metadata": {},
   "source": [
    "## Slice From the Start\n"
   ]
  },
  {
   "cell_type": "code",
   "execution_count": 58,
   "id": "9e74bd10",
   "metadata": {},
   "outputs": [
    {
     "name": "stdout",
     "output_type": "stream",
     "text": [
      "eva- pre\n"
     ]
    }
   ],
   "source": [
    "print(word[:8]) # print from beginning till 8 exclding 8 ie 7"
   ]
  },
  {
   "cell_type": "markdown",
   "id": "52ba66ed",
   "metadata": {},
   "source": [
    "# Slice to the end"
   ]
  },
  {
   "cell_type": "code",
   "execution_count": 59,
   "id": "1a847f65",
   "metadata": {},
   "outputs": [
    {
     "data": {
      "text/plain": [
       "'emium table water'"
      ]
     },
     "execution_count": 59,
     "metadata": {},
     "output_type": "execute_result"
    }
   ],
   "source": [
    "word[7:]"
   ]
  },
  {
   "cell_type": "markdown",
   "id": "0cb8888d",
   "metadata": {},
   "source": [
    "# Negative indexing"
   ]
  },
  {
   "cell_type": "code",
   "execution_count": 60,
   "id": "33cdc0c6",
   "metadata": {},
   "outputs": [
    {
     "name": "stdout",
     "output_type": "stream",
     "text": [
      "e wat\n"
     ]
    }
   ],
   "source": [
    "print(word[-7:-2]) #It will print from -7 to -2 but not included ie till -3"
   ]
  },
  {
   "cell_type": "markdown",
   "id": "6c7891d4",
   "metadata": {},
   "source": [
    "# Slicing list \n",
    "## For better understanding"
   ]
  },
  {
   "cell_type": "code",
   "execution_count": 91,
   "id": "701b7582",
   "metadata": {},
   "outputs": [
    {
     "ename": "SyntaxError",
     "evalue": "Missing parentheses in call to 'print'. Did you mean print(...)? (3148093881.py, line 7)",
     "output_type": "error",
     "traceback": [
      "\u001b[0;36m  Cell \u001b[0;32mIn[91], line 7\u001b[0;36m\u001b[0m\n\u001b[0;31m    print slice_list[1:-3]#this will print from 2 till 8, 8 not inclusive ie 7\u001b[0m\n\u001b[0m    ^\u001b[0m\n\u001b[0;31mSyntaxError\u001b[0m\u001b[0;31m:\u001b[0m Missing parentheses in call to 'print'. Did you mean print(...)?\n"
     ]
    }
   ],
   "source": [
    "slice_list = [1, 2, 3, 4, 5, 6, 7, 8, 9, 10]\n",
    "#             0, 1, 2, 3, 4, 5, 6, 7, 8, 9\n",
    "#           -10,-9,-8,-7,-6,-5,-4,-3,-2,-1\n",
    "\n",
    "#list[start:stop:step]\n",
    "\n",
    "print slice_list[1:-3]#this will print from 2 till 8, 8 not inclusive ie 7"
   ]
  },
  {
   "cell_type": "code",
   "execution_count": 92,
   "id": "fa78bf8f",
   "metadata": {},
   "outputs": [
    {
     "name": "stdout",
     "output_type": "stream",
     "text": [
      "[2, 3, 4, 5, 6, 7]\n"
     ]
    }
   ],
   "source": [
    "slice_list = [1, 2, 3, 4, 5, 6, 7, 8, 9, 10]\n",
    "#             0, 1, 2, 3, 4, 5, 6, 7, 8, 9\n",
    "#           -10,-9,-8,-7,-6,-5,-4,-3,-2,-1\n",
    "\n",
    "#list[start:stop:step]\n",
    "\n",
    "print (slice_list[1:-3])#this will print from 2 till 8, 8 not inclusive ie 7"
   ]
  },
  {
   "cell_type": "markdown",
   "id": "889553a1",
   "metadata": {},
   "source": [
    "### So when trying to figure out this slicing, write it out like this and the indexes both + and - below it so it's super clear"
   ]
  },
  {
   "cell_type": "code",
   "execution_count": 63,
   "id": "1551732e",
   "metadata": {},
   "outputs": [
    {
     "name": "stdout",
     "output_type": "stream",
     "text": [
      "[1, 2, 3, 4, 5, 6, 7, 8, 9, 10]\n"
     ]
    }
   ],
   "source": [
    "print (slice_list[0:10])"
   ]
  },
  {
   "cell_type": "code",
   "execution_count": 64,
   "id": "b26adf7a",
   "metadata": {},
   "outputs": [
    {
     "name": "stdout",
     "output_type": "stream",
     "text": [
      "[1, 2, 3, 4, 5, 6, 7, 8, 9, 10]\n"
     ]
    }
   ],
   "source": [
    "print (slice_list[:])"
   ]
  },
  {
   "cell_type": "code",
   "execution_count": 65,
   "id": "3ab41266",
   "metadata": {},
   "outputs": [
    {
     "name": "stdout",
     "output_type": "stream",
     "text": [
      "[1, 2, 3, 4, 5, 6, 7, 8, 9]\n"
     ]
    }
   ],
   "source": [
    "print (slice_list[:-1])"
   ]
  },
  {
   "cell_type": "code",
   "execution_count": 67,
   "id": "992fb760",
   "metadata": {},
   "outputs": [
    {
     "name": "stdout",
     "output_type": "stream",
     "text": [
      "[]\n"
     ]
    }
   ],
   "source": [
    "print (slice_list[:-0])# did. it on purpose so you know not to find it"
   ]
  },
  {
   "cell_type": "code",
   "execution_count": 68,
   "id": "181dc420",
   "metadata": {},
   "outputs": [
    {
     "name": "stdout",
     "output_type": "stream",
     "text": [
      "[3, 5, 7, 9]\n"
     ]
    }
   ],
   "source": [
    "print (slice_list[2:-1:2])\n",
    "#starts at 2 and prints every second value"
   ]
  },
  {
   "cell_type": "code",
   "execution_count": 69,
   "id": "a2651317",
   "metadata": {},
   "outputs": [
    {
     "name": "stdout",
     "output_type": "stream",
     "text": [
      "[3, 4, 5, 6, 7, 8, 9]\n"
     ]
    }
   ],
   "source": [
    "print (slice_list[2:-1:1])\n",
    "#using 1 as a step is as good as not specifying any step"
   ]
  },
  {
   "cell_type": "code",
   "execution_count": 72,
   "id": "8e903dc8",
   "metadata": {},
   "outputs": [
    {
     "name": "stdout",
     "output_type": "stream",
     "text": [
      "[]\n"
     ]
    }
   ],
   "source": [
    "print (slice_list[2:-1:-1])\n"
   ]
  },
  {
   "cell_type": "code",
   "execution_count": 73,
   "id": "5cfa8107",
   "metadata": {},
   "outputs": [
    {
     "name": "stdout",
     "output_type": "stream",
     "text": [
      "[10, 9, 8, 7, 6, 5, 4]\n"
     ]
    }
   ],
   "source": [
    "#slice_list = [1, 2, 3, 4, 5, 6, 7, 8, 9, 10]\n",
    "#             0, 1, 2, 3, 4, 5, 6, 7, 8, 9\n",
    "#           -10,-9,-8,-7,-6,-5,-4,-3,-2,-1\n",
    "\n",
    "\n",
    "print (slice_list[-1:2:-1])\n"
   ]
  },
  {
   "cell_type": "code",
   "execution_count": 75,
   "id": "580c3297",
   "metadata": {},
   "outputs": [
    {
     "name": "stdout",
     "output_type": "stream",
     "text": [
      "[3, 4, 5, 6, 7, 8, 9]\n"
     ]
    }
   ],
   "source": [
    "print (slice_list[2:-1])\n"
   ]
  },
  {
   "cell_type": "markdown",
   "id": "3d613fa5",
   "metadata": {},
   "source": [
    "#### slice_list = [1, 2, 3, 4, 5, 6, 7, 8, 9, 10]\n",
    "#### ___________0, 1, 2, 3, 4, 5, 6, 7, 8, 9\n",
    "#### _________  -10,-9,-8,-7,-6,-5,-4,-3,-2,-1\n",
    "              \n",
    "              \n",
    "              "
   ]
  },
  {
   "cell_type": "code",
   "execution_count": 93,
   "id": "3a3751da",
   "metadata": {},
   "outputs": [
    {
     "name": "stdout",
     "output_type": "stream",
     "text": [
      "[]\n"
     ]
    }
   ],
   "source": [
    "print (slice_list[-1:2])\n"
   ]
  },
  {
   "cell_type": "markdown",
   "id": "8553a146",
   "metadata": {},
   "source": [
    "#### This slice is asking for the portion of the list starting from index -1 (the last element, which is 10), and stopping at index 2 (the third element, which is 3), but going in the default forward direction.\n",
    "\n",
    "#### Start: -1 is the last element, which is 10.\n",
    "#### End: 2 is the third element (value 3), but remember the ending index is exclusive in slicing.\n",
    "\n",
    "#### When slicing with the default step (which is 1, forward), you’re trying to go forward from the last element to the third element (2). This doesn't work because you can't go forward when the start index is greater than the stop index.\n",
    "\n",
    "#### Therefore, the result of this slice will be an empty list [].\n",
    "\n",
    "\n",
    "#### So basically when slicing with step 1 that it the third part, it'''s default 1 so python expect the start index to be before the stop but if it's not, it returns an empty list but we'd see when we change the step to -1\n",
    "\n",
    "#### Before then, let's see another slicing when the stop is before the start like this\n"
   ]
  },
  {
   "cell_type": "code",
   "execution_count": 80,
   "id": "030b2b87",
   "metadata": {},
   "outputs": [
    {
     "name": "stdout",
     "output_type": "stream",
     "text": [
      "[]\n"
     ]
    }
   ],
   "source": [
    "print(slice_list[7:2])"
   ]
  },
  {
   "cell_type": "markdown",
   "id": "16348f92",
   "metadata": {},
   "source": [
    "#### So we can see, when the right (stop) comes before the left(start), it is an empty list that is with the default step 1 ie [7:2:1]"
   ]
  },
  {
   "cell_type": "markdown",
   "id": "11365ccd",
   "metadata": {},
   "source": [
    "#### slice_list = [1, 2, 3, 4, 5, 6, 7, 8, 9, 10]\n",
    "#### ___________0, 1, 2, 3, 4, 5, 6, 7, 8, 9\n",
    "#### _________  -10,-9,-8,-7,-6,-5,-4,-3,-2,-1\n",
    "              \n",
    "              \n",
    "              "
   ]
  },
  {
   "cell_type": "code",
   "execution_count": 77,
   "id": "aae66b96",
   "metadata": {},
   "outputs": [
    {
     "name": "stdout",
     "output_type": "stream",
     "text": [
      "[10, 9, 8, 7, 6, 5, 4]\n"
     ]
    }
   ],
   "source": [
    "print (slice_list[-1:2:-1])\n"
   ]
  },
  {
   "cell_type": "markdown",
   "id": "02183fad",
   "metadata": {},
   "source": [
    "#### Here, the step is -1, which means you're slicing backwards through the list. Let’s break it down:\n",
    "\n",
    "#### Start: -1 refers to the last element of the list, which is 10.\n",
    "#### Stop: 2 refers to the third element of the list, which is 3, but remember, the stop index is exclusive. The slicing will stop before index 2.\n",
    "#### Step: -1 means we’re slicing backwards through the list.\n",
    "#### In this case, Python will start from the last element (at index -1, which is 10), and then move backwards until it reaches just before index 2 (which is 3).\n",
    "\n",
    "\n",
    "\n",
    "#### So when the skip/step rather is -1 it's going in this direction <---- not the regular --->\n",
    "\n",
    "#### So ideally when we use [1:7:1], it prints from index 1 to index 6 but when we use [-1:7:-1] it prints from index -1 to index 8 because it's going in this direction <---"
   ]
  },
  {
   "cell_type": "markdown",
   "id": "c2eaf11e",
   "metadata": {},
   "source": [
    "## To reverse the list"
   ]
  },
  {
   "cell_type": "code",
   "execution_count": 81,
   "id": "139fde21",
   "metadata": {},
   "outputs": [
    {
     "name": "stdout",
     "output_type": "stream",
     "text": [
      "[10, 9, 8, 7, 6, 5, 4, 3, 2, 1]\n"
     ]
    }
   ],
   "source": [
    "print (slice_list[::-1])\n"
   ]
  },
  {
   "cell_type": "code",
   "execution_count": 86,
   "id": "4564de27",
   "metadata": {},
   "outputs": [
    {
     "name": "stdout",
     "output_type": "stream",
     "text": [
      "(2, 3, 4)\n"
     ]
    }
   ],
   "source": [
    "my_tuple = (1, 2, 3, 4, 5, 6)\n",
    "print(my_tuple[1:4])\n"
   ]
  },
  {
   "cell_type": "code",
   "execution_count": 87,
   "id": "d286effe",
   "metadata": {},
   "outputs": [
    {
     "name": "stdout",
     "output_type": "stream",
     "text": [
      "[[1, 2, 3], [4, 5, 6]]\n"
     ]
    }
   ],
   "source": [
    "matrix = [\n",
    "    [1, 2, 3],\n",
    "    [4, 5, 6],\n",
    "    [7, 8, 9]\n",
    "]\n",
    "\n",
    "# Slice the first two rows and first two columns:\n",
    "print(matrix[:2][:2])  # Only gives the first row due to Python behavior\n"
   ]
  },
  {
   "cell_type": "code",
   "execution_count": 88,
   "id": "ef805256",
   "metadata": {},
   "outputs": [
    {
     "name": "stdout",
     "output_type": "stream",
     "text": [
      "[[1 2]\n",
      " [4 5]]\n"
     ]
    }
   ],
   "source": [
    "import numpy as np\n",
    "matrix = np.array([\n",
    "    [1, 2, 3],\n",
    "    [4, 5, 6],\n",
    "    [7, 8, 9]\n",
    "])\n",
    "\n",
    "# Slice the first two rows and first two columns:\n",
    "print(matrix[:2, :2])  # [[1 2]\n",
    "                       #  [4 5]]\n"
   ]
  },
  {
   "cell_type": "markdown",
   "id": "2ab70703",
   "metadata": {},
   "source": [
    "## Slices and Mutability"
   ]
  },
  {
   "cell_type": "code",
   "execution_count": 90,
   "id": "3c989461",
   "metadata": {},
   "outputs": [
    {
     "name": "stdout",
     "output_type": "stream",
     "text": [
      "[1, 9, 9, 4, 5]\n"
     ]
    }
   ],
   "source": [
    "slice_list1 = [1, 2, 3, 4, 5]\n",
    "slice_list1[1:3] = [9, 9]  # Replace values at indexes 1 and 2\n",
    "print(slice_list1) "
   ]
  },
  {
   "cell_type": "code",
   "execution_count": 95,
   "id": "18b2b2c9",
   "metadata": {},
   "outputs": [
    {
     "name": "stdout",
     "output_type": "stream",
     "text": [
      "[1, 4, 5]\n"
     ]
    }
   ],
   "source": [
    "# Deleting elements:\n",
    "slice_list2 = [1, 2, 3, 4, 5]\n",
    "slice_list2[1:3] = []\n",
    "print(slice_list2) "
   ]
  },
  {
   "cell_type": "code",
   "execution_count": 96,
   "id": "8384a124",
   "metadata": {},
   "outputs": [
    {
     "name": "stdout",
     "output_type": "stream",
     "text": [
      "[1, 7, 8, 2, 3, 4, 5]\n"
     ]
    }
   ],
   "source": [
    "# Inserting elements:\n",
    "slice_list3 = [1, 2, 3, 4, 5]\n",
    "slice_list3[1:1] = [7, 8]\n",
    "print(slice_list3)"
   ]
  },
  {
   "cell_type": "code",
   "execution_count": 98,
   "id": "bf269680",
   "metadata": {},
   "outputs": [
    {
     "name": "stdout",
     "output_type": "stream",
     "text": [
      "[3, 4, 5]\n"
     ]
    }
   ],
   "source": [
    "# Out of bound slicing\n",
    "slice_list4 = [1, 2, 3, 4, 5]\n",
    "print(slice_list4[2:10])  # [3, 4, 5] (even though index 10 doesn’t exist)\n"
   ]
  },
  {
   "cell_type": "code",
   "execution_count": 99,
   "id": "ae51da07",
   "metadata": {},
   "outputs": [
    {
     "name": "stdout",
     "output_type": "stream",
     "text": [
      "[3, 5]\n"
     ]
    }
   ],
   "source": [
    "print(slice_list4[2:10:2])"
   ]
  },
  {
   "cell_type": "code",
   "execution_count": 100,
   "id": "ba228ca5",
   "metadata": {},
   "outputs": [
    {
     "name": "stdout",
     "output_type": "stream",
     "text": [
      "[5, 4, 3]\n"
     ]
    }
   ],
   "source": [
    "slice_list5 = [1, 2, 3, 4, 5]\n",
    "print(slice_list5[4:1:-1])\n"
   ]
  },
  {
   "cell_type": "markdown",
   "id": "2e7af4fa",
   "metadata": {},
   "source": [
    "# Slicing Test"
   ]
  },
  {
   "cell_type": "markdown",
   "id": "5533c85e",
   "metadata": {},
   "source": [
    "## Easy\n",
    "Basic slicing of strings\n",
    "\n",
    "Given the string s = \"watermelon\", what will print(s[:5]) output?\n",
    "Slicing lists with default steps\n",
    "\n",
    "Output: water\n",
    "\n",
    "\n",
    "\n",
    "\n",
    "For the list l = [10, 20, 30, 40, 50], what does l[1:4] return?\n",
    "\n",
    "Output:[20,30,40]\n",
    "\n",
    "\n",
    "\n",
    "\n",
    "Negative indexing\n",
    "What will print(\"python\"[-4:]) output?\n",
    "\n",
    "Output: elon"
   ]
  },
  {
   "cell_type": "markdown",
   "id": "619c94f9",
   "metadata": {},
   "source": [
    "## Correction Easy\n",
    "Basic slicing of strings:\n",
    "\n",
    "Given the string s = \"watermelon\", what will print(s[:5]) output?\n",
    "You answered \"water\" which is correct!\n",
    "✅ Great job!\n",
    "Slicing lists with default steps:\n",
    "\n",
    "For the list l = [10, 20, 30, 40, 50], what does l[1:4] return?\n",
    "You answered [20, 30, 40] which is also correct!\n",
    "✅ Spot on!\n",
    "Negative indexing:\n",
    "\n",
    "What will print(\"python\"[-4:]) output?\n",
    "You answered \"elon\", but the actual answer is \"thon\". Remember, negative indexing starts from the end, so -4 refers to \"t\".\n",
    "❌ A small mistake here, but you're close!\n",
    "\n",
    "elon because i thought watermelon. LET'S BE CAREFUL HERE YOU KNOW YOU'LL BE WRITING ON PAPER. I take authority, bind and cast out the spirit of error from me in the name of Jesus. Amen!"
   ]
  },
  {
   "cell_type": "markdown",
   "id": "328532a5",
   "metadata": {},
   "source": [
    "## Tricky\n",
    "\n",
    "1. Slicing a list with a step\n",
    "\n",
    "For the list nums = [1, 2, 3, 4, 5, 6, 7, 8, 9], what does print(nums[::2]) return?\n",
    "Output: [2,4,6,8]\n",
    "\n",
    "\n",
    "\n",
    "\n",
    "2. Negative step slicing in strings\n",
    "\n",
    "Given text = \"abcdefg\", what will print(text[-2:-6:-1]) output?\n",
    "\n",
    "a  b  c  d  e  f  g\n",
    "-7 -6 -5 -4 -3 -2 -1\n",
    "\n",
    "Output: cdef\n",
    "\n",
    "\n",
    "\n",
    "3. Empty slice due to wrong step direction\n",
    "\n",
    "You have lst = [10, 20, 30, 40, 50]. What does print(lst[3:1]) return, and why?\n",
    "\n",
    "Output:[] Empty list because python expects the start index in this case 3 to come before the stop index in this case 1 (ie 1:3) for the default step 1"
   ]
  },
  {
   "cell_type": "markdown",
   "id": "da6017f6",
   "metadata": {},
   "source": [
    "## Tricky correction"
   ]
  },
  {
   "cell_type": "code",
   "execution_count": 103,
   "id": "aeac1f67",
   "metadata": {},
   "outputs": [
    {
     "name": "stdout",
     "output_type": "stream",
     "text": [
      "fedc\n",
      "[1, 3, 5, 7, 9]\n"
     ]
    }
   ],
   "source": [
    "text = \"abcdefg\"\n",
    "print(text[-2:-6:-1])\n",
    "\n",
    "\n",
    "nums = [1, 2, 3, 4, 5, 6, 7, 8, 9]\n",
    "print(nums[::2])"
   ]
  },
  {
   "cell_type": "markdown",
   "id": "5e1a1aef",
   "metadata": {},
   "source": [
    "## Hard\n",
    "\n",
    "1. Out of bounds slicing in lists\n",
    "\n",
    "For the list l = [2, 4, 6, 8], what will print(l[3:10]) return and why?\n",
    "\n",
    "Output: [8] because the start index is 3 which is value 8 and even if it is out of rnage for the stop index python won't raise an error but just give you the valid elements as output\n",
    "\n",
    "\n",
    "2. Multi-dimensional slicing (numpy)\n",
    "\n",
    "For a 2D numpy array matrix = np.array([[1, 2, 3], [4, 5, 6], [7, 8, 9]]), what will matrix[1:, ::-1] return?\n",
    "\n",
    "\n",
    "\n",
    "\n",
    "\n",
    "3. List slicing with step -1\n",
    "\n",
    "For lst = [100, 200, 300, 400, 500], what will print(lst[4:1:-1]) return? Explain how the step affects the direction.\n",
    "\n",
    "Output: [500, 400, 300]"
   ]
  },
  {
   "cell_type": "code",
   "execution_count": 104,
   "id": "2b61f1d7",
   "metadata": {},
   "outputs": [
    {
     "name": "stdout",
     "output_type": "stream",
     "text": [
      "[500, 400, 300]\n"
     ]
    }
   ],
   "source": [
    "lst = [100, 200, 300, 400, 500]\n",
    "print(lst[4:1:-1])"
   ]
  },
  {
   "cell_type": "markdown",
   "id": "4674035a",
   "metadata": {},
   "source": [
    "# DAT 613 continuation"
   ]
  },
  {
   "cell_type": "markdown",
   "id": "f522ea09",
   "metadata": {},
   "source": [
    "# Conditions & Iterations"
   ]
  },
  {
   "cell_type": "markdown",
   "id": "20a24176",
   "metadata": {},
   "source": [
    "Boolean expressions evaluate to True\n",
    "or False\n",
    "Can be used for decision making.\n",
    "Keywords include:\n",
    "if\n",
    "else\n",
    "elif (this is equivalent to else if combined)"
   ]
  },
  {
   "cell_type": "markdown",
   "id": "e5a1fd7b",
   "metadata": {},
   "source": [
    "## If statements"
   ]
  },
  {
   "cell_type": "code",
   "execution_count": 105,
   "id": "6916d227",
   "metadata": {},
   "outputs": [
    {
     "name": "stdout",
     "output_type": "stream",
     "text": [
      "Tenth month\n"
     ]
    }
   ],
   "source": [
    "october = 10\n",
    "\n",
    "if (october == 10):\n",
    "    print(\"Tenth month\")\n",
    "    \n",
    "else:\n",
    "    print(\"What month then?\")"
   ]
  },
  {
   "cell_type": "markdown",
   "id": "7b91f8d7",
   "metadata": {},
   "source": [
    "#### Logical operators can also be used.\n",
    "\n",
    "#### and (If both operands are true, then the condition will be true)\n",
    "#### or (If any is true then both are true)\n",
    "#### Reverse the effect of and, or"
   ]
  },
  {
   "cell_type": "markdown",
   "id": "01f5c98e",
   "metadata": {},
   "source": [
    "# For loop"
   ]
  },
  {
   "cell_type": "code",
   "execution_count": 106,
   "id": "3bb73619",
   "metadata": {},
   "outputs": [
    {
     "name": "stdout",
     "output_type": "stream",
     "text": [
      "S\n",
      "S\n",
      "T\n"
     ]
    }
   ],
   "source": [
    "college = \"SST\"\n",
    "\n",
    "for letter in college:\n",
    "    print(letter)"
   ]
  },
  {
   "cell_type": "code",
   "execution_count": 107,
   "id": "ee046823",
   "metadata": {},
   "outputs": [
    {
     "name": "stdout",
     "output_type": "stream",
     "text": [
      "banana\n",
      "apple\n",
      "pear\n"
     ]
    }
   ],
   "source": [
    "fruits = [\"banana\", \"apple\", \"pear\"]\n",
    "for fruit in fruits:\n",
    "    print (fruit)"
   ]
  },
  {
   "cell_type": "code",
   "execution_count": 108,
   "id": "c445fe0d",
   "metadata": {},
   "outputs": [
    {
     "name": "stdout",
     "output_type": "stream",
     "text": [
      "Current fruit is: banana\n",
      "Current fruit is: apple\n",
      "Current fruit is: pear\n"
     ]
    }
   ],
   "source": [
    "fruits = [\"banana\", \"apple\", \"pear\"]\n",
    "for fruit in fruits:\n",
    "    print (f\"Current fruit is: {fruit}\")"
   ]
  },
  {
   "cell_type": "code",
   "execution_count": 109,
   "id": "72d145b4",
   "metadata": {},
   "outputs": [
    {
     "name": "stdout",
     "output_type": "stream",
     "text": [
      "Current fruit: banana\n",
      "Current fruit: apple\n",
      "Current fruit: pear\n",
      "Out of for loop\n"
     ]
    }
   ],
   "source": [
    "fruits = [\"banana\", \"apple\", \"pear\"]\n",
    "for fruit in fruits:\n",
    "    print (f\"Current fruit: {fruit}\")\n",
    "print(f\"Out of for loop\")"
   ]
  },
  {
   "cell_type": "markdown",
   "id": "0a24666b",
   "metadata": {},
   "source": [
    "# For loop in range"
   ]
  },
  {
   "cell_type": "code",
   "execution_count": 111,
   "id": "803549bc",
   "metadata": {},
   "outputs": [
    {
     "name": "stdout",
     "output_type": "stream",
     "text": [
      "1\n",
      "2\n",
      "3\n",
      "4\n",
      "5\n",
      "6\n",
      "7\n",
      "8\n",
      "9\n",
      "10\n",
      "11\n",
      "12\n",
      "13\n",
      "14\n",
      "15\n",
      "16\n",
      "17\n",
      "18\n",
      "19\n"
     ]
    }
   ],
   "source": [
    "for x in range (1,20): #It will print from 1 to 19\n",
    "    print (x)"
   ]
  },
  {
   "cell_type": "markdown",
   "id": "a479278c",
   "metadata": {},
   "source": [
    "# While loop"
   ]
  },
  {
   "cell_type": "markdown",
   "id": "0d25c9ba",
   "metadata": {},
   "source": [
    "#### count = 0\n",
    "#### while (count < 10):\n",
    "####     print(f\"count is in {count}\")\n",
    "#### print(\"out of while loop\")\n",
    "\n",
    "#### Omo this thing wan spoil my mac. Na infinity loop because we didn't tell it what to do with count"
   ]
  },
  {
   "cell_type": "code",
   "execution_count": 113,
   "id": "ecce5a28",
   "metadata": {},
   "outputs": [
    {
     "name": "stdout",
     "output_type": "stream",
     "text": [
      "Count is at 0\n",
      "Count is at 1\n",
      "Count is at 2\n",
      "Count is at 3\n",
      "Count is at 4\n",
      "Count is at 5\n",
      "Count is at 6\n",
      "Count is at 7\n",
      "Count is at 8\n",
      "Count is at 9\n",
      "Out of while loop\n"
     ]
    }
   ],
   "source": [
    "count = 0\n",
    "while (count < 10):\n",
    "    print(f\"Count is at {count}\")\n",
    "    count+=1\n",
    "print(\"Out of while loop\")"
   ]
  },
  {
   "cell_type": "code",
   "execution_count": 114,
   "id": "11d5789c",
   "metadata": {},
   "outputs": [
    {
     "name": "stdout",
     "output_type": "stream",
     "text": [
      "Count is at 1\n",
      "Count is at 2\n",
      "Count is at 3\n",
      "Count is at 4\n",
      "Count is at 5\n",
      "Count is at 6\n",
      "Count is at 7\n",
      "Count is at 8\n",
      "Count is at 9\n",
      "Count is at 10\n",
      "Out of while loop\n"
     ]
    }
   ],
   "source": [
    "count = 0\n",
    "while (count < 10):\n",
    "    count+=1\n",
    "    print(f\"Count is at {count}\")\n",
    "print(\"Out of while loop\")"
   ]
  },
  {
   "cell_type": "markdown",
   "id": "5eb6d8ca",
   "metadata": {},
   "source": [
    "Given a list as seen below\n",
    "s = [3, 4, 5, 7, 10,20,30,40,45,65]\n",
    "1. Write a code to sum all the even numbers\n",
    "2. Write a code to sum all the odd numbers\n",
    "3. Write a code to generate the total number of odd and even numbers"
   ]
  },
  {
   "cell_type": "code",
   "execution_count": 117,
   "id": "3e222219",
   "metadata": {},
   "outputs": [
    {
     "name": "stdout",
     "output_type": "stream",
     "text": [
      "The list of even numbers is [4, 10, 20, 30, 40]\n",
      "The list of odd numbers is [3, 5, 7, 45, 65]\n",
      "The sum of even numbers is 229\n",
      "The sum of odd numbers is 229\n"
     ]
    }
   ],
   "source": [
    "evenOddList = [3, 4, 5, 7, 10,20,30,40,45,65]\n",
    "\n",
    "evenList = []\n",
    "oddList = []\n",
    "for number in evenOddList:\n",
    "    if (number % 2 == 0):\n",
    "        #number.append(evenList) wrong\n",
    "        evenList.append(number)\n",
    "    else:\n",
    "        oddList.append(number)\n",
    "\n",
    "        \n",
    "print(f\"The list of even numbers is {evenList}\")\n",
    "print(f\"The list of odd numbers is {oddList}\")\n",
    "\n",
    "\n",
    "sumOfEven = 0\n",
    "sumOfOdd = 0\n",
    "\n",
    "for num in evenOddList:\n",
    "    sumOfEven += num\n",
    "    \n",
    "\n",
    "for num in evenOddList:\n",
    "    sumOfOdd += num\n",
    "\n",
    "print(f\"The sum of even numbers is {sumOfEven}\")\n",
    "print(f\"The sum of odd numbers is {sumOfOdd}\")"
   ]
  },
  {
   "cell_type": "markdown",
   "id": "521fc7f1",
   "metadata": {},
   "source": [
    "# Functions"
   ]
  },
  {
   "cell_type": "markdown",
   "id": "8c70dd85",
   "metadata": {},
   "source": [
    "A function is any defined program code\n",
    "segment (or simply subprogram) which\n",
    "can be executed by being called from the\n",
    "main program.\n",
    "As the name implies, a function is\n",
    "usually defined to carry out a given\n",
    "function."
   ]
  },
  {
   "cell_type": "markdown",
   "id": "898dec87",
   "metadata": {},
   "source": [
    "Why Write Functions?\n",
    "Any set of codes that are repeatedly\n",
    "required in a program are best written\n",
    "once within a defined function.\n",
    "The functions can then be called again\n",
    "and again as required within the overall\n",
    "program.\n",
    "In this way, coding errors can be\n",
    "minimized and the codes will be easier to\n",
    "understand and maintain."
   ]
  },
  {
   "cell_type": "markdown",
   "id": "5de2a55b",
   "metadata": {},
   "source": [
    "## Defining Functions\n",
    "In defining a function we should think of\n",
    "at least 4 things\n",
    "1. What is the purpose of the function?\n",
    "The function should have a clearly\n",
    "defined purpose.\n",
    "2. Name of the function. It makes sense\n",
    "for the name to reflect what the function\n",
    "does\n",
    "\n",
    "3. What should be passed to the\n",
    "function? The data that are passed to the\n",
    "function are called arguments.\n",
    "4. What sort of value should our function\n",
    "return? Or should it simply influence\n",
    "some other existing data without\n",
    "returning any?"
   ]
  },
  {
   "cell_type": "markdown",
   "id": "80973ab0",
   "metadata": {},
   "source": [
    "## Function to calculate length and breadth"
   ]
  },
  {
   "cell_type": "code",
   "execution_count": 119,
   "id": "ef56bbb9",
   "metadata": {},
   "outputs": [
    {
     "name": "stdout",
     "output_type": "stream",
     "text": [
      "14\n"
     ]
    }
   ],
   "source": [
    "def area (length, breadth):\n",
    "    return length*breadth\n",
    "print(area(2,7))"
   ]
  },
  {
   "cell_type": "code",
   "execution_count": 120,
   "id": "b5277720",
   "metadata": {},
   "outputs": [
    {
     "name": "stdout",
     "output_type": "stream",
     "text": [
      "14\n"
     ]
    }
   ],
   "source": [
    "#or\n",
    "def area (length, breadth):\n",
    "    return length * breadth\n",
    "result = area(2,7)\n",
    "print(result)"
   ]
  },
  {
   "cell_type": "markdown",
   "id": "248452c9",
   "metadata": {},
   "source": [
    "### I prefer the first though"
   ]
  },
  {
   "cell_type": "markdown",
   "id": "d7653482",
   "metadata": {},
   "source": [
    "### Function to add three numbers"
   ]
  },
  {
   "cell_type": "code",
   "execution_count": 121,
   "id": "37b72b18",
   "metadata": {},
   "outputs": [
    {
     "name": "stdout",
     "output_type": "stream",
     "text": [
      "6\n"
     ]
    }
   ],
   "source": [
    "def addThreeNumbers (x,y,z):\n",
    "    return (x+y+z)\n",
    "print(addThreeNumbers(1,2,3))"
   ]
  },
  {
   "cell_type": "markdown",
   "id": "866762f2",
   "metadata": {},
   "source": [
    "### Function to convert to km and to m"
   ]
  },
  {
   "cell_type": "code",
   "execution_count": 125,
   "id": "4975c1f4",
   "metadata": {},
   "outputs": [
    {
     "name": "stdout",
     "output_type": "stream",
     "text": [
      "0.007\n",
      "70000\n"
     ]
    }
   ],
   "source": [
    "def convertToKM (meters):\n",
    "    return (meters/1000)\n",
    "print(convertToKM(7))\n",
    "\n",
    "\n",
    "def convertToM (kilometers):\n",
    "    return(kilometers * 1000)\n",
    "print(convertToM(70))\n"
   ]
  },
  {
   "cell_type": "markdown",
   "id": "4efbae8a",
   "metadata": {},
   "source": [
    "This code runs successfully because it correctly defines and uses the conversion functions. However, if you'd like to print a more descriptive message along with the conversion result (which was your original intent), you can modify the print statements slightly to include a formatted output."
   ]
  },
  {
   "cell_type": "code",
   "execution_count": 126,
   "id": "9c16ee3a",
   "metadata": {},
   "outputs": [
    {
     "name": "stdout",
     "output_type": "stream",
     "text": [
      "7 meters is 0.007 kilometers\n"
     ]
    }
   ],
   "source": [
    "def convertToKM (meters):\n",
    "    return (meters/1000)\n",
    "meters = 7\n",
    "print (f\"{meters} meters is {convertToKM(meters)} kilometers\")"
   ]
  },
  {
   "cell_type": "code",
   "execution_count": 127,
   "id": "e5442822",
   "metadata": {},
   "outputs": [
    {
     "name": "stdout",
     "output_type": "stream",
     "text": [
      "70 km is 70000 meters\n"
     ]
    }
   ],
   "source": [
    "def convertToM (kilometers):\n",
    "    return(kilometers * 1000)\n",
    "kilometers = 70\n",
    "print (f\"{kilometers} km is {convertToM(kilometers)} meters\")"
   ]
  },
  {
   "cell_type": "markdown",
   "id": "e61ed341",
   "metadata": {},
   "source": [
    "There are many built-in functions in python.\n",
    "You have already seen some e.g.s\n",
    "str() function takes an object e.g. an integer\n",
    "and returns a printable string.\n",
    "int() function takes a string or a number e.g.\n",
    "float and returns an integer. If no number is\n",
    "provided, it returns zero\n",
    "float(x) function return a floating point number\n",
    "constructed from a number or string x.\n",
    "Returns 0.0 if not argument is supplied."
   ]
  },
  {
   "cell_type": "markdown",
   "id": "cdedb246",
   "metadata": {},
   "source": [
    "# Homework\n",
    "Write a function to check if a\n",
    "password is valid."
   ]
  },
  {
   "cell_type": "code",
   "execution_count": 133,
   "id": "8fef555f",
   "metadata": {},
   "outputs": [
    {
     "name": "stdout",
     "output_type": "stream",
     "text": [
      "Please enter the password: p@123\n",
      "Access\n"
     ]
    }
   ],
   "source": [
    "def password_validation(input_Password):\n",
    "    storedPassword = \"p@123\"\n",
    "    if input_Password == storedPassword:\n",
    "        print(\"Access\")\n",
    "    else:\n",
    "        print(\"Access denied, please try again\")\n",
    "input_Password = str(input(\"Please enter the password: \"))\n",
    "#print(password_validation(input_Password)) none will show\n",
    "password_validation(input_Password)"
   ]
  },
  {
   "cell_type": "code",
   "execution_count": 140,
   "id": "9ffa39e9",
   "metadata": {},
   "outputs": [
    {
     "name": "stdout",
     "output_type": "stream",
     "text": [
      "please enter your passwordpau123\n",
      "Access\n"
     ]
    }
   ],
   "source": [
    "def password_checker (input_password):\n",
    "    stored_password1 = \"pau123\"\n",
    "    if input_password == stored_password1:\n",
    "        print(\"Access\")\n",
    "    else:\n",
    "        print(\"Acess Denied\")\n",
    "user_password = str(input(\"please enter your password\"))\n",
    "password_checker(user_password)"
   ]
  },
  {
   "cell_type": "markdown",
   "id": "8c48becc",
   "metadata": {},
   "source": [
    "## Greet function"
   ]
  },
  {
   "cell_type": "code",
   "execution_count": 143,
   "id": "6d972c38",
   "metadata": {},
   "outputs": [
    {
     "name": "stdout",
     "output_type": "stream",
     "text": [
      "Hi Hannah\n"
     ]
    }
   ],
   "source": [
    "def greet(x):\n",
    "    return(f\"Hi {x}\")\n",
    "print(greet(\"Hannah\"))"
   ]
  },
  {
   "cell_type": "markdown",
   "id": "26da432e",
   "metadata": {},
   "source": [
    "## Palindrome checker function"
   ]
  },
  {
   "cell_type": "code",
   "execution_count": 152,
   "id": "90d24c8c",
   "metadata": {},
   "outputs": [
    {
     "name": "stdout",
     "output_type": "stream",
     "text": [
      "madam is a palindrome\n"
     ]
    }
   ],
   "source": [
    "def IsPalindrome (word):\n",
    "    reversedWord = word[::-1]#I intially didn't put - at the 1 so be careful\n",
    "    if reversedWord == word:\n",
    "        return (f\"{word} is a palindrome\")\n",
    "    else:\n",
    "        return(f\"{word} is not a palindrome\")\n",
    "word = \"madam\"\n",
    "print(IsPalindrome(word))"
   ]
  },
  {
   "cell_type": "code",
   "execution_count": 151,
   "id": "5e85008b",
   "metadata": {},
   "outputs": [
    {
     "name": "stdout",
     "output_type": "stream",
     "text": [
      "guy is not a palindrome\n"
     ]
    }
   ],
   "source": [
    "def IsPalindrome (word2):\n",
    "    reversedWord = word2[::-1]#I intially didn't put - at the 1 so be careful\n",
    "    if reversedWord == word2:\n",
    "        return (f\"{word2} is a palindrome\")\n",
    "    else:\n",
    "        return(f\"{word2} is not a palindrome\")\n",
    "word2 = \"guy\"\n",
    "print(IsPalindrome(word2))"
   ]
  },
  {
   "cell_type": "code",
   "execution_count": null,
   "id": "9983768e",
   "metadata": {},
   "outputs": [],
   "source": []
  },
  {
   "cell_type": "markdown",
   "id": "b6ccb745",
   "metadata": {},
   "source": [
    "# Writing to and Reading from a file "
   ]
  },
  {
   "cell_type": "markdown",
   "id": "56379de8",
   "metadata": {},
   "source": [
    "names = [\"jess\", \"john\", \"jay\", \"jasmine\", \"jake\"]\n",
    "ages = [20,19,22,20,23]\n",
    "\n",
    "file_handle = open(\"NamesAndAges\", \"w\")####.txt \n",
    "for name, age in zip (names, ages):\n",
    "    file_handle.write(f\"{name} {str(age)} \\n\")\n",
    "file_handle.close()"
   ]
  },
  {
   "cell_type": "code",
   "execution_count": 155,
   "id": "1180794a",
   "metadata": {},
   "outputs": [],
   "source": [
    "names = [\"jess\", \"john\", \"jay\", \"jasmine\", \"jake\"]\n",
    "ages = [20,19,22,20,23]\n",
    "\n",
    "file_handle = open(\"NamesAndAges.txt\", \"w\")\n",
    "for name, age in zip (names, ages):\n",
    "    file_handle.write(f\"{name} {str(age)} \\n\")\n",
    "file_handle.close()"
   ]
  },
  {
   "cell_type": "code",
   "execution_count": 156,
   "id": "cae5b28b",
   "metadata": {},
   "outputs": [
    {
     "name": "stdout",
     "output_type": "stream",
     "text": [
      "jess 20 \n",
      "\n",
      "john 19 \n",
      "\n",
      "jay 22 \n",
      "\n",
      "jasmine 20 \n",
      "\n",
      "jake 23 \n",
      "\n"
     ]
    }
   ],
   "source": [
    "reader = open(\"/Users/caleboneyemi/Downloads/NamesAndAges.txt\", \"r\")\n",
    "for each_line in reader:\n",
    "    print(each_line)\n",
    "reader.close()"
   ]
  },
  {
   "cell_type": "code",
   "execution_count": 157,
   "id": "24fc1fe2",
   "metadata": {},
   "outputs": [],
   "source": [
    "names = [\"james\", \"Biodun\", \"Kaka\", \"Jumoke\"]\n",
    "scores = [20, 56, 76, 30]\n",
    "\n",
    "file_handle = open(\"data.txt\", \"w\")\n",
    "for name, score in zip (names, scores):\n",
    "    file_handle.write(f\"{name} {str(score)} \\n\")\n",
    "file_handle.close()"
   ]
  },
  {
   "cell_type": "code",
   "execution_count": null,
   "id": "90d0a67d",
   "metadata": {},
   "outputs": [],
   "source": []
  },
  {
   "cell_type": "code",
   "execution_count": null,
   "id": "03f6714a",
   "metadata": {},
   "outputs": [],
   "source": []
  },
  {
   "cell_type": "code",
   "execution_count": 1,
   "id": "99bbd5e8",
   "metadata": {},
   "outputs": [
    {
     "data": {
      "text/plain": [
       "[1, 2, 3, 4, 5, 6]"
      ]
     },
     "execution_count": 1,
     "metadata": {},
     "output_type": "execute_result"
    }
   ],
   "source": [
    "[1,2,3] + [4,5,6]"
   ]
  },
  {
   "cell_type": "code",
   "execution_count": null,
   "id": "a8152898",
   "metadata": {},
   "outputs": [],
   "source": []
  },
  {
   "cell_type": "code",
   "execution_count": 2,
   "id": "84bc783b",
   "metadata": {},
   "outputs": [
    {
     "name": "stdout",
     "output_type": "stream",
     "text": [
      "!dlro\n"
     ]
    }
   ],
   "source": [
    "AA = 'Hello, World!'\n",
    "print(AA[-1:-6:-1])"
   ]
  },
  {
   "cell_type": "code",
   "execution_count": 6,
   "id": "40c09c1b",
   "metadata": {},
   "outputs": [
    {
     "name": "stdout",
     "output_type": "stream",
     "text": [
      "[[1, 2, 3, 4], 2000]\n"
     ]
    }
   ],
   "source": [
    "l = [\"phy\", \"chem\", 1997, 2000, [1,2,3,4]]\n",
    "\n",
    "print(l[-1:-3:-1])\n"
   ]
  },
  {
   "cell_type": "code",
   "execution_count": 7,
   "id": "398a88e8",
   "metadata": {},
   "outputs": [
    {
     "name": "stdout",
     "output_type": "stream",
     "text": [
      "!dlroW\n"
     ]
    }
   ],
   "source": [
    "h = 'Hello, World!'\n",
    "print(h[-1:6:-1])"
   ]
  },
  {
   "cell_type": "code",
   "execution_count": 9,
   "id": "cffe49b6",
   "metadata": {},
   "outputs": [
    {
     "name": "stdout",
     "output_type": "stream",
     "text": [
      "!ygol\n"
     ]
    }
   ],
   "source": [
    "t = 'trichology!'\n",
    "print(t[-1:-6:-1])"
   ]
  },
  {
   "cell_type": "code",
   "execution_count": 16,
   "id": "0c0a5230",
   "metadata": {},
   "outputs": [
    {
     "name": "stdout",
     "output_type": "stream",
     "text": [
      "!dlro\n"
     ]
    }
   ],
   "source": [
    "print(h[-1:-6:-1])"
   ]
  },
  {
   "cell_type": "code",
   "execution_count": 18,
   "id": "3f40aa3a",
   "metadata": {},
   "outputs": [
    {
     "name": "stdout",
     "output_type": "stream",
     "text": [
      "3\n"
     ]
    }
   ],
   "source": [
    "a = [1,2,3,4,5]\n",
    "b = a.index(4)\n",
    "print(b)"
   ]
  },
  {
   "cell_type": "code",
   "execution_count": null,
   "id": "80249a03",
   "metadata": {},
   "outputs": [],
   "source": []
  },
  {
   "cell_type": "code",
   "execution_count": null,
   "id": "9b07a048",
   "metadata": {},
   "outputs": [],
   "source": []
  },
  {
   "cell_type": "code",
   "execution_count": null,
   "id": "4bb1d4a8",
   "metadata": {},
   "outputs": [],
   "source": []
  },
  {
   "cell_type": "code",
   "execution_count": null,
   "id": "f25d62aa",
   "metadata": {},
   "outputs": [],
   "source": []
  },
  {
   "cell_type": "code",
   "execution_count": null,
   "id": "09f1577f",
   "metadata": {},
   "outputs": [],
   "source": []
  },
  {
   "cell_type": "code",
   "execution_count": null,
   "id": "403353ff",
   "metadata": {},
   "outputs": [],
   "source": []
  },
  {
   "cell_type": "code",
   "execution_count": null,
   "id": "99093d11",
   "metadata": {},
   "outputs": [],
   "source": []
  },
  {
   "cell_type": "code",
   "execution_count": null,
   "id": "12b88164",
   "metadata": {},
   "outputs": [],
   "source": []
  },
  {
   "cell_type": "code",
   "execution_count": null,
   "id": "e5aab62d",
   "metadata": {},
   "outputs": [],
   "source": []
  },
  {
   "cell_type": "code",
   "execution_count": null,
   "id": "6f7d2330",
   "metadata": {},
   "outputs": [],
   "source": []
  },
  {
   "cell_type": "code",
   "execution_count": null,
   "id": "0ce55fb5",
   "metadata": {},
   "outputs": [],
   "source": []
  },
  {
   "cell_type": "code",
   "execution_count": null,
   "id": "e260ef0e",
   "metadata": {},
   "outputs": [],
   "source": []
  },
  {
   "cell_type": "code",
   "execution_count": null,
   "id": "cbd3ba94",
   "metadata": {},
   "outputs": [],
   "source": []
  },
  {
   "cell_type": "code",
   "execution_count": null,
   "id": "5b5acb69",
   "metadata": {},
   "outputs": [],
   "source": []
  },
  {
   "cell_type": "code",
   "execution_count": null,
   "id": "38189a16",
   "metadata": {},
   "outputs": [],
   "source": []
  },
  {
   "cell_type": "code",
   "execution_count": null,
   "id": "b0160b93",
   "metadata": {},
   "outputs": [],
   "source": []
  }
 ],
 "metadata": {
  "kernelspec": {
   "display_name": "Python 3 (ipykernel)",
   "language": "python",
   "name": "python3"
  },
  "language_info": {
   "codemirror_mode": {
    "name": "ipython",
    "version": 3
   },
   "file_extension": ".py",
   "mimetype": "text/x-python",
   "name": "python",
   "nbconvert_exporter": "python",
   "pygments_lexer": "ipython3",
   "version": "3.11.5"
  }
 },
 "nbformat": 4,
 "nbformat_minor": 5
}
