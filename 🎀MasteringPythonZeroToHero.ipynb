{
 "cells": [
  {
   "cell_type": "markdown",
   "id": "ff516d2d",
   "metadata": {},
   "source": [
    "# This is Python Tutorial"
   ]
  },
  {
   "cell_type": "code",
   "execution_count": 1,
   "id": "f0a88213",
   "metadata": {},
   "outputs": [
    {
     "name": "stdout",
     "output_type": "stream",
     "text": [
      "Hello World\n"
     ]
    }
   ],
   "source": [
    "print(\"Hello World\")"
   ]
  },
  {
   "cell_type": "markdown",
   "id": "842db77a",
   "metadata": {},
   "source": [
    "Note: You use shift enter to run"
   ]
  },
  {
   "cell_type": "markdown",
   "id": "12934218",
   "metadata": {},
   "source": [
    "$ a= b+c $\n",
    "\n",
    "Put the a = b+c in between two dollar signs just like \"\" to make it look mathematical"
   ]
  },
  {
   "cell_type": "code",
   "execution_count": 3,
   "id": "e83d12af",
   "metadata": {},
   "outputs": [
    {
     "data": {
      "text/plain": [
       "89.0"
      ]
     },
     "execution_count": 3,
     "metadata": {},
     "output_type": "execute_result"
    }
   ],
   "source": [
    "(45-(8*7)/2 +(144/2))"
   ]
  },
  {
   "cell_type": "code",
   "execution_count": 4,
   "id": "abe75770",
   "metadata": {},
   "outputs": [],
   "source": [
    "a = (45-(8*7)/2 +(144/2))"
   ]
  },
  {
   "cell_type": "code",
   "execution_count": 6,
   "id": "ec07fb43",
   "metadata": {},
   "outputs": [],
   "source": [
    "b = 42*6+9"
   ]
  },
  {
   "cell_type": "code",
   "execution_count": 7,
   "id": "1ba05f1b",
   "metadata": {},
   "outputs": [
    {
     "name": "stdout",
     "output_type": "stream",
     "text": [
      "350.0\n"
     ]
    }
   ],
   "source": [
    "print (a + b)"
   ]
  },
  {
   "cell_type": "code",
   "execution_count": 8,
   "id": "23666502",
   "metadata": {},
   "outputs": [],
   "source": [
    "a = 4"
   ]
  },
  {
   "cell_type": "code",
   "execution_count": 9,
   "id": "0f57015c",
   "metadata": {},
   "outputs": [],
   "source": [
    "b = 6"
   ]
  },
  {
   "cell_type": "code",
   "execution_count": 10,
   "id": "53afcfb9",
   "metadata": {},
   "outputs": [
    {
     "name": "stdout",
     "output_type": "stream",
     "text": [
      "10\n"
     ]
    }
   ],
   "source": [
    "print (a+b)"
   ]
  },
  {
   "cell_type": "markdown",
   "id": "ad6f4d6d",
   "metadata": {},
   "source": [
    "The former values of a and b have been rewritten"
   ]
  },
  {
   "cell_type": "code",
   "execution_count": 11,
   "id": "2412d0d9",
   "metadata": {},
   "outputs": [
    {
     "name": "stdout",
     "output_type": "stream",
     "text": [
      "Variable   Type    Data/Info\n",
      "----------------------------\n",
      "a          int     4\n",
      "b          int     6\n"
     ]
    }
   ],
   "source": [
    "%whos"
   ]
  },
  {
   "cell_type": "markdown",
   "id": "cf3b29cb",
   "metadata": {},
   "source": [
    "%whos --> this shows all the variables in the memory"
   ]
  },
  {
   "cell_type": "code",
   "execution_count": 12,
   "id": "47a6d1ad",
   "metadata": {},
   "outputs": [],
   "source": [
    "x = 7.77"
   ]
  },
  {
   "cell_type": "code",
   "execution_count": 13,
   "id": "ff268359",
   "metadata": {},
   "outputs": [
    {
     "name": "stdout",
     "output_type": "stream",
     "text": [
      "<class 'float'>\n"
     ]
    }
   ],
   "source": [
    "print(type(x))"
   ]
  },
  {
   "cell_type": "code",
   "execution_count": 16,
   "id": "a8bddcd4",
   "metadata": {},
   "outputs": [],
   "source": [
    "c,d,e,f,g,h= 3,7,9.8,9,-10,\"hey\""
   ]
  },
  {
   "cell_type": "code",
   "execution_count": 17,
   "id": "bf600120",
   "metadata": {},
   "outputs": [
    {
     "name": "stdout",
     "output_type": "stream",
     "text": [
      "Variable   Type     Data/Info\n",
      "-----------------------------\n",
      "a          int      4\n",
      "b          int      6\n",
      "c          int      3\n",
      "d          int      7\n",
      "e          float    9.8\n",
      "f          int      9\n",
      "g          int      -10\n",
      "h          str      hey\n",
      "x          float    7.77\n"
     ]
    }
   ],
   "source": [
    "%whos"
   ]
  },
  {
   "cell_type": "code",
   "execution_count": 18,
   "id": "7d7aece0",
   "metadata": {},
   "outputs": [],
   "source": [
    "del f"
   ]
  },
  {
   "cell_type": "code",
   "execution_count": 19,
   "id": "5c19e3e3",
   "metadata": {},
   "outputs": [
    {
     "name": "stdout",
     "output_type": "stream",
     "text": [
      "Variable   Type     Data/Info\n",
      "-----------------------------\n",
      "a          int      4\n",
      "b          int      6\n",
      "c          int      3\n",
      "d          int      7\n",
      "e          float    9.8\n",
      "g          int      -10\n",
      "h          str      hey\n",
      "x          float    7.77\n"
     ]
    }
   ],
   "source": [
    "%whos"
   ]
  },
  {
   "cell_type": "markdown",
   "id": "3e80f811",
   "metadata": {},
   "source": [
    " ## Arithmetic Operators"
   ]
  },
  {
   "cell_type": "markdown",
   "id": "a70f8717",
   "metadata": {},
   "source": [
    "Addition +\n",
    "Subtraction -\n",
    "Division / \n",
    "mod % \n",
    "Multiplication * \n",
    "Floor Division // (10/3 = 3.33 but 10//3 = 3 w/o the .--)\n",
    "To the power of ** "
   ]
  },
  {
   "cell_type": "code",
   "execution_count": 22,
   "id": "7aac1583",
   "metadata": {},
   "outputs": [
    {
     "name": "stdout",
     "output_type": "stream",
     "text": [
      "Hi there\n"
     ]
    }
   ],
   "source": [
    "string1 = \"Hi\"\n",
    "string2 = \" there\"\n",
    "greetings = string1+string2\n",
    "print(greetings)"
   ]
  },
  {
   "cell_type": "code",
   "execution_count": 26,
   "id": "00463e46",
   "metadata": {},
   "outputs": [
    {
     "data": {
      "text/plain": [
       "0.7"
      ]
     },
     "execution_count": 26,
     "metadata": {},
     "output_type": "execute_result"
    }
   ],
   "source": [
    "7/10"
   ]
  },
  {
   "cell_type": "code",
   "execution_count": 27,
   "id": "16559a34",
   "metadata": {},
   "outputs": [
    {
     "data": {
      "text/plain": [
       "1.0769230769230769"
      ]
     },
     "execution_count": 27,
     "metadata": {},
     "output_type": "execute_result"
    }
   ],
   "source": [
    "14/13"
   ]
  },
  {
   "cell_type": "code",
   "execution_count": 28,
   "id": "8afe0b34",
   "metadata": {},
   "outputs": [
    {
     "data": {
      "text/plain": [
       "1"
      ]
     },
     "execution_count": 28,
     "metadata": {},
     "output_type": "execute_result"
    }
   ],
   "source": [
    "14//13"
   ]
  },
  {
   "cell_type": "code",
   "execution_count": null,
   "id": "3c658487",
   "metadata": {},
   "outputs": [],
   "source": []
  },
  {
   "cell_type": "markdown",
   "id": "2020d8ce",
   "metadata": {},
   "source": [
    "True and True is True\n",
    "True and False is False\n",
    "\n",
    "True or True is True\n",
    "True or False is True\n",
    "False or False is False\n",
    "\n",
    "Not(False) is True\n",
    "Not(True) is False"
   ]
  },
  {
   "cell_type": "code",
   "execution_count": 35,
   "id": "cb6e8807",
   "metadata": {},
   "outputs": [
    {
     "name": "stdout",
     "output_type": "stream",
     "text": [
      "False\n",
      "True\n",
      "False\n",
      "True\n",
      "True\n",
      "False\n",
      "False\n",
      "True\n"
     ]
    }
   ],
   "source": [
    "a = True\n",
    "b = False\n",
    "\n",
    "print(a and b)\n",
    "print(a and a)\n",
    "print(b and b)\n",
    "\n",
    "print(a or b)\n",
    "print(a or a)\n",
    "print(b or b)\n",
    "\n",
    "d = not(a)\n",
    "e = not(b)\n",
    "\n",
    "print(d)\n",
    "print(e)"
   ]
  },
  {
   "cell_type": "markdown",
   "id": "d860235a",
   "metadata": {},
   "source": [
    "Note: For not use not instead of Not"
   ]
  },
  {
   "cell_type": "code",
   "execution_count": 38,
   "id": "c1d92478",
   "metadata": {},
   "outputs": [
    {
     "name": "stdout",
     "output_type": "stream",
     "text": [
      "False\n",
      "True\n",
      "True\n"
     ]
    }
   ],
   "source": [
    "x = 7\n",
    "y = 8\n",
    "h = 7\n",
    "\n",
    "print(x==y)\n",
    "print(x==h)\n",
    "print(x!=y)"
   ]
  },
  {
   "cell_type": "markdown",
   "id": "be404bef",
   "metadata": {},
   "source": [
    "# Some useful functions"
   ]
  },
  {
   "cell_type": "markdown",
   "id": "4a2b3bb7",
   "metadata": {},
   "source": [
    "round() make it as integer\n",
    "round is the function and what is inside is the argument"
   ]
  },
  {
   "cell_type": "code",
   "execution_count": 39,
   "id": "08a587f9",
   "metadata": {},
   "outputs": [
    {
     "data": {
      "text/plain": [
       "5"
      ]
     },
     "execution_count": 39,
     "metadata": {},
     "output_type": "execute_result"
    }
   ],
   "source": [
    "round(4.8)"
   ]
  },
  {
   "cell_type": "code",
   "execution_count": 40,
   "id": "dd090236",
   "metadata": {},
   "outputs": [
    {
     "data": {
      "text/plain": [
       "4"
      ]
     },
     "execution_count": 40,
     "metadata": {},
     "output_type": "execute_result"
    }
   ],
   "source": [
    "round(4.3)"
   ]
  },
  {
   "cell_type": "code",
   "execution_count": 41,
   "id": "91e6b21a",
   "metadata": {},
   "outputs": [
    {
     "data": {
      "text/plain": [
       "8"
      ]
     },
     "execution_count": 41,
     "metadata": {},
     "output_type": "execute_result"
    }
   ],
   "source": [
    "round(7.8785)"
   ]
  },
  {
   "cell_type": "markdown",
   "id": "df9dc7ae",
   "metadata": {},
   "source": [
    "round(x,y)\n",
    "round x to y decimal places"
   ]
  },
  {
   "cell_type": "code",
   "execution_count": 42,
   "id": "d2ec65bd",
   "metadata": {},
   "outputs": [
    {
     "data": {
      "text/plain": [
       "7.879"
      ]
     },
     "execution_count": 42,
     "metadata": {},
     "output_type": "execute_result"
    }
   ],
   "source": [
    "round(7.878598, 3)"
   ]
  },
  {
   "cell_type": "code",
   "execution_count": null,
   "id": "3b7d373d",
   "metadata": {},
   "outputs": [],
   "source": [
    "round(7.878598, 1)"
   ]
  },
  {
   "cell_type": "code",
   "execution_count": 44,
   "id": "b8b014d6",
   "metadata": {},
   "outputs": [
    {
     "data": {
      "text/plain": [
       "7.342"
      ]
     },
     "execution_count": 44,
     "metadata": {},
     "output_type": "execute_result"
    }
   ],
   "source": [
    "round(7.342298, 3)"
   ]
  },
  {
   "cell_type": "code",
   "execution_count": 45,
   "id": "9ce4de27",
   "metadata": {},
   "outputs": [
    {
     "data": {
      "text/plain": [
       "7.4"
      ]
     },
     "execution_count": 45,
     "metadata": {},
     "output_type": "execute_result"
    }
   ],
   "source": [
    "round(7.432598, 1)"
   ]
  },
  {
   "cell_type": "markdown",
   "id": "46918a09",
   "metadata": {},
   "source": [
    "divmod(x,y)\n",
    "divides and returns quotient and remainder\n",
    "It's result is a tuple"
   ]
  },
  {
   "cell_type": "code",
   "execution_count": 46,
   "id": "6a3cd362",
   "metadata": {},
   "outputs": [
    {
     "data": {
      "text/plain": [
       "(5, 2)"
      ]
     },
     "execution_count": 46,
     "metadata": {},
     "output_type": "execute_result"
    }
   ],
   "source": [
    "divmod(27,5)"
   ]
  },
  {
   "cell_type": "code",
   "execution_count": 48,
   "id": "36559370",
   "metadata": {},
   "outputs": [
    {
     "data": {
      "text/plain": [
       "(4, 0)"
      ]
     },
     "execution_count": 48,
     "metadata": {},
     "output_type": "execute_result"
    }
   ],
   "source": [
    "divmod(8,2)"
   ]
  },
  {
   "cell_type": "code",
   "execution_count": 56,
   "id": "6a1a07d1",
   "metadata": {},
   "outputs": [
    {
     "data": {
      "text/plain": [
       "(4, 1)"
      ]
     },
     "execution_count": 56,
     "metadata": {},
     "output_type": "execute_result"
    }
   ],
   "source": [
    "divmod(9,2)\n"
   ]
  },
  {
   "cell_type": "code",
   "execution_count": 57,
   "id": "a834c2c8",
   "metadata": {},
   "outputs": [
    {
     "data": {
      "text/plain": [
       "tuple"
      ]
     },
     "execution_count": 57,
     "metadata": {},
     "output_type": "execute_result"
    }
   ],
   "source": [
    "type(G)"
   ]
  },
  {
   "cell_type": "code",
   "execution_count": 60,
   "id": "ba209542",
   "metadata": {},
   "outputs": [
    {
     "data": {
      "text/plain": [
       "4"
      ]
     },
     "execution_count": 60,
     "metadata": {},
     "output_type": "execute_result"
    }
   ],
   "source": [
    "G = divmod(9,2)\n",
    "G[0]"
   ]
  },
  {
   "cell_type": "markdown",
   "id": "75bcc6ef",
   "metadata": {},
   "source": [
    "isinstance()\n",
    "returns either true or false. It checks if a data value belongs to a particular type\n",
    "\n",
    "print(isinstance(1, (int, float)))\n",
    "does 1 belong to any of these types, that's what it's checking"
   ]
  },
  {
   "cell_type": "code",
   "execution_count": 63,
   "id": "5fcb79fa",
   "metadata": {},
   "outputs": [
    {
     "name": "stdout",
     "output_type": "stream",
     "text": [
      "True\n",
      "False\n",
      "True\n",
      "False\n"
     ]
    }
   ],
   "source": [
    "print(isinstance(1, int))\n",
    "print(isinstance(1.4, int))\n",
    "print(isinstance(1, (int, float)))\n",
    "print(isinstance(\"hi\", (int, float)))"
   ]
  },
  {
   "cell_type": "code",
   "execution_count": null,
   "id": "8658530f",
   "metadata": {},
   "outputs": [],
   "source": []
  },
  {
   "cell_type": "markdown",
   "id": "913542e4",
   "metadata": {},
   "source": [
    "pow(x,y)\n",
    "x raised to the power of y or x**y\n",
    "\n",
    "pow(x,y,z)\n",
    "(x**y) % z"
   ]
  },
  {
   "cell_type": "code",
   "execution_count": 64,
   "id": "e4fd727c",
   "metadata": {},
   "outputs": [
    {
     "data": {
      "text/plain": [
       "16"
      ]
     },
     "execution_count": 64,
     "metadata": {},
     "output_type": "execute_result"
    }
   ],
   "source": [
    "pow(2,4)"
   ]
  },
  {
   "cell_type": "code",
   "execution_count": 65,
   "id": "31065f57",
   "metadata": {},
   "outputs": [
    {
     "data": {
      "text/plain": [
       "2"
      ]
     },
     "execution_count": 65,
     "metadata": {},
     "output_type": "execute_result"
    }
   ],
   "source": [
    "pow(2,4,7)"
   ]
  },
  {
   "cell_type": "code",
   "execution_count": 66,
   "id": "71ae18dd",
   "metadata": {},
   "outputs": [
    {
     "data": {
      "text/plain": [
       "2"
      ]
     },
     "execution_count": 66,
     "metadata": {},
     "output_type": "execute_result"
    }
   ],
   "source": [
    "16%7"
   ]
  },
  {
   "cell_type": "code",
   "execution_count": 68,
   "id": "b1a0f8af",
   "metadata": {},
   "outputs": [
    {
     "name": "stdout",
     "output_type": "stream",
     "text": [
      "Enter a number : 7\n"
     ]
    }
   ],
   "source": [
    "k = input(\"Enter a number : \")"
   ]
  },
  {
   "cell_type": "code",
   "execution_count": 69,
   "id": "74f40b50",
   "metadata": {},
   "outputs": [
    {
     "data": {
      "text/plain": [
       "str"
      ]
     },
     "execution_count": 69,
     "metadata": {},
     "output_type": "execute_result"
    }
   ],
   "source": [
    "type(k)"
   ]
  },
  {
   "cell_type": "code",
   "execution_count": 70,
   "id": "a369ad34",
   "metadata": {},
   "outputs": [
    {
     "name": "stdout",
     "output_type": "stream",
     "text": [
      "Enter a number : 7\n"
     ]
    }
   ],
   "source": [
    "l = int(input(\"Enter a number : \"))"
   ]
  },
  {
   "cell_type": "code",
   "execution_count": 71,
   "id": "b8950806",
   "metadata": {},
   "outputs": [
    {
     "data": {
      "text/plain": [
       "int"
      ]
     },
     "execution_count": 71,
     "metadata": {},
     "output_type": "execute_result"
    }
   ],
   "source": [
    "type(l)"
   ]
  },
  {
   "cell_type": "code",
   "execution_count": 72,
   "id": "bc27972f",
   "metadata": {},
   "outputs": [
    {
     "name": "stdout",
     "output_type": "stream",
     "text": [
      "Enter a number : 9\n"
     ]
    }
   ],
   "source": [
    "n = float(input(\"Enter a number : \"))"
   ]
  },
  {
   "cell_type": "code",
   "execution_count": 73,
   "id": "18eab0ce",
   "metadata": {},
   "outputs": [
    {
     "name": "stdout",
     "output_type": "stream",
     "text": [
      "9.0\n"
     ]
    }
   ],
   "source": [
    "print(n)"
   ]
  },
  {
   "cell_type": "markdown",
   "id": "471641ef",
   "metadata": {},
   "source": [
    "If you don't know what a function is for, type the function? example pow?"
   ]
  },
  {
   "cell_type": "code",
   "execution_count": null,
   "id": "63bb94ce",
   "metadata": {},
   "outputs": [],
   "source": []
  },
  {
   "cell_type": "markdown",
   "id": "011cfff5",
   "metadata": {},
   "source": [
    "# Control flow"
   ]
  },
  {
   "cell_type": "code",
   "execution_count": 76,
   "id": "bcea2d81",
   "metadata": {},
   "outputs": [
    {
     "name": "stdout",
     "output_type": "stream",
     "text": [
      "Enter a number : 9\n",
      "Enter another number : 10\n",
      "I am outside the if condition\n",
      "10\n"
     ]
    }
   ],
   "source": [
    "a = int(input(\"Enter a number : \"))\n",
    "b = int(input(\"Enter another number : \"))\n",
    "\n",
    "if a > b:\n",
    "    print(a)\n",
    "    print(\"I am still inside the if condition\")\n",
    "print(\"I am outside the if condition\")\n",
    "if b > a:\n",
    "    print(b)"
   ]
  },
  {
   "cell_type": "code",
   "execution_count": 81,
   "id": "5e698fa4",
   "metadata": {},
   "outputs": [
    {
     "name": "stdout",
     "output_type": "stream",
     "text": [
      "Enter a number : 0\n",
      "Enter another number : 8\n",
      "a is not greater than b\n"
     ]
    }
   ],
   "source": [
    "a = int(input(\"Enter a number : \"))\n",
    "b = int(input(\"Enter another number : \"))\n",
    "\n",
    "if a > b:\n",
    "    print(\"a is greater than b\")\n",
    "elif a == b:\n",
    "    print(\"a and b are equal\")\n",
    "else:\n",
    "    print(\"a is not greater than b\")"
   ]
  },
  {
   "cell_type": "code",
   "execution_count": 82,
   "id": "8b3d4b4f",
   "metadata": {},
   "outputs": [
    {
     "name": "stdout",
     "output_type": "stream",
     "text": [
      "Enter Marks: 87\n",
      "A Grade\n"
     ]
    }
   ],
   "source": [
    "a = int(input(\"Enter Marks: \"))\n",
    "if a >=85:\n",
    "    print(\"A Grade\")\n",
    "elif (a < 85) and (a >= 80):\n",
    "    print(\"A- Grade\")\n",
    "elif (a <80) and (a >= 75):\n",
    "    print(\"B Grade\")\n",
    "else:\n",
    "    print(\"Below Average\")"
   ]
  },
  {
   "cell_type": "markdown",
   "id": "9a278e3a",
   "metadata": {},
   "source": [
    "Nested If"
   ]
  },
  {
   "cell_type": "code",
   "execution_count": 83,
   "id": "92676851",
   "metadata": {},
   "outputs": [
    {
     "name": "stdout",
     "output_type": "stream",
     "text": [
      "Enter a number : 9\n",
      "Outside all ifs\n"
     ]
    }
   ],
   "source": [
    "c = int(input(\"Enter a number : \"))\n",
    "\n",
    "if c > 10:\n",
    "    print(\"your number is above 10\")\n",
    "    if c > 20:\n",
    "         print(\"and also above 20\")\n",
    "    else:\n",
    "        print(\"but not above 20\")\n",
    "print(\"Outside all ifs\")"
   ]
  },
  {
   "cell_type": "code",
   "execution_count": 84,
   "id": "d5c83220",
   "metadata": {},
   "outputs": [
    {
     "name": "stdout",
     "output_type": "stream",
     "text": [
      "Enter a number : 99\n",
      "your number is above 10\n",
      "and also above 20\n",
      "Outside all ifs\n"
     ]
    }
   ],
   "source": [
    "c = int(input(\"Enter a number : \"))\n",
    "\n",
    "if c > 10:\n",
    "    print(\"your number is above 10\")\n",
    "    if c > 20:\n",
    "         print(\"and also above 20\")\n",
    "    else:\n",
    "        print(\"but not above 20\")\n",
    "print(\"Outside all ifs\")"
   ]
  },
  {
   "cell_type": "code",
   "execution_count": 85,
   "id": "4b6eb207",
   "metadata": {},
   "outputs": [
    {
     "name": "stdout",
     "output_type": "stream",
     "text": [
      "Enter a number : 17\n",
      "your number is above 10\n",
      "but not above 20\n",
      "Outside all ifs\n"
     ]
    }
   ],
   "source": [
    "c = int(input(\"Enter a number : \"))\n",
    "\n",
    "if c > 10:\n",
    "    print(\"your number is above 10\")\n",
    "    if c > 20:\n",
    "         print(\"and also above 20\")\n",
    "    else:\n",
    "        print(\"but not above 20\")\n",
    "print(\"Outside all ifs\")"
   ]
  },
  {
   "cell_type": "code",
   "execution_count": null,
   "id": "b3dd010e",
   "metadata": {},
   "outputs": [],
   "source": [
    "# This is a single line comment\n",
    "\"\"\"\n",
    "This is a multiline comment\n",
    "\"\"\""
   ]
  },
  {
   "cell_type": "code",
   "execution_count": 12,
   "id": "709e727a",
   "metadata": {},
   "outputs": [
    {
     "name": "stdout",
     "output_type": "stream",
     "text": [
      "Enter a real number : 238.915\n",
      "The rounded number:  239\n",
      "Odd\n"
     ]
    }
   ],
   "source": [
    "\"\"\"\n",
    "User will enter a floating point number lets say 238.915, \n",
    "your task is to find out the integer\n",
    "portion before the point (in this case 238)\n",
    "and then check if the integer portion is an even number or not\n",
    "Print yes or no\n",
    "\"\"\"\n",
    "\n",
    "number = float(input(\"Enter a real number : \"))\n",
    "rounded_number = round(number)\n",
    "print(\"The rounded number: \",rounded_number)\n",
    "if rounded_number % 2 == 0:\n",
    "    print(\"Even\")\n",
    "else:\n",
    "    print(\"Odd\")"
   ]
  },
  {
   "cell_type": "code",
   "execution_count": null,
   "id": "93552ebd",
   "metadata": {},
   "outputs": [],
   "source": []
  },
  {
   "cell_type": "markdown",
   "id": "d44e0a9f",
   "metadata": {},
   "source": [
    "# WHILE Loops"
   ]
  },
  {
   "cell_type": "code",
   "execution_count": 5,
   "id": "be8fe16f",
   "metadata": {},
   "outputs": [
    {
     "name": "stdout",
     "output_type": "stream",
     "text": [
      "Enter max iterations: 5\n",
      "This is the number eg 5. Then 1**1=1, 2**2=2, 3**3=9...\n",
      "1\n",
      "This is the iteration number 1\n",
      "4\n",
      "This is the iteration number 2\n",
      "9\n",
      "This is the iteration number 3\n",
      "16\n",
      "This is the iteration number 4\n"
     ]
    }
   ],
   "source": [
    "n = int(input(\"Enter max iterations: \"))\n",
    "print(\"This is the number eg 5. Then 1**1=1, 2**2=2, 3**3=9...\")\n",
    "i = 1\n",
    "while i < n:\n",
    "    print(i**2)\n",
    "    print(\"This is the iteration number\", i)\n",
    "    i+=1"
   ]
  },
  {
   "cell_type": "markdown",
   "id": "4402c247",
   "metadata": {},
   "source": [
    "TASK: Take a number and iterate through it. For each iteration, if the number is a square then print it, if it isn't jump"
   ]
  },
  {
   "cell_type": "markdown",
   "id": "a2deb811",
   "metadata": {},
   "source": [
    "## Loops: Pass"
   ]
  },
  {
   "cell_type": "code",
   "execution_count": 6,
   "id": "e090bd2e",
   "metadata": {},
   "outputs": [
    {
     "name": "stdout",
     "output_type": "stream",
     "text": [
      "Please enter a number: 11\n",
      "2\n",
      "4\n",
      "6\n",
      "8\n",
      "10\n"
     ]
    }
   ],
   "source": [
    "number = int(input(\"Please enter a number: \"))\n",
    "i = 1\n",
    "while i < number:\n",
    "    if i % 2 == 0:\n",
    "        print(i)\n",
    "    else:\n",
    "        pass #This pass is just to tell the code to do nothing and move on, it's not neccessarily important\n",
    "    i+=1\n",
    "    #The iteration has to be inside the while loop"
   ]
  },
  {
   "cell_type": "markdown",
   "id": "3abef7c7",
   "metadata": {},
   "source": [
    "## Loops: Break and Continue"
   ]
  },
  {
   "cell_type": "code",
   "execution_count": 8,
   "id": "149d2cba",
   "metadata": {},
   "outputs": [
    {
     "name": "stdout",
     "output_type": "stream",
     "text": [
      "Inside the loop\n",
      "Inside the loop\n",
      "Inside the loop\n",
      "Inside the loop\n",
      "Inside the loop\n",
      "Inside the loop\n",
      "Inside the loop\n",
      "Inside the loop\n",
      "Inside the loop\n",
      "Inside the loop\n",
      "Inside the loop\n",
      "Inside the loop\n",
      "Inside the loop\n",
      "Inside the loop\n",
      "Inside the loop\n",
      "Inside the loop\n",
      "Break!!\n"
     ]
    }
   ],
   "source": [
    "i = 1\n",
    "while True:\n",
    "    if i%17 == 0:\n",
    "        print('Break!!')\n",
    "        break\n",
    "    else:\n",
    "        i +=1\n",
    "    print('Inside the loop')\n",
    "#17%17 = 0 so it will print break"
   ]
  },
  {
   "cell_type": "code",
   "execution_count": 10,
   "id": "a9f3538e",
   "metadata": {},
   "outputs": [
    {
     "name": "stdout",
     "output_type": "stream",
     "text": [
      "inside\n",
      "inside\n",
      "inside\n",
      "inside\n",
      "inside\n",
      "inside\n",
      "inside\n",
      "inside\n",
      "hey\n",
      "there\n"
     ]
    }
   ],
   "source": [
    "i = 1\n",
    "while True:\n",
    "    if i%9 !=0:\n",
    "    #that if the remainder of i/9 is not 0\n",
    "        print(\"inside\")\n",
    "        i+=1\n",
    "        continue\n",
    "    print(\"hey\")\n",
    "    print(\"there\")\n",
    "    break"
   ]
  },
  {
   "cell_type": "markdown",
   "id": "b0777bab",
   "metadata": {},
   "source": []
  },
  {
   "cell_type": "code",
   "execution_count": 2,
   "id": "4a39807e",
   "metadata": {},
   "outputs": [
    {
     "name": "stdout",
     "output_type": "stream",
     "text": [
      "Name please: j\n",
      "Hi j\n",
      "Hey j\n"
     ]
    }
   ],
   "source": [
    "name = input(\"Name please: \")\n",
    "print(\"Hi \" + name)\n",
    "print(\"Hey\", name)"
   ]
  },
  {
   "cell_type": "code",
   "execution_count": 3,
   "id": "a8af75d1",
   "metadata": {},
   "outputs": [
    {
     "name": "stdout",
     "output_type": "stream",
     "text": [
      "j likes k\n",
      "j likes k\n"
     ]
    }
   ],
   "source": [
    "print(name + \" likes k\" )\n",
    "print(name, \"likes k\" )"
   ]
  },
  {
   "cell_type": "code",
   "execution_count": 4,
   "id": "f13e168d",
   "metadata": {},
   "outputs": [
    {
     "name": "stdout",
     "output_type": "stream",
     "text": [
      "Birth year: 2001\n",
      "23\n"
     ]
    }
   ],
   "source": [
    "birthYear = int(input(\"Birth year: \"))\n",
    "age = 2024 - birthYear\n",
    "print(age)\n",
    "#Note the int."
   ]
  },
  {
   "cell_type": "code",
   "execution_count": 9,
   "id": "acd1505f",
   "metadata": {},
   "outputs": [],
   "source": [
    "course= 'Python for beginners'"
   ]
  },
  {
   "cell_type": "code",
   "execution_count": 10,
   "id": "a914c866",
   "metadata": {},
   "outputs": [
    {
     "name": "stdout",
     "output_type": "stream",
     "text": [
      "P\n",
      "s\n"
     ]
    }
   ],
   "source": [
    "print(course[0])\n",
    "print(course[-1])"
   ]
  },
  {
   "cell_type": "code",
   "execution_count": 11,
   "id": "de2b890a",
   "metadata": {},
   "outputs": [
    {
     "name": "stdout",
     "output_type": "stream",
     "text": [
      "Pyt\n"
     ]
    }
   ],
   "source": [
    "print(course[0:3])"
   ]
  },
  {
   "cell_type": "code",
   "execution_count": 12,
   "id": "7fb34a0a",
   "metadata": {},
   "outputs": [
    {
     "name": "stdout",
     "output_type": "stream",
     "text": [
      "thon for beginners\n"
     ]
    }
   ],
   "source": [
    "print(course[2:])"
   ]
  },
  {
   "cell_type": "code",
   "execution_count": 13,
   "id": "cd6b6bce",
   "metadata": {},
   "outputs": [
    {
     "name": "stdout",
     "output_type": "stream",
     "text": [
      "Python for beginners\n"
     ]
    }
   ],
   "source": [
    "print(course[:])"
   ]
  },
  {
   "cell_type": "code",
   "execution_count": 16,
   "id": "8a8a0be3",
   "metadata": {},
   "outputs": [
    {
     "name": "stdout",
     "output_type": "stream",
     "text": [
      "s\n"
     ]
    }
   ],
   "source": [
    "print(course[-1:])"
   ]
  },
  {
   "cell_type": "code",
   "execution_count": 17,
   "id": "0a35c6d3",
   "metadata": {},
   "outputs": [
    {
     "name": "stdout",
     "output_type": "stream",
     "text": [
      "ython for beginner\n"
     ]
    }
   ],
   "source": [
    "print(course[1:-1])"
   ]
  },
  {
   "cell_type": "markdown",
   "id": "b3f762df",
   "metadata": {},
   "source": [
    "# Formatted String"
   ]
  },
  {
   "cell_type": "code",
   "execution_count": 20,
   "id": "1ad1b9f5",
   "metadata": {},
   "outputs": [],
   "source": [
    "a = \"John\"\n",
    "b = \"Smith\""
   ]
  },
  {
   "cell_type": "code",
   "execution_count": 23,
   "id": "464c2b8f",
   "metadata": {},
   "outputs": [
    {
     "name": "stdout",
     "output_type": "stream",
     "text": [
      "John's surname is Smith\n"
     ]
    }
   ],
   "source": [
    "msg = (f\"{a}'s surname is {b}\")\n",
    "print(msg)"
   ]
  },
  {
   "cell_type": "code",
   "execution_count": 24,
   "id": "e9e13025",
   "metadata": {},
   "outputs": [
    {
     "name": "stdout",
     "output_type": "stream",
     "text": [
      "John's surname is Smith\n"
     ]
    }
   ],
   "source": [
    "print (f\"{a}'s surname is {b}\")"
   ]
  },
  {
   "cell_type": "code",
   "execution_count": 25,
   "id": "ae1d3645",
   "metadata": {},
   "outputs": [
    {
     "name": "stdout",
     "output_type": "stream",
     "text": [
      "5\n"
     ]
    }
   ],
   "source": [
    " print(len(b))"
   ]
  },
  {
   "cell_type": "code",
   "execution_count": 26,
   "id": "4207b907",
   "metadata": {},
   "outputs": [
    {
     "name": "stdout",
     "output_type": "stream",
     "text": [
      "SMITH\n"
     ]
    }
   ],
   "source": [
    "print(b.upper())"
   ]
  },
  {
   "cell_type": "code",
   "execution_count": 27,
   "id": "1e35fe84",
   "metadata": {},
   "outputs": [
    {
     "name": "stdout",
     "output_type": "stream",
     "text": [
      "smith\n"
     ]
    }
   ],
   "source": [
    "print(b.lower())"
   ]
  },
  {
   "cell_type": "code",
   "execution_count": 28,
   "id": "595e2fff",
   "metadata": {},
   "outputs": [
    {
     "name": "stdout",
     "output_type": "stream",
     "text": [
      "2\n"
     ]
    }
   ],
   "source": [
    "print(b.find('i'))"
   ]
  },
  {
   "cell_type": "markdown",
   "id": "08d6bafb",
   "metadata": {},
   "source": [
    "Find function is case sensitive. It returns -1 when it odesn't find what your looking for"
   ]
  },
  {
   "cell_type": "code",
   "execution_count": 30,
   "id": "2bf70ea7",
   "metadata": {},
   "outputs": [],
   "source": [
    "fname= 'Ann'"
   ]
  },
  {
   "cell_type": "code",
   "execution_count": 32,
   "id": "f907393f",
   "metadata": {},
   "outputs": [
    {
     "name": "stdout",
     "output_type": "stream",
     "text": [
      "-1\n"
     ]
    }
   ],
   "source": [
    "print(fname.find('S'))"
   ]
  },
  {
   "cell_type": "code",
   "execution_count": 33,
   "id": "1eac8dc0",
   "metadata": {},
   "outputs": [
    {
     "name": "stdout",
     "output_type": "stream",
     "text": [
      "-1\n"
     ]
    }
   ],
   "source": [
    "print(fname.find('a'))"
   ]
  },
  {
   "cell_type": "code",
   "execution_count": 34,
   "id": "c995ad9a",
   "metadata": {},
   "outputs": [
    {
     "name": "stdout",
     "output_type": "stream",
     "text": [
      "0\n"
     ]
    }
   ],
   "source": [
    "print(fname.find('A'))"
   ]
  },
  {
   "cell_type": "code",
   "execution_count": 35,
   "id": "d1915b6b",
   "metadata": {},
   "outputs": [
    {
     "name": "stdout",
     "output_type": "stream",
     "text": [
      "1\n"
     ]
    }
   ],
   "source": [
    "print(fname.find('n'))"
   ]
  },
  {
   "cell_type": "code",
   "execution_count": 2,
   "id": "8b17a50f",
   "metadata": {},
   "outputs": [
    {
     "name": "stdout",
     "output_type": "stream",
     "text": [
      "2\n"
     ]
    }
   ],
   "source": [
    "course = 'R for beginners'\n",
    "print(course.find('for'))\n",
    "#it returns the index for starts with"
   ]
  },
  {
   "cell_type": "code",
   "execution_count": 3,
   "id": "a8a75fc1",
   "metadata": {},
   "outputs": [
    {
     "name": "stdout",
     "output_type": "stream",
     "text": [
      "R for professionals\n"
     ]
    }
   ],
   "source": [
    "print(course.replace('beginners', 'professionals'))"
   ]
  },
  {
   "cell_type": "code",
   "execution_count": 4,
   "id": "265e074b",
   "metadata": {},
   "outputs": [
    {
     "name": "stdout",
     "output_type": "stream",
     "text": [
      "R for beginners\n"
     ]
    }
   ],
   "source": [
    "print(course.replace('Beginners', 'professionals'))\n",
    "# it is cas sensitive so it won't change"
   ]
  },
  {
   "cell_type": "code",
   "execution_count": 6,
   "id": "9a68e3a7",
   "metadata": {},
   "outputs": [
    {
     "name": "stdout",
     "output_type": "stream",
     "text": [
      "True\n"
     ]
    }
   ],
   "source": [
    "print('R' in course)\n",
    "#in returns a bool value whereas find returns the index"
   ]
  },
  {
   "cell_type": "code",
   "execution_count": 7,
   "id": "3d10988d",
   "metadata": {},
   "outputs": [
    {
     "name": "stdout",
     "output_type": "stream",
     "text": [
      "7\n"
     ]
    }
   ],
   "source": [
    "x = 10\n",
    "x-= 3\n",
    "print(x)"
   ]
  },
  {
   "cell_type": "code",
   "execution_count": 10,
   "id": "f571d244",
   "metadata": {},
   "outputs": [
    {
     "name": "stdout",
     "output_type": "stream",
     "text": [
      "16\n"
     ]
    }
   ],
   "source": [
    "x = 10 + 3 * 2\n",
    "print(x)"
   ]
  },
  {
   "cell_type": "markdown",
   "id": "4d9208b5",
   "metadata": {},
   "source": [
    "## Operator precedence\n",
    "bracket,\n",
    "exponentiation (2**3),\n",
    "multiplication or division,\n",
    "addition or subtraction"
   ]
  },
  {
   "cell_type": "code",
   "execution_count": 11,
   "id": "d6a8ca7e",
   "metadata": {},
   "outputs": [
    {
     "name": "stdout",
     "output_type": "stream",
     "text": [
      "22\n"
     ]
    }
   ],
   "source": [
    "x = 10 + 3 * 2 ** 2\n",
    "print(x)"
   ]
  },
  {
   "cell_type": "markdown",
   "id": "e9dc6d22",
   "metadata": {},
   "source": [
    "# Math functions"
   ]
  },
  {
   "cell_type": "code",
   "execution_count": 12,
   "id": "d031c11f",
   "metadata": {},
   "outputs": [
    {
     "name": "stdout",
     "output_type": "stream",
     "text": [
      "2.9\n"
     ]
    }
   ],
   "source": [
    "print(abs(-2.9))"
   ]
  },
  {
   "cell_type": "code",
   "execution_count": 14,
   "id": "aa6222d0",
   "metadata": {},
   "outputs": [],
   "source": [
    "import math"
   ]
  },
  {
   "cell_type": "code",
   "execution_count": 15,
   "id": "f528323c",
   "metadata": {},
   "outputs": [
    {
     "name": "stdout",
     "output_type": "stream",
     "text": [
      "5.0\n"
     ]
    }
   ],
   "source": [
    "# Calculate the square root of 25\n",
    "square_root = math.sqrt(25)\n",
    "print(square_root)"
   ]
  },
  {
   "cell_type": "markdown",
   "id": "d7f2477e",
   "metadata": {},
   "source": [
    "To see other functions type python 3 math module"
   ]
  },
  {
   "cell_type": "markdown",
   "id": "28ded756",
   "metadata": {},
   "source": [
    "# If statements"
   ]
  },
  {
   "cell_type": "code",
   "execution_count": 20,
   "id": "66eb5939",
   "metadata": {},
   "outputs": [
    {
     "name": "stdout",
     "output_type": "stream",
     "text": [
      "It's a cold day. Wear warm clothes\n"
     ]
    }
   ],
   "source": [
    "is_hot = False\n",
    "is_cold = True\n",
    "\n",
    "if is_hot:\n",
    "    print(\"It's a hot day. Drink lots of water\")\n",
    "elif is_cold:\n",
    "    print(\"It's a cold day. Wear warm clothes\")\n",
    "else:\n",
    "    print(\"It's a lovely day\")"
   ]
  },
  {
   "cell_type": "code",
   "execution_count": 39,
   "id": "06bb99ff",
   "metadata": {},
   "outputs": [
    {
     "name": "stdout",
     "output_type": "stream",
     "text": [
      "What's your credit status. Good or Bad. Please type Good for Good and Bad for BadGood\n",
      "You need to put $100000.0 as your down payment\n"
     ]
    }
   ],
   "source": [
    "credit_status = input(\"What's your credit status. Good or Bad. Please type Good for Good and Bad for Bad\")\n",
    "\n",
    "House_Price = 1000000\n",
    "good_credit = 0.1 * 1000000\n",
    "bad_credit = 0.2 * 1000000\n",
    "\n",
    "if credit_status == \"Good\":\n",
    "    print(f\"You need to put ${good_credit} as your down payment\")\n",
    "elif credit_status == \"Bad\":\n",
    "    print(f\"You need to put ${bad_credit} as your down payment\")\n",
    "else:\n",
    "    print(\"nice\")"
   ]
  },
  {
   "cell_type": "markdown",
   "id": "1a999862",
   "metadata": {},
   "source": [
    "# While Loop"
   ]
  },
  {
   "cell_type": "code",
   "execution_count": 40,
   "id": "ffcacf25",
   "metadata": {},
   "outputs": [
    {
     "name": "stdout",
     "output_type": "stream",
     "text": [
      "1\n",
      "2\n",
      "3\n",
      "4\n",
      "5\n",
      "Done boo boo\n"
     ]
    }
   ],
   "source": [
    "i = 1\n",
    "while i <= 5:\n",
    "    print(i)\n",
    "    i = i +1\n",
    "print(\"Done boo boo\")"
   ]
  },
  {
   "cell_type": "code",
   "execution_count": 42,
   "id": "e2c8dc99",
   "metadata": {},
   "outputs": [
    {
     "name": "stdout",
     "output_type": "stream",
     "text": [
      "*\n",
      "**\n",
      "***\n",
      "****\n",
      "*****\n",
      "Triangle\n"
     ]
    }
   ],
   "source": [
    "i = 1\n",
    "while i <= 5:\n",
    "    print('*' * i)\n",
    "    i = i +1\n",
    "print(\"Triangle\")"
   ]
  },
  {
   "cell_type": "code",
   "execution_count": null,
   "id": "61b9240d",
   "metadata": {},
   "outputs": [],
   "source": []
  },
  {
   "cell_type": "code",
   "execution_count": 44,
   "id": "da7dfcb0",
   "metadata": {},
   "outputs": [
    {
     "name": "stdout",
     "output_type": "stream",
     "text": [
      "G\n",
      "a\n",
      "m\n",
      "e\n",
      "s\n"
     ]
    }
   ],
   "source": [
    "for item in 'Games':\n",
    "    print(item)"
   ]
  },
  {
   "cell_type": "code",
   "execution_count": 45,
   "id": "e11cb3aa",
   "metadata": {},
   "outputs": [
    {
     "name": "stdout",
     "output_type": "stream",
     "text": [
      "Jay\n",
      "Kay\n",
      "May\n"
     ]
    }
   ],
   "source": [
    "for item in ['Jay', 'Kay', 'May']:\n",
    "    print(item)"
   ]
  },
  {
   "cell_type": "code",
   "execution_count": 46,
   "id": "5ff8faaf",
   "metadata": {},
   "outputs": [
    {
     "name": "stdout",
     "output_type": "stream",
     "text": [
      "0\n",
      "1\n",
      "2\n",
      "3\n",
      "4\n",
      "5\n",
      "6\n",
      "7\n",
      "8\n",
      "9\n"
     ]
    }
   ],
   "source": [
    "for item in range(10):\n",
    "    print(item)"
   ]
  },
  {
   "cell_type": "code",
   "execution_count": 48,
   "id": "f9054cf6",
   "metadata": {},
   "outputs": [
    {
     "name": "stdout",
     "output_type": "stream",
     "text": [
      "5\n",
      "6\n",
      "7\n",
      "8\n",
      "9\n",
      "10\n"
     ]
    }
   ],
   "source": [
    "for item in range(5,11):\n",
    "    print(item)"
   ]
  },
  {
   "cell_type": "code",
   "execution_count": 49,
   "id": "e79e83d0",
   "metadata": {},
   "outputs": [
    {
     "name": "stdout",
     "output_type": "stream",
     "text": [
      "0\n",
      "2\n",
      "4\n",
      "6\n",
      "8\n"
     ]
    }
   ],
   "source": [
    "for item in range(0,10, 2):\n",
    "    print(item)"
   ]
  },
  {
   "cell_type": "code",
   "execution_count": 57,
   "id": "5d2a310e",
   "metadata": {},
   "outputs": [
    {
     "name": "stdout",
     "output_type": "stream",
     "text": [
      "The total is 60\n"
     ]
    }
   ],
   "source": [
    "prices = [10, 20, 30]\n",
    "\n",
    "total = 0\n",
    "for price in prices:\n",
    "    total += price\n",
    "    \n",
    "print(f\"The total is {total}\")"
   ]
  },
  {
   "cell_type": "markdown",
   "id": "f80e29c4",
   "metadata": {},
   "source": [
    "# Nested loop"
   ]
  },
  {
   "cell_type": "code",
   "execution_count": 58,
   "id": "ca11b724",
   "metadata": {},
   "outputs": [
    {
     "name": "stdout",
     "output_type": "stream",
     "text": [
      "0, 0\n",
      "0, 1\n",
      "0, 2\n",
      "1, 0\n",
      "1, 1\n",
      "1, 2\n",
      "2, 0\n",
      "2, 1\n",
      "2, 2\n",
      "3, 0\n",
      "3, 1\n",
      "3, 2\n"
     ]
    }
   ],
   "source": [
    "for x in range(4):\n",
    "    for y in range(3):\n",
    "        print(f\"{x}, {y}\")"
   ]
  },
  {
   "cell_type": "code",
   "execution_count": 60,
   "id": "cef39042",
   "metadata": {},
   "outputs": [
    {
     "name": "stdout",
     "output_type": "stream",
     "text": [
      "*****\n",
      "**\n",
      "*****\n",
      "**\n",
      "**\n"
     ]
    }
   ],
   "source": [
    "numbers = [5, 2, 5, 2, 2]\n",
    "for number in numbers:\n",
    "    print('*' * number)"
   ]
  },
  {
   "cell_type": "code",
   "execution_count": 61,
   "id": "1cd7a5bf",
   "metadata": {},
   "outputs": [
    {
     "name": "stdout",
     "output_type": "stream",
     "text": [
      "xxxxx\n",
      "xx\n",
      "xxxxx\n",
      "xx\n",
      "xx\n"
     ]
    }
   ],
   "source": [
    "numbers = [5, 2, 5, 2, 2]\n",
    "for number in numbers:\n",
    "    output = ''\n",
    "    for count in range(number):\n",
    "        output += 'x'\n",
    "    print(output)"
   ]
  },
  {
   "cell_type": "markdown",
   "id": "6f983d93",
   "metadata": {},
   "source": [
    "# List"
   ]
  },
  {
   "cell_type": "code",
   "execution_count": 62,
   "id": "26b16a4b",
   "metadata": {},
   "outputs": [
    {
     "name": "stdout",
     "output_type": "stream",
     "text": [
      "Kay\n"
     ]
    }
   ],
   "source": [
    "names = ['Jay', 'Kay', 'May']\n",
    "print(names[1])"
   ]
  },
  {
   "cell_type": "code",
   "execution_count": 63,
   "id": "61b9d327",
   "metadata": {},
   "outputs": [
    {
     "name": "stdout",
     "output_type": "stream",
     "text": [
      "May\n"
     ]
    }
   ],
   "source": [
    "names = ['Jay', 'Kay', 'May']\n",
    "print(names[-1])"
   ]
  },
  {
   "cell_type": "code",
   "execution_count": 64,
   "id": "c7d040c0",
   "metadata": {},
   "outputs": [
    {
     "name": "stdout",
     "output_type": "stream",
     "text": [
      "['Kay', 'May']\n"
     ]
    }
   ],
   "source": [
    "names = ['Jay', 'Kay', 'May']\n",
    "print(names[1:])"
   ]
  },
  {
   "cell_type": "code",
   "execution_count": 65,
   "id": "8d0071fb",
   "metadata": {},
   "outputs": [
    {
     "name": "stdout",
     "output_type": "stream",
     "text": [
      "['Jay', 'Kay', 'May']\n"
     ]
    }
   ],
   "source": [
    "names = ['Jay', 'Kay', 'May']\n",
    "print(names[:])"
   ]
  },
  {
   "cell_type": "code",
   "execution_count": 66,
   "id": "324956cf",
   "metadata": {},
   "outputs": [
    {
     "name": "stdout",
     "output_type": "stream",
     "text": [
      "['Jayy', 'Kay', 'May']\n"
     ]
    }
   ],
   "source": [
    "names = ['Jay', 'Kay', 'May']\n",
    "names[0] = 'Jayy'\n",
    "print(names)"
   ]
  },
  {
   "cell_type": "code",
   "execution_count": 68,
   "id": "0fb7d441",
   "metadata": {},
   "outputs": [
    {
     "name": "stdout",
     "output_type": "stream",
     "text": [
      "10\n"
     ]
    }
   ],
   "source": [
    "numbers =[1, 2, 3,8,5,10,2]\n",
    "max = numbers[0]\n",
    "for number in numbers:\n",
    "    if number > max:\n",
    "        max = number\n",
    "print(max)"
   ]
  },
  {
   "cell_type": "markdown",
   "id": "a9e4d4ff",
   "metadata": {},
   "source": [
    "# 2 DIMENSIONAL LIST"
   ]
  },
  {
   "cell_type": "code",
   "execution_count": 69,
   "id": "adb4fcc1",
   "metadata": {},
   "outputs": [
    {
     "name": "stdout",
     "output_type": "stream",
     "text": [
      "3\n",
      "5\n",
      "7\n"
     ]
    }
   ],
   "source": [
    "matrix = [\n",
    "    [1, 2, 3],\n",
    "    [4, 5, 6],\n",
    "    [7, 8, 9]\n",
    "]\n",
    "\n",
    "print(matrix[0] [2])\n",
    "print(matrix[1] [1])\n",
    "print(matrix[2] [0])"
   ]
  },
  {
   "cell_type": "code",
   "execution_count": 71,
   "id": "ce70749e",
   "metadata": {},
   "outputs": [
    {
     "name": "stdout",
     "output_type": "stream",
     "text": [
      "[[11, 2, 3], [4, 5, 6], [7, 8, 9]]\n"
     ]
    }
   ],
   "source": [
    "matrix[0][0] = 11\n",
    "print (matrix)"
   ]
  },
  {
   "cell_type": "code",
   "execution_count": 72,
   "id": "89447c3c",
   "metadata": {},
   "outputs": [
    {
     "name": "stdout",
     "output_type": "stream",
     "text": [
      "11\n",
      "2\n",
      "3\n",
      "4\n",
      "5\n",
      "6\n",
      "7\n",
      "8\n",
      "9\n"
     ]
    }
   ],
   "source": [
    "for row in matrix:\n",
    "    for item in row:\n",
    "        print(item)"
   ]
  },
  {
   "cell_type": "code",
   "execution_count": 73,
   "id": "8711db8c",
   "metadata": {},
   "outputs": [
    {
     "name": "stdout",
     "output_type": "stream",
     "text": [
      "[5, 2, 1, 7, 4, 10]\n"
     ]
    }
   ],
   "source": [
    "numbers = [5, 2, 1, 7, 4]\n",
    "numbers.append(10)\n",
    "print(numbers)"
   ]
  },
  {
   "cell_type": "code",
   "execution_count": 74,
   "id": "9cff2bf4",
   "metadata": {},
   "outputs": [
    {
     "name": "stdout",
     "output_type": "stream",
     "text": [
      "[9, 5, 2, 1, 7, 4, 10]\n"
     ]
    }
   ],
   "source": [
    "numbers.insert(0, 9)\n",
    "print(numbers)\n",
    "# 0 is the index you want it at"
   ]
  },
  {
   "cell_type": "code",
   "execution_count": 75,
   "id": "8cff6ed2",
   "metadata": {},
   "outputs": [
    {
     "name": "stdout",
     "output_type": "stream",
     "text": [
      "[9, 5, 2, 7, 4, 10]\n"
     ]
    }
   ],
   "source": [
    "numbers.remove(1)\n",
    "print(numbers)"
   ]
  },
  {
   "cell_type": "code",
   "execution_count": 76,
   "id": "9bd70af8",
   "metadata": {},
   "outputs": [
    {
     "data": {
      "text/plain": [
       "'\\nnumbers.index will return the first occurence of 5\\n\\n.pop will remove the last\\n\\nprint(50 in numbers) will be a boolean value\\n\\nprint(numbers.count(3))\\nto count how many times 3 appears\\n\\nnumbers.sort\\nprint(numbers)\\n'"
      ]
     },
     "execution_count": 76,
     "metadata": {},
     "output_type": "execute_result"
    }
   ],
   "source": [
    "#numbers.clear\n",
    "\"\"\"\n",
    "numbers.index will return the first occurence of 5\n",
    "\n",
    ".pop will remove the last\n",
    "\n",
    "print(50 in numbers) will be a boolean value\n",
    "\n",
    "print(numbers.count(3))\n",
    "to count how many times 3 appears\n",
    "\n",
    "numbers.sort()\n",
    "print(numbers)\n",
    "\n",
    "numbers.reverse()\n",
    "print(numbers)\n",
    "\n",
    "\n",
    "numbers2 = numbers.copy\n",
    "\n",
    ".append\n",
    "to add an item\n",
    "\n",
    "\n",
    "\n",
    "TO REMOVE DUPLICATES\n",
    "nums = [2,3,4,5,5,2,4,7]\n",
    "unique = []\n",
    "for num in nums:\n",
    "if num not in uniques:\n",
    "unique.append(num)\n",
    "print(unique)\n",
    "\"\"\""
   ]
  },
  {
   "cell_type": "markdown",
   "id": "f4c5e75c",
   "metadata": {},
   "source": [
    "# DICTIONARY"
   ]
  },
  {
   "cell_type": "code",
   "execution_count": 78,
   "id": "8c2a564c",
   "metadata": {},
   "outputs": [
    {
     "name": "stdout",
     "output_type": "stream",
     "text": [
      "Phone: 1234\n",
      "xx! ! ! ! One Two Three ! \n"
     ]
    }
   ],
   "source": [
    "phone = input(\"Phone: \")\n",
    "digits_mapping = {\n",
    "    \"1\" : \"One\",\n",
    "    \"2\" : \"Two\",\n",
    "    \"3\" : \"Three\"\n",
    "}\n",
    "for item in phone:\n",
    "    output += digits_mapping.get(item, \"!\") + \" \"\n",
    "print(output)"
   ]
  },
  {
   "cell_type": "markdown",
   "id": "a38153ac",
   "metadata": {},
   "source": [
    "The above.. i dont know\n"
   ]
  },
  {
   "cell_type": "markdown",
   "id": "ecf657cf",
   "metadata": {},
   "source": [
    "# Functions"
   ]
  },
  {
   "cell_type": "code",
   "execution_count": 80,
   "id": "8d710ee1",
   "metadata": {},
   "outputs": [
    {
     "name": "stdout",
     "output_type": "stream",
     "text": [
      "start\n",
      "Hi hi\n",
      "Wie gehts?\n",
      "finish\n"
     ]
    }
   ],
   "source": [
    "def greetings(): \n",
    "    print(\"Hi hi\")\n",
    "    print(\"Wie gehts?\")\n",
    "\n",
    "    \n",
    "print(\"start\")\n",
    "greetings()\n",
    "#The execution of the code in the function, only works when you call it\n",
    "print(\"finish\")"
   ]
  },
  {
   "cell_type": "code",
   "execution_count": 82,
   "id": "b77f0e3f",
   "metadata": {},
   "outputs": [
    {
     "name": "stdout",
     "output_type": "stream",
     "text": [
      "start\n",
      "Hi hi Anna\n",
      "Wie gehts?\n",
      "finish\n"
     ]
    }
   ],
   "source": [
    "def greeting(name): \n",
    "    print(f\"Hi hi {name}\")\n",
    "    print(\"Wie gehts?\")\n",
    "\n",
    "    \n",
    "print(\"start\")\n",
    "greeting(\"Anna\")\n",
    "#The execution of the code in the function, only works when you call it\n",
    "print(\"finish\")"
   ]
  },
  {
   "cell_type": "code",
   "execution_count": 85,
   "id": "df5ea546",
   "metadata": {},
   "outputs": [
    {
     "name": "stdout",
     "output_type": "stream",
     "text": [
      "start\n",
      "Hi hi Anna Jay\n",
      "Wie gehts?\n",
      "finish\n"
     ]
    }
   ],
   "source": [
    "def greetings(fname, lname): \n",
    "    print(f\"Hi hi {fname} {lname}\")\n",
    "    print(\"Wie gehts?\")\n",
    "\n",
    "    \n",
    "print(\"start\")\n",
    "greetings(\"Anna\", \"Jay\")\n",
    "#The execution of the code in the function, only works when you call it\n",
    "print(\"finish\")"
   ]
  },
  {
   "cell_type": "code",
   "execution_count": 88,
   "id": "da417459",
   "metadata": {},
   "outputs": [
    {
     "name": "stdout",
     "output_type": "stream",
     "text": [
      "The square of 3 is:  9\n"
     ]
    }
   ],
   "source": [
    "def square(number):\n",
    "    return number * number\n",
    "\n",
    "\n",
    "square(3)\n",
    "print(\"The square of 3 is: \", square(3))\n",
    "#square function"
   ]
  },
  {
   "cell_type": "code",
   "execution_count": 1,
   "id": "359be553",
   "metadata": {},
   "outputs": [
    {
     "name": "stdout",
     "output_type": "stream",
     "text": [
      "Enter a number3\n",
      "9\n"
     ]
    }
   ],
   "source": [
    "def square(number):\n",
    "    return number * number\n",
    "number = int(input(\"Enter a number\"))\n",
    "result = square(number)\n",
    "print(result)"
   ]
  },
  {
   "cell_type": "markdown",
   "id": "df213fdb",
   "metadata": {},
   "source": [
    "# Try and Catch"
   ]
  },
  {
   "cell_type": "code",
   "execution_count": 90,
   "id": "4c56532f",
   "metadata": {},
   "outputs": [
    {
     "name": "stdout",
     "output_type": "stream",
     "text": [
      "Age: 22\n",
      "22\n"
     ]
    }
   ],
   "source": [
    "age = int(input('Age: '))\n",
    "print (age)"
   ]
  },
  {
   "cell_type": "code",
   "execution_count": 91,
   "id": "cbed3b95",
   "metadata": {},
   "outputs": [
    {
     "name": "stdout",
     "output_type": "stream",
     "text": [
      "Age: twenty two\n"
     ]
    },
    {
     "ename": "ValueError",
     "evalue": "invalid literal for int() with base 10: 'twenty two'",
     "output_type": "error",
     "traceback": [
      "\u001b[0;31m---------------------------------------------------------------------------\u001b[0m",
      "\u001b[0;31mValueError\u001b[0m                                Traceback (most recent call last)",
      "Cell \u001b[0;32mIn[91], line 1\u001b[0m\n\u001b[0;32m----> 1\u001b[0m age \u001b[38;5;241m=\u001b[39m \u001b[38;5;28mint\u001b[39m(\u001b[38;5;28minput\u001b[39m(\u001b[38;5;124m'\u001b[39m\u001b[38;5;124mAge: \u001b[39m\u001b[38;5;124m'\u001b[39m))\n\u001b[1;32m      2\u001b[0m \u001b[38;5;28mprint\u001b[39m (age)\n",
      "\u001b[0;31mValueError\u001b[0m: invalid literal for int() with base 10: 'twenty two'"
     ]
    }
   ],
   "source": [
    "age = int(input('Age: '))\n",
    "print (age)"
   ]
  },
  {
   "cell_type": "markdown",
   "id": "4c2e3d22",
   "metadata": {},
   "source": [
    "Value error above"
   ]
  },
  {
   "cell_type": "code",
   "execution_count": 92,
   "id": "80c23e23",
   "metadata": {},
   "outputs": [
    {
     "name": "stdout",
     "output_type": "stream",
     "text": [
      "Age: hi\n",
      "Invalid value\n"
     ]
    }
   ],
   "source": [
    "try:\n",
    "    age = int(input('Age: '))\n",
    "    print (age)\n",
    "except ValueError:\n",
    "    print('Invalid value')"
   ]
  },
  {
   "cell_type": "code",
   "execution_count": 93,
   "id": "7f8e2557",
   "metadata": {},
   "outputs": [
    {
     "name": "stdout",
     "output_type": "stream",
     "text": [
      "Number: 0\n",
      "You can't divide by 0\n"
     ]
    }
   ],
   "source": [
    "try:\n",
    "    num = int(input(\"Number: \"))\n",
    "    ans = 10/num\n",
    "    print(ans)\n",
    "except ZeroDivisionError:\n",
    "    print(\"You can't divide by 0\")"
   ]
  },
  {
   "cell_type": "code",
   "execution_count": 94,
   "id": "31caa073",
   "metadata": {},
   "outputs": [
    {
     "name": "stdout",
     "output_type": "stream",
     "text": [
      "Number: 2\n",
      "5.0\n"
     ]
    }
   ],
   "source": [
    "try:\n",
    "    num = int(input(\"Number: \"))\n",
    "    ans = 10/num\n",
    "    print(ans)\n",
    "except ZeroDivisionError:\n",
    "    print(\"You can't divide by 0\")"
   ]
  },
  {
   "cell_type": "markdown",
   "id": "37fcc5a9",
   "metadata": {},
   "source": [
    "# Comments"
   ]
  },
  {
   "cell_type": "code",
   "execution_count": 2,
   "id": "199bff7e",
   "metadata": {},
   "outputs": [
    {
     "name": "stdout",
     "output_type": "stream",
     "text": [
      "Hey you, this is not a comment\n"
     ]
    }
   ],
   "source": [
    "# This is a single line comment\n",
    "\"\"\"\n",
    "This is a multiline comment\n",
    "\"\"\"\n",
    "print (\"Hey you, this is not a comment\")"
   ]
  },
  {
   "cell_type": "markdown",
   "id": "dcfb827f",
   "metadata": {},
   "source": [
    "# Classes"
   ]
  },
  {
   "cell_type": "markdown",
   "id": "6d2c8c61",
   "metadata": {},
   "source": [
    "We uses classes to define data types (numbers, strings, booleans). Complex types(List and Dictionaries)"
   ]
  },
  {
   "cell_type": "markdown",
   "id": "6175ef9f",
   "metadata": {},
   "source": [
    "A new data type Point"
   ]
  },
  {
   "cell_type": "code",
   "execution_count": 4,
   "id": "67867075",
   "metadata": {},
   "outputs": [
    {
     "name": "stdout",
     "output_type": "stream",
     "text": [
      "draw\n"
     ]
    }
   ],
   "source": [
    "#Note when naming classes we dont do class_name but ClassName (pascal naming)\n",
    "class Point:\n",
    "    #function move for moving a point\n",
    "    def move(self):\n",
    "        print(\"move\")\n",
    "    \n",
    "    def draw(self):\n",
    "        print(\"draw\")\n",
    "\n",
    "#an object is the instance of the class. the class is just like a blueprint for the object to follow\n",
    "#To create an obeject just call the name of the class with(). You can store it in a variable (name of choice, in this case point1)\n",
    "point1 = Point()\n",
    "point1.draw()"
   ]
  },
  {
   "cell_type": "code",
   "execution_count": 5,
   "id": "2a322a01",
   "metadata": {},
   "outputs": [
    {
     "name": "stdout",
     "output_type": "stream",
     "text": [
      "10\n",
      "draw\n"
     ]
    }
   ],
   "source": [
    "class Point:\n",
    "    def move(self):\n",
    "        print(\"move\")\n",
    "    \n",
    "    def draw(self):\n",
    "        print(\"draw\")\n",
    "\n",
    "point1 = Point()\n",
    "point1.x = 10\n",
    "point1.y = 20\n",
    "print(point1.x)\n",
    "point1.draw()"
   ]
  },
  {
   "cell_type": "code",
   "execution_count": 6,
   "id": "4f0abd68",
   "metadata": {},
   "outputs": [
    {
     "name": "stdout",
     "output_type": "stream",
     "text": [
      "2\n",
      "draw\n"
     ]
    }
   ],
   "source": [
    "class Point:\n",
    "    #move method and draw method\n",
    "    def move(self):\n",
    "        print(\"move\")\n",
    "    \n",
    "    def draw(self):\n",
    "        print(\"draw\")\n",
    "\n",
    "point1 = Point()\n",
    "point1.x = 10\n",
    "point1.y = 20\n",
    "#print(point1.x)\n",
    "\n",
    "point2 = Point()\n",
    "point2.x = 2\n",
    "print(point2.x)\n",
    "point1.draw()"
   ]
  },
  {
   "cell_type": "markdown",
   "id": "5215301a",
   "metadata": {},
   "source": [
    "A cinstructor is a function that gets called at the time of creating an object"
   ]
  },
  {
   "cell_type": "code",
   "execution_count": 8,
   "id": "17dade74",
   "metadata": {},
   "outputs": [
    {
     "name": "stdout",
     "output_type": "stream",
     "text": [
      "10\n",
      "30\n"
     ]
    }
   ],
   "source": [
    "class Point:\n",
    "    \"\"\"\"this is the constructor. init is shot for initialise. Instead of\n",
    "    x and y that we mention like the above, we'd do ot here\"\"\"\n",
    "    def __init__(self, x, y):\n",
    "        #to initialise our object\n",
    "        self.x = x\n",
    "        self.y = y\n",
    "        #the self is to reserence the current object (Point)\n",
    "        \n",
    "    def move(self):\n",
    "        print(\"move\")\n",
    "    \n",
    "    def draw(self):\n",
    "        print(\"draw\")\n",
    "\n",
    "point = Point(10, 20)\n",
    "#you can update x or y\n",
    "point.y = 30\n",
    "print(point.x)\n",
    "print(point.y)"
   ]
  },
  {
   "cell_type": "code",
   "execution_count": 10,
   "id": "b013ba1e",
   "metadata": {},
   "outputs": [
    {
     "name": "stdout",
     "output_type": "stream",
     "text": [
      "Jamie jones\n",
      "talk\n"
     ]
    }
   ],
   "source": [
    "class Person:\n",
    "    def __init__(self, name): #name attribute\n",
    "        self.name = name\n",
    "    #talk method\n",
    "    def talk(self):\n",
    "        print(\"talk\")\n",
    "        \n",
    "#passing the name\n",
    "jamie = Person(\"Jamie jones\")\n",
    "print(jamie.name)\n",
    "jamie.talk()"
   ]
  },
  {
   "cell_type": "code",
   "execution_count": 13,
   "id": "6efcc598",
   "metadata": {},
   "outputs": [
    {
     "name": "stdout",
     "output_type": "stream",
     "text": [
      "Hi I am Jamie Jones\n"
     ]
    }
   ],
   "source": [
    "class Person:\n",
    "    def __init__(self, name): #name attribute\n",
    "        self.name = name\n",
    "    #talk method\n",
    "    def talk(self):\n",
    "        print(f\"Hi I am {self.name}\")\n",
    "        \n",
    "#passing the name\n",
    "jamie = Person(\"Jamie Jones\")\n",
    "jamie.talk()"
   ]
  },
  {
   "cell_type": "code",
   "execution_count": 14,
   "id": "a34617db",
   "metadata": {},
   "outputs": [
    {
     "name": "stdout",
     "output_type": "stream",
     "text": [
      "Hi I am Bob Liam\n"
     ]
    }
   ],
   "source": [
    "bob = Person(\"Bob Liam\")\n",
    "bob.talk()"
   ]
  },
  {
   "cell_type": "markdown",
   "id": "3a19e2ed",
   "metadata": {},
   "source": [
    "# Inheritance"
   ]
  },
  {
   "cell_type": "markdown",
   "id": "19469d7e",
   "metadata": {},
   "source": [
    "Inheritance is a mechanism for reusing code "
   ]
  },
  {
   "cell_type": "code",
   "execution_count": 18,
   "id": "a9cf5554",
   "metadata": {},
   "outputs": [
    {
     "name": "stdout",
     "output_type": "stream",
     "text": [
      "bark\n",
      "walk\n",
      "walk\n"
     ]
    },
    {
     "data": {
      "text/plain": [
       "'class Cat:\\n    def walk(self):\\n        print(\"walk\")'"
      ]
     },
     "execution_count": 18,
     "metadata": {},
     "output_type": "execute_result"
    }
   ],
   "source": [
    "class Mammal:\n",
    "    def walk(self):\n",
    "        print(\"walk\")\n",
    "        \n",
    "class Dog(Mammal):\n",
    "    print(\"bark\")\n",
    "\n",
    "\n",
    "class Class(Mammal):\n",
    "    pass\n",
    "#python doesn't like an empty class so you can add something or just pass\n",
    "\n",
    " \n",
    "\n",
    "dog1 = Dog()\n",
    "dog1.walk()\n",
    "\n",
    "\n",
    "cat1 = Cat()\n",
    "cat1.walk()\n",
    "\n",
    "\n",
    "\"\"\"class Dog:\n",
    "    def walk(self):\n",
    "        print(\"walk\")\"\"\"\n",
    "        \n",
    "#say we want to do the same for Cat\n",
    "\"\"\"class Cat:\n",
    "    def walk(self):\n",
    "        print(\"walk\")\"\"\"\n",
    "#Instead of reapeting yourself, just do a general class that they can inherit from\n"
   ]
  },
  {
   "cell_type": "markdown",
   "id": "4b41310e",
   "metadata": {},
   "source": [
    " # Modules"
   ]
  },
  {
   "cell_type": "markdown",
   "id": "8853d502",
   "metadata": {},
   "source": [
    "I don't think it's neccessary per se for data.\n",
    "It might sha"
   ]
  },
  {
   "cell_type": "markdown",
   "id": "e681913a",
   "metadata": {},
   "source": [
    "Say we have a new file converters.py\n",
    "\n",
    "def lbs_to_kg(weight):\n",
    "    return weight * 0.45\n",
    "    \n",
    "def kg_to_lbs(weight):\n",
    "    return weight / 0.45\n",
    "\n",
    "\n",
    "Then we have below in app.py\n",
    "\n",
    "import converters #the name of the file\n",
    "\n",
    "print(converters.kg_to_lbs(70))\n",
    "#calling the function kg_to_lbs and printing it out\n",
    "\n",
    "\n",
    "\n",
    "If you want to just import sepcific functions from the module\n",
    "\n",
    "import converters\n",
    "from converters import kg_to_lbs\n",
    "\n",
    "\n",
    "kg_to_lbs(100)\n"
   ]
  },
  {
   "cell_type": "markdown",
   "id": "6f55e21a",
   "metadata": {},
   "source": [
    "Say we have a file utils\n",
    "\n",
    "def find_max(numbers):\n",
    "    maximum = numbers[0]\n",
    "    for number in numbers:\n",
    "        if number > maximum:\n",
    "            maximum = number\n",
    "    return maximum \n",
    "    \n",
    "    \n",
    "    \n",
    " \n",
    "And in our app.py\n",
    "\n",
    "from utils import find_max\n",
    "\n",
    "\n",
    "numbers = [10, 3, 6, 2]\n",
    "maximum = find_max(numbers)\n",
    "print(maximum(numbers)  )\n",
    "\n",
    "\n"
   ]
  },
  {
   "cell_type": "markdown",
   "id": "cf99089b",
   "metadata": {},
   "source": [
    "# Packages"
   ]
  },
  {
   "cell_type": "markdown",
   "id": "d7578cf4",
   "metadata": {},
   "source": [
    "A container for multiple modules"
   ]
  },
  {
   "cell_type": "markdown",
   "id": "cde09790",
   "metadata": {},
   "source": [
    "In a mall\n",
    "Men's, women's and Kids} Packages\n",
    "Under men you have d/f sections; shoes, shirts} Modules"
   ]
  },
  {
   "cell_type": "markdown",
   "id": "868d4f04",
   "metadata": {},
   "source": [
    "Add new directory. Say the name is ecommerce. To convert it to a package, add a special file to that directory and call it __init__\n",
    "This is a specil convention in python. If you go through the process of adding a new package directly onstead of directory, pycharm in particular will create the init file.\n",
    "\n",
    "\n",
    "\n",
    "\n",
    "No we want to create modules\n",
    "In the package ecommerce add a new file say shipping\n"
   ]
  },
  {
   "cell_type": "markdown",
   "id": "bffbbf36",
   "metadata": {},
   "source": [
    "In shipping under ecommerce\n",
    "\n",
    "def calc_shipping():\n",
    "    print(\"cal_shipping\")\n",
    "    \n",
    "#let's say you want to add this shipping module into app.py\n",
    "\n",
    "\n",
    "In app.py\n",
    "\n",
    "import ecommerce.shipping\n",
    "ecommerce.shipping.calc_shipping()\n",
    "\n",
    "\n",
    "#OR\n",
    "\n",
    "from ecommerce.shipping import calc_shipping\n",
    "calc_shipping()\n",
    "#This is importing a particular function\n",
    "\n",
    "\n",
    "#OR\n",
    "\n",
    "from ecommerce import shipping\n",
    "\n",
    "shipping.calc_shipping()\n",
    "\n",
    "#This is importing all the modules"
   ]
  },
  {
   "cell_type": "markdown",
   "id": "08bb580c",
   "metadata": {},
   "source": [
    "# Getting Random Values"
   ]
  },
  {
   "cell_type": "markdown",
   "id": "a758c369",
   "metadata": {},
   "source": [
    "search on google: python 3 module index"
   ]
  },
  {
   "cell_type": "code",
   "execution_count": null,
   "id": "757766ee",
   "metadata": {},
   "outputs": [],
   "source": []
  },
  {
   "cell_type": "code",
   "execution_count": null,
   "id": "a4fd35b9",
   "metadata": {},
   "outputs": [],
   "source": []
  },
  {
   "cell_type": "code",
   "execution_count": null,
   "id": "13fc3ec5",
   "metadata": {},
   "outputs": [],
   "source": []
  },
  {
   "cell_type": "code",
   "execution_count": null,
   "id": "016aa8cd",
   "metadata": {},
   "outputs": [],
   "source": []
  },
  {
   "cell_type": "code",
   "execution_count": null,
   "id": "516187f9",
   "metadata": {},
   "outputs": [],
   "source": []
  },
  {
   "cell_type": "code",
   "execution_count": null,
   "id": "96b06b9e",
   "metadata": {},
   "outputs": [],
   "source": []
  },
  {
   "cell_type": "code",
   "execution_count": null,
   "id": "254e47f7",
   "metadata": {},
   "outputs": [],
   "source": []
  },
  {
   "cell_type": "code",
   "execution_count": null,
   "id": "8636d8c2",
   "metadata": {},
   "outputs": [],
   "source": []
  },
  {
   "cell_type": "code",
   "execution_count": null,
   "id": "24c39597",
   "metadata": {},
   "outputs": [],
   "source": []
  },
  {
   "cell_type": "code",
   "execution_count": null,
   "id": "0b1bfec0",
   "metadata": {},
   "outputs": [],
   "source": []
  },
  {
   "cell_type": "code",
   "execution_count": null,
   "id": "a06f5061",
   "metadata": {},
   "outputs": [],
   "source": []
  },
  {
   "cell_type": "code",
   "execution_count": null,
   "id": "4452b096",
   "metadata": {},
   "outputs": [],
   "source": []
  },
  {
   "cell_type": "code",
   "execution_count": null,
   "id": "235e4031",
   "metadata": {},
   "outputs": [],
   "source": []
  },
  {
   "cell_type": "code",
   "execution_count": null,
   "id": "91c43fa7",
   "metadata": {},
   "outputs": [],
   "source": []
  },
  {
   "cell_type": "code",
   "execution_count": null,
   "id": "baa6b76c",
   "metadata": {},
   "outputs": [],
   "source": []
  }
 ],
 "metadata": {
  "kernelspec": {
   "display_name": "Python 3 (ipykernel)",
   "language": "python",
   "name": "python3"
  },
  "language_info": {
   "codemirror_mode": {
    "name": "ipython",
    "version": 3
   },
   "file_extension": ".py",
   "mimetype": "text/x-python",
   "name": "python",
   "nbconvert_exporter": "python",
   "pygments_lexer": "ipython3",
   "version": "3.11.5"
  }
 },
 "nbformat": 4,
 "nbformat_minor": 5
}
