{
 "cells": [
  {
   "cell_type": "code",
   "execution_count": 1,
   "id": "f93415b2",
   "metadata": {},
   "outputs": [
    {
     "name": "stdout",
     "output_type": "stream",
     "text": [
      "Requirement already satisfied: pandas in ./anaconda3/lib/python3.11/site-packages (2.0.3)\n",
      "Requirement already satisfied: python-dateutil>=2.8.2 in ./anaconda3/lib/python3.11/site-packages (from pandas) (2.8.2)\n",
      "Requirement already satisfied: pytz>=2020.1 in ./anaconda3/lib/python3.11/site-packages (from pandas) (2023.3.post1)\n",
      "Requirement already satisfied: tzdata>=2022.1 in ./anaconda3/lib/python3.11/site-packages (from pandas) (2023.3)\n",
      "Requirement already satisfied: numpy>=1.21.0 in ./anaconda3/lib/python3.11/site-packages (from pandas) (1.24.3)\n",
      "Requirement already satisfied: six>=1.5 in ./anaconda3/lib/python3.11/site-packages (from python-dateutil>=2.8.2->pandas) (1.16.0)\n",
      "Note: you may need to restart the kernel to use updated packages.\n"
     ]
    }
   ],
   "source": [
    "pip install pandas"
   ]
  },
  {
   "cell_type": "markdown",
   "id": "02381bbb",
   "metadata": {},
   "source": [
    "A DataFrame is a **two-dimensional**,\n",
    "tabular data structure commonly used in\n",
    "data analysis, with rows and columns,\n",
    "similar to a spreadsheet or database\n",
    "table."
   ]
  },
  {
   "cell_type": "markdown",
   "id": "9cc20773",
   "metadata": {},
   "source": [
    "# Creating a dataframe"
   ]
  },
  {
   "cell_type": "code",
   "execution_count": 37,
   "id": "df507f21",
   "metadata": {},
   "outputs": [],
   "source": [
    "import pandas as pd"
   ]
  },
  {
   "cell_type": "code",
   "execution_count": 5,
   "id": "25e4bdbc",
   "metadata": {},
   "outputs": [
    {
     "ename": "AttributeError",
     "evalue": "module 'pandas' has no attribute 'dataframe'",
     "output_type": "error",
     "traceback": [
      "\u001b[0;31m---------------------------------------------------------------------------\u001b[0m",
      "\u001b[0;31mAttributeError\u001b[0m                            Traceback (most recent call last)",
      "Cell \u001b[0;32mIn[5], line 2\u001b[0m\n\u001b[1;32m      1\u001b[0m listA \u001b[38;5;241m=\u001b[39m [\u001b[38;5;241m1\u001b[39m,\u001b[38;5;241m2\u001b[39m,\u001b[38;5;241m3\u001b[39m]\n\u001b[0;32m----> 2\u001b[0m a \u001b[38;5;241m=\u001b[39m pd\u001b[38;5;241m.\u001b[39mdataframe(listA)\n\u001b[1;32m      3\u001b[0m \u001b[38;5;28mprint\u001b[39m(a)\n",
      "\u001b[0;31mAttributeError\u001b[0m: module 'pandas' has no attribute 'dataframe'"
     ]
    }
   ],
   "source": [
    "listA = [1,2,3]\n",
    "a = pd.dataframe(listA)\n",
    "print(a)"
   ]
  },
  {
   "cell_type": "markdown",
   "id": "266390c1",
   "metadata": {},
   "source": [
    "The above didn't work because it's not dataframe but DataFrame"
   ]
  },
  {
   "cell_type": "code",
   "execution_count": 6,
   "id": "7f9822db",
   "metadata": {},
   "outputs": [
    {
     "name": "stdout",
     "output_type": "stream",
     "text": [
      "   0\n",
      "0  1\n",
      "1  2\n",
      "2  3\n"
     ]
    }
   ],
   "source": [
    "listA = [1,2,3]\n",
    "a = pd.DataFrame(listA)\n",
    "print(a)"
   ]
  },
  {
   "cell_type": "code",
   "execution_count": 7,
   "id": "18753df3",
   "metadata": {},
   "outputs": [
    {
     "name": "stdout",
     "output_type": "stream",
     "text": [
      "        0  1\n",
      "0     Ann  3\n",
      "1   Jacob  4\n",
      "2  Sammie  9\n"
     ]
    }
   ],
   "source": [
    "listOfStudents = [['Ann', 3], ['Jacob', 4], ['Sammie', 9]]\n",
    "studentsDF = pd.DataFrame(listOfStudents)\n",
    "print(studentsDF)"
   ]
  },
  {
   "cell_type": "markdown",
   "id": "f119d4f8",
   "metadata": {},
   "source": [
    "### Let's put in the columns"
   ]
  },
  {
   "cell_type": "code",
   "execution_count": 9,
   "id": "16f7e02b",
   "metadata": {},
   "outputs": [
    {
     "name": "stdout",
     "output_type": "stream",
     "text": [
      "     Name  Age\n",
      "0     Ann    3\n",
      "1   Jacob    4\n",
      "2  Sammie    9\n"
     ]
    }
   ],
   "source": [
    "listOfStudents = [['Ann', 3], ['Jacob', 4], ['Sammie', 9]]\n",
    "studentsDF = pd.DataFrame(listOfStudents, columns = ['Name', 'Age'])\n",
    "print(studentsDF)"
   ]
  },
  {
   "cell_type": "code",
   "execution_count": 11,
   "id": "1318d68c",
   "metadata": {},
   "outputs": [
    {
     "name": "stdout",
     "output_type": "stream",
     "text": [
      "  student name  sudent age\n",
      "0          ann           2\n",
      "1          ben           4\n",
      "2        stacy           6\n"
     ]
    }
   ],
   "source": [
    "dict_of_students = {\n",
    "    \"student name\": ['ann', 'ben', 'stacy'],\n",
    "    \"sudent age\" : [2, 4, 6]\n",
    "}\n",
    "\n",
    "studentsDF2 = pd.DataFrame(dict_of_students)\n",
    "print(studentsDF2)"
   ]
  },
  {
   "cell_type": "markdown",
   "id": "8c949b39",
   "metadata": {},
   "source": [
    "# Add a column to Pandas Dataframe in Python\n",
    "\n",
    "We already have names and age let's add gender"
   ]
  },
  {
   "cell_type": "code",
   "execution_count": 12,
   "id": "69282505",
   "metadata": {},
   "outputs": [
    {
     "name": "stdout",
     "output_type": "stream",
     "text": [
      "  student name  sudent age gender\n",
      "0          ann           2      F\n",
      "1          ben           4      M\n",
      "2        stacy           6      F\n"
     ]
    }
   ],
   "source": [
    "studentsDF2[\"gender\"] = [\"F\", \"M\", \"F\"]\n",
    "print(studentsDF2)"
   ]
  },
  {
   "cell_type": "markdown",
   "id": "01a2c128",
   "metadata": {},
   "source": [
    "# AXIS \n",
    "\n",
    " In pandas:\n",
    "axis=0 is for rows.\n",
    "axis=1 is for columns."
   ]
  },
  {
   "cell_type": "code",
   "execution_count": 38,
   "id": "3cece263",
   "metadata": {},
   "outputs": [
    {
     "name": "stdout",
     "output_type": "stream",
     "text": [
      "    A   B   C   D   E\n",
      "0  A1  B1  C1  D1  E1\n",
      "1  A2  B2  C2  D2  E2\n",
      "2  A3  B3  C3  D3  E3\n",
      "3  A4  B4  C4  D4  E4\n",
      "4  A5  B5  C5  D5  E5\n"
     ]
    }
   ],
   "source": [
    "data = {\n",
    "'A': ['A1', 'A2', 'A3', 'A4', 'A5'],\n",
    "'B': ['B1', 'B2', 'B3', 'B4', 'B5'],\n",
    "'C': ['C1', 'C2', 'C3', 'C4', 'C5'],\n",
    "'D': ['D1', 'D2', 'D3', 'D4', 'D5'],\n",
    "'E': ['E1', 'E2', 'E3', 'E4', 'E5']}\n",
    "df = pd.DataFrame(data)\n",
    "print(df)"
   ]
  },
  {
   "cell_type": "code",
   "execution_count": 39,
   "id": "fcf914ad",
   "metadata": {},
   "outputs": [
    {
     "name": "stdout",
     "output_type": "stream",
     "text": [
      "    B   C   D   E\n",
      "0  B1  C1  D1  E1\n",
      "1  B2  C2  D2  E2\n",
      "2  B3  C3  D3  E3\n",
      "3  B4  C4  D4  E4\n",
      "4  B5  C5  D5  E5\n"
     ]
    }
   ],
   "source": [
    "df = df.drop(['A'], axis=1)\n",
    "print(df)"
   ]
  },
  {
   "cell_type": "markdown",
   "id": "e5e971f2",
   "metadata": {},
   "source": [
    "So axis = 1 is to drop columns while axis = 0 is to drop row\n",
    "\n",
    "So let's say you want to drop the first row\n",
    "\n",
    "you can specify by using the columns name or by using the column index but still using axis = 1\n",
    "\n",
    "Look below for the try out"
   ]
  },
  {
   "cell_type": "markdown",
   "id": "1a703d96",
   "metadata": {},
   "source": [
    "# Delete a column in Pandas Dataframe in Python"
   ]
  },
  {
   "cell_type": "code",
   "execution_count": 40,
   "id": "9e6f3674",
   "metadata": {},
   "outputs": [
    {
     "name": "stdout",
     "output_type": "stream",
     "text": [
      "    A   B   C   D   E\n",
      "0  A1  B1  C1  D1  E1\n",
      "1  A2  B2  C2  D2  E2\n",
      "2  A3  B3  C3  D3  E3\n",
      "3  A4  B4  C4  D4  E4\n",
      "4  A5  B5  C5  D5  E5\n",
      "    A   B   D   E\n",
      "0  A1  B1  D1  E1\n",
      "1  A2  B2  D2  E2\n",
      "2  A3  B3  D3  E3\n",
      "3  A4  B4  D4  E4\n",
      "4  A5  B5  D5  E5\n"
     ]
    }
   ],
   "source": [
    "data = {\n",
    "'A': ['A1', 'A2', 'A3', 'A4', 'A5'],\n",
    "'B': ['B1', 'B2', 'B3', 'B4', 'B5'],\n",
    "'C': ['C1', 'C2', 'C3', 'C4', 'C5'],\n",
    "'D': ['D1', 'D2', 'D3', 'D4', 'D5'],\n",
    "'E': ['E1', 'E2', 'E3', 'E4', 'E5']}\n",
    "df = pd.DataFrame(data)\n",
    "print(df)\n",
    "\n",
    "df = df.drop(df.columns[2], axis = 1) #using the column index\n",
    "print(df)"
   ]
  },
  {
   "cell_type": "code",
   "execution_count": 21,
   "id": "b2a10acc",
   "metadata": {},
   "outputs": [
    {
     "name": "stdout",
     "output_type": "stream",
     "text": [
      "    A   B   C   D   E\n",
      "0  A1  B1  C1  D1  E1\n",
      "1  A2  B2  C2  D2  E2\n",
      "2  A3  B3  C3  D3  E3\n",
      "3  A4  B4  C4  D4  E4\n",
      "4  A5  B5  C5  D5  E5\n",
      "    A   B   D   E\n",
      "0  A1  B1  D1  E1\n",
      "1  A2  B2  D2  E2\n",
      "2  A3  B3  D3  E3\n",
      "3  A4  B4  D4  E4\n",
      "4  A5  B5  D5  E5\n"
     ]
    }
   ],
   "source": [
    "data = {\n",
    "'A': ['A1', 'A2', 'A3', 'A4', 'A5'],\n",
    "'B': ['B1', 'B2', 'B3', 'B4', 'B5'],\n",
    "'C': ['C1', 'C2', 'C3', 'C4', 'C5'],\n",
    "'D': ['D1', 'D2', 'D3', 'D4', 'D5'],\n",
    "'E': ['E1', 'E2', 'E3', 'E4', 'E5']}\n",
    "df = pd.DataFrame(data)\n",
    "print(df)\n",
    "\n",
    "df = df.drop('C', axis = 1) #using the column NAME\n",
    "print(df)"
   ]
  },
  {
   "cell_type": "markdown",
   "id": "79ffa5bb",
   "metadata": {},
   "source": [
    "# Delete a row in Pandas Dataframe in Python\n",
    "So it's different from deleting columns were we do columns[2] or 'column_name' this one we just specify the index and then axis = 0"
   ]
  },
  {
   "cell_type": "code",
   "execution_count": 24,
   "id": "a9362e90",
   "metadata": {},
   "outputs": [
    {
     "name": "stdout",
     "output_type": "stream",
     "text": [
      "    A   B   C   D   E\n",
      "0  A1  B1  C1  D1  E1\n",
      "1  A2  B2  C2  D2  E2\n",
      "2  A3  B3  C3  D3  E3\n",
      "3  A4  B4  C4  D4  E4\n",
      "4  A5  B5  C5  D5  E5\n"
     ]
    }
   ],
   "source": [
    "data = {\n",
    "'A': ['A1', 'A2', 'A3', 'A4', 'A5'],\n",
    "'B': ['B1', 'B2', 'B3', 'B4', 'B5'],\n",
    "'C': ['C1', 'C2', 'C3', 'C4', 'C5'],\n",
    "'D': ['D1', 'D2', 'D3', 'D4', 'D5'],\n",
    "'E': ['E1', 'E2', 'E3', 'E4', 'E5']}\n",
    "df = pd.DataFrame(data)\n",
    "print(df)"
   ]
  },
  {
   "cell_type": "code",
   "execution_count": 25,
   "id": "846f9011",
   "metadata": {},
   "outputs": [
    {
     "name": "stdout",
     "output_type": "stream",
     "text": [
      "    A   B   C   D   E\n",
      "0  A1  B1  C1  D1  E1\n",
      "2  A3  B3  C3  D3  E3\n",
      "3  A4  B4  C4  D4  E4\n",
      "4  A5  B5  C5  D5  E5\n"
     ]
    }
   ],
   "source": [
    "df = df.drop(1, axis=0)\n",
    "print(df)"
   ]
  },
  {
   "cell_type": "markdown",
   "id": "fe9162c2",
   "metadata": {},
   "source": [
    "# Merge two Dataframes in Python"
   ]
  },
  {
   "cell_type": "code",
   "execution_count": 26,
   "id": "66439500",
   "metadata": {},
   "outputs": [
    {
     "name": "stdout",
     "output_type": "stream",
     "text": [
      "  Name  Roll No\n",
      "0    A        1\n",
      "1    B        2\n",
      "2    C        3\n",
      "3    D        4\n",
      "  Name  Roll No\n",
      "0    E        5\n",
      "1    F        6\n",
      "2    G        7\n",
      "3    H        8\n"
     ]
    }
   ],
   "source": [
    "demo_dataframe1 = pd.DataFrame({'Name': ['A', 'B', 'C', 'D'], 'Roll No': [1,2,3,4]})\n",
    "demo_dataframe2 = pd.DataFrame({'Name': ['E', 'F', 'G', 'H'], 'Roll No': [5,6,7,8]})\n",
    "print(demo_dataframe1)\n",
    "print(demo_dataframe2)"
   ]
  },
  {
   "cell_type": "code",
   "execution_count": 27,
   "id": "3b086379",
   "metadata": {},
   "outputs": [
    {
     "ename": "AttributeError",
     "evalue": "'DataFrame' object has no attribute 'append'",
     "output_type": "error",
     "traceback": [
      "\u001b[0;31m---------------------------------------------------------------------------\u001b[0m",
      "\u001b[0;31mAttributeError\u001b[0m                            Traceback (most recent call last)",
      "\u001b[0;32m/var/folders/yd/w45hjlk117nbp4djlxtq57h40000gn/T/ipykernel_48427/367798720.py\u001b[0m in \u001b[0;36m?\u001b[0;34m()\u001b[0m\n\u001b[0;32m----> 1\u001b[0;31m \u001b[0mdemo_dataframe1\u001b[0m \u001b[0;34m=\u001b[0m \u001b[0mdemo_dataframe1\u001b[0m\u001b[0;34m.\u001b[0m\u001b[0mappend\u001b[0m\u001b[0;34m(\u001b[0m\u001b[0mdemo_dataframe2\u001b[0m\u001b[0;34m)\u001b[0m\u001b[0;34m\u001b[0m\u001b[0;34m\u001b[0m\u001b[0m\n\u001b[0m\u001b[1;32m      2\u001b[0m \u001b[0mprint\u001b[0m\u001b[0;34m(\u001b[0m\u001b[0mdemo_dataframe1\u001b[0m\u001b[0;34m)\u001b[0m\u001b[0;34m\u001b[0m\u001b[0;34m\u001b[0m\u001b[0m\n",
      "\u001b[0;32m~/anaconda3/lib/python3.11/site-packages/pandas/core/generic.py\u001b[0m in \u001b[0;36m?\u001b[0;34m(self, name)\u001b[0m\n\u001b[1;32m   5985\u001b[0m             \u001b[0;32mand\u001b[0m \u001b[0mname\u001b[0m \u001b[0;32mnot\u001b[0m \u001b[0;32min\u001b[0m \u001b[0mself\u001b[0m\u001b[0;34m.\u001b[0m\u001b[0m_accessors\u001b[0m\u001b[0;34m\u001b[0m\u001b[0;34m\u001b[0m\u001b[0m\n\u001b[1;32m   5986\u001b[0m             \u001b[0;32mand\u001b[0m \u001b[0mself\u001b[0m\u001b[0;34m.\u001b[0m\u001b[0m_info_axis\u001b[0m\u001b[0;34m.\u001b[0m\u001b[0m_can_hold_identifiers_and_holds_name\u001b[0m\u001b[0;34m(\u001b[0m\u001b[0mname\u001b[0m\u001b[0;34m)\u001b[0m\u001b[0;34m\u001b[0m\u001b[0;34m\u001b[0m\u001b[0m\n\u001b[1;32m   5987\u001b[0m         ):\n\u001b[1;32m   5988\u001b[0m             \u001b[0;32mreturn\u001b[0m \u001b[0mself\u001b[0m\u001b[0;34m[\u001b[0m\u001b[0mname\u001b[0m\u001b[0;34m]\u001b[0m\u001b[0;34m\u001b[0m\u001b[0;34m\u001b[0m\u001b[0m\n\u001b[0;32m-> 5989\u001b[0;31m         \u001b[0;32mreturn\u001b[0m \u001b[0mobject\u001b[0m\u001b[0;34m.\u001b[0m\u001b[0m__getattribute__\u001b[0m\u001b[0;34m(\u001b[0m\u001b[0mself\u001b[0m\u001b[0;34m,\u001b[0m \u001b[0mname\u001b[0m\u001b[0;34m)\u001b[0m\u001b[0;34m\u001b[0m\u001b[0;34m\u001b[0m\u001b[0m\n\u001b[0m",
      "\u001b[0;31mAttributeError\u001b[0m: 'DataFrame' object has no attribute 'append'"
     ]
    }
   ],
   "source": [
    "demo_dataframe1 = demo_dataframe1.append(demo_dataframe2)\n",
    "print(demo_dataframe1)"
   ]
  },
  {
   "cell_type": "code",
   "execution_count": 36,
   "id": "8cd228b9",
   "metadata": {},
   "outputs": [
    {
     "name": "stdout",
     "output_type": "stream",
     "text": [
      "0       Roy\n",
      "1     Jason\n",
      "2    Sancho\n",
      "Name: Name, dtype: object\n"
     ]
    }
   ],
   "source": [
    "demo_dict = {\"Name\":[\"Roy\",\"Jason\",\"Sancho\"],\"Roll No\":[1,2,3],\"Marks\":[90,87,95]}\n",
    "demo_dataframe = pd.DataFrame(demo_dict)\n",
    "x = demo_dataframe['Name']\n",
    "print(x)\n"
   ]
  },
  {
   "cell_type": "markdown",
   "id": "2adb87fd",
   "metadata": {},
   "source": [
    "So remember slicing [1,:] is for a row so this is for the row at index 1 and we use .iloc to access it let's test others"
   ]
  },
  {
   "cell_type": "code",
   "execution_count": 35,
   "id": "a4f6f6a8",
   "metadata": {},
   "outputs": [
    {
     "name": "stdout",
     "output_type": "stream",
     "text": [
      "Name       Jason\n",
      "Roll No        2\n",
      "Marks         87\n",
      "Name: 1, dtype: object\n"
     ]
    }
   ],
   "source": [
    "demo_dict = {\"Name\":[\"Roy\",\"Jason\",\"Sancho\"],\"Roll No\":[1,2,3],\"Marks\":[90,87,95]}\n",
    "demo_dataframe = pd.DataFrame(demo_dict)\n",
    "x = demo_dataframe.iloc[1,:]\n",
    "print(x)"
   ]
  },
  {
   "cell_type": "code",
   "execution_count": null,
   "id": "32989315",
   "metadata": {},
   "outputs": [],
   "source": []
  },
  {
   "cell_type": "code",
   "execution_count": null,
   "id": "3dc49b95",
   "metadata": {},
   "outputs": [],
   "source": []
  }
 ],
 "metadata": {
  "kernelspec": {
   "display_name": "Python 3 (ipykernel)",
   "language": "python",
   "name": "python3"
  },
  "language_info": {
   "codemirror_mode": {
    "name": "ipython",
    "version": 3
   },
   "file_extension": ".py",
   "mimetype": "text/x-python",
   "name": "python",
   "nbconvert_exporter": "python",
   "pygments_lexer": "ipython3",
   "version": "3.11.5"
  }
 },
 "nbformat": 4,
 "nbformat_minor": 5
}
