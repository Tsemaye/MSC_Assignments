{
 "cells": [
  {
   "cell_type": "markdown",
   "id": "ccaf0c28",
   "metadata": {},
   "source": [
    "# ALL ABOUT NUMPY- Numerical Python"
   ]
  },
  {
   "cell_type": "markdown",
   "id": "c0b5c8ff",
   "metadata": {},
   "source": [
    "## NumPy Vectorization\n",
    "\n",
    "Vectorised array operations refer to performing operations on arrays or elements in an array at once rather than looping through each element individually"
   ]
  },
  {
   "cell_type": "markdown",
   "id": "3baa793e",
   "metadata": {},
   "source": [
    "How we would do it w/o using numpy"
   ]
  },
  {
   "cell_type": "code",
   "execution_count": 1,
   "id": "8a0c3ab5",
   "metadata": {},
   "outputs": [
    {
     "name": "stdout",
     "output_type": "stream",
     "text": [
      "[5, 7, 9]\n"
     ]
    }
   ],
   "source": [
    "x = [1, 2, 3]\n",
    "y = [4, 5, 6]\n",
    "\n",
    "result = []\n",
    "for i in range(len(x)):\n",
    "    result.append(x[i] + y[i])\n",
    "    \n",
    "print(result)"
   ]
  },
  {
   "cell_type": "code",
   "execution_count": 2,
   "id": "2e7d05aa",
   "metadata": {},
   "outputs": [],
   "source": [
    "import numpy as np"
   ]
  },
  {
   "cell_type": "markdown",
   "id": "c4bc72d4",
   "metadata": {},
   "source": [
    "How we would do using numpy"
   ]
  },
  {
   "cell_type": "code",
   "execution_count": 3,
   "id": "d89eceaf",
   "metadata": {},
   "outputs": [
    {
     "name": "stdout",
     "output_type": "stream",
     "text": [
      "[5 7 9]\n"
     ]
    }
   ],
   "source": [
    "x = [1, 2, 3]\n",
    "y = [4, 5, 6]\n",
    "\n",
    "result = np.array(x) + np.array(y)\n",
    "\n",
    "print(result)\n"
   ]
  },
  {
   "cell_type": "markdown",
   "id": "ebf4fc82",
   "metadata": {},
   "source": [
    "## CREATING A NUMPY ARRAY"
   ]
  },
  {
   "cell_type": "markdown",
   "id": "ae046765",
   "metadata": {},
   "source": [
    "Syntax\n",
    "\n",
    "---\n",
    "import numpy as np\n",
    "\n",
    "---\n",
    "a = np.array([])\n"
   ]
  },
  {
   "cell_type": "markdown",
   "id": "fe791dea",
   "metadata": {},
   "source": [
    "## 1D NP ARRAY"
   ]
  },
  {
   "cell_type": "code",
   "execution_count": 5,
   "id": "a1f4f576",
   "metadata": {},
   "outputs": [],
   "source": [
    "import numpy as np\n",
    "a = np.array([1,2,3,4])"
   ]
  },
  {
   "cell_type": "code",
   "execution_count": 6,
   "id": "9abbb6a3",
   "metadata": {},
   "outputs": [
    {
     "name": "stdout",
     "output_type": "stream",
     "text": [
      "[1 2 3 4]\n",
      "(4,)\n",
      "1\n"
     ]
    }
   ],
   "source": [
    "print(a)\n",
    "print(a.shape)\n",
    "print(a.ndim)"
   ]
  },
  {
   "cell_type": "markdown",
   "id": "1ea59686",
   "metadata": {},
   "source": [
    "So the above is a 1D array and it has 4 elements that's why we see (4,)"
   ]
  },
  {
   "cell_type": "markdown",
   "id": "5705b009",
   "metadata": {},
   "source": [
    "## 2D NP ARRAY"
   ]
  },
  {
   "cell_type": "code",
   "execution_count": 7,
   "id": "2ad3cf35",
   "metadata": {},
   "outputs": [
    {
     "name": "stdout",
     "output_type": "stream",
     "text": [
      "2\n"
     ]
    }
   ],
   "source": [
    "b = np.array([[4,7]])\n",
    "print(b.ndim)"
   ]
  },
  {
   "cell_type": "markdown",
   "id": "26f842a4",
   "metadata": {},
   "source": [
    "Now this is a 2D array aand here's why\n",
    "\n",
    "[4,7] this alone is a 1D\n",
    "\n",
    "2D holds one or more 1D so inside it's [] we have one or more one D\n",
    "\n",
    "For better viz of [[[4,7]]\n",
    "\n",
    "[\n",
    "\n",
    "[4,7]\n",
    "] The shape is 1,2 no matter how many extra one d we have it we be x,2 because we alwyas have two columns for this particlar arry. See below"
   ]
  },
  {
   "cell_type": "code",
   "execution_count": 8,
   "id": "f0266995",
   "metadata": {},
   "outputs": [
    {
     "name": "stdout",
     "output_type": "stream",
     "text": [
      "(1, 2)\n"
     ]
    }
   ],
   "source": [
    "print(b.shape)"
   ]
  },
  {
   "cell_type": "code",
   "execution_count": 3,
   "id": "6f7e0362",
   "metadata": {},
   "outputs": [
    {
     "name": "stdout",
     "output_type": "stream",
     "text": [
      "2\n",
      "(3, 2)\n",
      "(1, 3, 2)\n"
     ]
    }
   ],
   "source": [
    "c = np.array([[4,7],[2,5], [9,0]])\n",
    "print(c.ndim)\n",
    "print(c.shape)\n",
    "cc = np.array([[[4,7],[2,5], [9,0]]])\n",
    "print(cc.shape)"
   ]
  },
  {
   "cell_type": "markdown",
   "id": "3ce64eab",
   "metadata": {},
   "source": [
    "Shape is 3 rows 2 columns for better visualisation\n",
    "\n",
    "[\n",
    "\n",
    "    [4,7],\n",
    "    [2,5],\n",
    "    [9,0]\n",
    "]\n",
    "\n",
    "We have 3 rows and 2 columns"
   ]
  },
  {
   "cell_type": "code",
   "execution_count": 11,
   "id": "3b56e881",
   "metadata": {},
   "outputs": [
    {
     "name": "stdout",
     "output_type": "stream",
     "text": [
      "(3, 4)\n",
      "2\n"
     ]
    }
   ],
   "source": [
    "d = np.array([[1,3,4,5],[2,3,4,5],[4,5,6,7]])\n",
    "print(d.shape) #It will be 3,4\n",
    "print(d.ndim) #It will be 2"
   ]
  },
  {
   "cell_type": "code",
   "execution_count": 12,
   "id": "c5315ba5",
   "metadata": {},
   "outputs": [],
   "source": [
    "e = np.array([[[1,4,5],[2,4,5],[5,6,7]],[[3,5,6],[1,4,5],[1,6,7]]])"
   ]
  },
  {
   "cell_type": "markdown",
   "id": "626bb0f0",
   "metadata": {},
   "source": [
    "Let's figure out what the shape and dimension would be\n",
    "\n",
    "[\n",
    "    [\n",
    "        [1,4,5],\n",
    "        [2,4,5],\n",
    "        [5,6,7]\n",
    "    ],\n",
    "    [\n",
    "        [3,5,6],\n",
    "        [1,4,5],\n",
    "        [1,6,7]\n",
    "    ]\n",
    "]\n",
    "\n",
    "\n",
    "So we have 1D as [1,4,5]\n",
    "\n",
    "We have 2 2Ds \n",
    "    [\n",
    "        [1,4,5],\n",
    "        [2,4,5],\n",
    "        [5,6,7]\n",
    "    ],\n",
    "    [\n",
    "        [3,5,6],\n",
    "        [1,4,5],\n",
    "        [1,6,7]\n",
    "    ]\n",
    "    \n",
    "And they're wrapped in another [] so it is 3D, LET'S TEST IT"
   ]
  },
  {
   "cell_type": "markdown",
   "id": "72fab30e",
   "metadata": {},
   "source": [
    "# 3D NP ARRAY"
   ]
  },
  {
   "cell_type": "code",
   "execution_count": 14,
   "id": "7791f177",
   "metadata": {},
   "outputs": [
    {
     "name": "stdout",
     "output_type": "stream",
     "text": [
      "3\n",
      "(2, 3, 3)\n"
     ]
    }
   ],
   "source": [
    "print(e.ndim)\n",
    "print(e.shape)"
   ]
  },
  {
   "cell_type": "markdown",
   "id": "5b1d796b",
   "metadata": {},
   "source": [
    "The shape is (2,3,3) here's why\n",
    "\n",
    "[[1,4,5],[2,4,5],[5,6,7]], [[3,5,6],[1,4,5],[1,6,7]]\n",
    "\n",
    "Looking at it this way we have how many 2D's we have 2 and each block has 3 rows and 3 columns. You can just pick one and look at [1,4,5], [2,4,5], [5,6,7]\n",
    "\n",
    "Hence the 2,3,3\n",
    "\n",
    "The shape of the below will be 3,2,4 ie 3 blocks and each have 2 rows and 4 columns"
   ]
  },
  {
   "cell_type": "code",
   "execution_count": 15,
   "id": "a500feed",
   "metadata": {},
   "outputs": [],
   "source": [
    "f = np.array([\n",
    "    [\n",
    "        [1,2,3,4],\n",
    "        [1,2,3,4]\n",
    "    ],\n",
    "    [\n",
    "        [1,2,3,4],\n",
    "        [1,2,3,4]\n",
    "    ],\n",
    "    [\n",
    "        [1,2,3,4],\n",
    "        [1,2,3,4]\n",
    "    ]\n",
    "])"
   ]
  },
  {
   "cell_type": "code",
   "execution_count": 16,
   "id": "2760a59b",
   "metadata": {},
   "outputs": [
    {
     "name": "stdout",
     "output_type": "stream",
     "text": [
      "(3, 2, 4)\n"
     ]
    }
   ],
   "source": [
    "print(f.shape)"
   ]
  },
  {
   "cell_type": "code",
   "execution_count": 17,
   "id": "6ce252d4",
   "metadata": {},
   "outputs": [
    {
     "name": "stdout",
     "output_type": "stream",
     "text": [
      "3\n"
     ]
    }
   ],
   "source": [
    "print(f.ndim)# 3d"
   ]
  },
  {
   "cell_type": "markdown",
   "id": "61f183cc",
   "metadata": {},
   "source": [
    "Explanation of the x's is below"
   ]
  },
  {
   "cell_type": "code",
   "execution_count": 18,
   "id": "5861e930",
   "metadata": {},
   "outputs": [
    {
     "name": "stdout",
     "output_type": "stream",
     "text": [
      "(2, 2)\n"
     ]
    }
   ],
   "source": [
    "x = np.array([[1,2], [3,4]])\n",
    "print(x.shape)"
   ]
  },
  {
   "cell_type": "code",
   "execution_count": 19,
   "id": "4e60d1e7",
   "metadata": {},
   "outputs": [
    {
     "name": "stdout",
     "output_type": "stream",
     "text": [
      "(3, 2)\n"
     ]
    }
   ],
   "source": [
    "x2 = np.array([[1,2], [3,4], [5,6]])\n",
    "print(x2.shape)"
   ]
  },
  {
   "cell_type": "code",
   "execution_count": 21,
   "id": "21fb65aa",
   "metadata": {},
   "outputs": [
    {
     "name": "stdout",
     "output_type": "stream",
     "text": [
      "(1, 2, 2)\n"
     ]
    }
   ],
   "source": [
    "x3 = np.array([[[1,2], [3,4]]])\n",
    "print(x3.shape)"
   ]
  },
  {
   "cell_type": "code",
   "execution_count": 22,
   "id": "feca46cc",
   "metadata": {},
   "outputs": [
    {
     "name": "stdout",
     "output_type": "stream",
     "text": [
      "(1, 3, 2)\n"
     ]
    }
   ],
   "source": [
    "x2 = np.array([[[1,2], [3,4], [5,6]]])\n",
    "print(x2.shape)"
   ]
  },
  {
   "cell_type": "markdown",
   "id": "b142873f",
   "metadata": {},
   "source": [
    "# NOTE\n",
    "\n",
    "The number of elements in the shape tuple corresponds to the number of dimensions (or axes) of the array. Let’s break it down further to make sure it’s crystal clear:\n",
    "\n",
    "when it is 1d we see just  for example (4,)\n",
    "\n",
    "when it's 2 d we see 2 elements for shape like (2,3)\n",
    "\n",
    "but once it's 3d we see 3 elements for shape (2,3,4)\n",
    "\n",
    "1D Array (One Dimension)\n",
    "Shape: (N,)\n",
    "Here, N is the number of elements in the array.\n",
    "The shape has one value, because there's only one axis.\n",
    "\n",
    "\n",
    "\n",
    "2D Array (Two Dimensions)\n",
    "Shape: (M, N)\n",
    "M is the number of rows.\n",
    "N is the number of columns.\n",
    "The shape has two values, because there are two axes (rows and columns).\n",
    "\n",
    "\n",
    "\n",
    "3D Array (Three Dimensions)\n",
    "Shape: (L, M, N)\n",
    "L is the number of blocks (or outermost arrays).\n",
    "M is the number of rows in each block.\n",
    "N is the number of columns in each row.\n",
    "The shape has three values, because there are three axes (blocks, rows, and columns).\n",
    "\n",
    "\n",
    "\n",
    "# 4D Array (Four Dimensions)\n",
    "Shape: (A, B, C, D)\n",
    "First axis (A): Number of groups or outermost blocks.\n",
    "Second axis (B): Number of sub-blocks in each group.\n",
    "Third axis (C): Number of rows in each sub-block.\n",
    "Fourth axis (D): Number of columns in each row."
   ]
  },
  {
   "cell_type": "code",
   "execution_count": 23,
   "id": "418749ba",
   "metadata": {},
   "outputs": [
    {
     "name": "stdout",
     "output_type": "stream",
     "text": [
      "(2, 2, 2, 3)\n"
     ]
    }
   ],
   "source": [
    "import numpy as np\n",
    "\n",
    "# 4D array\n",
    "arr = np.array([\n",
    "    [  # Group 1\n",
    "        [  # Sub-block 1\n",
    "            [1, 2, 3], \n",
    "            [4, 5, 6]\n",
    "        ],\n",
    "        [  # Sub-block 2\n",
    "            [7, 8, 9], \n",
    "            [10, 11, 12]\n",
    "        ]\n",
    "    ],\n",
    "    [  # Group 2\n",
    "        [  # Sub-block 1\n",
    "            [13, 14, 15], \n",
    "            [16, 17, 18]\n",
    "        ],\n",
    "        [  # Sub-block 2\n",
    "            [19, 20, 21], \n",
    "            [22, 23, 24]\n",
    "        ]\n",
    "    ]\n",
    "])\n",
    "\n",
    "print(arr.shape)  # Output: (2, 2, 2, 3)\n"
   ]
  },
  {
   "cell_type": "markdown",
   "id": "e9849f11",
   "metadata": {},
   "source": [
    "So for this type we have 2 main blocks and each have 2 sub blocks with 2 rows and 3 columns\n",
    "\n",
    "\n",
    "More examples below"
   ]
  },
  {
   "cell_type": "code",
   "execution_count": 24,
   "id": "0db4ea5a",
   "metadata": {},
   "outputs": [],
   "source": [
    "arr1 = np.array([1, 2, 3, 4, 5])\n",
    "# The shape is (5,)"
   ]
  },
  {
   "cell_type": "code",
   "execution_count": 25,
   "id": "d0198a2d",
   "metadata": {},
   "outputs": [
    {
     "name": "stdout",
     "output_type": "stream",
     "text": [
      "(5,)\n"
     ]
    }
   ],
   "source": [
    "print(arr1.shape)"
   ]
  },
  {
   "cell_type": "code",
   "execution_count": 26,
   "id": "d8f7809e",
   "metadata": {},
   "outputs": [
    {
     "name": "stdout",
     "output_type": "stream",
     "text": [
      "(3, 2)\n"
     ]
    }
   ],
   "source": [
    "arr2 = np.array([\n",
    "    [1, 2],\n",
    "    [3, 4],\n",
    "    [5, 6]\n",
    "])\n",
    "print(arr2.shape) # This is 2d so we see 2 elements for the shape (3,2)"
   ]
  },
  {
   "cell_type": "code",
   "execution_count": 28,
   "id": "91521c67",
   "metadata": {},
   "outputs": [
    {
     "name": "stdout",
     "output_type": "stream",
     "text": [
      "(2, 2, 3)\n"
     ]
    }
   ],
   "source": [
    "arr3 = np.array([\n",
    "    [\n",
    "        [1, 2, 3],\n",
    "        [4, 5, 6]\n",
    "    ],\n",
    "    [\n",
    "        [7, 8, 9],\n",
    "        [10, 11, 12]\n",
    "    ]\n",
    "])\n",
    "print(arr3.shape)# This is a 3d we have 2 blocks and each has 2 rows and 3 columns so 2,2,3"
   ]
  },
  {
   "cell_type": "code",
   "execution_count": 30,
   "id": "085a173d",
   "metadata": {},
   "outputs": [
    {
     "name": "stdout",
     "output_type": "stream",
     "text": [
      "(2, 2, 2, 2)\n"
     ]
    }
   ],
   "source": [
    "arr4 = np.array([\n",
    "    [\n",
    "        [\n",
    "            [1, 2],\n",
    "            [3, 4]\n",
    "        ],\n",
    "        [\n",
    "            [5, 6],\n",
    "            [7, 8]\n",
    "        ]\n",
    "    ],\n",
    "    [\n",
    "        [\n",
    "            [9, 10],\n",
    "            [11, 12]\n",
    "        ],\n",
    "        [\n",
    "            [13, 14],\n",
    "            [15, 16]\n",
    "        ]\n",
    "    ]\n",
    "])\n",
    "print(arr4.shape)# This is 4d so we have 2 main blocks, each have 2 sublocks with 2 rows and 2 columns so 2,2,2,2"
   ]
  },
  {
   "cell_type": "code",
   "execution_count": 32,
   "id": "825d5f16",
   "metadata": {},
   "outputs": [
    {
     "name": "stdout",
     "output_type": "stream",
     "text": [
      "(1, 2, 2, 2)\n"
     ]
    }
   ],
   "source": [
    "arr5 = np.array([\n",
    "    [\n",
    "        [\n",
    "            [1, 2],\n",
    "            [3, 4]\n",
    "        ],\n",
    "        [\n",
    "            [5, 6],\n",
    "            [7, 8]\n",
    "        ]\n",
    "    ]\n",
    "])\n",
    "print(arr5.shape)# This is 4 d and we have 1 main block with 2 sublocks with 2r 2c ie 1,2,2,2"
   ]
  },
  {
   "cell_type": "code",
   "execution_count": 34,
   "id": "b2ff80e1",
   "metadata": {},
   "outputs": [
    {
     "name": "stdout",
     "output_type": "stream",
     "text": [
      "(1, 2, 3)\n"
     ]
    }
   ],
   "source": [
    "arr6 = np.array([\n",
    "    [\n",
    "        [1, 2, 3],\n",
    "        [4, 5, 6]\n",
    "    ]\n",
    "])\n",
    "print(arr6.shape)# This is 3d with 1 main block with 2 rows and 3 columns so 1,2,3\n",
    "\n",
    "# this is wrong: This is 3d and we have 1 main block with 2 sub blocks with 2r, 3c so 1,2,2,3"
   ]
  },
  {
   "cell_type": "markdown",
   "id": "5694561f",
   "metadata": {},
   "source": [
    "# ACCESSING ELEMENTS IN NUMPY ARRAY - 1D"
   ]
  },
  {
   "cell_type": "code",
   "execution_count": 40,
   "id": "5168f67b",
   "metadata": {},
   "outputs": [],
   "source": [
    "g = np.array([10, 20, 30, 40, 50])\n"
   ]
  },
  {
   "cell_type": "markdown",
   "id": "cacabd43",
   "metadata": {},
   "source": [
    "In a 1D array, you can access elements by their index (just like in Python lists). Remember, NumPy follows 0-based indexing, meaning the first element is at index 0."
   ]
  },
  {
   "cell_type": "code",
   "execution_count": 47,
   "id": "91fa33ec",
   "metadata": {},
   "outputs": [
    {
     "name": "stdout",
     "output_type": "stream",
     "text": [
      "10\n"
     ]
    }
   ],
   "source": [
    "print(g[0]) # It will give the 1st element or index 0 is 10"
   ]
  },
  {
   "cell_type": "code",
   "execution_count": 48,
   "id": "45c40427",
   "metadata": {},
   "outputs": [
    {
     "name": "stdout",
     "output_type": "stream",
     "text": [
      "50\n"
     ]
    }
   ],
   "source": [
    "print(g[4]) #It will give the 5th element or index 4 that is 50"
   ]
  },
  {
   "cell_type": "code",
   "execution_count": 49,
   "id": "3756a855",
   "metadata": {},
   "outputs": [
    {
     "name": "stdout",
     "output_type": "stream",
     "text": [
      "50\n"
     ]
    }
   ],
   "source": [
    "print(g[-1])#last element"
   ]
  },
  {
   "cell_type": "markdown",
   "id": "28d26d56",
   "metadata": {},
   "source": [
    "# SLICING ELEMENTS IN NUMPY ARRAY - 1D"
   ]
  },
  {
   "cell_type": "code",
   "execution_count": 50,
   "id": "b1209f12",
   "metadata": {},
   "outputs": [
    {
     "name": "stdout",
     "output_type": "stream",
     "text": [
      "[10 20 30]\n"
     ]
    }
   ],
   "source": [
    "print(g[0:3])# that is from the 0th index or 1st element to the 3rd index  or 4th element exluding it so 10, 20, 30"
   ]
  },
  {
   "cell_type": "code",
   "execution_count": 55,
   "id": "859e09d2",
   "metadata": {},
   "outputs": [
    {
     "name": "stdout",
     "output_type": "stream",
     "text": [
      "[10 20 30]\n"
     ]
    }
   ],
   "source": [
    "print(g[:3])  # Output: [10 20 30] same as above"
   ]
  },
  {
   "cell_type": "code",
   "execution_count": 56,
   "id": "a54d02b2",
   "metadata": {},
   "outputs": [
    {
     "name": "stdout",
     "output_type": "stream",
     "text": [
      "[30 40 50]\n"
     ]
    }
   ],
   "source": [
    "print(g[2:])  # Output: [30 40 50] from the 3rd element to the end\n"
   ]
  },
  {
   "cell_type": "markdown",
   "id": "5fc0b375",
   "metadata": {},
   "source": [
    "# ACCESSING ELEMENTS IN NUMPY ARRAY - 2D"
   ]
  },
  {
   "cell_type": "code",
   "execution_count": 5,
   "id": "775a43fd",
   "metadata": {},
   "outputs": [],
   "source": [
    "h = np.array([\n",
    "    [1, 2, 3],\n",
    "    [4, 5, 6],\n",
    "    [7, 8, 9]\n",
    "])\n"
   ]
  },
  {
   "cell_type": "markdown",
   "id": "b5934dd4",
   "metadata": {},
   "source": [
    "In a 2D array, elements are accessed by two indices: the row index and the column index.\n"
   ]
  },
  {
   "cell_type": "code",
   "execution_count": 58,
   "id": "e20d350b",
   "metadata": {},
   "outputs": [
    {
     "name": "stdout",
     "output_type": "stream",
     "text": [
      "6\n"
     ]
    }
   ],
   "source": [
    "print(h[1,2])# That is the second column and the third element there --> 6"
   ]
  },
  {
   "cell_type": "markdown",
   "id": "99bfd211",
   "metadata": {},
   "source": [
    "# ACCESSING ENTIRE ROWS IN NUMPY ARRAY - 2D"
   ]
  },
  {
   "cell_type": "code",
   "execution_count": 59,
   "id": "bc87ab55",
   "metadata": {},
   "outputs": [
    {
     "name": "stdout",
     "output_type": "stream",
     "text": [
      "[7 8 9]\n"
     ]
    }
   ],
   "source": [
    "print(h[2]) #this will give us the third row ie 7 8 9"
   ]
  },
  {
   "cell_type": "code",
   "execution_count": 60,
   "id": "3046ec32",
   "metadata": {},
   "outputs": [
    {
     "name": "stdout",
     "output_type": "stream",
     "text": [
      "[1 2 3]\n"
     ]
    }
   ],
   "source": [
    "print(h[0]) #1 2 3"
   ]
  },
  {
   "cell_type": "code",
   "execution_count": 6,
   "id": "69703f7b",
   "metadata": {},
   "outputs": [
    {
     "name": "stdout",
     "output_type": "stream",
     "text": [
      "[1 2 3]\n",
      "[7 8 9]\n"
     ]
    }
   ],
   "source": [
    "print(h[0,:]) #1 2 3\n",
    "print(h[2,:]) #7 8 9"
   ]
  },
  {
   "cell_type": "markdown",
   "id": "39d887d1",
   "metadata": {},
   "source": [
    "[0] and [0,:] are the same\n",
    "\n",
    "\n",
    "Just know that when the comma , is on the left side ie left of the colon : then it is for row else column, look below"
   ]
  },
  {
   "cell_type": "markdown",
   "id": "d4dc46be",
   "metadata": {},
   "source": [
    "# ACCESSING ENTIRE COLUMNS IN NUMPY ARRAY - 2D\n",
    "\n",
    "Just know that when the comma , is on the right side ie left of the colon : then it is for column look below"
   ]
  },
  {
   "cell_type": "code",
   "execution_count": 63,
   "id": "5e1ba95e",
   "metadata": {},
   "outputs": [
    {
     "name": "stdout",
     "output_type": "stream",
     "text": [
      "[3 6 9]\n"
     ]
    }
   ],
   "source": [
    "print(h[:,2]) # This is saying we want all the column at index 2 ie the 3rd column --> 3,6,9"
   ]
  },
  {
   "cell_type": "code",
   "execution_count": 64,
   "id": "c7b610dc",
   "metadata": {},
   "outputs": [
    {
     "name": "stdout",
     "output_type": "stream",
     "text": [
      "[[1 2]\n",
      " [4 5]]\n"
     ]
    }
   ],
   "source": [
    "print(h[:2, :2]) # learn later"
   ]
  },
  {
   "cell_type": "code",
   "execution_count": 66,
   "id": "b61c7e00",
   "metadata": {},
   "outputs": [
    {
     "name": "stdout",
     "output_type": "stream",
     "text": [
      "[[5 6]\n",
      " [8 9]]\n"
     ]
    }
   ],
   "source": [
    "print(h[1:, 1:])# learn later just in case"
   ]
  },
  {
   "cell_type": "code",
   "execution_count": null,
   "id": "47601bed",
   "metadata": {},
   "outputs": [],
   "source": []
  },
  {
   "cell_type": "code",
   "execution_count": null,
   "id": "ce6db36f",
   "metadata": {},
   "outputs": [],
   "source": []
  },
  {
   "cell_type": "code",
   "execution_count": null,
   "id": "9f47bc86",
   "metadata": {},
   "outputs": [],
   "source": []
  },
  {
   "cell_type": "code",
   "execution_count": null,
   "id": "9adbafe3",
   "metadata": {},
   "outputs": [],
   "source": []
  },
  {
   "cell_type": "code",
   "execution_count": 69,
   "id": "0fa3ca9b",
   "metadata": {},
   "outputs": [
    {
     "name": "stdout",
     "output_type": "stream",
     "text": [
      "[[ 1  2  3  4  5  6  7]\n",
      " [ 8  9 10 11 12 13 14]]\n"
     ]
    }
   ],
   "source": [
    "i = np.array([[1,2,3,4,5,6,7],[8,9,10,11,12,13,14]])\n",
    "print(i)"
   ]
  },
  {
   "cell_type": "code",
   "execution_count": 70,
   "id": "faaf102f",
   "metadata": {},
   "outputs": [
    {
     "name": "stdout",
     "output_type": "stream",
     "text": [
      "13\n"
     ]
    }
   ],
   "source": [
    "print(i[1,5]) # That is the row at index 1 and the element at index 5 -->13"
   ]
  },
  {
   "cell_type": "code",
   "execution_count": 71,
   "id": "9e217a2e",
   "metadata": {},
   "outputs": [
    {
     "name": "stdout",
     "output_type": "stream",
     "text": [
      "[1 2 3 4 5 6 7]\n"
     ]
    }
   ],
   "source": [
    "print(i[0,:]) # That is [0] it's the same ie we want just the row at index 0 --> 1,2...7"
   ]
  },
  {
   "cell_type": "code",
   "execution_count": 72,
   "id": "01db7cab",
   "metadata": {},
   "outputs": [
    {
     "name": "stdout",
     "output_type": "stream",
     "text": [
      "[2 9]\n"
     ]
    }
   ],
   "source": [
    "print(i[:,1]) # That is we want the column at index 1 --> 2,9"
   ]
  },
  {
   "cell_type": "code",
   "execution_count": 73,
   "id": "e9df2de4",
   "metadata": {},
   "outputs": [
    {
     "name": "stdout",
     "output_type": "stream",
     "text": [
      "[2 4 6]\n"
     ]
    }
   ],
   "source": [
    "print(i[0,1:6:2]) \n",
    "# That is we want the column at index 0 ---> 1  2  3  4  5  6  7\n",
    "# then we want it to start at index 1 and end at index 6 excluding index 6---> 2,3,4,5,6\n",
    "# then we want to skip 2 times --> 2,4,6"
   ]
  },
  {
   "cell_type": "code",
   "execution_count": 75,
   "id": "394eb502",
   "metadata": {},
   "outputs": [
    {
     "name": "stdout",
     "output_type": "stream",
     "text": [
      "(2, 2, 3)\n",
      "3\n"
     ]
    }
   ],
   "source": [
    "j = np.array([[[1,2,3],[2,3,4]],[[4,5,6],[1,6,1]]])\n",
    "print(j.shape)# this is 3d and we have 2 block with 2 rows and 3 columns so 2,2,3\n",
    "print(j.ndim)\n"
   ]
  },
  {
   "cell_type": "code",
   "execution_count": 84,
   "id": "cdc11734",
   "metadata": {},
   "outputs": [
    {
     "name": "stdout",
     "output_type": "stream",
     "text": [
      "[1 2 3]\n"
     ]
    }
   ],
   "source": [
    "print(j[0,0,:])\n",
    "# That is since it's 3d we want the block at index 0 then in that block we want to row at index 0 and then : all of it\n",
    "\n"
   ]
  },
  {
   "cell_type": "code",
   "execution_count": 78,
   "id": "596e7b24",
   "metadata": {},
   "outputs": [
    {
     "name": "stdout",
     "output_type": "stream",
     "text": [
      "6\n"
     ]
    }
   ],
   "source": [
    "k = np.array([[1, 2, 3], [4, 5, 6], [7, 8, 9]])\n",
    "print(k[1, 2])\n",
    "#That is we want the row at index 1 and the element at index 2 --> 6"
   ]
  },
  {
   "cell_type": "code",
   "execution_count": 80,
   "id": "dc5e34bd",
   "metadata": {},
   "outputs": [
    {
     "name": "stdout",
     "output_type": "stream",
     "text": [
      "[50 60]\n",
      "(2, 2, 2)\n"
     ]
    }
   ],
   "source": [
    "arr3d = np.array([[[10, 20], [30, 40]], [[50, 60], [70, 80]]])\n",
    "print(arr3d[1, 0, :])\n",
    "print(arr3d.shape)\n",
    "#This is a 3d with shape 2,2,2 and we want the block at the 1st index then the row at the 0th index then all of it--> 50,60\n"
   ]
  },
  {
   "cell_type": "code",
   "execution_count": 83,
   "id": "8f8dc8a1",
   "metadata": {},
   "outputs": [
    {
     "name": "stdout",
     "output_type": "stream",
     "text": [
      "[2 5 8]\n"
     ]
    }
   ],
   "source": [
    "l = np.array([[1, 2, 3], [4, 5, 6], [7, 8, 9]])\n",
    "print(l[:, 1])#We want the column at index 1-->  2,5,8"
   ]
  },
  {
   "cell_type": "markdown",
   "id": "80d9f4ac",
   "metadata": {},
   "source": [
    "# Change data in an Array"
   ]
  },
  {
   "cell_type": "code",
   "execution_count": 85,
   "id": "9e49cd5f",
   "metadata": {},
   "outputs": [
    {
     "name": "stdout",
     "output_type": "stream",
     "text": [
      "2\n"
     ]
    }
   ],
   "source": [
    "m = np.array([[1,2,3,4,5,6,7],[8,9,10,11,12,13,14]])\n",
    "# Thid is a 2d array\n",
    "print(m.ndim)"
   ]
  },
  {
   "cell_type": "code",
   "execution_count": 87,
   "id": "042a8412",
   "metadata": {},
   "outputs": [
    {
     "name": "stdout",
     "output_type": "stream",
     "text": [
      "12\n"
     ]
    }
   ],
   "source": [
    "print(m[1,4]) #So this gives us the row at index 1 and the element at index 4 there"
   ]
  },
  {
   "cell_type": "code",
   "execution_count": 88,
   "id": "9575e9df",
   "metadata": {},
   "outputs": [
    {
     "name": "stdout",
     "output_type": "stream",
     "text": [
      "[[ 1  2  3  4  5  6  7]\n",
      " [ 8  9 10 11 24 13 14]]\n"
     ]
    }
   ],
   "source": [
    "#So to change it, we state that particular element then assign it to the new value we want\n",
    "m[1,4] = 24\n",
    "print(m)"
   ]
  },
  {
   "cell_type": "code",
   "execution_count": 90,
   "id": "d9f14cda",
   "metadata": {},
   "outputs": [
    {
     "name": "stdout",
     "output_type": "stream",
     "text": [
      "[[ 1  2  3  4  5  6  7]\n",
      " [ 8  9 10 11 24 13 14]]\n"
     ]
    }
   ],
   "source": [
    "print(m[0:,])#please look below for explanation"
   ]
  },
  {
   "cell_type": "markdown",
   "id": "d4de864a",
   "metadata": {},
   "source": [
    "I thought that m[0:,] will give us the whole of the row at index 0 and that it's the same as m[0] but \n",
    "\n",
    "m[0:,] is different from m[0,:]\n",
    "\n",
    "\n",
    "m[0,:] the one with the comma before the column is what will give us the whole first row\n",
    "\n",
    "Once the comma comes after the colon ie 0:, it means \"from row index 0 onwards.\" We'd try it with a 2d of shape 4,2. Please look below the row below"
   ]
  },
  {
   "cell_type": "code",
   "execution_count": 92,
   "id": "52d1be70",
   "metadata": {},
   "outputs": [
    {
     "name": "stdout",
     "output_type": "stream",
     "text": [
      "[1 2 3 4 5 6 7]\n"
     ]
    }
   ],
   "source": [
    "print(m[0,:])"
   ]
  },
  {
   "cell_type": "code",
   "execution_count": 94,
   "id": "97f94060",
   "metadata": {},
   "outputs": [
    {
     "ename": "TypeError",
     "evalue": "'builtin_function_or_method' object is not subscriptable",
     "output_type": "error",
     "traceback": [
      "\u001b[0;31m---------------------------------------------------------------------------\u001b[0m",
      "\u001b[0;31mTypeError\u001b[0m                                 Traceback (most recent call last)",
      "Cell \u001b[0;32mIn[94], line 2\u001b[0m\n\u001b[1;32m      1\u001b[0m \u001b[38;5;28;01mimport\u001b[39;00m \u001b[38;5;21;01mnumpy\u001b[39;00m \u001b[38;5;28;01mas\u001b[39;00m \u001b[38;5;21;01mnp\u001b[39;00m\n\u001b[0;32m----> 2\u001b[0m n \u001b[38;5;241m=\u001b[39m np\u001b[38;5;241m.\u001b[39marray[[\u001b[38;5;241m1\u001b[39m,\u001b[38;5;241m2\u001b[39m],[\u001b[38;5;241m3\u001b[39m,\u001b[38;5;241m4\u001b[39m],[\u001b[38;5;241m5\u001b[39m,\u001b[38;5;241m6\u001b[39m],[\u001b[38;5;241m7\u001b[39m,\u001b[38;5;241m8\u001b[39m]]\n\u001b[1;32m      3\u001b[0m \u001b[38;5;28mprint\u001b[39m(n\u001b[38;5;241m.\u001b[39mndim)\n\u001b[1;32m      4\u001b[0m \u001b[38;5;28mprint\u001b[39m(n\u001b[38;5;241m.\u001b[39mshape)\n",
      "\u001b[0;31mTypeError\u001b[0m: 'builtin_function_or_method' object is not subscriptable"
     ]
    }
   ],
   "source": [
    "import numpy as np\n",
    "n = np.array[[1,2],[3,4],[5,6],[7,8]]\n",
    "print(n.ndim)\n",
    "print(n.shape)"
   ]
  },
  {
   "cell_type": "markdown",
   "id": "1743736d",
   "metadata": {},
   "source": [
    "We have to stop making this error. When doing a numpy array, it's meant to be np.array()\n",
    "\n",
    "Don't forget to use your bracket ()"
   ]
  },
  {
   "cell_type": "code",
   "execution_count": 95,
   "id": "a9fdd914",
   "metadata": {},
   "outputs": [
    {
     "name": "stdout",
     "output_type": "stream",
     "text": [
      "2\n",
      "(4, 2)\n"
     ]
    }
   ],
   "source": [
    "import numpy as np\n",
    "n = np.array([[1,2],[3,4],[5,6],[7,8]])\n",
    "print(n.ndim)\n",
    "print(n.shape)"
   ]
  },
  {
   "cell_type": "markdown",
   "id": "208e9909",
   "metadata": {},
   "source": [
    "So let's access from the second row to the end"
   ]
  },
  {
   "cell_type": "code",
   "execution_count": 97,
   "id": "ab485d8c",
   "metadata": {},
   "outputs": [
    {
     "name": "stdout",
     "output_type": "stream",
     "text": [
      "[[3 4]\n",
      " [5 6]\n",
      " [7 8]]\n"
     ]
    }
   ],
   "source": [
    "print(n[1:,]) # So it will print all rows onwards from the 1st index"
   ]
  },
  {
   "cell_type": "code",
   "execution_count": 99,
   "id": "89955e04",
   "metadata": {},
   "outputs": [
    {
     "name": "stdout",
     "output_type": "stream",
     "text": [
      "[1 2 3 4 5 6 7]\n"
     ]
    }
   ],
   "source": [
    "o = np.array([[1,2,3,4,5,6,7],[8,9,10,11,12,13,14]])\n",
    "print(o[0,:])"
   ]
  },
  {
   "cell_type": "code",
   "execution_count": 100,
   "id": "6acedc81",
   "metadata": {},
   "outputs": [
    {
     "name": "stdout",
     "output_type": "stream",
     "text": [
      "[[ 1  2  3  4  5  6  7]\n",
      " [ 8  9 10 11 12 13 14]]\n"
     ]
    }
   ],
   "source": [
    "print(o)"
   ]
  },
  {
   "cell_type": "code",
   "execution_count": 101,
   "id": "f4529acc",
   "metadata": {},
   "outputs": [],
   "source": [
    "p =  np.array( [[[1,2]],[[3,4]], [[13,4]]])"
   ]
  },
  {
   "cell_type": "markdown",
   "id": "bf2fe826",
   "metadata": {},
   "source": [
    "So let's understand what kind of array this is like the dimension\n",
    "\n",
    "[\n",
    "    [\n",
    "        [1,2]\n",
    "    ],\n",
    "[\n",
    "    [\n",
    "        [3,4]\n",
    "    ],\n",
    "[\n",
    "    [\n",
    "        [13,4]\n",
    "    ]\n",
    "]\n",
    "\n",
    "\n",
    "So this is a 3d array with 3 subblocks, which have 1 row and 2 columns\n",
    "So the shape is 3,1,2"
   ]
  },
  {
   "cell_type": "code",
   "execution_count": 103,
   "id": "b2512bee",
   "metadata": {},
   "outputs": [
    {
     "name": "stdout",
     "output_type": "stream",
     "text": [
      "(3, 1, 2)\n",
      "3\n"
     ]
    }
   ],
   "source": [
    "print(p.shape)\n",
    "print(p.ndim)"
   ]
  },
  {
   "cell_type": "code",
   "execution_count": 104,
   "id": "062aec74",
   "metadata": {},
   "outputs": [
    {
     "name": "stdout",
     "output_type": "stream",
     "text": [
      "[[1 2]]\n"
     ]
    }
   ],
   "source": [
    "print(p[0,0:]) #So this is the block at index 0 and in that block, we want all rows from the 1st index \n",
    "#so since we have just 1 row there at index 0 it just prints that --> [1,2]"
   ]
  },
  {
   "cell_type": "markdown",
   "id": "a3b05276",
   "metadata": {},
   "source": [
    "So let's test it with an array of shape 3,3,2 and get from the 1st row downward of the 3rd block"
   ]
  },
  {
   "cell_type": "code",
   "execution_count": 105,
   "id": "c4c77cf4",
   "metadata": {},
   "outputs": [
    {
     "name": "stdout",
     "output_type": "stream",
     "text": [
      "(3, 3, 2)\n"
     ]
    }
   ],
   "source": [
    "q = np.array(\n",
    "[\n",
    "    [\n",
    "        [1,2],\n",
    "        [3,4],\n",
    "        [4,6]\n",
    "    ],\n",
    "    [\n",
    "        [7,8],\n",
    "        [9,10],\n",
    "        [11,12]\n",
    "    ],\n",
    "    [\n",
    "        [13,14],\n",
    "        [15,16],\n",
    "        [17,18]\n",
    "    ]\n",
    "]\n",
    ")\n",
    "\n",
    "print(q.shape)"
   ]
  },
  {
   "cell_type": "code",
   "execution_count": 108,
   "id": "c0faac44",
   "metadata": {},
   "outputs": [
    {
     "name": "stdout",
     "output_type": "stream",
     "text": [
      "[[15 16]\n",
      " [17 18]]\n"
     ]
    }
   ],
   "source": [
    "print(q[2,1:]) # This prints the block at index 2 and prints all rows starting from the row at index 1 downwards"
   ]
  },
  {
   "cell_type": "markdown",
   "id": "02e4a7ec",
   "metadata": {},
   "source": [
    "# Initializing Numpy Arrays\n",
    "\n",
    "\n",
    "### ZEROS --> np.zeros((the shape))\n",
    "The syntax is np.zeros, we usually use np.array but now  since we want zero's we do np.zeros and we specify the shape"
   ]
  },
  {
   "cell_type": "code",
   "execution_count": 111,
   "id": "f9692441",
   "metadata": {},
   "outputs": [
    {
     "ename": "TypeError",
     "evalue": "Cannot interpret '3' as a data type",
     "output_type": "error",
     "traceback": [
      "\u001b[0;31m---------------------------------------------------------------------------\u001b[0m",
      "\u001b[0;31mTypeError\u001b[0m                                 Traceback (most recent call last)",
      "Cell \u001b[0;32mIn[111], line 1\u001b[0m\n\u001b[0;32m----> 1\u001b[0m r \u001b[38;5;241m=\u001b[39m np\u001b[38;5;241m.\u001b[39mzeros(\u001b[38;5;241m2\u001b[39m,\u001b[38;5;241m3\u001b[39m)\u001b[38;5;66;03m#so this creates a numpy array of zeros with the shape 2,3\u001b[39;00m\n\u001b[1;32m      2\u001b[0m \u001b[38;5;28mprint\u001b[39m(r)\n",
      "\u001b[0;31mTypeError\u001b[0m: Cannot interpret '3' as a data type"
     ]
    }
   ],
   "source": [
    "r = np.zeros(2,3)#so this creates a numpy array of zeros with the shape 2,3\n",
    "print(r)"
   ]
  },
  {
   "cell_type": "markdown",
   "id": "1c2c2727",
   "metadata": {},
   "source": [
    "So this doesn't work because we're meant to put out shape () into the np.zeros()"
   ]
  },
  {
   "cell_type": "code",
   "execution_count": 112,
   "id": "21cc67f5",
   "metadata": {},
   "outputs": [
    {
     "name": "stdout",
     "output_type": "stream",
     "text": [
      "[[0. 0. 0.]\n",
      " [0. 0. 0.]]\n"
     ]
    }
   ],
   "source": [
    "r = np.zeros((2,3))#so this creates a numpy array of zeros with the shape 2,3\n",
    "print(r)"
   ]
  },
  {
   "cell_type": "markdown",
   "id": "1618c651",
   "metadata": {},
   "source": [
    "### ONES --> np.ones((the shape))"
   ]
  },
  {
   "cell_type": "code",
   "execution_count": 138,
   "id": "83344dff",
   "metadata": {},
   "outputs": [
    {
     "name": "stdout",
     "output_type": "stream",
     "text": [
      "[[1. 1. 1.]\n",
      " [1. 1. 1.]]\n"
     ]
    }
   ],
   "source": [
    "r1 = np.ones((2,3)) # Just like ZERO's, ONE's generates a numpy array of 1's you just have to specify the shape\n",
    "print(r1)"
   ]
  },
  {
   "cell_type": "markdown",
   "id": "85f634e5",
   "metadata": {},
   "source": [
    "### FULL --> np.full((the shape), the value we want to fill it with)\n",
    "\n",
    "It takes two values: the shape and then the element we want in it\n"
   ]
  },
  {
   "cell_type": "code",
   "execution_count": 140,
   "id": "b0e2860a",
   "metadata": {},
   "outputs": [
    {
     "name": "stdout",
     "output_type": "stream",
     "text": [
      "[[70 70 70]\n",
      " [70 70 70]]\n"
     ]
    }
   ],
   "source": [
    "r2 = np.full((2,3), 70)\n",
    "print(r2) #so it gives a 2 by 3 matrix with full of values 70"
   ]
  },
  {
   "cell_type": "code",
   "execution_count": 144,
   "id": "974104a4",
   "metadata": {},
   "outputs": [
    {
     "name": "stdout",
     "output_type": "stream",
     "text": [
      "[[[50 50]\n",
      "  [50 50]\n",
      "  [50 50]]\n",
      "\n",
      " [[50 50]\n",
      "  [50 50]\n",
      "  [50 50]]\n",
      "\n",
      " [[50 50]\n",
      "  [50 50]\n",
      "  [50 50]]\n",
      "\n",
      " [[50 50]\n",
      "  [50 50]\n",
      "  [50 50]]]\n",
      "3\n",
      "(4, 3, 2)\n"
     ]
    }
   ],
   "source": [
    "r3 = np.full((4,3,2), 50) \n",
    "print(r3)\n",
    "print(r3.ndim)\n",
    "print(r3.shape) #This is a 3d array with 4 blocks which have 3 rows and 2 columns"
   ]
  },
  {
   "cell_type": "markdown",
   "id": "e4e8874d",
   "metadata": {},
   "source": [
    "### Understanding np.random\n",
    "\n",
    "### np.random.randint(values to generate from)\n",
    "### np.random.randint(values to generate from, (the shape)) --> for array of integers\n",
    "### np.random.rand(the shape) --> this one is (0,1]\n",
    "\n",
    "\n",
    "np.random: This is the module that contains various random number generation functions.\n",
    "np.random.rand: Uniform random floats in the range [0, 1) ie inclusive of zeros exclusive of 1\n",
    "np.random.randint: Random integers within a specified range.\n",
    "\n",
    "So if we want to do .rand or .randint, we the specify the shape () in the .rand() or .randint()"
   ]
  },
  {
   "cell_type": "code",
   "execution_count": 7,
   "id": "50025ad5",
   "metadata": {},
   "outputs": [
    {
     "name": "stdout",
     "output_type": "stream",
     "text": [
      "[[0.1827114  0.10627763 0.18064379 0.01358386]\n",
      " [0.65255556 0.2605007  0.15214316 0.74618357]\n",
      " [0.45537594 0.22824672 0.69664149 0.93796705]]\n"
     ]
    }
   ],
   "source": [
    "s = np.random.rand(3,4) # This generates random numbers of the shape 3 rows 4 cols \n",
    "#it does not generates a random number between 3 and 4\n",
    "print(s)"
   ]
  },
  {
   "cell_type": "markdown",
   "id": "9399456d",
   "metadata": {},
   "source": [
    "So on a normal day we do this bracket stuff\n",
    "\n",
    "npArr = np.arr([1,2])\n",
    "\n",
    "For zeros we use np.zeros() and in the () we put in the shape in () so np.zeros((2,3))\n",
    "\n",
    "But for random.rand or .randint we have to just use one ()\n",
    "\n",
    "So random.rand takes two values x and y and it generates random numbers between 0 and 1 exclusive of 1 of the shape x rows y cols \n",
    "But random.randint will generate a number between x and y exclusive of y\n",
    "\n",
    "So np.random.randint(2,4) will give you either 2 or 3 because it's between 2 and 4 exclusive of 4\n",
    "but np.random.rand(2,4) will give floats in the range [0, 1) ie inclusive of zeros exclusive of 1\n",
    "\n",
    "For the np.random.randint, if we want an array of random integers, we would have to specify the particular shape\n",
    "\n",
    "\n",
    "Recap of Key Differences:\n",
    "np.zeros((2, 3)): Takes a single argument: a tuple representing the shape (rows, columns).\n",
    "\n",
    "np.random.rand(2, 3): Takes multiple arguments (e.g., 2 and 3), representing the shape of the array.\n",
    "Generates random floats in the range [0, 1).\n",
    "\n",
    "np.random.randint(1, 10, size=(2, 3)):\n",
    "\n",
    "Takes the range (1 to 10, exclusive of 10) and uses the size argument to specify the shape of the array (e.g., (2, 3)).\n",
    "\n",
    "Look below"
   ]
  },
  {
   "cell_type": "code",
   "execution_count": 129,
   "id": "1bce1ce8",
   "metadata": {},
   "outputs": [
    {
     "name": "stdout",
     "output_type": "stream",
     "text": [
      "5\n"
     ]
    }
   ],
   "source": [
    "s2 = np.random.randint(3,8)\n",
    "print(s2)"
   ]
  },
  {
   "cell_type": "code",
   "execution_count": 130,
   "id": "39ad5529",
   "metadata": {},
   "outputs": [
    {
     "name": "stdout",
     "output_type": "stream",
     "text": [
      "[[0.33090259 0.84640448 0.36333549 0.8307395 ]\n",
      " [0.0681076  0.06413726 0.73505279 0.39550341]]\n"
     ]
    }
   ],
   "source": [
    "s3 = np.random.rand(2,4)\n",
    "print(s3)"
   ]
  },
  {
   "cell_type": "code",
   "execution_count": 134,
   "id": "043e95db",
   "metadata": {},
   "outputs": [
    {
     "name": "stdout",
     "output_type": "stream",
     "text": [
      "[[3 1 3]\n",
      " [2 1 1]\n",
      " [2 0 3]\n",
      " [0 2 3]]\n"
     ]
    }
   ],
   "source": [
    "s4 = np.random.randint(0,4, size = (4,3)) # So this is going to give a random integer between 0 and 4 exclusive of 4 \n",
    "# and the shape is going to be 4,3 ie 4 rows 3 columns\n",
    "print(s4)"
   ]
  },
  {
   "cell_type": "markdown",
   "id": "cd5c5e9c",
   "metadata": {},
   "source": [
    "# Numpy  Packages\n",
    "\n",
    "np (NumPy package) \n",
    "\n",
    "---------\n",
    "random (module within NumPy)\n",
    "\n",
    "---------\n",
    "randint (function within the random module) "
   ]
  },
  {
   "cell_type": "markdown",
   "id": "28d60163",
   "metadata": {},
   "source": [
    "# Element-wise addition"
   ]
  },
  {
   "cell_type": "code",
   "execution_count": 135,
   "id": "3bec8fb1",
   "metadata": {},
   "outputs": [
    {
     "name": "stdout",
     "output_type": "stream",
     "text": [
      "[4 5 6 7 8 9]\n"
     ]
    }
   ],
   "source": [
    "t = np.array( [2,3,4,5,6,7])\n",
    "answer = t + 2\n",
    "print(answer)"
   ]
  },
  {
   "cell_type": "markdown",
   "id": "3b8f6c35",
   "metadata": {},
   "source": [
    "# Linear Algebra"
   ]
  },
  {
   "cell_type": "code",
   "execution_count": 136,
   "id": "5fbe5984",
   "metadata": {},
   "outputs": [
    {
     "name": "stdout",
     "output_type": "stream",
     "text": [
      "[[1. 1. 1.]\n",
      " [1. 1. 1.]]\n"
     ]
    }
   ],
   "source": [
    "u = np.ones((2,3)) # Just like we have zeros\n",
    "print(u)"
   ]
  },
  {
   "cell_type": "markdown",
   "id": "08e5638e",
   "metadata": {},
   "source": [
    "### MATMUL\n",
    "\n",
    "Our matrix rule states that if we have to multipy a matrix, the columns of the first have to be same as the rows of the second (like same number)\n",
    "\n",
    "Then our resulting array using matmul will be the row of the first and the column of the second\n",
    "\n",
    "look below"
   ]
  },
  {
   "cell_type": "code",
   "execution_count": 146,
   "id": "0392188f",
   "metadata": {},
   "outputs": [
    {
     "name": "stdout",
     "output_type": "stream",
     "text": [
      "[[1. 1.]\n",
      " [1. 1.]\n",
      " [1. 1.]]\n"
     ]
    }
   ],
   "source": [
    "npOne = np.ones((3,2))\n",
    "print(npOne) #here the shape is 3 rows and 2 columns so if we're multiplying the other array has to have 2 rows"
   ]
  },
  {
   "cell_type": "code",
   "execution_count": 149,
   "id": "0000a4a5",
   "metadata": {},
   "outputs": [],
   "source": [
    "#npRandomInt = np.random.randint((2,9), size = (2,4)) #This is an array of 2 rows 3 columns with values [2,9) ie 9 exclusive\n",
    "# This is wrong because the values of lower and upper bound 2,9 shouldn't be in () look below"
   ]
  },
  {
   "cell_type": "code",
   "execution_count": 153,
   "id": "787e135f",
   "metadata": {},
   "outputs": [],
   "source": [
    "npRandomInt = np.random.randint(2,9, size = (2,4)) #so it takes in 3 values "
   ]
  },
  {
   "cell_type": "code",
   "execution_count": 154,
   "id": "e7d6e249",
   "metadata": {},
   "outputs": [
    {
     "name": "stdout",
     "output_type": "stream",
     "text": [
      "[[6 7 6 7]\n",
      " [8 3 8 8]]\n"
     ]
    }
   ],
   "source": [
    "print(npRandomInt)"
   ]
  },
  {
   "cell_type": "code",
   "execution_count": 155,
   "id": "55561995",
   "metadata": {},
   "outputs": [
    {
     "name": "stdout",
     "output_type": "stream",
     "text": [
      "[[14. 10. 14. 15.]\n",
      " [14. 10. 14. 15.]\n",
      " [14. 10. 14. 15.]]\n"
     ]
    }
   ],
   "source": [
    "multiplication1 = np.matmul(npOne, npRandomInt)\n",
    "print(multiplication1)"
   ]
  },
  {
   "cell_type": "markdown",
   "id": "43742dc7",
   "metadata": {},
   "source": [
    "### SUM and axis\n",
    "\n",
    "\n",
    "The axis argument controls whether you are performing the operation along the rows or columns of the array. \n",
    "\n",
    "\n",
    "0 is for columns \n",
    "\n",
    "--\n",
    "\n",
    "1 is for rows\n",
    "\n",
    "\n",
    "-- \n",
    "\n",
    "So sum is np.sum()\n",
    "\n",
    "It takes two parameters (the variable that holds the array and the axis we want)\n"
   ]
  },
  {
   "cell_type": "code",
   "execution_count": 156,
   "id": "adfab2c5",
   "metadata": {},
   "outputs": [
    {
     "name": "stdout",
     "output_type": "stream",
     "text": [
      "(2, 3)\n",
      "[5 7 9]\n",
      "[ 6 15]\n"
     ]
    }
   ],
   "source": [
    "v = np.array([[1,2,3],[4,5,6]])\n",
    "print(v.shape)\n",
    "print(np.sum(v,axis=0))\n",
    "print(np.sum(v,axis=1))"
   ]
  },
  {
   "cell_type": "markdown",
   "id": "b48614f0",
   "metadata": {},
   "source": [
    "So axis = 0 sums column by column\n",
    "\n",
    "--\n",
    "\n",
    "While axis = 1 sums row by row\n",
    "\n",
    "--\n",
    "\n",
    "axis 0 --> 1+4, 2+5, 3+6 = 5,7,9\n",
    "\n",
    "--\n",
    "\n",
    "axis 1 --> 1+2+3, 4+5+6 = 6,15"
   ]
  },
  {
   "cell_type": "markdown",
   "id": "4142f9d9",
   "metadata": {},
   "source": [
    "### Getting data from txt file ---> npgenfromtxt()"
   ]
  },
  {
   "cell_type": "code",
   "execution_count": 158,
   "id": "b1566c08",
   "metadata": {},
   "outputs": [
    {
     "name": "stdout",
     "output_type": "stream",
     "text": [
      "[[False False False False False False False]\n",
      " [ True  True  True False False  True  True]\n",
      " [False False False False  True  True  True]]\n"
     ]
    }
   ],
   "source": [
    "sc = np.genfromtxt(\"scores.txt\", delimiter=',')\n",
    "s = sc > 10\n",
    "print(s)\n"
   ]
  },
  {
   "cell_type": "markdown",
   "id": "9703b055",
   "metadata": {},
   "source": [
    "s = sc > 10:\n",
    "\n",
    "This performs a comparison operation.\n",
    "Each element in sc is compared to 10, and the result is a Boolean array of the same shape as sc.\n",
    "If an element in sc is greater than 10, the corresponding element in s is True; otherwise, it is False.\n",
    "For the above example, the comparison works like this:\n",
    "\n",
    "For the first row: [5, 8, 12, 6, 3, 10, 7], values greater than 10 are 12, so the result is: [False, False, True, False, False, False, False]\n",
    "For the second row: [14, 20, 15, 8, 9, 13, 17], values greater than 10 are 14, 20, 15, 13, 17, so the result is: [True, True, True, False, False, True, True]\n",
    "For the third row: [4, 6, 2, 10, 11, 18, 25], values greater than 10 are 11, 18, 25, so the result is: [False, False, False, False, True, True, True]"
   ]
  },
  {
   "cell_type": "code",
   "execution_count": 159,
   "id": "8030349f",
   "metadata": {},
   "outputs": [
    {
     "name": "stdout",
     "output_type": "stream",
     "text": [
      "[[ 1.  2.  3.  4.  5.  6.  7.]\n",
      " [12. 34. 67.  8.  0. 12. 34.]\n",
      " [ 3.  4.  6.  7. 89. 12. 12.]]\n"
     ]
    }
   ],
   "source": [
    "print(sc)"
   ]
  },
  {
   "cell_type": "code",
   "execution_count": 160,
   "id": "a4cfba94",
   "metadata": {},
   "outputs": [
    {
     "name": "stdout",
     "output_type": "stream",
     "text": [
      "[12. 34. 67. 12. 34. 89. 12. 12.]\n"
     ]
    }
   ],
   "source": [
    "print(sc[s]) #That is elements greater than 10"
   ]
  },
  {
   "cell_type": "markdown",
   "id": "ebe28e90",
   "metadata": {},
   "source": [
    "### Getting average - np.average()"
   ]
  },
  {
   "cell_type": "code",
   "execution_count": 161,
   "id": "c524cbf8",
   "metadata": {},
   "outputs": [],
   "source": [
    "our_numbers = np.genfromtxt('scores.txt', delimiter = ',')\n",
    "\n",
    "average_numbers = np.average(our_numbers)"
   ]
  },
  {
   "cell_type": "code",
   "execution_count": 162,
   "id": "b4520533",
   "metadata": {},
   "outputs": [
    {
     "name": "stdout",
     "output_type": "stream",
     "text": [
      "15.619047619047619\n"
     ]
    }
   ],
   "source": [
    "print(average_numbers)"
   ]
  },
  {
   "cell_type": "markdown",
   "id": "31dbc0d1",
   "metadata": {},
   "source": [
    "### Getting max - np.max()"
   ]
  },
  {
   "cell_type": "code",
   "execution_count": 165,
   "id": "204bb321",
   "metadata": {},
   "outputs": [
    {
     "name": "stdout",
     "output_type": "stream",
     "text": [
      "89.0\n"
     ]
    }
   ],
   "source": [
    "our_max = np.max(our_numbers)\n",
    "print(our_max)"
   ]
  },
  {
   "cell_type": "markdown",
   "id": "e29d5a77",
   "metadata": {},
   "source": [
    "### Getting min - np.min()"
   ]
  },
  {
   "cell_type": "code",
   "execution_count": 166,
   "id": "2f1c945c",
   "metadata": {},
   "outputs": [
    {
     "name": "stdout",
     "output_type": "stream",
     "text": [
      "0.0\n"
     ]
    }
   ],
   "source": [
    "our_min = np.min(our_numbers)\n",
    "print(our_min)"
   ]
  },
  {
   "cell_type": "markdown",
   "id": "197a6f10",
   "metadata": {},
   "source": [
    "### Get the total number of students who had 30 and above --> np.sum()"
   ]
  },
  {
   "cell_type": "code",
   "execution_count": 168,
   "id": "78494c71",
   "metadata": {},
   "outputs": [
    {
     "name": "stdout",
     "output_type": "stream",
     "text": [
      "[[False False False False False False False]\n",
      " [False  True  True False False False  True]\n",
      " [False False False False  True False False]]\n"
     ]
    }
   ],
   "source": [
    "greater_than_30 = our_numbers > 30\n",
    "\n",
    "print(greater_than_30) #So this doesn't give exactly what we want so check the next code block"
   ]
  },
  {
   "cell_type": "code",
   "execution_count": 169,
   "id": "95de8cb7",
   "metadata": {},
   "outputs": [
    {
     "name": "stdout",
     "output_type": "stream",
     "text": [
      "4\n"
     ]
    }
   ],
   "source": [
    "greater_than_30 = our_numbers >= 30\n",
    "count = np.sum(greater_than_30)\n",
    "print(count)"
   ]
  },
  {
   "cell_type": "code",
   "execution_count": 170,
   "id": "7d6e6e68",
   "metadata": {},
   "outputs": [
    {
     "name": "stdout",
     "output_type": "stream",
     "text": [
      "4\n"
     ]
    }
   ],
   "source": [
    "sc = np.genfromtxt(\"scores.txt\",delimiter=',')\n",
    "thirty_and_above = sc >=30\n",
    "number = sc[thirty_and_above]\n",
    "print(len(number))"
   ]
  },
  {
   "cell_type": "markdown",
   "id": "2151e5e0",
   "metadata": {},
   "source": [
    "So these two codes above are different solutions to the problem but I prefer the 1st one the np.sum"
   ]
  },
  {
   "cell_type": "code",
   "execution_count": 171,
   "id": "460323ed",
   "metadata": {},
   "outputs": [
    {
     "name": "stdout",
     "output_type": "stream",
     "text": [
      "[[2700 3000 3000]\n",
      " [2600 2800 2800]\n",
      " [2300 2500 2500]]\n"
     ]
    }
   ],
   "source": [
    "jeff_salary = [2700,3000,3000]\n",
    "nick_salary = [2600,2800,2800]\n",
    "tom_salary = [2300,2500,2500] \n",
    "base_salary = np.array([jeff_salary, nick_salary, tom_salary])\n",
    "print(base_salary)"
   ]
  },
  {
   "cell_type": "code",
   "execution_count": 172,
   "id": "628010cf",
   "metadata": {},
   "outputs": [],
   "source": [
    "jeff_bonus = [500,400,400]\n",
    "nick_bonus = [600,300,400]\n",
    "tom_bonus = [200,500,400]\n",
    "bonus = np.array([jeff_bonus, nick_bonus, \n",
    "tom_bonus])"
   ]
  },
  {
   "cell_type": "markdown",
   "id": "9ad1aee2",
   "metadata": {},
   "source": [
    "So we have the base salary and we also have the bonus what we want to do is to add the base salary to the bonus to see the salary and bonus together"
   ]
  },
  {
   "cell_type": "code",
   "execution_count": 173,
   "id": "1fad254f",
   "metadata": {},
   "outputs": [
    {
     "name": "stdout",
     "output_type": "stream",
     "text": [
      "[[3200 3400 3400]\n",
      " [3200 3100 3200]\n",
      " [2500 3000 2900]]\n"
     ]
    }
   ],
   "source": [
    "salary_and_bonus = base_salary + bonus\n",
    "print(salary_and_bonus)"
   ]
  },
  {
   "cell_type": "code",
   "execution_count": 175,
   "id": "83fbc813",
   "metadata": {},
   "outputs": [
    {
     "name": "stdout",
     "output_type": "stream",
     "text": [
      "3400\n"
     ]
    }
   ],
   "source": [
    "max_salary = np.max(salary_and_bonus)\n",
    "print(max_salary)"
   ]
  },
  {
   "cell_type": "code",
   "execution_count": 176,
   "id": "2f606b10",
   "metadata": {},
   "outputs": [
    {
     "name": "stdout",
     "output_type": "stream",
     "text": [
      "2500\n"
     ]
    }
   ],
   "source": [
    "min_salary = np.min(salary_and_bonus)\n",
    "print(min_salary)"
   ]
  },
  {
   "cell_type": "markdown",
   "id": "507d5d06",
   "metadata": {},
   "source": [
    "NumPy can also find the maximum value of \n",
    "an array along a given axis."
   ]
  },
  {
   "cell_type": "code",
   "execution_count": 180,
   "id": "967e75c3",
   "metadata": {},
   "outputs": [
    {
     "name": "stdout",
     "output_type": "stream",
     "text": [
      "[3400 3200 3000]\n"
     ]
    }
   ],
   "source": [
    "print(np.amax(salary_and_bonus, axis = 1)) # that is the highest value per row. Remember row is 1"
   ]
  },
  {
   "cell_type": "code",
   "execution_count": 181,
   "id": "1f3bddd2",
   "metadata": {},
   "outputs": [
    {
     "name": "stdout",
     "output_type": "stream",
     "text": [
      "[3200 3400 3400]\n"
     ]
    }
   ],
   "source": [
    "print(np.amax(salary_and_bonus, axis = 0)) # that is highest value per column. Remember column is 0"
   ]
  },
  {
   "cell_type": "code",
   "execution_count": 182,
   "id": "813aa943",
   "metadata": {},
   "outputs": [],
   "source": [
    "t = np.array([[[[1,2,3],[4,5,6]],[[5,6,7],[3,4,5]]],[[[1,2,3],[4,5,6]],[[5,6,\n",
    "7],[3,4,5]]]])"
   ]
  },
  {
   "cell_type": "markdown",
   "id": "7144a6fa",
   "metadata": {},
   "source": [
    "The below is wrong please check the next block of markdown but go through this to see the error after seeing the right code\n",
    "\n",
    "So let's discover the shape and dimension of this\n",
    "[\n",
    "    [\n",
    "        [\n",
    "            [1,2,3],\n",
    "            [4,5,6]\n",
    "        ]\n",
    "        \n",
    "        [\n",
    "            [5,6,7],\n",
    "            [3,4,5]\n",
    "        ]\n",
    "        [\n",
    "            [1,2,3],\n",
    "            [4,5,6]\n",
    "        ]\n",
    "        [\n",
    "            [5,6,7],\n",
    "            [3,4,5]\n",
    "        ]\n",
    "    ]\n",
    "]\n",
    "\n",
    "\n",
    "So we have a 4D\n",
    "\n",
    "The shape is: We have 1 block of 3d, we have 4 sub blocks of 2d which has 2 rows 4 columns\n",
    "So it the shpae should be (1,4,2,4)"
   ]
  },
  {
   "cell_type": "markdown",
   "id": "5b132fa5",
   "metadata": {},
   "source": [
    "[\n",
    "\n",
    "    [\n",
    "        [[1,2,3],[4,5,6]],\n",
    "        [[5,6,7],[3,4,5]]\n",
    "    ],\n",
    "    [\n",
    "        [[1,2,3],[4,5,6]],\n",
    "        [[5,6,7],[3,4,5]]\n",
    "    ]\n",
    "\n",
    "]\n",
    "\n",
    "\n",
    "So this is "
   ]
  },
  {
   "cell_type": "code",
   "execution_count": 8,
   "id": "d0febf32",
   "metadata": {},
   "outputs": [
    {
     "name": "stdout",
     "output_type": "stream",
     "text": [
      "(2, 3)\n",
      "[5 7 9]\n",
      "[ 6 15]\n"
     ]
    }
   ],
   "source": [
    "v = np.array([[1,2,3],[4,5,6]])\n",
    "print(v.shape)\n",
    "print(np.sum(v,axis=0))\n",
    "print(np.sum(v,axis=1))"
   ]
  },
  {
   "cell_type": "markdown",
   "id": "a54c10e9",
   "metadata": {},
   "source": [
    "1 2 3\n",
    "4 5 6"
   ]
  },
  {
   "cell_type": "code",
   "execution_count": null,
   "id": "0e3e4fd9",
   "metadata": {},
   "outputs": [],
   "source": [
    "u = np.array([[1,2,3],[4,5,6]])\n",
    "print(u.shape)\n",
    "print(np.sum(u,axis=0))\n",
    "print(np.sum(u,axis=1))"
   ]
  },
  {
   "cell_type": "code",
   "execution_count": 11,
   "id": "e303659b",
   "metadata": {},
   "outputs": [
    {
     "name": "stdout",
     "output_type": "stream",
     "text": [
      "(2, 2, 3)\n"
     ]
    }
   ],
   "source": [
    "w =np.array ([[[1,2,3],[4,5,6]],[[5,6,7],[3,4,5]]])\n",
    "print(w.shape)"
   ]
  },
  {
   "cell_type": "code",
   "execution_count": 12,
   "id": "e20b5136",
   "metadata": {},
   "outputs": [
    {
     "name": "stdout",
     "output_type": "stream",
     "text": [
      "[[ 6 15]\n",
      " [18 12]]\n"
     ]
    }
   ],
   "source": [
    "wSum = np.sum(w, axis=2)\n",
    "print(wSum)"
   ]
  },
  {
   "cell_type": "markdown",
   "id": "4ce25f0b",
   "metadata": {},
   "source": [
    "Step-by-step calculation:\n",
    "\n",
    "Block 1:\n",
    "Row 1: 1 + 2 + 3 = 6\n",
    "\n",
    "Row 2: 4 + 5 + 6 = 15\n",
    "\n",
    "\n",
    "Block 2:\n",
    "Row 1: 5 + 6 + 7 = 18\n",
    "\n",
    "Row 2: 3 + 4 + 5 = 12"
   ]
  },
  {
   "cell_type": "code",
   "execution_count": 13,
   "id": "1f301be7",
   "metadata": {},
   "outputs": [
    {
     "name": "stdout",
     "output_type": "stream",
     "text": [
      "[[ 5  7  9]\n",
      " [ 8 10 12]]\n"
     ]
    }
   ],
   "source": [
    "wSum = np.sum(w, axis=1)\n",
    "print(wSum)"
   ]
  },
  {
   "cell_type": "code",
   "execution_count": 17,
   "id": "d1f63b8d",
   "metadata": {},
   "outputs": [
    {
     "name": "stdout",
     "output_type": "stream",
     "text": [
      "[[[1 2 3]\n",
      "  [4 5 6]]\n",
      "\n",
      " [[5 6 7]\n",
      "  [3 4 5]]]\n",
      "    \n",
      "    \n",
      "[[ 6  8 10]\n",
      " [ 7  9 11]]\n"
     ]
    }
   ],
   "source": [
    "wSum = np.sum(w, axis=0)\n",
    "print(w)\n",
    "print(\"    \")\n",
    "\n",
    "print(\"    \")\n",
    "\n",
    "print(wSum)"
   ]
  },
  {
   "cell_type": "code",
   "execution_count": null,
   "id": "f9aea7e7",
   "metadata": {},
   "outputs": [],
   "source": []
  }
 ],
 "metadata": {
  "kernelspec": {
   "display_name": "Python 3 (ipykernel)",
   "language": "python",
   "name": "python3"
  },
  "language_info": {
   "codemirror_mode": {
    "name": "ipython",
    "version": 3
   },
   "file_extension": ".py",
   "mimetype": "text/x-python",
   "name": "python",
   "nbconvert_exporter": "python",
   "pygments_lexer": "ipython3",
   "version": "3.11.5"
  }
 },
 "nbformat": 4,
 "nbformat_minor": 5
}
