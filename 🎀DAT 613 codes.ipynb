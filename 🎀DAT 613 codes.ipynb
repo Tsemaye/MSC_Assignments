{
 "cells": [
  {
   "cell_type": "markdown",
   "id": "87ffcac3",
   "metadata": {},
   "source": [
    "### The assignment sign is \"=\""
   ]
  },
  {
   "cell_type": "markdown",
   "id": "a44ab00d",
   "metadata": {},
   "source": [
    "# Assigning Values to Variables"
   ]
  },
  {
   "cell_type": "code",
   "execution_count": 7,
   "id": "bb28e8d4",
   "metadata": {},
   "outputs": [],
   "source": [
    "age = 24 #integer\n",
    "name = \"John\" #string\n",
    "weight = 80.7 #float\n",
    "isMale = True\n",
    "isFemale = False\n"
   ]
  },
  {
   "cell_type": "code",
   "execution_count": 8,
   "id": "3213beef",
   "metadata": {},
   "outputs": [
    {
     "name": "stdout",
     "output_type": "stream",
     "text": [
      "100\n",
      "John\n",
      "80.7\n",
      "True\n",
      "False\n"
     ]
    }
   ],
   "source": [
    "print(counter)\n",
    "print(name)\n",
    "print(weight)\n",
    "print(isMale)\n",
    "print(isFemale)"
   ]
  },
  {
   "cell_type": "markdown",
   "id": "2fb226bc",
   "metadata": {},
   "source": [
    "## Multiple assignment"
   ]
  },
  {
   "cell_type": "markdown",
   "id": "b8fb2f85",
   "metadata": {},
   "source": [
    "### Python allows you to assign a single value to several variables simultaneously.\n",
    "### Here, an integer is created with the value 1, and all the three variables are assigned to the same memory location."
   ]
  },
  {
   "cell_type": "code",
   "execution_count": 10,
   "id": "21b455f4",
   "metadata": {},
   "outputs": [],
   "source": [
    "a = b = c = 1"
   ]
  },
  {
   "cell_type": "code",
   "execution_count": 11,
   "id": "94b975c7",
   "metadata": {},
   "outputs": [
    {
     "name": "stdout",
     "output_type": "stream",
     "text": [
      "1\n",
      "1\n",
      "1\n"
     ]
    }
   ],
   "source": [
    "print (a)\n",
    "print (b)\n",
    "print (c)"
   ]
  },
  {
   "cell_type": "markdown",
   "id": "702d4171",
   "metadata": {},
   "source": [
    "### You can also assign multiple objects to multiple variables. For example"
   ]
  },
  {
   "cell_type": "code",
   "execution_count": 12,
   "id": "fa7ad86c",
   "metadata": {},
   "outputs": [],
   "source": [
    "name, age, weight = \"John\", 24, 82.7"
   ]
  },
  {
   "cell_type": "code",
   "execution_count": 13,
   "id": "197c400e",
   "metadata": {},
   "outputs": [
    {
     "name": "stdout",
     "output_type": "stream",
     "text": [
      "John 24 82.7\n"
     ]
    }
   ],
   "source": [
    "print(name, age, weight)"
   ]
  },
  {
   "cell_type": "markdown",
   "id": "93d78874",
   "metadata": {},
   "source": [
    "# Unpack a list"
   ]
  },
  {
   "cell_type": "code",
   "execution_count": 33,
   "id": "f8f89720",
   "metadata": {},
   "outputs": [
    {
     "name": "stdout",
     "output_type": "stream",
     "text": [
      "apple orange banana\n"
     ]
    }
   ],
   "source": [
    "fruits = [\"apple\", \"orange\", \"banana\"]\n",
    "x, y, z = fruits\n",
    "print (x, y, z)"
   ]
  },
  {
   "cell_type": "code",
   "execution_count": null,
   "id": "6939c818",
   "metadata": {},
   "outputs": [],
   "source": []
  },
  {
   "cell_type": "code",
   "execution_count": null,
   "id": "f88c5c2a",
   "metadata": {},
   "outputs": [],
   "source": []
  },
  {
   "cell_type": "code",
   "execution_count": null,
   "id": "317ec4ac",
   "metadata": {},
   "outputs": [],
   "source": []
  },
  {
   "cell_type": "code",
   "execution_count": null,
   "id": "e3bdee31",
   "metadata": {},
   "outputs": [],
   "source": []
  },
  {
   "cell_type": "markdown",
   "id": "bf60554d",
   "metadata": {},
   "source": [
    "# 5 Standard Data Types"
   ]
  },
  {
   "cell_type": "markdown",
   "id": "1fbe74db",
   "metadata": {},
   "source": [
    "### Always give examples in tests and exams\n",
    "### 1. Numbers: int, float, complex\n",
    "\n",
    "#### Int, or integer, is a whole number, positive or \"negative\", without decimals, of unlimited length. (e.g., 10, -5, 0)\n",
    "\n",
    "#### Float, or \"floating point number\" is a number, positive or negative, containing one or more decimals. (e.g., 3.14, -2.5, 1.0e5)\n",
    "\n",
    "#### Float can also be scientific numbers with an \"e\" to indicate the power of 10.  (e.g., 2+3j, -1-0.5j)\n",
    "##### z = -87.7e100\n",
    "\n",
    "\n",
    "### 2. Strings: Represents sequences of characters enclosed in single, double or triple quotes.  (e.g., \"hello\", 'world', \"123\", \"\"\"Hi\"\"\")\n",
    "### 3. List: Ordered, mutable (mutable, meaning their elements can be modified after creation. You can add, remove, or change elements using various methods ) collections of elements (e.g., [1, 2, 3], [\"apple\", \"banana\", \"orange\"])\n",
    "### 4. Tuples: Ordered, immutable (immutable, meaning their elements can't be modified after creation)  collections of elements (e.g., (1, 2, 3), (\"apple\", \"banana\", \"orange\"))\n",
    "### 5. Dictionary: Unordered key-value pairs (e.g., {\"name\": \"Alice\", \"age\": 30, \"city\": \"New York\"})\n",
    "### 6. Boolean: Represents True or False values (e.g., True, False)"
   ]
  },
  {
   "cell_type": "markdown",
   "id": "7f8a3987",
   "metadata": {},
   "source": [
    "# Python Numbers"
   ]
  },
  {
   "cell_type": "markdown",
   "id": "fdfa4bfb",
   "metadata": {},
   "source": [
    "#### Number data types store numeric values. Python supports two different numerical types they are: integers and floating point numbers. For example\n"
   ]
  },
  {
   "cell_type": "code",
   "execution_count": 17,
   "id": "fcf1d3a2",
   "metadata": {},
   "outputs": [
    {
     "name": "stdout",
     "output_type": "stream",
     "text": [
      "10\n",
      "10.8\n"
     ]
    }
   ],
   "source": [
    "var1 = 10\n",
    "var2 = 10.8\n",
    "print(var1)\n",
    "print(var2)\n"
   ]
  },
  {
   "cell_type": "markdown",
   "id": "5724e12e",
   "metadata": {},
   "source": [
    "# Python Strings"
   ]
  },
  {
   "cell_type": "markdown",
   "id": "abaca810",
   "metadata": {},
   "source": [
    "#### Strings are contiguous set of characters that are enclosed in quotation marks either ' or \""
   ]
  },
  {
   "cell_type": "code",
   "execution_count": 5,
   "id": "df148b69",
   "metadata": {},
   "outputs": [
    {
     "name": "stdout",
     "output_type": "stream",
     "text": [
      "Strings are contiguous set of characters that \n",
      " are enclosed in quotation marks either\" or ' or \"\"\"\"\"\" \n"
     ]
    }
   ],
   "source": [
    "print(\"Strings are contiguous set of characters that \\n are enclosed in quotation marks either\\\" or ' or \\\"\\\"\\\"\\\"\\\"\\\" \")"
   ]
  },
  {
   "cell_type": "markdown",
   "id": "f7053c36",
   "metadata": {},
   "source": [
    "Subsets of strings can be taken using the\n",
    "slice operator ([ ] and [:] ) with indexes starting at 0 in the\n",
    "beginning of the string and working their way from -1 to the end."
   ]
  },
  {
   "cell_type": "markdown",
   "id": "9367397a",
   "metadata": {},
   "source": [
    "### The plus (+) sign is the string concatenation operator and the asterisk (*) is the repetition operator."
   ]
  },
  {
   "cell_type": "code",
   "execution_count": 6,
   "id": "f5cd9ac1",
   "metadata": {},
   "outputs": [
    {
     "name": "stdout",
     "output_type": "stream",
     "text": [
      "hi\n",
      "hihihihi\n"
     ]
    }
   ],
   "source": [
    "h = \"h\"\n",
    "i = \"i\"\n",
    "\n",
    "HI = h + i\n",
    "print(HI)\n",
    "print (HI * 4)"
   ]
  },
  {
   "cell_type": "code",
   "execution_count": 9,
   "id": "edf0de7e",
   "metadata": {},
   "outputs": [],
   "source": [
    "greeting = \"Hi there\""
   ]
  },
  {
   "cell_type": "code",
   "execution_count": 2,
   "id": "c7481707",
   "metadata": {},
   "outputs": [
    {
     "name": "stdout",
     "output_type": "stream",
     "text": [
      "H\n"
     ]
    }
   ],
   "source": [
    "print(greeting[0])"
   ]
  },
  {
   "cell_type": "code",
   "execution_count": 3,
   "id": "d32a9578",
   "metadata": {},
   "outputs": [
    {
     "name": "stdout",
     "output_type": "stream",
     "text": [
      "e\n"
     ]
    }
   ],
   "source": [
    "print(greeting[-1])"
   ]
  },
  {
   "cell_type": "code",
   "execution_count": 4,
   "id": "237cceb6",
   "metadata": {},
   "outputs": [
    {
     "name": "stdout",
     "output_type": "stream",
     "text": [
      "i t\n"
     ]
    }
   ],
   "source": [
    "print(greeting[1:4])"
   ]
  },
  {
   "cell_type": "code",
   "execution_count": 36,
   "id": "b3d2fe70",
   "metadata": {},
   "outputs": [
    {
     "name": "stdout",
     "output_type": "stream",
     "text": [
      "Hi there\n"
     ]
    }
   ],
   "source": [
    "print(greeting[0:8])#🎀🎀🎀🎀 7 characters but use 8 exclusive of 8"
   ]
  },
  {
   "cell_type": "code",
   "execution_count": 41,
   "id": "52aba81b",
   "metadata": {},
   "outputs": [
    {
     "name": "stdout",
     "output_type": "stream",
     "text": [
      "Hi ther\n"
     ]
    }
   ],
   "source": [
    "print(greeting[-8:-1]) #greeting[-8:-1] will extract the characters from the 8th position from the end (inclusive) \n",
    "#to the 1st position from the end (exclusive) of the string.\n"
   ]
  },
  {
   "cell_type": "markdown",
   "id": "392fbf92",
   "metadata": {},
   "source": [
    "### AVOID THIS MISTAKE! NOTE THAT THE STOP INDEX IS EXCLUSIVE OF THE STOP INDEX, SO IT STOPS JUST BEFORE IT WHETHER + OR -"
   ]
  },
  {
   "cell_type": "code",
   "execution_count": 40,
   "id": "97c724e2",
   "metadata": {},
   "outputs": [
    {
     "name": "stdout",
     "output_type": "stream",
     "text": [
      "Hi there\n"
     ]
    }
   ],
   "source": [
    "print(greeting[-8:])"
   ]
  },
  {
   "cell_type": "markdown",
   "id": "d66391d1",
   "metadata": {},
   "source": [
    "#### [1:4] will print from the 2 character to the third"
   ]
  },
  {
   "cell_type": "code",
   "execution_count": 5,
   "id": "ce7272d6",
   "metadata": {},
   "outputs": [
    {
     "name": "stdout",
     "output_type": "stream",
     "text": [
      "i the\n"
     ]
    }
   ],
   "source": [
    "print(greeting[1:6])"
   ]
  },
  {
   "cell_type": "code",
   "execution_count": 6,
   "id": "5740139b",
   "metadata": {},
   "outputs": [
    {
     "name": "stdout",
     "output_type": "stream",
     "text": [
      " there\n"
     ]
    }
   ],
   "source": [
    "print(greeting[2:]) #Omitting end index (default is the end of the string)"
   ]
  },
  {
   "cell_type": "markdown",
   "id": "59948f33",
   "metadata": {},
   "source": [
    "### To get every third character\n",
    "#### ie start at the index, jump 2 pick the next, jump 2 pick the next "
   ]
  },
  {
   "cell_type": "code",
   "execution_count": 11,
   "id": "dd40c07d",
   "metadata": {},
   "outputs": [
    {
     "name": "stdout",
     "output_type": "stream",
     "text": [
      "Htr\n",
      "Htr\n"
     ]
    }
   ],
   "source": [
    "print(greeting[::3])\n",
    "print(greeting[0:8:3])\n"
   ]
  },
  {
   "cell_type": "markdown",
   "id": "a8e39a36",
   "metadata": {},
   "source": [
    "### To get every second character"
   ]
  },
  {
   "cell_type": "markdown",
   "id": "234406af",
   "metadata": {},
   "source": [
    "### To get every second character\n",
    "#### ie start at the index, jump 1 pick the next, jump 1 pick the next "
   ]
  },
  {
   "cell_type": "code",
   "execution_count": 44,
   "id": "55d33490",
   "metadata": {},
   "outputs": [
    {
     "name": "stdout",
     "output_type": "stream",
     "text": [
      "H hr\n"
     ]
    }
   ],
   "source": [
    "print(greeting[::2])"
   ]
  },
  {
   "cell_type": "code",
   "execution_count": 49,
   "id": "19d24227",
   "metadata": {},
   "outputs": [
    {
     "name": "stdout",
     "output_type": "stream",
     "text": [
      "ce\n",
      "clb\n"
     ]
    }
   ],
   "source": [
    "name7 = \"caleb\"\n",
    "print(name7[::3])\n",
    "print(name7[::2])"
   ]
  },
  {
   "cell_type": "code",
   "execution_count": 7,
   "id": "9d9ac98e",
   "metadata": {},
   "outputs": [
    {
     "name": "stdout",
     "output_type": "stream",
     "text": [
      "Hi thereHi there\n"
     ]
    }
   ],
   "source": [
    "print(greeting * 2)"
   ]
  },
  {
   "cell_type": "code",
   "execution_count": 9,
   "id": "73265bd4",
   "metadata": {},
   "outputs": [
    {
     "name": "stdout",
     "output_type": "stream",
     "text": [
      "Hi there Jane\n"
     ]
    }
   ],
   "source": [
    "print(greeting + \" \" + \"Jane\")"
   ]
  },
  {
   "cell_type": "markdown",
   "id": "adc10724",
   "metadata": {},
   "source": [
    "# Get the entire string in reverse\n"
   ]
  },
  {
   "cell_type": "code",
   "execution_count": 50,
   "id": "d56a06c6",
   "metadata": {},
   "outputs": [
    {
     "name": "stdout",
     "output_type": "stream",
     "text": [
      "ereht iH\n"
     ]
    }
   ],
   "source": [
    "print(greeting[::-1])"
   ]
  },
  {
   "cell_type": "code",
   "execution_count": 12,
   "id": "87594753",
   "metadata": {},
   "outputs": [
    {
     "name": "stdout",
     "output_type": "stream",
     "text": [
      "eeti\n"
     ]
    }
   ],
   "source": [
    "print(greeting[::-2])"
   ]
  },
  {
   "cell_type": "markdown",
   "id": "27aa02ae",
   "metadata": {},
   "source": [
    "#### So [::1]\n",
    "#### will reverse Hi there to ereht iH\n",
    "#### That means [::2] will reverse and skip every 1 character after the start index here is 0\n",
    "#### It will be eeti"
   ]
  },
  {
   "cell_type": "markdown",
   "id": "3d340577",
   "metadata": {},
   "source": [
    "# Slicing with variables"
   ]
  },
  {
   "cell_type": "code",
   "execution_count": 51,
   "id": "c8e2f0d6",
   "metadata": {},
   "outputs": [
    {
     "name": "stdout",
     "output_type": "stream",
     "text": [
      "i the\n"
     ]
    }
   ],
   "source": [
    "a = 1\n",
    "b = 6\n",
    "print(greeting[a:b])"
   ]
  },
  {
   "cell_type": "markdown",
   "id": "c9499dd1",
   "metadata": {},
   "source": [
    "# Slicing classwork"
   ]
  },
  {
   "cell_type": "code",
   "execution_count": 54,
   "id": "8bc40ffc",
   "metadata": {},
   "outputs": [
    {
     "ename": "TypeError",
     "evalue": "'result1' is an invalid keyword argument for print()",
     "output_type": "error",
     "traceback": [
      "\u001b[0;31m---------------------------------------------------------------------------\u001b[0m",
      "\u001b[0;31mTypeError\u001b[0m                                 Traceback (most recent call last)",
      "Cell \u001b[0;32mIn[54], line 7\u001b[0m\n\u001b[1;32m      4\u001b[0m result \u001b[38;5;241m=\u001b[39m my_string[\u001b[38;5;241m-\u001b[39m\u001b[38;5;241m1\u001b[39m::\u001b[38;5;241m-\u001b[39m\u001b[38;5;241m2\u001b[39m]\n\u001b[1;32m      5\u001b[0m result \u001b[38;5;241m=\u001b[39m my_string[\u001b[38;5;241m-\u001b[39m\u001b[38;5;241m1\u001b[39m:\u001b[38;5;241m6\u001b[39m:\u001b[38;5;241m2\u001b[39m]\u001b[38;5;66;03m# !lo\u001b[39;00m\n\u001b[0;32m----> 7\u001b[0m \u001b[38;5;28mprint\u001b[39m(result1 \u001b[38;5;241m=\u001b[39m my_string[::\u001b[38;5;241m2\u001b[39m])\n\u001b[1;32m      8\u001b[0m \u001b[38;5;28mprint\u001b[39m(result2 \u001b[38;5;241m=\u001b[39m my_string[\u001b[38;5;241m0\u001b[39m::\u001b[38;5;241m2\u001b[39m])\n\u001b[1;32m      9\u001b[0m \u001b[38;5;28mprint\u001b[39m(result3 \u001b[38;5;241m=\u001b[39m my_string[\u001b[38;5;241m-\u001b[39m\u001b[38;5;241m1\u001b[39m::\u001b[38;5;241m-\u001b[39m\u001b[38;5;241m2\u001b[39m])\n",
      "\u001b[0;31mTypeError\u001b[0m: 'result1' is an invalid keyword argument for print()"
     ]
    }
   ],
   "source": [
    "my_string = \"Hello, World!\" \n",
    "result = my_string[::2]\n",
    "result = my_string[0::2]\n",
    "result = my_string[-1::-2]\n",
    "result = my_string[-1:6:2]# !lo\n",
    "\n",
    "print(result1 = my_string[::2])\n",
    "print(result2 = my_string[0::2])\n",
    "print(result3 = my_string[-1::-2])\n",
    "print(result4 = my_string[-1:6:2])# !lo\n"
   ]
  },
  {
   "cell_type": "code",
   "execution_count": 55,
   "id": "d93ff4b1",
   "metadata": {},
   "outputs": [
    {
     "name": "stdout",
     "output_type": "stream",
     "text": [
      "result1 = Hlo ol!\n",
      "result2 = Hlo ol!\n",
      "result3 = !lo olH\n",
      "result4 = \n"
     ]
    }
   ],
   "source": [
    "my_string = \"Hello, World!\" \n",
    "\n",
    "# Performing string slicing and storing results in variables\n",
    "result1 = my_string[::2]      # Takes every 2nd character, starting from the beginning\n",
    "result2 = my_string[0::2]     # Also takes every 2nd character, starting from index 0 (same as above)\n",
    "result3 = my_string[-1::-2]   # Takes every 2nd character in reverse order, starting from the last character\n",
    "result4 = my_string[-1:6:2]   # Takes every 2nd character starting from the last character up to index 6 (not inclusive)\n",
    "\n",
    "# Printing the results\n",
    "print(\"result1 =\", result1)\n",
    "print(\"result2 =\", result2)\n",
    "print(\"result3 =\", result3)\n",
    "print(\"result4 =\", result4)  # Expected output is '!lo'\n"
   ]
  },
  {
   "cell_type": "markdown",
   "id": "5066f687",
   "metadata": {},
   "source": [
    "result4 didn't print because it expects every stop character to come after the start and not the start character after the stop "
   ]
  },
  {
   "cell_type": "code",
   "execution_count": null,
   "id": "7b4fc8d6",
   "metadata": {},
   "outputs": [],
   "source": []
  },
  {
   "cell_type": "markdown",
   "id": "f4d6bc70",
   "metadata": {},
   "source": [
    "# Variables casting"
   ]
  },
  {
   "cell_type": "markdown",
   "id": "3140ee4b",
   "metadata": {},
   "source": [
    "### This is used to specify the data type"
   ]
  },
  {
   "cell_type": "code",
   "execution_count": 26,
   "id": "d1ce1b35",
   "metadata": {},
   "outputs": [],
   "source": [
    "x = str(3)\n",
    "y = int(3.0)\n",
    "z= float(3)"
   ]
  },
  {
   "cell_type": "code",
   "execution_count": 29,
   "id": "1dbc1460",
   "metadata": {},
   "outputs": [
    {
     "name": "stdout",
     "output_type": "stream",
     "text": [
      "3\n",
      "3\n",
      "3.0\n"
     ]
    }
   ],
   "source": [
    "print (x)\n",
    "print (y)\n",
    "print (z)"
   ]
  },
  {
   "cell_type": "markdown",
   "id": "2c39d6d9",
   "metadata": {},
   "source": [
    "# Getting the type of the variable"
   ]
  },
  {
   "cell_type": "code",
   "execution_count": 30,
   "id": "4bc622dc",
   "metadata": {},
   "outputs": [
    {
     "data": {
      "text/plain": [
       "str"
      ]
     },
     "execution_count": 30,
     "metadata": {},
     "output_type": "execute_result"
    }
   ],
   "source": [
    "type(x)"
   ]
  },
  {
   "cell_type": "code",
   "execution_count": 31,
   "id": "d3d8a257",
   "metadata": {},
   "outputs": [
    {
     "name": "stdout",
     "output_type": "stream",
     "text": [
      "<class 'str'>\n"
     ]
    }
   ],
   "source": [
    "print(type(x))"
   ]
  },
  {
   "cell_type": "markdown",
   "id": "7a122618",
   "metadata": {},
   "source": [
    "# Arithmetic Operators   + - / * % < > <= >=\n",
    "\n",
    "## 4 + 5 where 4 and 5 are the operands and + is the operators"
   ]
  },
  {
   "cell_type": "code",
   "execution_count": 14,
   "id": "e061a168",
   "metadata": {},
   "outputs": [],
   "source": [
    "num1 = 20\n",
    "num2 = 5\n",
    "num3 = 3"
   ]
  },
  {
   "cell_type": "code",
   "execution_count": 20,
   "id": "0260dde7",
   "metadata": {},
   "outputs": [
    {
     "data": {
      "text/plain": [
       "False"
      ]
     },
     "execution_count": 20,
     "metadata": {},
     "output_type": "execute_result"
    }
   ],
   "source": [
    "num1==num2"
   ]
  },
  {
   "cell_type": "code",
   "execution_count": 13,
   "id": "3d549849",
   "metadata": {},
   "outputs": [
    {
     "name": "stdout",
     "output_type": "stream",
     "text": [
      "25\n"
     ]
    }
   ],
   "source": [
    "print(num1 + num2)"
   ]
  },
  {
   "cell_type": "code",
   "execution_count": 11,
   "id": "1797bcf2",
   "metadata": {},
   "outputs": [
    {
     "name": "stdout",
     "output_type": "stream",
     "text": [
      "0.5\n"
     ]
    }
   ],
   "source": [
    "aaaaaa= 5\n",
    "bbbbb= 10\n",
    "print(aaaaaa / bbbbb )"
   ]
  },
  {
   "cell_type": "code",
   "execution_count": 14,
   "id": "7ad9be1a",
   "metadata": {},
   "outputs": [
    {
     "name": "stdout",
     "output_type": "stream",
     "text": [
      "15\n"
     ]
    }
   ],
   "source": [
    "print(num1 - num2)"
   ]
  },
  {
   "cell_type": "code",
   "execution_count": 15,
   "id": "d0665f4b",
   "metadata": {},
   "outputs": [
    {
     "name": "stdout",
     "output_type": "stream",
     "text": [
      "4.0\n"
     ]
    }
   ],
   "source": [
    "print(num1 / num2)"
   ]
  },
  {
   "cell_type": "code",
   "execution_count": 16,
   "id": "e34fc4ef",
   "metadata": {},
   "outputs": [
    {
     "name": "stdout",
     "output_type": "stream",
     "text": [
      "4\n"
     ]
    }
   ],
   "source": [
    "print(int(num1 / num2))"
   ]
  },
  {
   "cell_type": "code",
   "execution_count": 17,
   "id": "88c0b174",
   "metadata": {},
   "outputs": [
    {
     "name": "stdout",
     "output_type": "stream",
     "text": [
      "6.666666666666667\n"
     ]
    }
   ],
   "source": [
    "print(num1 / num3)"
   ]
  },
  {
   "cell_type": "code",
   "execution_count": 18,
   "id": "e81770c8",
   "metadata": {},
   "outputs": [
    {
     "name": "stdout",
     "output_type": "stream",
     "text": [
      "6\n"
     ]
    }
   ],
   "source": [
    "print(num1 // num3)"
   ]
  },
  {
   "cell_type": "markdown",
   "id": "820a5852",
   "metadata": {},
   "source": [
    "#### // is the operator for integer division in Python.\n",
    "#### It divides num1 by num3 and returns the quotient as an integer (ie the whole number part), discarding any remainder."
   ]
  },
  {
   "cell_type": "code",
   "execution_count": 21,
   "id": "fb55e19c",
   "metadata": {},
   "outputs": [
    {
     "name": "stdout",
     "output_type": "stream",
     "text": [
      "2\n"
     ]
    }
   ],
   "source": [
    "print(num1 % num3) #ie the remainder of 20/3"
   ]
  },
  {
   "cell_type": "markdown",
   "id": "ce74fb69",
   "metadata": {},
   "source": [
    "#### How does % work? Another way to say it is, “X divided by Y with J remaining.” For example, “100 divided by 16 with 4 remaining.” The result of % is the J part, or the remaining part."
   ]
  },
  {
   "cell_type": "code",
   "execution_count": 16,
   "id": "fe22425d",
   "metadata": {},
   "outputs": [
    {
     "name": "stdout",
     "output_type": "stream",
     "text": [
      "125\n"
     ]
    }
   ],
   "source": [
    "print(num2 ** num3) # ie 5 raised to the power of 3"
   ]
  },
  {
   "cell_type": "markdown",
   "id": "5c78b0f7",
   "metadata": {},
   "source": [
    "### What is the order of operations?\n",
    "###  PEMDAS which stands for Parentheses Exponents Multiplication Division Addition Subtraction. \n",
    "\n",
    "### That’s the order Python follows as well. The mistake people make with PEMDAS is to think this is a strict order, as in “Do P, then E, then M, then D, then A, then S.” \n",
    "\n",
    "### The actual order is you do the multiplication and division (M&D) in one step, from left to right, then you do the addition and subtraction in one step from left to right. \n",
    "\n",
    "### So, you could rewrite PEMDAS as PE(M&D)(A&S)\n"
   ]
  },
  {
   "cell_type": "code",
   "execution_count": null,
   "id": "bb9a3a11",
   "metadata": {},
   "outputs": [],
   "source": []
  },
  {
   "cell_type": "code",
   "execution_count": null,
   "id": "59ef58c9",
   "metadata": {},
   "outputs": [],
   "source": []
  },
  {
   "cell_type": "markdown",
   "id": "67f33ec5",
   "metadata": {},
   "source": [
    "# What is the difference between = (single-equal) and == (double- equal)? \n",
    "\n",
    "### The = (single-equal) assigns the value on the right to the left. It is called the assignment operator\n",
    "### The == (double-equal) tests whether two things have the same value. It is called the equal to comparison operator"
   ]
  },
  {
   "cell_type": "code",
   "execution_count": null,
   "id": "aebd8979",
   "metadata": {},
   "outputs": [],
   "source": []
  },
  {
   "cell_type": "markdown",
   "id": "53c62eb0",
   "metadata": {},
   "source": [
    "# Comparison operators == != < > <= >="
   ]
  },
  {
   "cell_type": "code",
   "execution_count": 23,
   "id": "2cdb19e9",
   "metadata": {},
   "outputs": [],
   "source": [
    "num4 = 4\n",
    "num5 = 5\n",
    "num6 = 4"
   ]
  },
  {
   "cell_type": "code",
   "execution_count": 24,
   "id": "70e9709d",
   "metadata": {},
   "outputs": [
    {
     "data": {
      "text/plain": [
       "False"
      ]
     },
     "execution_count": 24,
     "metadata": {},
     "output_type": "execute_result"
    }
   ],
   "source": [
    "num4 == num5"
   ]
  },
  {
   "cell_type": "code",
   "execution_count": 25,
   "id": "0499f133",
   "metadata": {},
   "outputs": [
    {
     "name": "stdout",
     "output_type": "stream",
     "text": [
      "False\n"
     ]
    }
   ],
   "source": [
    "print(num4 == num5)"
   ]
  },
  {
   "cell_type": "code",
   "execution_count": 26,
   "id": "eae8402f",
   "metadata": {},
   "outputs": [
    {
     "name": "stdout",
     "output_type": "stream",
     "text": [
      "True\n"
     ]
    }
   ],
   "source": [
    "print(num4 == num6)"
   ]
  },
  {
   "cell_type": "code",
   "execution_count": 27,
   "id": "b0440e3e",
   "metadata": {},
   "outputs": [
    {
     "name": "stdout",
     "output_type": "stream",
     "text": [
      "False\n"
     ]
    }
   ],
   "source": [
    "print(num4 > num6)"
   ]
  },
  {
   "cell_type": "code",
   "execution_count": 28,
   "id": "623aef3c",
   "metadata": {},
   "outputs": [
    {
     "name": "stdout",
     "output_type": "stream",
     "text": [
      "True\n"
     ]
    }
   ],
   "source": [
    "print(num4 >= num6)"
   ]
  },
  {
   "cell_type": "code",
   "execution_count": 29,
   "id": "a08a0bab",
   "metadata": {},
   "outputs": [
    {
     "name": "stdout",
     "output_type": "stream",
     "text": [
      "True\n"
     ]
    }
   ],
   "source": [
    "print(num4 < num5)"
   ]
  },
  {
   "cell_type": "code",
   "execution_count": 30,
   "id": "438a8f82",
   "metadata": {},
   "outputs": [
    {
     "name": "stdout",
     "output_type": "stream",
     "text": [
      "False\n"
     ]
    }
   ],
   "source": [
    "print(num5 <= num6)"
   ]
  },
  {
   "cell_type": "code",
   "execution_count": 31,
   "id": "21c25c8a",
   "metadata": {},
   "outputs": [
    {
     "name": "stdout",
     "output_type": "stream",
     "text": [
      "False\n"
     ]
    }
   ],
   "source": [
    "print(num4 != num6)"
   ]
  },
  {
   "cell_type": "code",
   "execution_count": 33,
   "id": "1c3159f3",
   "metadata": {},
   "outputs": [
    {
     "name": "stdout",
     "output_type": "stream",
     "text": [
      "True\n"
     ]
    }
   ],
   "source": [
    "print(num4 != num5) # != means \"not equal to\""
   ]
  },
  {
   "cell_type": "code",
   "execution_count": null,
   "id": "9ec4a653",
   "metadata": {},
   "outputs": [],
   "source": []
  },
  {
   "cell_type": "code",
   "execution_count": null,
   "id": "d4655686",
   "metadata": {},
   "outputs": [],
   "source": []
  },
  {
   "cell_type": "markdown",
   "id": "c18c4874",
   "metadata": {},
   "source": [
    "# Identifiers"
   ]
  },
  {
   "cell_type": "markdown",
   "id": "331c5d52",
   "metadata": {},
   "source": [
    "#### Identifier is the name given to entities like variable, function, class etc. in python.\n",
    "#### E.g. myname = “Charis”. The identifier myname is a variable name with the value “Charis” assigned to it.\n"
   ]
  },
  {
   "cell_type": "markdown",
   "id": "cc56c7f3",
   "metadata": {},
   "source": [
    "## Naming rules for Identifiers\n",
    "\n",
    "#### 1. Identifiers can contain any small letter (a .. z) or capital letter (A .. Z), underscore ( _ ), digit (0...9).\n",
    "#### 2. An identifier can be any combination of the above but must not start with a digit.\n",
    "#### E.g. Kazeem1 is valid but 1Kazeem is not valid\n",
    "#### E.g. _123Kazeem is valid but 123Kazeem is not valid\n",
    "\n",
    "#### 3. Identifiers are letter case sensitive\n",
    "#### E.g. an identifier named Kazeem is different from another named kazeem\n",
    "#### 4. Special symbols like !,&, @, # etc cannot be used in our identifier E.g. myname!  = “Kazeem” is invalid\n",
    "\n",
    "\n",
    "#### 5. Identifiers cannot use the language’s own keywords (also called reserved words)\n",
    "\n",
    "#### False\tclass\tfinally\tis\treturn\n",
    "#### None\tcontinue\tfor\tlambda\ttry\n",
    "#### True\tdef\tfrom\tnonlocal\twhile\n",
    "#### and\tdel\tglobal\tnot\twith\n",
    "#### as\telif\tif\tor\tyield\n",
    "#### assert\telse\timport\tpass\t \n",
    "#### break\texcept\tin\traise\t "
   ]
  },
  {
   "cell_type": "markdown",
   "id": "82fcc357",
   "metadata": {},
   "source": [
    "## The convention is that the first word always begin with a small letter and each of the other words begin with capital letter.\n",
    "\n",
    "### Camel case ie camelCase\n",
    "#### myClassList\n",
    "#### averageHeight\n"
   ]
  },
  {
   "cell_type": "markdown",
   "id": "08e88f34",
   "metadata": {},
   "source": [
    "# Python Lists"
   ]
  },
  {
   "cell_type": "code",
   "execution_count": 5,
   "id": "c6c3a8bd",
   "metadata": {},
   "outputs": [
    {
     "name": "stdout",
     "output_type": "stream",
     "text": [
      "Hello World!\n",
      "H\n",
      "llo\n",
      "llo World!\n",
      "Hello World!Hello World!\n",
      "Hello World!TEST\n"
     ]
    }
   ],
   "source": [
    "yes = 'Hello World!'\n",
    "print (yes) # Prints complete string\n",
    "print (yes[0]) # Prints first character of the string\n",
    "print (yes[2:5]) # Prints characters starting from 3rd to 5th\n",
    "print (yes[2:]) # Prints string starting from 3rd character\n",
    "print (yes * 2) # Prints string two times\n",
    "print (yes + \"TEST\") # Prints concatenated string"
   ]
  },
  {
   "cell_type": "code",
   "execution_count": null,
   "id": "70d31789",
   "metadata": {},
   "outputs": [],
   "source": []
  },
  {
   "cell_type": "code",
   "execution_count": null,
   "id": "fefa8068",
   "metadata": {},
   "outputs": [],
   "source": []
  },
  {
   "cell_type": "code",
   "execution_count": 59,
   "id": "3acdf516",
   "metadata": {},
   "outputs": [
    {
     "name": "stdout",
     "output_type": "stream",
     "text": [
      "500\n",
      "mes kaka\n",
      "mes\n",
      "james\n",
      " kaka\n"
     ]
    }
   ],
   "source": [
    "K = 500\n",
    "print(K)\n",
    "t  = \"james kaka\"\n",
    "print(t[2:])\n",
    "print(t[2:5])\n",
    "print(t[0:5])\n",
    "print(t[-5:])\n"
   ]
  },
  {
   "cell_type": "code",
   "execution_count": 19,
   "id": "94f57cc7",
   "metadata": {},
   "outputs": [
    {
     "name": "stdout",
     "output_type": "stream",
     "text": [
      "World\n"
     ]
    }
   ],
   "source": [
    "my1_string = \"Hello, World!\"\n",
    "print(my1_string[-6:-1])"
   ]
  },
  {
   "cell_type": "code",
   "execution_count": 21,
   "id": "508e4e80",
   "metadata": {},
   "outputs": [
    {
     "name": "stdout",
     "output_type": "stream",
     "text": [
      "\n"
     ]
    }
   ],
   "source": [
    "my1_string = \"Hello, World!\"\n",
    "print(my1_string[-6:1])"
   ]
  },
  {
   "cell_type": "code",
   "execution_count": 27,
   "id": "d9c31aa3",
   "metadata": {},
   "outputs": [
    {
     "name": "stdout",
     "output_type": "stream",
     "text": [
      "H\n"
     ]
    }
   ],
   "source": [
    "my2_string = \"Helloo\"\n",
    "print(my2_string[-6:1]) #it will print just the 1st because -6 and 1 are the same unlike the others, the stop must come after the start not before"
   ]
  },
  {
   "cell_type": "code",
   "execution_count": 23,
   "id": "62997f4b",
   "metadata": {},
   "outputs": [
    {
     "name": "stdout",
     "output_type": "stream",
     "text": [
      "\n"
     ]
    }
   ],
   "source": [
    "my1_string = \"Hello, World!\"\n",
    "print(my1_string[-1:-1])"
   ]
  },
  {
   "cell_type": "code",
   "execution_count": 28,
   "id": "e59e8050",
   "metadata": {},
   "outputs": [
    {
     "name": "stdout",
     "output_type": "stream",
     "text": [
      "\n"
     ]
    }
   ],
   "source": [
    "my1_string = \"Hello, World!\"\n",
    "print(my1_string[-1:2])"
   ]
  },
  {
   "cell_type": "code",
   "execution_count": 32,
   "id": "158b4a0c",
   "metadata": {},
   "outputs": [
    {
     "name": "stdout",
     "output_type": "stream",
     "text": [
      "\n"
     ]
    }
   ],
   "source": [
    "my1_string = \"Hello, World!\"\n",
    "print(my1_string[-1:4])"
   ]
  },
  {
   "cell_type": "markdown",
   "id": "2929e42b",
   "metadata": {},
   "source": [
    "# Home Work"
   ]
  },
  {
   "cell_type": "code",
   "execution_count": 33,
   "id": "e5f2ff28",
   "metadata": {},
   "outputs": [
    {
     "name": "stdout",
     "output_type": "stream",
     "text": [
      "Hlo ol!\n"
     ]
    }
   ],
   "source": [
    "theString = \"Hello, World!\"\n",
    "print(theString[::2])"
   ]
  },
  {
   "cell_type": "code",
   "execution_count": 34,
   "id": "ba65c7ba",
   "metadata": {},
   "outputs": [
    {
     "name": "stdout",
     "output_type": "stream",
     "text": [
      "Hlo ol!\n"
     ]
    }
   ],
   "source": [
    "theString = \"Hello, World!\"\n",
    "print(theString[0::2])"
   ]
  },
  {
   "cell_type": "code",
   "execution_count": 40,
   "id": "475740a5",
   "metadata": {},
   "outputs": [
    {
     "name": "stdout",
     "output_type": "stream",
     "text": [
      "!lo olH\n"
     ]
    }
   ],
   "source": [
    "theString = \"Hello, World!\"\n",
    "print(theString[-1::-2])#-1 is from the back ie  !dlroW ,olleH then with a -2 step we have !lo olH"
   ]
  },
  {
   "cell_type": "code",
   "execution_count": 48,
   "id": "13ea087a",
   "metadata": {},
   "outputs": [
    {
     "name": "stdout",
     "output_type": "stream",
     "text": [
      "\n"
     ]
    }
   ],
   "source": [
    "theString = \"Hello, World!\"\n",
    "print(theString[-1:6:2])#!lo NO ACTUALLY, WHEN THE STOP COMES BEFORE THE START, FOR IT TO WORK, IT MUST BE NEGATIVE INDEX LIKE BELOW"
   ]
  },
  {
   "cell_type": "code",
   "execution_count": 49,
   "id": "e0b59d16",
   "metadata": {},
   "outputs": [
    {
     "name": "stdout",
     "output_type": "stream",
     "text": [
      "!lo\n"
     ]
    }
   ],
   "source": [
    "theString = \"Hello, World!\"\n",
    "print(theString[-1:6:-2])#!lo"
   ]
  },
  {
   "cell_type": "code",
   "execution_count": 51,
   "id": "1942579a",
   "metadata": {},
   "outputs": [
    {
     "name": "stdout",
     "output_type": "stream",
     "text": [
      "mes kaka\n",
      "mes\n",
      "james\n",
      " kaka\n"
     ]
    }
   ],
   "source": [
    "t = 'james kaka'\n",
    "print(t[2:]) #mes kaka\n",
    "print(t[2:5]) #mes\n",
    "print(t[0:5]) #james w/o the space\n",
    "print(t[-5:]) # kaka w the space"
   ]
  },
  {
   "cell_type": "markdown",
   "id": "ef8bd2d7",
   "metadata": {},
   "source": [
    "# Lists"
   ]
  },
  {
   "cell_type": "code",
   "execution_count": 60,
   "id": "aa03e8c9",
   "metadata": {},
   "outputs": [],
   "source": [
    "list1 = ['physics', 'chemistry', 1997, 2000]\n",
    "list2 = [1, 2, 3, 4, 5 ]\n",
    "list3 = [\"a\", \"b\", \"c\", \"d\"]\n"
   ]
  },
  {
   "cell_type": "code",
   "execution_count": 87,
   "id": "ff0a5fbd",
   "metadata": {},
   "outputs": [
    {
     "name": "stdout",
     "output_type": "stream",
     "text": [
      "[5, 4, 6]\n",
      "[4, 7, 4, 4]\n",
      "[5, 5, 1]\n",
      "[4]\n"
     ]
    }
   ],
   "source": [
    "dd = [4,5,6,4,5,6,7,1,3,4]\n",
    "print(dd[1:6:2]) # [5,4,6]\n",
    "print(dd[-1::-3])# [4,7,4,4]\n",
    "print(dd[1::3])# [5,5,1]\n",
    "print(dd[-1::3])# [4,7,4,4]"
   ]
  },
  {
   "cell_type": "markdown",
   "id": "5d323b5a",
   "metadata": {},
   "source": [
    "# VERY IMPORTANT FOR THE ABOVE\n",
    "\n",
    "Let's analyze each of the slicing operations in your code to understand how they work and why the last result is not as expected.\n",
    "\n",
    "### List `dd`:\n",
    "```python\n",
    "dd = [4, 5, 6, 4, 5, 6, 7, 1, 3, 4]\n",
    "```\n",
    "This list contains 10 elements: `[4, 5, 6, 4, 5, 6, 7, 1, 3, 4]`.\n",
    "\n",
    "### 1. `print(dd[1:6:2])`\n",
    "This is slicing the list with the syntax `dd[start:end:step]`, meaning:\n",
    "- Start at index `1`\n",
    "- Stop before index `6`\n",
    "- Step by `2`\n",
    "\n",
    "Indexes in `dd`:\n",
    "```\n",
    "Index:  0  1  2  3  4  5  6  7  8  9\n",
    "List:  [4, 5, 6, 4, 5, 6, 7, 1, 3, 4]\n",
    "```\n",
    "\n",
    "So, starting at index `1` (which is `5`), then stepping by `2` gives us the elements at indexes `1`, `3`, and `5`. That would be:\n",
    "```\n",
    "dd[1] = 5\n",
    "dd[3] = 4\n",
    "dd[5] = 6\n",
    "```\n",
    "\n",
    "Output:\n",
    "```\n",
    "[5, 4, 6]\n",
    "```\n",
    "\n",
    "### 2. `print(dd[-1::-3])`\n",
    "This is slicing the list with the syntax `dd[start:end:step]`:\n",
    "- Start at index `-1` (which is the last element, `4`)\n",
    "- Go backwards (since the step is `-3`) until the beginning of the list (end is not specified, so default is `None`).\n",
    "\n",
    "Indexes in reverse:\n",
    "```\n",
    "Index:   9   8   7   6   5   4   3   2   1   0\n",
    "List:   [4,  3,  1,  7,  6,  5,  4,  6,  5,  4]\n",
    "```\n",
    "\n",
    "Starting from the last element (`4` at index `9`), and stepping by `-3` gives us the elements at indexes `9`, `6`, `3`, and `0`:\n",
    "```\n",
    "dd[9] = 4\n",
    "dd[6] = 7\n",
    "dd[3] = 4\n",
    "dd[0] = 4\n",
    "```\n",
    "\n",
    "Output:\n",
    "```\n",
    "[4, 7, 4, 4]\n",
    "```\n",
    "\n",
    "### 3. `print(dd[1::3])`\n",
    "This is slicing the list with the syntax `dd[start:end:step]`:\n",
    "- Start at index `1` (which is `5`)\n",
    "- Go until the end of the list (no end specified)\n",
    "- Step by `3`\n",
    "\n",
    "Indexes:\n",
    "```\n",
    "Index:  0  1  2  3  4  5  6  7  8  9\n",
    "List:  [4, 5, 6, 4, 5, 6, 7, 1, 3, 4]\n",
    "```\n",
    "\n",
    "Starting from index `1` (which is `5`), and stepping by `3` gives us the elements at indexes `1`, `4`, and `7`:\n",
    "```\n",
    "dd[1] = 5\n",
    "dd[4] = 5\n",
    "dd[7] = 1\n",
    "```\n",
    "\n",
    "Output:\n",
    "```\n",
    "[5, 5, 1]\n",
    "```\n",
    "\n",
    "### 4. `print(dd[-1::3])`\n",
    "This is slicing the list with the syntax `dd[start:end:step]`:\n",
    "- Start at index `-1` (which is the last element, `4`)\n",
    "- Go forward by `3` (since the step is positive)\n",
    "\n",
    "Now, here is where the issue lies. When you start at `-1` (the last element) and step forward by `3`, **there are no more elements beyond the last one**. The only element you have is the one at index `-1` (the last element), so you only get the single element `4`.\n",
    "\n",
    "There are no additional elements to step forward to.\n",
    "\n",
    "Output:\n",
    "```\n",
    "[4]\n",
    "```\n",
    "\n",
    "### **Why Not `[4, 7, 4, 4]`?**\n",
    "The difference between `dd[-1::-3]` (where you're stepping backwards) and `dd[-1::3]` (where you're stepping forwards) is that when you slice backwards (`-3`), you start at the last element and go back through the list. But when you slice forwards (`3`), you're starting at the last element and trying to move beyond it—which isn't possible because there are no more elements in the list.\n",
    "\n",
    "### Summary of Outputs:\n",
    "```python\n",
    "print(dd[1:6:2])   # Output: [5, 4, 6]\n",
    "print(dd[-1::-3])  # Output: [4, 7, 4, 4]\n",
    "print(dd[1::3])    # Output: [5, 5, 1]\n",
    "print(dd[-1::3])   # Output: [4]\n",
    "```"
   ]
  },
  {
   "cell_type": "markdown",
   "id": "fe5b7b40",
   "metadata": {},
   "source": [
    "### Accessing Values in Lists\n"
   ]
  },
  {
   "cell_type": "code",
   "execution_count": 62,
   "id": "562db649",
   "metadata": {},
   "outputs": [
    {
     "name": "stdout",
     "output_type": "stream",
     "text": [
      "physics\n"
     ]
    }
   ],
   "source": [
    "print(list1[0])"
   ]
  },
  {
   "cell_type": "code",
   "execution_count": 63,
   "id": "d3dee63e",
   "metadata": {},
   "outputs": [
    {
     "name": "stdout",
     "output_type": "stream",
     "text": [
      "2000\n"
     ]
    }
   ],
   "source": [
    "print(list1[3])"
   ]
  },
  {
   "cell_type": "code",
   "execution_count": 64,
   "id": "0a829176",
   "metadata": {},
   "outputs": [
    {
     "name": "stdout",
     "output_type": "stream",
     "text": [
      "['physics', 'chemistry']\n"
     ]
    }
   ],
   "source": [
    "print(list1[0:2])"
   ]
  },
  {
   "cell_type": "code",
   "execution_count": 65,
   "id": "401fccb2",
   "metadata": {},
   "outputs": [
    {
     "name": "stdout",
     "output_type": "stream",
     "text": [
      "['chemistry', 1997, 2000]\n"
     ]
    }
   ],
   "source": [
    "print(list1[-3:])"
   ]
  },
  {
   "cell_type": "code",
   "execution_count": 66,
   "id": "9511d8f0",
   "metadata": {},
   "outputs": [
    {
     "name": "stdout",
     "output_type": "stream",
     "text": [
      "['physics', 'chemistry', 1997, 2000]\n"
     ]
    }
   ],
   "source": [
    "print(list1[-4:])"
   ]
  },
  {
   "cell_type": "code",
   "execution_count": 67,
   "id": "0030b788",
   "metadata": {},
   "outputs": [
    {
     "name": "stdout",
     "output_type": "stream",
     "text": [
      "['physics', 'chemistry', 1997, 2000]\n"
     ]
    }
   ],
   "source": [
    "print(list1[0:5])"
   ]
  },
  {
   "cell_type": "code",
   "execution_count": 68,
   "id": "b445b2c5",
   "metadata": {},
   "outputs": [
    {
     "name": "stdout",
     "output_type": "stream",
     "text": [
      "['physics', 'chemistry', 1997, 2000]\n"
     ]
    }
   ],
   "source": [
    "print(list1[0:4])"
   ]
  },
  {
   "cell_type": "markdown",
   "id": "70355a06",
   "metadata": {},
   "source": [
    "### Updating Lists"
   ]
  },
  {
   "cell_type": "code",
   "execution_count": 69,
   "id": "20e1b4ff",
   "metadata": {},
   "outputs": [
    {
     "name": "stdout",
     "output_type": "stream",
     "text": [
      "['physics', 'chemistry', 1997, 2001]\n"
     ]
    }
   ],
   "source": [
    "list1[3] = 2001\n",
    "print(list1)"
   ]
  },
  {
   "cell_type": "markdown",
   "id": "a17e8c36",
   "metadata": {},
   "source": [
    "### Deleting elements in a list\n",
    "#### To remove a list element, you can use either the del statement if you know exactly which element(s) you are deleting"
   ]
  },
  {
   "cell_type": "code",
   "execution_count": 52,
   "id": "b767db18",
   "metadata": {},
   "outputs": [
    {
     "name": "stdout",
     "output_type": "stream",
     "text": [
      "['the', 'atthere']\n"
     ]
    }
   ],
   "source": [
    "toDeleteList = [\"the\", \"at\" \"there\", \"you\"]\n",
    "del toDeleteList[2]\n",
    "print(toDeleteList)"
   ]
  },
  {
   "cell_type": "markdown",
   "id": "b3b44e84",
   "metadata": {},
   "source": [
    "#### Notice what happened because the comma wasn't there"
   ]
  },
  {
   "cell_type": "code",
   "execution_count": 53,
   "id": "e66c8cdd",
   "metadata": {},
   "outputs": [
    {
     "name": "stdout",
     "output_type": "stream",
     "text": [
      "['the', 'at', 'you']\n"
     ]
    }
   ],
   "source": [
    "toDeleteList2 = [\"the\", \"at\", \"there\", \"you\"]\n",
    "del toDeleteList2[2]\n",
    "print(toDeleteList2)"
   ]
  },
  {
   "cell_type": "markdown",
   "id": "22f93e27",
   "metadata": {},
   "source": [
    "## Basic list operations"
   ]
  },
  {
   "cell_type": "code",
   "execution_count": 55,
   "id": "d7a5bc4a",
   "metadata": {},
   "outputs": [
    {
     "name": "stdout",
     "output_type": "stream",
     "text": [
      "[4, 5, 6, 1, 2, 3]\n",
      "[1, 2, 3, 4, 5, 6]\n"
     ]
    }
   ],
   "source": [
    "V = [1,2,3]\n",
    "U = [4,5,6]\n",
    "print(U+V)\n",
    "print(V+U)"
   ]
  },
  {
   "cell_type": "code",
   "execution_count": null,
   "id": "800ddeee",
   "metadata": {},
   "outputs": [],
   "source": []
  },
  {
   "cell_type": "code",
   "execution_count": 135,
   "id": "caa18585",
   "metadata": {},
   "outputs": [
    {
     "name": "stdout",
     "output_type": "stream",
     "text": [
      "['Python', 'Java', 'C++', 'C']\n"
     ]
    }
   ],
   "source": [
    "languages = ['Python', 'Java', 'C++', 'French', 'C']\n",
    "languages.pop(3)\n",
    "print(languages)"
   ]
  },
  {
   "cell_type": "code",
   "execution_count": null,
   "id": "ae4f5f75",
   "metadata": {},
   "outputs": [],
   "source": []
  },
  {
   "cell_type": "markdown",
   "id": "829d4c19",
   "metadata": {},
   "source": [
    "### Adding Elements to a Python List"
   ]
  },
  {
   "cell_type": "code",
   "execution_count": 70,
   "id": "726a635e",
   "metadata": {},
   "outputs": [],
   "source": [
    "list1.append(\"John\")"
   ]
  },
  {
   "cell_type": "code",
   "execution_count": 71,
   "id": "57056d7f",
   "metadata": {},
   "outputs": [
    {
     "name": "stdout",
     "output_type": "stream",
     "text": [
      "['physics', 'chemistry', 1997, 2001, 'John']\n"
     ]
    }
   ],
   "source": [
    "print (list1)"
   ]
  },
  {
   "cell_type": "markdown",
   "id": "f53b6008",
   "metadata": {},
   "source": [
    "### Adding Elements to a Python List"
   ]
  },
  {
   "cell_type": "code",
   "execution_count": 75,
   "id": "3956f562",
   "metadata": {},
   "outputs": [],
   "source": [
    "del list1[-1]"
   ]
  },
  {
   "cell_type": "code",
   "execution_count": 76,
   "id": "15c696b4",
   "metadata": {},
   "outputs": [
    {
     "ename": "SyntaxError",
     "evalue": "Missing parentheses in call to 'print'. Did you mean print(...)? (889844391.py, line 1)",
     "output_type": "error",
     "traceback": [
      "\u001b[0;36m  Cell \u001b[0;32mIn[76], line 1\u001b[0;36m\u001b[0m\n\u001b[0;31m    print list1\u001b[0m\n\u001b[0m    ^\u001b[0m\n\u001b[0;31mSyntaxError\u001b[0m\u001b[0;31m:\u001b[0m Missing parentheses in call to 'print'. Did you mean print(...)?\n"
     ]
    }
   ],
   "source": [
    "print list1"
   ]
  },
  {
   "cell_type": "code",
   "execution_count": 77,
   "id": "7378be5b",
   "metadata": {},
   "outputs": [
    {
     "name": "stdout",
     "output_type": "stream",
     "text": [
      "['physics', 'chemistry', 1997, 2001]\n"
     ]
    }
   ],
   "source": [
    "print (list1)"
   ]
  },
  {
   "cell_type": "code",
   "execution_count": 78,
   "id": "9dab5b96",
   "metadata": {},
   "outputs": [],
   "source": [
    "list4 = [11, 12]"
   ]
  },
  {
   "cell_type": "code",
   "execution_count": 79,
   "id": "89bca656",
   "metadata": {},
   "outputs": [
    {
     "name": "stdout",
     "output_type": "stream",
     "text": [
      "[1, 2, 3, 4, 5, 11, 12]\n"
     ]
    }
   ],
   "source": [
    "print (list2 + list4)"
   ]
  },
  {
   "cell_type": "code",
   "execution_count": 80,
   "id": "1148056b",
   "metadata": {},
   "outputs": [],
   "source": [
    "greetList = [\"Hi\"]"
   ]
  },
  {
   "cell_type": "code",
   "execution_count": 81,
   "id": "3273a23b",
   "metadata": {},
   "outputs": [
    {
     "data": {
      "text/plain": [
       "['Hi', 'Hi', 'Hi', 'Hi']"
      ]
     },
     "execution_count": 81,
     "metadata": {},
     "output_type": "execute_result"
    }
   ],
   "source": [
    "greetList*4"
   ]
  },
  {
   "cell_type": "code",
   "execution_count": null,
   "id": "d93106a0",
   "metadata": {},
   "outputs": [],
   "source": []
  },
  {
   "cell_type": "markdown",
   "id": "e1f270d2",
   "metadata": {},
   "source": [
    "## Append vs Extend"
   ]
  },
  {
   "cell_type": "markdown",
   "id": "5b7d3f1e",
   "metadata": {},
   "source": [
    "#### append() and extend() are both methods used to add elements to a list in Python, but they serve different purposes:\n",
    "\n",
    "#### append()\n",
    "\n",
    "#### Adds a single element to the end of a list.\n",
    "#### Takes a single element as an argument.\n"
   ]
  },
  {
   "cell_type": "code",
   "execution_count": 82,
   "id": "fa131346",
   "metadata": {},
   "outputs": [
    {
     "name": "stdout",
     "output_type": "stream",
     "text": [
      "[1, 2, 3, 4]\n"
     ]
    }
   ],
   "source": [
    "my_list4 = [1, 2, 3]\n",
    "my_list4.append(4)\n",
    "print(my_list4)"
   ]
  },
  {
   "cell_type": "markdown",
   "id": "ffb8d519",
   "metadata": {},
   "source": [
    "#### extend()\n",
    "\n",
    "#### Adds multiple elements from another list.\n",
    "#### Takes an iterable as an argument."
   ]
  },
  {
   "cell_type": "code",
   "execution_count": 60,
   "id": "0dfd9f74",
   "metadata": {},
   "outputs": [
    {
     "name": "stdout",
     "output_type": "stream",
     "text": [
      "[1, 2, 3, 4, 5]\n"
     ]
    }
   ],
   "source": [
    "my_list5 = [1, 2, 3]\n",
    "my_list5.extend([4, 5])\n",
    "print(my_list5)\n"
   ]
  },
  {
   "cell_type": "code",
   "execution_count": 61,
   "id": "ad63af7d",
   "metadata": {},
   "outputs": [
    {
     "ename": "AttributeError",
     "evalue": "'tuple' object has no attribute 'extend'",
     "output_type": "error",
     "traceback": [
      "\u001b[0;31m---------------------------------------------------------------------------\u001b[0m",
      "\u001b[0;31mAttributeError\u001b[0m                            Traceback (most recent call last)",
      "Cell \u001b[0;32mIn[61], line 2\u001b[0m\n\u001b[1;32m      1\u001b[0m my_tuple5 \u001b[38;5;241m=\u001b[39m (\u001b[38;5;241m1\u001b[39m, \u001b[38;5;241m2\u001b[39m, \u001b[38;5;241m3\u001b[39m)\n\u001b[0;32m----> 2\u001b[0m my_tuple5\u001b[38;5;241m.\u001b[39mextend((\u001b[38;5;241m4\u001b[39m, \u001b[38;5;241m5\u001b[39m))\n\u001b[1;32m      3\u001b[0m \u001b[38;5;28mprint\u001b[39m(my_tuple5)\n",
      "\u001b[0;31mAttributeError\u001b[0m: 'tuple' object has no attribute 'extend'"
     ]
    }
   ],
   "source": [
    "my_tuple5 = (1, 2, 3)\n",
    "my_tuple5.extend((4, 5))\n",
    "print(my_tuple5)"
   ]
  },
  {
   "cell_type": "markdown",
   "id": "a1662e86",
   "metadata": {},
   "source": [
    "So tuples can't be extended. Remember it's imutable!"
   ]
  },
  {
   "cell_type": "markdown",
   "id": "5394754d",
   "metadata": {},
   "source": [
    "### INSERT"
   ]
  },
  {
   "cell_type": "markdown",
   "id": "cea42f37",
   "metadata": {},
   "source": [
    "#### insert() is another method used to add elements to a list in Python. Unlike append() and extend(), which always add elements to the end of the list, insert() allows you to add an element at a specific index within the list. \n",
    "#### list.insert(index, element)\n",
    "#### The insert() method is used to add an element at a specific position in a list.\n",
    "#### The first argument (1 in this case) is the index where you want to insert the new element.\n",
    "#### The second argument (0 in this case) is the value you want to insert at that position.\n"
   ]
  },
  {
   "cell_type": "code",
   "execution_count": 63,
   "id": "85a8bd02",
   "metadata": {},
   "outputs": [
    {
     "name": "stdout",
     "output_type": "stream",
     "text": [
      "[4, 0, 2, 3]\n"
     ]
    }
   ],
   "source": [
    "my_list7 = [4, 2, 3]\n",
    "my_list7.insert(1, 0)\n",
    "print(my_list7)"
   ]
  },
  {
   "cell_type": "markdown",
   "id": "a4c577de",
   "metadata": {},
   "source": [
    "### Get the length of a list\n",
    "#### len() is a built-in function in Python that returns the number of elements in a sequence (like a string, list, or tuple). It's a useful tool for determining the size or length of a container.\n",
    "#### len(object)"
   ]
  },
  {
   "cell_type": "code",
   "execution_count": 86,
   "id": "f5a93340",
   "metadata": {},
   "outputs": [
    {
     "name": "stdout",
     "output_type": "stream",
     "text": [
      "13\n",
      "5\n",
      "3\n"
     ]
    }
   ],
   "source": [
    "# String\n",
    "my_string0 = \"Hello, world!\"\n",
    "length = len(my_string0)\n",
    "print(length)  # Output: 13\n",
    "\n",
    "# List\n",
    "my_list0 = [1, 2, 3, 4, 5]\n",
    "length = len(my_list0)\n",
    "print(length)  # Output: 5\n",
    "\n",
    "# Tuple\n",
    "my_tuple0 = (10, 20, 30)\n",
    "length = len(my_tuple0)\n",
    "print(length)  # Output: 3"
   ]
  },
  {
   "cell_type": "markdown",
   "id": "e2e92223",
   "metadata": {},
   "source": [
    "## Sorting"
   ]
  },
  {
   "cell_type": "code",
   "execution_count": 70,
   "id": "4be6c7e5",
   "metadata": {},
   "outputs": [],
   "source": [
    "aa = [2, 1, 3, 5, 4]\n",
    "bb = [2, 1, 3, 5, 4]\n",
    "xc = [3,5,4,2,1,0,9]\n",
    "\n",
    "aa.sort()  # Sort the list in ascending order\n",
    "bb.reverse()  # Reverse the order of elements\n",
    "cc = xc.sort()\n",
    "dd = xc.reverse() #cc and dd will return none so to sort just do directly liek aa and bb where after you have the list you do aa.sort()"
   ]
  },
  {
   "cell_type": "code",
   "execution_count": 69,
   "id": "fa670015",
   "metadata": {},
   "outputs": [
    {
     "name": "stdout",
     "output_type": "stream",
     "text": [
      "[1, 2, 3, 4, 5]\n",
      "[4, 5, 3, 1, 2]\n",
      "None\n",
      "None\n"
     ]
    }
   ],
   "source": [
    "print(aa)\n",
    "print(bb)\n",
    "print(cc)\n",
    "print(dd)"
   ]
  },
  {
   "cell_type": "markdown",
   "id": "7b517db0",
   "metadata": {},
   "source": [
    "## Sorting in desc\n",
    "#### The sort() method sorts the list in place (modifying the original list) and allows you to sort in descending order by specifying reverse=True."
   ]
  },
  {
   "cell_type": "code",
   "execution_count": 93,
   "id": "2bd317c1",
   "metadata": {},
   "outputs": [
    {
     "name": "stdout",
     "output_type": "stream",
     "text": [
      "[9, 7, 4, 2, 1]\n"
     ]
    }
   ],
   "source": [
    "L = [4, 2, 9, 1, 7]\n",
    "L.sort(reverse = True)\n",
    "print (L)"
   ]
  },
  {
   "cell_type": "markdown",
   "id": "09d6f3a2",
   "metadata": {},
   "source": [
    "## To sort in desc No actually reverse just reverses the list w/o any form of sorting look up"
   ]
  },
  {
   "cell_type": "code",
   "execution_count": 92,
   "id": "52b0fa7a",
   "metadata": {},
   "outputs": [
    {
     "name": "stdout",
     "output_type": "stream",
     "text": [
      "[7, 1, 9, 2, 4]\n"
     ]
    }
   ],
   "source": [
    "T = [4, 2, 9, 1, 7]\n",
    "T.reverse()\n",
    "print(T)# It doesn't sort in desc!"
   ]
  },
  {
   "cell_type": "code",
   "execution_count": 93,
   "id": "4bd43c2d",
   "metadata": {},
   "outputs": [
    {
     "name": "stdout",
     "output_type": "stream",
     "text": [
      "None\n"
     ]
    }
   ],
   "source": [
    "C = [3, 1, 4, 1, 5, 9, 2, 6, 5]\n",
    "print(C.sort())# don't do this"
   ]
  },
  {
   "cell_type": "code",
   "execution_count": 71,
   "id": "f38dd899",
   "metadata": {},
   "outputs": [],
   "source": [
    "C = [3, 1, 4, 1, 5, 9, 2, 6, 5]\n",
    "C.sort()\n",
    "# so you're basically sorting first then printing not to assign th esorted to another variable o"
   ]
  },
  {
   "cell_type": "code",
   "execution_count": 95,
   "id": "3eb652a0",
   "metadata": {},
   "outputs": [
    {
     "name": "stdout",
     "output_type": "stream",
     "text": [
      "[1, 1, 2, 3, 4, 5, 5, 6, 9]\n"
     ]
    }
   ],
   "source": [
    "print (C)"
   ]
  },
  {
   "cell_type": "code",
   "execution_count": 96,
   "id": "c5625699",
   "metadata": {},
   "outputs": [],
   "source": [
    "C.reverse()"
   ]
  },
  {
   "cell_type": "code",
   "execution_count": 97,
   "id": "fe377eda",
   "metadata": {},
   "outputs": [
    {
     "name": "stdout",
     "output_type": "stream",
     "text": [
      "[9, 6, 5, 5, 4, 3, 2, 1, 1]\n"
     ]
    }
   ],
   "source": [
    "print(C)"
   ]
  },
  {
   "cell_type": "markdown",
   "id": "4173391e",
   "metadata": {},
   "source": [
    "## Finding Elements"
   ]
  },
  {
   "cell_type": "code",
   "execution_count": 77,
   "id": "953f8ac8",
   "metadata": {},
   "outputs": [
    {
     "name": "stdout",
     "output_type": "stream",
     "text": [
      "2\n",
      "Found at index  2\n"
     ]
    }
   ],
   "source": [
    "k = [1, 2, 3, 4, 5,4,3,9,10]\n",
    "elementToFind = 3\n",
    "elementAtIndex = k.index(elementToFind) \n",
    "print(elementAtIndex)\n",
    "print(\"Found at index \",elementAtIndex)"
   ]
  },
  {
   "cell_type": "code",
   "execution_count": null,
   "id": "652b9922",
   "metadata": {},
   "outputs": [],
   "source": []
  },
  {
   "cell_type": "markdown",
   "id": "b2f44287",
   "metadata": {},
   "source": [
    "OR"
   ]
  },
  {
   "cell_type": "code",
   "execution_count": 75,
   "id": "5c40d7ef",
   "metadata": {},
   "outputs": [
    {
     "name": "stdout",
     "output_type": "stream",
     "text": [
      "2\n"
     ]
    }
   ],
   "source": [
    "# Find the index of the first occurrence of 3\n",
    "k = [1, 2, 3, 4, 5,4,3,9,10]\n",
    "threeAtIndex = k.index(3)\n",
    "print(threeAtIndex)"
   ]
  },
  {
   "cell_type": "markdown",
   "id": "579863ac",
   "metadata": {},
   "source": [
    "## Count the number of occurrences of"
   ]
  },
  {
   "cell_type": "code",
   "execution_count": 105,
   "id": "a96ae26d",
   "metadata": {},
   "outputs": [
    {
     "name": "stdout",
     "output_type": "stream",
     "text": [
      "2\n"
     ]
    }
   ],
   "source": [
    "e = [2, 3, 4, 4, 3, 1, 1]\n",
    "count1 = e.count(1)\n",
    "print(count1)"
   ]
  },
  {
   "cell_type": "code",
   "execution_count": 108,
   "id": "ea0f917f",
   "metadata": {},
   "outputs": [
    {
     "ename": "IndexError",
     "evalue": "list assignment index out of range",
     "output_type": "error",
     "traceback": [
      "\u001b[0;31m---------------------------------------------------------------------------\u001b[0m",
      "\u001b[0;31mIndexError\u001b[0m                                Traceback (most recent call last)",
      "Cell \u001b[0;32mIn[108], line 2\u001b[0m\n\u001b[1;32m      1\u001b[0m j \u001b[38;5;241m=\u001b[39m [\u001b[38;5;124m'\u001b[39m\u001b[38;5;124mphysics\u001b[39m\u001b[38;5;124m'\u001b[39m, \u001b[38;5;124m'\u001b[39m\u001b[38;5;124mchemistry\u001b[39m\u001b[38;5;124m'\u001b[39m, \u001b[38;5;241m1997\u001b[39m, \u001b[38;5;241m2000\u001b[39m]\n\u001b[0;32m----> 2\u001b[0m j[\u001b[38;5;241m4\u001b[39m] \u001b[38;5;241m=\u001b[39m \u001b[38;5;241m3000\u001b[39m\n\u001b[1;32m      3\u001b[0m \u001b[38;5;28mprint\u001b[39m(j[\u001b[38;5;241m4\u001b[39m])\n",
      "\u001b[0;31mIndexError\u001b[0m: list assignment index out of range"
     ]
    }
   ],
   "source": [
    "j = ['physics', 'chemistry', 1997, 2000]\n",
    "j[4] = 3000\n",
    "print(j[4])\n",
    "\n"
   ]
  },
  {
   "cell_type": "code",
   "execution_count": 110,
   "id": "0200a467",
   "metadata": {},
   "outputs": [
    {
     "name": "stdout",
     "output_type": "stream",
     "text": [
      "3000\n",
      "['physics', 'chemistry', 1997, 3000]\n"
     ]
    }
   ],
   "source": [
    "j = ['physics', 'chemistry', 1997, 2000]\n",
    "j[3] = 3000\n",
    "print(j[3])\n",
    "print(j)\n"
   ]
  },
  {
   "cell_type": "code",
   "execution_count": 78,
   "id": "88c51bc8",
   "metadata": {},
   "outputs": [
    {
     "ename": "TypeError",
     "evalue": "can't multiply sequence by non-int of type 'list'",
     "output_type": "error",
     "traceback": [
      "\u001b[0;31m---------------------------------------------------------------------------\u001b[0m",
      "\u001b[0;31mTypeError\u001b[0m                                 Traceback (most recent call last)",
      "Cell \u001b[0;32mIn[78], line 2\u001b[0m\n\u001b[1;32m      1\u001b[0m p \u001b[38;5;241m=\u001b[39m [\u001b[38;5;124m'\u001b[39m\u001b[38;5;124mphysics\u001b[39m\u001b[38;5;124m'\u001b[39m, \u001b[38;5;124m'\u001b[39m\u001b[38;5;124mchemistry\u001b[39m\u001b[38;5;124m'\u001b[39m, \u001b[38;5;241m1997\u001b[39m, \u001b[38;5;241m2000\u001b[39m]\n\u001b[0;32m----> 2\u001b[0m p \u001b[38;5;241m=\u001b[39m p\u001b[38;5;241m*\u001b[39mp\n\u001b[1;32m      3\u001b[0m \u001b[38;5;28mprint\u001b[39m(p)\n",
      "\u001b[0;31mTypeError\u001b[0m: can't multiply sequence by non-int of type 'list'"
     ]
    }
   ],
   "source": [
    "p = ['physics', 'chemistry', 1997, 2000]\n",
    "p = p*p\n",
    "print(p)"
   ]
  },
  {
   "cell_type": "code",
   "execution_count": 79,
   "id": "517b64f1",
   "metadata": {},
   "outputs": [
    {
     "name": "stdout",
     "output_type": "stream",
     "text": [
      "['physics', 'chemistry', 1997, 2000, 'physics', 'chemistry', 1997, 2000]\n"
     ]
    }
   ],
   "source": [
    "p = ['physics', 'chemistry', 1997, 2000]\n",
    "p = p*2\n",
    "print(p)"
   ]
  },
  {
   "cell_type": "code",
   "execution_count": 111,
   "id": "8adc674f",
   "metadata": {},
   "outputs": [
    {
     "name": "stdout",
     "output_type": "stream",
     "text": [
      "[1, 3, 4, 5, 1, 3, 4, 5]\n"
     ]
    }
   ],
   "source": [
    "s = [1,3,4,5]*2\n",
    "print(s)"
   ]
  },
  {
   "cell_type": "code",
   "execution_count": 82,
   "id": "0f0efe73",
   "metadata": {},
   "outputs": [
    {
     "ename": "IndexError",
     "evalue": "list assignment index out of range",
     "output_type": "error",
     "traceback": [
      "\u001b[0;31m---------------------------------------------------------------------------\u001b[0m",
      "\u001b[0;31mIndexError\u001b[0m                                Traceback (most recent call last)",
      "Cell \u001b[0;32mIn[82], line 2\u001b[0m\n\u001b[1;32m      1\u001b[0m aaa \u001b[38;5;241m=\u001b[39m [\u001b[38;5;124m'\u001b[39m\u001b[38;5;124mphysics\u001b[39m\u001b[38;5;124m'\u001b[39m, \u001b[38;5;124m'\u001b[39m\u001b[38;5;124mchemistry\u001b[39m\u001b[38;5;124m'\u001b[39m, \u001b[38;5;241m1997\u001b[39m, \u001b[38;5;241m2000\u001b[39m]\n\u001b[0;32m----> 2\u001b[0m aaa[\u001b[38;5;241m7\u001b[39m] \u001b[38;5;241m=\u001b[39m [\u001b[38;5;124m'\u001b[39m\u001b[38;5;124mj\u001b[39m\u001b[38;5;124m'\u001b[39m]\n\u001b[1;32m      3\u001b[0m \u001b[38;5;28mprint\u001b[39m(aaa)\n",
      "\u001b[0;31mIndexError\u001b[0m: list assignment index out of range"
     ]
    }
   ],
   "source": [
    "aaa = ['physics', 'chemistry', 1997, 2000]\n",
    "aaa[7] = ['j']\n",
    "print(aaa)"
   ]
  },
  {
   "cell_type": "code",
   "execution_count": 83,
   "id": "9f9c767c",
   "metadata": {},
   "outputs": [
    {
     "ename": "IndexError",
     "evalue": "list index out of range",
     "output_type": "error",
     "traceback": [
      "\u001b[0;31m---------------------------------------------------------------------------\u001b[0m",
      "\u001b[0;31mIndexError\u001b[0m                                Traceback (most recent call last)",
      "Cell \u001b[0;32mIn[83], line 2\u001b[0m\n\u001b[1;32m      1\u001b[0m po \u001b[38;5;241m=\u001b[39m [\u001b[38;5;241m1\u001b[39m,\u001b[38;5;241m3\u001b[39m,\u001b[38;5;241m4\u001b[39m,\u001b[38;5;241m5\u001b[39m]\u001b[38;5;241m*\u001b[39m\u001b[38;5;241m2\u001b[39m\n\u001b[0;32m----> 2\u001b[0m \u001b[38;5;28mprint\u001b[39m(po[\u001b[38;5;241m8\u001b[39m])\n",
      "\u001b[0;31mIndexError\u001b[0m: list index out of range"
     ]
    }
   ],
   "source": [
    "po = [1,3,4,5]*2\n",
    "print(po[8])"
   ]
  },
  {
   "cell_type": "code",
   "execution_count": 85,
   "id": "dc6bde6a",
   "metadata": {},
   "outputs": [
    {
     "ename": "IndexError",
     "evalue": "list assignment index out of range",
     "output_type": "error",
     "traceback": [
      "\u001b[0;31m---------------------------------------------------------------------------\u001b[0m",
      "\u001b[0;31mIndexError\u001b[0m                                Traceback (most recent call last)",
      "Cell \u001b[0;32mIn[85], line 2\u001b[0m\n\u001b[1;32m      1\u001b[0m Po \u001b[38;5;241m=\u001b[39m [\u001b[38;5;241m1\u001b[39m,\u001b[38;5;241m3\u001b[39m,\u001b[38;5;241m4\u001b[39m,\u001b[38;5;241m5\u001b[39m]\u001b[38;5;241m*\u001b[39m\u001b[38;5;241m2\u001b[39m\n\u001b[0;32m----> 2\u001b[0m \u001b[38;5;28;01mdel\u001b[39;00m (Po[\u001b[38;5;241m8\u001b[39m])\n",
      "\u001b[0;31mIndexError\u001b[0m: list assignment index out of range"
     ]
    }
   ],
   "source": [
    "Po = [1,3,4,5]*2\n",
    "del (Po[8])"
   ]
  },
  {
   "cell_type": "code",
   "execution_count": 84,
   "id": "54af9940",
   "metadata": {},
   "outputs": [
    {
     "name": "stdout",
     "output_type": "stream",
     "text": [
      "[1, 3, 4, 5, 1, 3, 4, 5]\n"
     ]
    }
   ],
   "source": [
    "po = [1,3,4,5]*2\n",
    "print(po)"
   ]
  },
  {
   "cell_type": "code",
   "execution_count": 113,
   "id": "a7189a20",
   "metadata": {},
   "outputs": [
    {
     "name": "stdout",
     "output_type": "stream",
     "text": [
      "[2, 6, 8, 10]\n"
     ]
    }
   ],
   "source": [
    "# To multiply each element by 2, you can use a list comprehension:\n",
    "d = [1,3,4,5]\n",
    "d = [element * 2 for element in d]\n",
    "print(d)"
   ]
  },
  {
   "cell_type": "code",
   "execution_count": 114,
   "id": "2c9dc92b",
   "metadata": {},
   "outputs": [
    {
     "name": "stdout",
     "output_type": "stream",
     "text": [
      "[5, 4, 6]\n"
     ]
    }
   ],
   "source": [
    "l = [4,5,6,4,5,6,7,1,3,4]\n",
    "print(l[1:6:2]) \n"
   ]
  },
  {
   "cell_type": "markdown",
   "id": "5d27de96",
   "metadata": {},
   "source": [
    "#### L[1:6] specifies the range of elements to extract, starting from index 1 (the second element) and ending at index 5 (exclusive)\n",
    "#### :2 specifies the step size, meaning it will skip every other element.\n"
   ]
  },
  {
   "cell_type": "code",
   "execution_count": 115,
   "id": "78e2e3ce",
   "metadata": {},
   "outputs": [
    {
     "name": "stdout",
     "output_type": "stream",
     "text": [
      "[4, 7, 4, 4]\n"
     ]
    }
   ],
   "source": [
    "print(l[-1::-3])\n"
   ]
  },
  {
   "cell_type": "markdown",
   "id": "035a2688",
   "metadata": {},
   "source": [
    "#### L[-1:]: This specifies the range of elements to extract, starting from the last element (index -1) and going to the end of the list.\n",
    "#### :-3: This specifies the step size, meaning it will skip every two elements in reverse order."
   ]
  },
  {
   "cell_type": "markdown",
   "id": "82712f56",
   "metadata": {},
   "source": [
    "# Index of Last occurence"
   ]
  },
  {
   "cell_type": "markdown",
   "id": "30fb81fa",
   "metadata": {},
   "source": [
    "#### You can reverse the list and find the first occurrence from the end, then adjust the index:"
   ]
  },
  {
   "cell_type": "code",
   "execution_count": 107,
   "id": "8bd6651e",
   "metadata": {},
   "outputs": [
    {
     "name": "stdout",
     "output_type": "stream",
     "text": [
      "5\n"
     ]
    }
   ],
   "source": [
    "J =[4,5,6,7,8,4,0]\n",
    "\n",
    "lastIndexof4 = len(J) - 1 - J[::-1].index(4)\n",
    "# This len(J) - 1 is trying to get index because index is len-1\n",
    "print(lastIndexof4)"
   ]
  },
  {
   "cell_type": "markdown",
   "id": "0612bc79",
   "metadata": {},
   "source": [
    "In short, len(J) - 1 is used to get the last index of the list because the index of the last element is always length of the list - 1.\n",
    "\n",
    "So the line:\n",
    "\n",
    "python\n",
    "Copy code\n",
    "lastIndexof4 = len(J) - 1 - J[::-1].index(4)\n",
    "works by:\n",
    "\n",
    "J[::-1]: Reversing the list.\n",
    ".index(4): Finding the first occurrence of 4 in the reversed list.\n",
    "len(J) - 1: Refers to the last index of the original list.\n",
    "len(J) - 1 - reversed_index: Converts the index from the reversed list back to the index in the original list.\n",
    "This finds the last occurrence of 4 in the original list J.\n",
    "\n",
    "Output:\n",
    "\n",
    "python\n",
    "Copy code\n",
    "5"
   ]
  },
  {
   "cell_type": "code",
   "execution_count": 117,
   "id": "aad20efa",
   "metadata": {},
   "outputs": [],
   "source": [
    "m =[4,5,6,7,8,4,0]\n"
   ]
  },
  {
   "cell_type": "code",
   "execution_count": 119,
   "id": "eb6b679a",
   "metadata": {},
   "outputs": [
    {
     "name": "stdout",
     "output_type": "stream",
     "text": [
      "The last occurrence of 4 is at index: 5\n"
     ]
    }
   ],
   "source": [
    "m = [4, 5, 6, 7, 8, 4, 0]\n",
    "\n",
    "# Finding the index of the last occurrence of 4\n",
    "last_index = len(m) - 1 - m[::-1].index(4)\n",
    "\n",
    "print(\"The last occurrence of 4 is at index:\", last_index)"
   ]
  },
  {
   "cell_type": "markdown",
   "id": "5858e6ad",
   "metadata": {},
   "source": [
    "#### Explanation:\n",
    "#### m[::-1]: This reverses the list.\n",
    "#### m[::-1].index(4): This finds the index of the first occurrence of 4 in the reversed list.\n",
    "#### The expression len(m) - 1 gives you the index of the last element in the list m.\n",
    "#### len(m) - 1 - ...: This converts the reversed index back to the original index by subtracting the reversed index from the total length of the list minus 1.\n",
    "#### So, this will output the index of the last occurrence of 4 in the list m."
   ]
  },
  {
   "cell_type": "markdown",
   "id": "7b135692",
   "metadata": {},
   "source": [
    "Step-by-Step Explanation:\n",
    "\n",
    "Reversing the List:\n",
    "m[::-1] reverses the list m. The reversed list becomes: [0, 4, 8, 7, 6, 5, 4]\n",
    "\n",
    "Finding the First Occurrence of 4 in the Reversed List:\n",
    "m[::-1].index(4) finds the first occurrence of 4 in the reversed list. The first 4 in this reversed list is at index 1.\n",
    "\n",
    "Converting the Index Back to the Original List:\n",
    "To convert this index from the reversed list back to the original list:\n",
    "\n",
    "len(m) = 7 (since m has 7 elements).\n",
    "The index of the last element in the original list is len(m) - 1 = 6.\n",
    "\n",
    "To find the correct index of the last occurrence of 4 in the original list, we use:\n",
    "\n",
    "len(m) - 1 - m[::-1].index(4)\n"
   ]
  },
  {
   "cell_type": "code",
   "execution_count": 1,
   "id": "ebb13fb3",
   "metadata": {},
   "outputs": [
    {
     "name": "stdout",
     "output_type": "stream",
     "text": [
      "6\n"
     ]
    }
   ],
   "source": [
    "n = [4, 5, 6, 7, 8, 4, 0]\n",
    "four = 4\n",
    "n.reverse()\n",
    "index = n.index(four)\n",
    "print(len(n)-index)"
   ]
  },
  {
   "cell_type": "code",
   "execution_count": 2,
   "id": "e5947c3a",
   "metadata": {},
   "outputs": [
    {
     "name": "stdout",
     "output_type": "stream",
     "text": [
      "6\n"
     ]
    }
   ],
   "source": [
    "p = [4, 5, 6, 7, 8, 4, 0]\n",
    "p.reverse() #To reverse the list\n",
    "index4 = p.index(4)\n",
    "print(len(p)-index4)"
   ]
  },
  {
   "cell_type": "code",
   "execution_count": 1,
   "id": "c1c7c945",
   "metadata": {},
   "outputs": [],
   "source": [
    "Joy = \"Hello World\""
   ]
  },
  {
   "cell_type": "code",
   "execution_count": 2,
   "id": "cb08241c",
   "metadata": {},
   "outputs": [
    {
     "name": "stdout",
     "output_type": "stream",
     "text": [
      " Worl\n"
     ]
    }
   ],
   "source": [
    "print(Joy[-6:-1])"
   ]
  },
  {
   "cell_type": "code",
   "execution_count": 132,
   "id": "e72cb64f",
   "metadata": {},
   "outputs": [
    {
     "name": "stdout",
     "output_type": "stream",
     "text": [
      "['physics', 'chemistry', 2000]\n"
     ]
    }
   ],
   "source": [
    "Things = ['physics', 'chemistry', 1997, 2000]\n",
    "del Things[2]\n",
    "print(Things)"
   ]
  },
  {
   "cell_type": "code",
   "execution_count": 133,
   "id": "9088f49d",
   "metadata": {},
   "outputs": [
    {
     "ename": "IndexError",
     "evalue": "list assignment index out of range",
     "output_type": "error",
     "traceback": [
      "\u001b[0;31m---------------------------------------------------------------------------\u001b[0m",
      "\u001b[0;31mIndexError\u001b[0m                                Traceback (most recent call last)",
      "Cell \u001b[0;32mIn[133], line 1\u001b[0m\n\u001b[0;32m----> 1\u001b[0m Things[\u001b[38;5;241m4\u001b[39m]\u001b[38;5;241m=\u001b[39m \u001b[38;5;241m3000\u001b[39m\n",
      "\u001b[0;31mIndexError\u001b[0m: list assignment index out of range"
     ]
    }
   ],
   "source": [
    "Things[4]= 3000"
   ]
  },
  {
   "cell_type": "code",
   "execution_count": 134,
   "id": "a5043971",
   "metadata": {},
   "outputs": [
    {
     "ename": "IndexError",
     "evalue": "list index out of range",
     "output_type": "error",
     "traceback": [
      "\u001b[0;31m---------------------------------------------------------------------------\u001b[0m",
      "\u001b[0;31mIndexError\u001b[0m                                Traceback (most recent call last)",
      "Cell \u001b[0;32mIn[134], line 2\u001b[0m\n\u001b[1;32m      1\u001b[0m has \u001b[38;5;241m=\u001b[39m [\u001b[38;5;241m1\u001b[39m,\u001b[38;5;241m3\u001b[39m,\u001b[38;5;241m4\u001b[39m,\u001b[38;5;241m5\u001b[39m]\u001b[38;5;241m*\u001b[39m\u001b[38;5;241m2\u001b[39m\n\u001b[0;32m----> 2\u001b[0m \u001b[38;5;28mprint\u001b[39m(has[\u001b[38;5;241m8\u001b[39m])\n",
      "\u001b[0;31mIndexError\u001b[0m: list index out of range"
     ]
    }
   ],
   "source": [
    "has = [1,3,4,5]*2\n",
    "print(has[8])"
   ]
  },
  {
   "cell_type": "markdown",
   "id": "c17216d9",
   "metadata": {},
   "source": [
    "# Practice all exercises in lecture 6"
   ]
  },
  {
   "cell_type": "markdown",
   "id": "8ab6927b",
   "metadata": {},
   "source": [
    "## AVG, MIN & MAX"
   ]
  },
  {
   "cell_type": "code",
   "execution_count": 1,
   "id": "59dab92b",
   "metadata": {},
   "outputs": [],
   "source": [
    "james = 20\n",
    "james = 20\n",
    "Biodun = 56\n",
    "Kaka = 76\n",
    "Jumoke = 30\n",
    "Bolaji = 23\n",
    "Chuckwu = 40"
   ]
  },
  {
   "cell_type": "markdown",
   "id": "a65dcb67",
   "metadata": {},
   "source": [
    "I'd get back to this"
   ]
  },
  {
   "cell_type": "markdown",
   "id": "b4943bb7",
   "metadata": {},
   "source": [
    "# Python Tuples"
   ]
  },
  {
   "cell_type": "markdown",
   "id": "e04f47f1",
   "metadata": {},
   "source": [
    "Tuples are sequences, just like lists. \n",
    "The main difference between the tuples and the lists is that the tuples cannot bechanged unlike lists.\n",
    "\n",
    "Notes:\n",
    "1. Tuples are immutable. To modify,\n",
    "change to list – list(tuple) – and then\n",
    "change back to tuple – tuple(list).\n",
    "2. len(tuple), min(tuple), max(tuple)\n",
    "4. del removes an entry\n",
    "\n",
    "# please try these out"
   ]
  },
  {
   "cell_type": "code",
   "execution_count": 110,
   "id": "527cc87f",
   "metadata": {},
   "outputs": [
    {
     "name": "stdout",
     "output_type": "stream",
     "text": [
      "1997\n",
      "(1, 2)\n"
     ]
    }
   ],
   "source": [
    "tup1 = ('physics', 'chemistry', 1997, 2000)\n",
    "tup2 = (1, 2, 3, 4, 5 )\n",
    "\n",
    "print(tup1[2])\n",
    "print(tup2[0:2])"
   ]
  },
  {
   "cell_type": "code",
   "execution_count": 114,
   "id": "8b636f13",
   "metadata": {},
   "outputs": [
    {
     "name": "stdout",
     "output_type": "stream",
     "text": [
      "('physics', 'chemistry', 1997, 2000, 1, 2, 3, 4, 5)\n"
     ]
    }
   ],
   "source": [
    "tup3 = tup1 + tup2\n",
    "print(tup3)"
   ]
  },
  {
   "cell_type": "code",
   "execution_count": 115,
   "id": "4e31db03",
   "metadata": {},
   "outputs": [
    {
     "name": "stdout",
     "output_type": "stream",
     "text": [
      "('physics', 'chemistry', 1997, 2000, 1, 2, 3, 4, 5)\n"
     ]
    }
   ],
   "source": [
    "print(tup3)"
   ]
  },
  {
   "cell_type": "code",
   "execution_count": 116,
   "id": "a6c5525f",
   "metadata": {},
   "outputs": [],
   "source": [
    "del tup3"
   ]
  },
  {
   "cell_type": "code",
   "execution_count": 117,
   "id": "0c3707d9",
   "metadata": {},
   "outputs": [
    {
     "ename": "NameError",
     "evalue": "name 'tup3' is not defined",
     "output_type": "error",
     "traceback": [
      "\u001b[0;31m---------------------------------------------------------------------------\u001b[0m",
      "\u001b[0;31mNameError\u001b[0m                                 Traceback (most recent call last)",
      "Cell \u001b[0;32mIn[117], line 1\u001b[0m\n\u001b[0;32m----> 1\u001b[0m \u001b[38;5;28mprint\u001b[39m (tup3)\n",
      "\u001b[0;31mNameError\u001b[0m: name 'tup3' is not defined"
     ]
    }
   ],
   "source": [
    "print (tup3)"
   ]
  },
  {
   "cell_type": "code",
   "execution_count": 119,
   "id": "1d821297",
   "metadata": {},
   "outputs": [
    {
     "name": "stdout",
     "output_type": "stream",
     "text": [
      "(1, 2, 3, 4, 5, 1, 2, 3, 4, 5, 1, 2, 3, 4, 5, 1, 2, 3, 4, 5)\n"
     ]
    }
   ],
   "source": [
    "print(tup2 * 4)"
   ]
  },
  {
   "cell_type": "code",
   "execution_count": 129,
   "id": "d0ee2578",
   "metadata": {},
   "outputs": [
    {
     "ename": "TypeError",
     "evalue": "'tuple' object does not support item assignment",
     "output_type": "error",
     "traceback": [
      "\u001b[0;31m---------------------------------------------------------------------------\u001b[0m",
      "\u001b[0;31mTypeError\u001b[0m                                 Traceback (most recent call last)",
      "Cell \u001b[0;32mIn[129], line 2\u001b[0m\n\u001b[1;32m      1\u001b[0m Tup1 \u001b[38;5;241m=\u001b[39m (\u001b[38;5;241m12\u001b[39m, \u001b[38;5;241m34.56\u001b[39m,\u001b[38;5;241m45\u001b[39m)\n\u001b[0;32m----> 2\u001b[0m Tup1[\u001b[38;5;241m0\u001b[39m] \u001b[38;5;241m=\u001b[39m \u001b[38;5;241m13\u001b[39m\n",
      "\u001b[0;31mTypeError\u001b[0m: 'tuple' object does not support item assignment"
     ]
    }
   ],
   "source": [
    "Tup1 = (12, 34.56,45)\n",
    "Tup1[0] = 13"
   ]
  },
  {
   "cell_type": "code",
   "execution_count": 130,
   "id": "22e8f198",
   "metadata": {},
   "outputs": [
    {
     "name": "stdout",
     "output_type": "stream",
     "text": [
      "45\n"
     ]
    }
   ],
   "source": [
    "print(Tup1[-1])"
   ]
  },
  {
   "cell_type": "code",
   "execution_count": null,
   "id": "9a224076",
   "metadata": {},
   "outputs": [],
   "source": []
  },
  {
   "cell_type": "markdown",
   "id": "c45f9387",
   "metadata": {},
   "source": [
    "# Dictionaries"
   ]
  },
  {
   "cell_type": "markdown",
   "id": "324f2ab1",
   "metadata": {},
   "source": [
    "Each key is separated from its value by a\n",
    "colon (:), the items are separated by\n",
    "commas, and the whole thing is\n",
    "enclosed in curly braces."
   ]
  },
  {
   "cell_type": "code",
   "execution_count": 121,
   "id": "115bddbe",
   "metadata": {},
   "outputs": [
    {
     "name": "stdout",
     "output_type": "stream",
     "text": [
      "Charis Oneyemi\n",
      "MSc Data Science\n",
      "First\n"
     ]
    }
   ],
   "source": [
    "dict = {\"Name\":\"Charis Oneyemi\", \"Program\":\"MSc Data Science\", \"Age\":23, \"Class\":\"First\"}\n",
    "print(dict[\"Name\"])\n",
    "print(dict[\"Program\"])\n",
    "print(dict[\"Class\"])"
   ]
  },
  {
   "cell_type": "markdown",
   "id": "6ed1cc60",
   "metadata": {},
   "source": [
    "## Updating dictionary"
   ]
  },
  {
   "cell_type": "code",
   "execution_count": 122,
   "id": "6ff1fe63",
   "metadata": {},
   "outputs": [
    {
     "name": "stdout",
     "output_type": "stream",
     "text": [
      "{'Name': 'Charis Oneyemi', 'Program': 'MSc Data Science', 'Age': 23, 'Class': 'First', 'University': 'Pan Atlantic University', 'Internship': 'Google'}\n"
     ]
    }
   ],
   "source": [
    "dict[\"University\"] = \"Pan Atlantic University\"\n",
    "dict[\"Internship\"] = \"Google\"\n",
    "\n",
    "print(dict)"
   ]
  },
  {
   "cell_type": "code",
   "execution_count": 124,
   "id": "77d9534c",
   "metadata": {},
   "outputs": [
    {
     "name": "stdout",
     "output_type": "stream",
     "text": [
      "{'Name': 'Charis Oneyemi', 'Program': 'MSc Data Science', 'Age': 23, 'Class': 'First', 'University': 'Pan Atlantic University (PAU)', 'Internship': 'Google'}\n"
     ]
    }
   ],
   "source": [
    "dict[\"University\"] = \"Pan Atlantic University (PAU)\" #we updated the already creted one here\n",
    "print(dict)"
   ]
  },
  {
   "cell_type": "code",
   "execution_count": 125,
   "id": "c89d3f1d",
   "metadata": {},
   "outputs": [],
   "source": [
    "dict2 = {'Name': 'Zara', 'Age': 7, 'Class': 'First'}\n",
    "del dict2['Name'] # remove entry with key 'Name'\n",
    "dict3 = {'Name': 'Zara', 'Age': 7, 'Class': 'First'}\n",
    "del dict3 "
   ]
  },
  {
   "cell_type": "code",
   "execution_count": 126,
   "id": "424eba45",
   "metadata": {},
   "outputs": [
    {
     "name": "stdout",
     "output_type": "stream",
     "text": [
      "{'Age': 7, 'Class': 'First'}\n"
     ]
    }
   ],
   "source": [
    "print (dict2)"
   ]
  },
  {
   "cell_type": "code",
   "execution_count": 127,
   "id": "166bc410",
   "metadata": {},
   "outputs": [
    {
     "ename": "NameError",
     "evalue": "name 'dict3' is not defined",
     "output_type": "error",
     "traceback": [
      "\u001b[0;31m---------------------------------------------------------------------------\u001b[0m",
      "\u001b[0;31mNameError\u001b[0m                                 Traceback (most recent call last)",
      "Cell \u001b[0;32mIn[127], line 1\u001b[0m\n\u001b[0;32m----> 1\u001b[0m \u001b[38;5;28mprint\u001b[39m (dict3)\n",
      "\u001b[0;31mNameError\u001b[0m: name 'dict3' is not defined"
     ]
    }
   ],
   "source": [
    "print (dict3)"
   ]
  },
  {
   "cell_type": "markdown",
   "id": "8d9ea4c2",
   "metadata": {},
   "source": [
    "### Property of Dictionary key"
   ]
  },
  {
   "cell_type": "markdown",
   "id": "1e5736bb",
   "metadata": {},
   "source": [
    "More than one entry per key is not allowed.\n",
    "This means no duplicate key is allowed.\n",
    "When duplicate keys are encountered\n",
    "during assignment, the last assignment\n",
    "wins."
   ]
  },
  {
   "cell_type": "code",
   "execution_count": null,
   "id": "166e2b28",
   "metadata": {},
   "outputs": [],
   "source": []
  },
  {
   "cell_type": "code",
   "execution_count": null,
   "id": "056c0ac2",
   "metadata": {},
   "outputs": [],
   "source": []
  },
  {
   "cell_type": "code",
   "execution_count": null,
   "id": "606a1e68",
   "metadata": {},
   "outputs": [],
   "source": []
  },
  {
   "cell_type": "code",
   "execution_count": null,
   "id": "a82ab5ed",
   "metadata": {},
   "outputs": [],
   "source": []
  },
  {
   "cell_type": "markdown",
   "id": "e7b4bf9f",
   "metadata": {},
   "source": [
    "## Conditions and Iterations\n"
   ]
  },
  {
   "cell_type": "markdown",
   "id": "74aece63",
   "metadata": {},
   "source": [
    "#### Boolean expressions evaluate to True or False\n",
    "#### Can be used for decision making.\n",
    "#### Keywords include: \n",
    "#### if \n",
    "#### else \n",
    "#### elif (this is equivalent to else if combined)\n"
   ]
  },
  {
   "cell_type": "code",
   "execution_count": null,
   "id": "1dbdbff3",
   "metadata": {},
   "outputs": [],
   "source": [
    "numberA = 10\n",
    "if numberA > 20\n",
    "    print(f\"{numberA} is greater than \")"
   ]
  },
  {
   "cell_type": "markdown",
   "id": "d58ddb0d",
   "metadata": {},
   "source": [
    "# Conditional Statements"
   ]
  },
  {
   "cell_type": "markdown",
   "id": "93863d58",
   "metadata": {},
   "source": [
    "## If statements"
   ]
  },
  {
   "cell_type": "code",
   "execution_count": 1,
   "id": "3bb83ccf",
   "metadata": {},
   "outputs": [
    {
     "ename": "SyntaxError",
     "evalue": "expected ':' (757218588.py, line 2)",
     "output_type": "error",
     "traceback": [
      "\u001b[0;36m  Cell \u001b[0;32mIn[1], line 2\u001b[0;36m\u001b[0m\n\u001b[0;31m    if (sample_num ==10)\u001b[0m\n\u001b[0m                        ^\u001b[0m\n\u001b[0;31mSyntaxError\u001b[0m\u001b[0;31m:\u001b[0m expected ':'\n"
     ]
    }
   ],
   "source": [
    "sample_num = 10\n",
    "if (sample_num ==10)\n",
    "    print(\"correct\")\n",
    "else:\n",
    "    print(\"incorrect\")"
   ]
  },
  {
   "cell_type": "markdown",
   "id": "46cc7c1e",
   "metadata": {},
   "source": [
    "### N/B: You need to put a colon after your if(): not just if()"
   ]
  },
  {
   "cell_type": "code",
   "execution_count": 2,
   "id": "42795044",
   "metadata": {},
   "outputs": [
    {
     "name": "stdout",
     "output_type": "stream",
     "text": [
      "correct\n"
     ]
    }
   ],
   "source": [
    "sample_num = 10\n",
    "if (sample_num ==10):\n",
    "    print(\"correct\")\n",
    "else:\n",
    "    print(\"incorrect\")"
   ]
  },
  {
   "cell_type": "markdown",
   "id": "e50125cb",
   "metadata": {},
   "source": [
    "## Collecting input"
   ]
  },
  {
   "cell_type": "code",
   "execution_count": 4,
   "id": "3c63bcd6",
   "metadata": {},
   "outputs": [
    {
     "name": "stdout",
     "output_type": "stream",
     "text": [
      "Enter your age: 12\n",
      "Access denied\n"
     ]
    }
   ],
   "source": [
    "age = int(input(\"Enter your age: \"))\n",
    "if (age >= 20):\n",
    "    print(\"Access\")\n",
    "else:\n",
    "    print(\"Access denied\")"
   ]
  },
  {
   "cell_type": "markdown",
   "id": "ea39216c",
   "metadata": {},
   "source": [
    "#### Note when you collect something from an input it saves as string so you have to convert to int with int()"
   ]
  },
  {
   "cell_type": "code",
   "execution_count": 11,
   "id": "9d711613",
   "metadata": {},
   "outputs": [
    {
     "name": "stdout",
     "output_type": "stream",
     "text": [
      "Enter your age: 23\n",
      "<class 'str'>\n"
     ]
    }
   ],
   "source": [
    "numZ = input(\"Enter your age: \")\n",
    "print(type(numZ))\n"
   ]
  },
  {
   "cell_type": "markdown",
   "id": "3d6dddca",
   "metadata": {},
   "source": [
    "### So it is string now but to change it to int look below"
   ]
  },
  {
   "cell_type": "code",
   "execution_count": 13,
   "id": "2f3e2b01",
   "metadata": {},
   "outputs": [
    {
     "name": "stdout",
     "output_type": "stream",
     "text": [
      "Enter your age: 23\n",
      "<class 'int'>\n"
     ]
    }
   ],
   "source": [
    "numY = int(input(\"Enter your age: \"))\n",
    "\n",
    "print(type(numY))\n"
   ]
  },
  {
   "cell_type": "code",
   "execution_count": 9,
   "id": "66b59a02",
   "metadata": {},
   "outputs": [
    {
     "name": "stdout",
     "output_type": "stream",
     "text": [
      "<class 'int'>\n"
     ]
    }
   ],
   "source": [
    "print(type(age1))"
   ]
  },
  {
   "cell_type": "code",
   "execution_count": 14,
   "id": "4ccae2ef",
   "metadata": {},
   "outputs": [
    {
     "ename": "SyntaxError",
     "evalue": "invalid syntax. Perhaps you forgot a comma? (768477595.py, line 4)",
     "output_type": "error",
     "traceback": [
      "\u001b[0;36m  Cell \u001b[0;32mIn[14], line 4\u001b[0;36m\u001b[0m\n\u001b[0;31m    elif (age1 >=18 AND age <20):\u001b[0m\n\u001b[0m          ^\u001b[0m\n\u001b[0;31mSyntaxError\u001b[0m\u001b[0;31m:\u001b[0m invalid syntax. Perhaps you forgot a comma?\n"
     ]
    }
   ],
   "source": [
    "age1 = int(input(\"Enter your age: \"))\n",
    "if (age1 >= 20):\n",
    "    print(\"Access\")\n",
    "elif (age1 >=18 AND age <20):\n",
    "    print(\"Minimal Access Granted\")\n",
    "else:\n",
    "    print(\"Access denied\")"
   ]
  },
  {
   "cell_type": "markdown",
   "id": "6136e423",
   "metadata": {},
   "source": [
    "#### Note: When using AND, It is and not AND"
   ]
  },
  {
   "cell_type": "code",
   "execution_count": 8,
   "id": "dca20cbc",
   "metadata": {},
   "outputs": [
    {
     "name": "stdout",
     "output_type": "stream",
     "text": [
      "Enter your age: 19\n",
      "Minimal Access Granted\n"
     ]
    }
   ],
   "source": [
    "age1 = int(input(\"Enter your age: \"))\n",
    "if (age1 >= 20):\n",
    "    print(\"Access\")\n",
    "elif (age1 >=18 and age <20):\n",
    "    print(\"Minimal Access Granted\")\n",
    "else:\n",
    "    print(\"Access denied\")"
   ]
  },
  {
   "cell_type": "markdown",
   "id": "826b1cc2",
   "metadata": {},
   "source": [
    "#### The If returns true or fales. If true print the if and if false print the else"
   ]
  },
  {
   "cell_type": "markdown",
   "id": "8607a216",
   "metadata": {},
   "source": [
    "## FOR LOOP"
   ]
  },
  {
   "cell_type": "code",
   "execution_count": 16,
   "id": "b65bc27f",
   "metadata": {},
   "outputs": [
    {
     "name": "stdout",
     "output_type": "stream",
     "text": [
      "1\n",
      "2\n",
      "3\n",
      "4\n",
      "5\n",
      "6\n",
      "7\n",
      "8\n",
      "9\n",
      "10\n"
     ]
    }
   ],
   "source": [
    "numbers1 = [1,2,3,4,5,6,7,8,9,10]\n",
    "\n",
    "for num in numbers1:\n",
    "    print (num)"
   ]
  },
  {
   "cell_type": "code",
   "execution_count": 19,
   "id": "7f52d624",
   "metadata": {},
   "outputs": [
    {
     "name": "stdout",
     "output_type": "stream",
     "text": [
      "ball 1 \n",
      "\n",
      "ball 2 \n",
      "\n",
      "ball 3 \n",
      "\n"
     ]
    }
   ],
   "source": [
    "BagOfBalls = [\"ball 1 \\n\", \"ball 2 \\n\", \"ball 3 \\n\"]\n",
    "\n",
    "for ball in BagOfBalls:\n",
    "    print (ball)"
   ]
  },
  {
   "cell_type": "markdown",
   "id": "ff938dfc",
   "metadata": {},
   "source": [
    "#### CHECK OUT NESTED FOR LOOPS"
   ]
  },
  {
   "cell_type": "code",
   "execution_count": 26,
   "id": "e127f89e",
   "metadata": {},
   "outputs": [
    {
     "name": "stdout",
     "output_type": "stream",
     "text": [
      "Current ball:  ball 1 \n",
      "\n",
      "Ciao Bella\n",
      "\n",
      "Current ball:  ball 2 \n",
      "\n",
      "Ciao Bella\n",
      "\n",
      "Current ball:  ball 3 \n",
      "\n",
      "Ciao Bella\n",
      "\n"
     ]
    }
   ],
   "source": [
    "BagOfBalls = [\"ball 1 \\n\", \"ball 2 \\n\", \"ball 3 \\n\"]\n",
    "\n",
    "for ball in BagOfBalls:\n",
    "    print (\"Current ball: \", ball)\n",
    "    print(\"Ciao Bella\\n\")# This is in the for loop so it will print everytime it prints the ball."
   ]
  },
  {
   "cell_type": "code",
   "execution_count": 25,
   "id": "85847a2b",
   "metadata": {},
   "outputs": [
    {
     "name": "stdout",
     "output_type": "stream",
     "text": [
      "Current ball:  ball 1 \n",
      "\n",
      "Current ball:  ball 2 \n",
      "\n",
      "Current ball:  ball 3 \n",
      "\n",
      "Ciao Bella\n",
      "\n"
     ]
    }
   ],
   "source": [
    "BagOfBalls = [\"ball 1 \\n\", \"ball 2 \\n\", \"ball 3 \\n\"]\n",
    "\n",
    "for ball in BagOfBalls:\n",
    "    print (\"Current ball: \", ball)\n",
    "print(\"Ciao Bella\\n\")# This is out of the for loop so it will only print once."
   ]
  },
  {
   "cell_type": "markdown",
   "id": "bd2b5613",
   "metadata": {},
   "source": [
    "### Let's say you want to sum the numbers in the list"
   ]
  },
  {
   "cell_type": "code",
   "execution_count": 30,
   "id": "527ea761",
   "metadata": {},
   "outputs": [
    {
     "name": "stdout",
     "output_type": "stream",
     "text": [
      "2\n",
      "4\n",
      "6\n",
      "8\n",
      "10\n",
      "12\n",
      "14\n",
      "16\n",
      "18\n",
      "20\n"
     ]
    }
   ],
   "source": [
    "numbers1 = [1,2,3,4,5,6,7,8,9,10]\n",
    "\n",
    "for num in numbers1:\n",
    "    num += num\n",
    "    print (num)"
   ]
  },
  {
   "cell_type": "markdown",
   "id": "6cf15e10",
   "metadata": {},
   "source": [
    "### Let's say you want to sum the numbers in the list"
   ]
  },
  {
   "cell_type": "code",
   "execution_count": 36,
   "id": "0add19cd",
   "metadata": {},
   "outputs": [
    {
     "ename": "SyntaxError",
     "evalue": "invalid syntax (288803493.py, line 3)",
     "output_type": "error",
     "traceback": [
      "\u001b[0;36m  Cell \u001b[0;32mIn[36], line 3\u001b[0;36m\u001b[0m\n\u001b[0;31m    for (num in numbers1):\u001b[0m\n\u001b[0m                         ^\u001b[0m\n\u001b[0;31mSyntaxError\u001b[0m\u001b[0;31m:\u001b[0m invalid syntax\n"
     ]
    }
   ],
   "source": [
    "numbers1 = [1,2,3,4,5,6,7,8,9,10]\n",
    "SumOfNumbers = 0 #initializing our sum to 0 ie empty which will store the sum\n",
    "for (num in numbers1):\n",
    "    SumOfNumbers += num\n",
    "    print(SumOfNumbers)"
   ]
  },
  {
   "cell_type": "markdown",
   "id": "9f6ef889",
   "metadata": {},
   "source": [
    "### The issue is that in for loop we dont have () like for () that's for if()"
   ]
  },
  {
   "cell_type": "code",
   "execution_count": 37,
   "id": "99966578",
   "metadata": {},
   "outputs": [
    {
     "name": "stdout",
     "output_type": "stream",
     "text": [
      "1\n",
      "3\n",
      "6\n",
      "10\n",
      "15\n",
      "21\n",
      "28\n",
      "36\n",
      "45\n",
      "55\n"
     ]
    }
   ],
   "source": [
    "numbers1 = [1,2,3,4,5,6,7,8,9,10]\n",
    "SumOfNumbers = 0 #initializing our sum to 0 ie empty which will store the sum\n",
    "for num in numbers1:\n",
    "    SumOfNumbers += num\n",
    "    print(SumOfNumbers)"
   ]
  },
  {
   "cell_type": "code",
   "execution_count": null,
   "id": "45a1f542",
   "metadata": {},
   "outputs": [],
   "source": [
    "numbers1 = [1, 2, 3, 4, 5, 6, 7, 8, 9, 10]\n",
    "\n",
    "total_sum = 0  # Initialize a variable to store the sum\n",
    "\n",
    "for num in numbers1:\n",
    "    total_sum += num  # Add each number to total_sum\n",
    "\n",
    "print(\"The total sum is:\", total_sum)"
   ]
  },
  {
   "cell_type": "code",
   "execution_count": 33,
   "id": "49840dcc",
   "metadata": {},
   "outputs": [
    {
     "name": "stdout",
     "output_type": "stream",
     "text": [
      "0\n",
      "1\n",
      "2\n",
      "3\n",
      "4\n",
      "5\n",
      "6\n",
      "7\n",
      "8\n",
      "9\n"
     ]
    }
   ],
   "source": [
    "for numA in range (0,10): #ie 0-9\n",
    "    print(numA)"
   ]
  },
  {
   "cell_type": "code",
   "execution_count": 39,
   "id": "89d1d5ab",
   "metadata": {},
   "outputs": [
    {
     "name": "stdout",
     "output_type": "stream",
     "text": [
      "0\n",
      "2\n",
      "4\n",
      "6\n",
      "8\n"
     ]
    }
   ],
   "source": [
    "for numA in range (0,10,2): #ie even numbers starting with 0\n",
    "    print(numA)"
   ]
  },
  {
   "cell_type": "code",
   "execution_count": 41,
   "id": "a066b0d5",
   "metadata": {},
   "outputs": [
    {
     "name": "stdout",
     "output_type": "stream",
     "text": [
      "2\n",
      "5\n",
      "7\n"
     ]
    }
   ],
   "source": [
    "myList = [2,4,5,6,7,8,34]\n",
    "for num in range (0,6,2):# 0 to 6 is 2,4,5,6,7,8 (ie counting index based 5 but counting regularly the 6th element)\n",
    "    print(myList[num])"
   ]
  },
  {
   "cell_type": "code",
   "execution_count": 42,
   "id": "4eb4d08c",
   "metadata": {},
   "outputs": [
    {
     "name": "stdout",
     "output_type": "stream",
     "text": [
      "[2, 4, 5, 6, 7, 8, 34]\n",
      "[2, 4, 5, 6, 7, 8, 34]\n",
      "[2, 4, 5, 6, 7, 8, 34]\n"
     ]
    }
   ],
   "source": [
    "myList = [2,4,5,6,7,8,34]\n",
    "for num in range (0,6,2):# \n",
    "    print(myList)"
   ]
  },
  {
   "cell_type": "code",
   "execution_count": 44,
   "id": "699312ed",
   "metadata": {},
   "outputs": [
    {
     "name": "stdout",
     "output_type": "stream",
     "text": [
      "0\n",
      "2\n",
      "4\n"
     ]
    }
   ],
   "source": [
    "myList = [2,4,5,6,7,8,34]\n",
    "for num in range (0,6,2):# ie, it ignores the myList and just executes for num in range (0,6,2) ie the range of numbers 0 to 5 ignoring the 6th skipping 2\n",
    "    print(num)"
   ]
  },
  {
   "cell_type": "markdown",
   "id": "8f14a339",
   "metadata": {},
   "source": [
    "# Using a list of numbers of your choice, write a program that collects all odd numbers into one list and all even numbers list\n"
   ]
  },
  {
   "cell_type": "code",
   "execution_count": 45,
   "id": "b75defc4",
   "metadata": {},
   "outputs": [
    {
     "ename": "SyntaxError",
     "evalue": "cannot assign to expression here. Maybe you meant '==' instead of '='? (438701509.py, line 4)",
     "output_type": "error",
     "traceback": [
      "\u001b[0;36m  Cell \u001b[0;32mIn[45], line 4\u001b[0;36m\u001b[0m\n\u001b[0;31m    if (EvenOddList % 2 = 0):\u001b[0m\n\u001b[0m        ^\u001b[0m\n\u001b[0;31mSyntaxError\u001b[0m\u001b[0;31m:\u001b[0m cannot assign to expression here. Maybe you meant '==' instead of '='?\n"
     ]
    }
   ],
   "source": [
    "EvenOddList = [12, 37, 58, 21, 64, 43, 76, 19, 82, 55]\n",
    "\n",
    "for even in EvenOddList:\n",
    "    if (EvenOddList % 2 = 0):\n",
    "        print(f\"The even numbers in the list are: {even}\")\n",
    "for odd in EvenOddList:\n",
    "    if (EvenOddList % 2 != 0):\n",
    "        print(f\"The odd numbers in the list are: {odd}\")"
   ]
  },
  {
   "cell_type": "code",
   "execution_count": 46,
   "id": "f5e93a03",
   "metadata": {},
   "outputs": [
    {
     "ename": "TypeError",
     "evalue": "unsupported operand type(s) for %: 'list' and 'int'",
     "output_type": "error",
     "traceback": [
      "\u001b[0;31m---------------------------------------------------------------------------\u001b[0m",
      "\u001b[0;31mTypeError\u001b[0m                                 Traceback (most recent call last)",
      "Cell \u001b[0;32mIn[46], line 4\u001b[0m\n\u001b[1;32m      1\u001b[0m EvenOddList \u001b[38;5;241m=\u001b[39m [\u001b[38;5;241m12\u001b[39m, \u001b[38;5;241m37\u001b[39m, \u001b[38;5;241m58\u001b[39m, \u001b[38;5;241m21\u001b[39m, \u001b[38;5;241m64\u001b[39m, \u001b[38;5;241m43\u001b[39m, \u001b[38;5;241m76\u001b[39m, \u001b[38;5;241m19\u001b[39m, \u001b[38;5;241m82\u001b[39m, \u001b[38;5;241m55\u001b[39m]\n\u001b[1;32m      3\u001b[0m \u001b[38;5;28;01mfor\u001b[39;00m even \u001b[38;5;129;01min\u001b[39;00m EvenOddList:\n\u001b[0;32m----> 4\u001b[0m     \u001b[38;5;28;01mif\u001b[39;00m (EvenOddList \u001b[38;5;241m%\u001b[39m \u001b[38;5;241m2\u001b[39m \u001b[38;5;241m==\u001b[39m \u001b[38;5;241m0\u001b[39m):\n\u001b[1;32m      5\u001b[0m         \u001b[38;5;28mprint\u001b[39m(\u001b[38;5;124mf\u001b[39m\u001b[38;5;124m\"\u001b[39m\u001b[38;5;124mThe even numbers in the list are: \u001b[39m\u001b[38;5;132;01m{\u001b[39;00meven\u001b[38;5;132;01m}\u001b[39;00m\u001b[38;5;124m\"\u001b[39m)\n\u001b[1;32m      6\u001b[0m \u001b[38;5;28;01mfor\u001b[39;00m odd \u001b[38;5;129;01min\u001b[39;00m EvenOddList:\n",
      "\u001b[0;31mTypeError\u001b[0m: unsupported operand type(s) for %: 'list' and 'int'"
     ]
    }
   ],
   "source": [
    "EvenOddList = [12, 37, 58, 21, 64, 43, 76, 19, 82, 55]\n",
    "\n",
    "for even in EvenOddList:\n",
    "    if (EvenOddList % 2 == 0):\n",
    "        print(f\"The even numbers in the list are: {even}\")\n",
    "for odd in EvenOddList:\n",
    "    if (EvenOddList % 2 != 0):\n",
    "        print(f\"The odd numbers in the list are: {odd}\")"
   ]
  },
  {
   "cell_type": "code",
   "execution_count": 47,
   "id": "a1e074bc",
   "metadata": {},
   "outputs": [
    {
     "ename": "TypeError",
     "evalue": "unsupported operand type(s) for %: 'list' and 'int'",
     "output_type": "error",
     "traceback": [
      "\u001b[0;31m---------------------------------------------------------------------------\u001b[0m",
      "\u001b[0;31mTypeError\u001b[0m                                 Traceback (most recent call last)",
      "Cell \u001b[0;32mIn[47], line 4\u001b[0m\n\u001b[1;32m      1\u001b[0m EvenOddList \u001b[38;5;241m=\u001b[39m [\u001b[38;5;241m12\u001b[39m, \u001b[38;5;241m37\u001b[39m, \u001b[38;5;241m58\u001b[39m, \u001b[38;5;241m21\u001b[39m, \u001b[38;5;241m64\u001b[39m, \u001b[38;5;241m43\u001b[39m, \u001b[38;5;241m76\u001b[39m, \u001b[38;5;241m19\u001b[39m, \u001b[38;5;241m82\u001b[39m, \u001b[38;5;241m55\u001b[39m]\n\u001b[1;32m      3\u001b[0m \u001b[38;5;28;01mfor\u001b[39;00m aNumber \u001b[38;5;129;01min\u001b[39;00m EvenOddList:\n\u001b[0;32m----> 4\u001b[0m     \u001b[38;5;28;01mif\u001b[39;00m (EvenOddList \u001b[38;5;241m%\u001b[39m \u001b[38;5;241m2\u001b[39m \u001b[38;5;241m==\u001b[39m \u001b[38;5;241m0\u001b[39m):\n\u001b[1;32m      5\u001b[0m         \u001b[38;5;28mprint\u001b[39m(\u001b[38;5;124mf\u001b[39m\u001b[38;5;124m\"\u001b[39m\u001b[38;5;124mThe even numbers in the list are: \u001b[39m\u001b[38;5;132;01m{\u001b[39;00maNumber\u001b[38;5;132;01m}\u001b[39;00m\u001b[38;5;124m\"\u001b[39m)\n\u001b[1;32m      6\u001b[0m     \u001b[38;5;28;01melse\u001b[39;00m:\n",
      "\u001b[0;31mTypeError\u001b[0m: unsupported operand type(s) for %: 'list' and 'int'"
     ]
    }
   ],
   "source": [
    "EvenOddList = [12, 37, 58, 21, 64, 43, 76, 19, 82, 55]\n",
    "\n",
    "for aNumber in EvenOddList:\n",
    "    if (EvenOddList % 2 == 0):\n",
    "        print(f\"The even numbers in the list are: {aNumber}\")\n",
    "    else:\n",
    "        print(f\"The odd numbers in the list are: {aNumber}\")"
   ]
  },
  {
   "cell_type": "code",
   "execution_count": 49,
   "id": "06e18d1c",
   "metadata": {},
   "outputs": [
    {
     "name": "stdout",
     "output_type": "stream",
     "text": [
      "The even numbers in the list are: 12\n",
      "The odd numbers in the list are: 37\n",
      "The even numbers in the list are: 58\n",
      "The odd numbers in the list are: 21\n",
      "The even numbers in the list are: 64\n",
      "The odd numbers in the list are: 43\n",
      "The even numbers in the list are: 76\n",
      "The odd numbers in the list are: 19\n",
      "The even numbers in the list are: 82\n",
      "The odd numbers in the list are: 55\n"
     ]
    }
   ],
   "source": [
    "EvenOddList = [12, 37, 58, 21, 64, 43, 76, 19, 82, 55]\n",
    "\n",
    "for TheNumber in EvenOddList:\n",
    "    if (TheNumber % 2 == 0):\n",
    "        print(f\"The even numbers in the list are: {TheNumber}\")\n",
    "    else:\n",
    "        print(f\"The odd numbers in the list are: {TheNumber}\")"
   ]
  },
  {
   "cell_type": "code",
   "execution_count": 4,
   "id": "c7b1130c",
   "metadata": {},
   "outputs": [
    {
     "name": "stdout",
     "output_type": "stream",
     "text": [
      "The list with Even numbers is: [12, 58, 64, 76, 82]\n",
      "The list with Odd numbers is: [37, 21, 43, 19, 55]\n",
      "\n",
      "The sum of Even numbers is: 292\n",
      "The sum of Odd numbers is: 175\n"
     ]
    }
   ],
   "source": [
    "EvenOddList = [12, 37, 58, 21, 64, 43, 76, 19, 82, 55]\n",
    "\n",
    "evenList = []\n",
    "oddList = []\n",
    "\n",
    "for TheNumber in EvenOddList:\n",
    "    if (TheNumber % 2 == 0):\n",
    "        evenList.append(TheNumber)\n",
    "    else:\n",
    "        oddList.append(TheNumber)\n",
    "        \n",
    "print(f\"The list with Even numbers is: {evenList}\")\n",
    "print(f\"The list with Odd numbers is: {oddList}\\n\")\n",
    "\n",
    "\n",
    "sumOfEven = 0\n",
    "sumOfOdd = 0\n",
    "\n",
    "for num in evenList:\n",
    "    sumOfEven+= num\n",
    "\n",
    "for num in oddList:\n",
    "    sumOfOdd+= num\n",
    "\n",
    "print(f\"The sum of Even numbers is: {sumOfEven}\")\n",
    "print(f\"The sum of Odd numbers is: {sumOfOdd}\")\n",
    "\n",
    "\n",
    "\n"
   ]
  },
  {
   "cell_type": "markdown",
   "id": "f1afb9a5",
   "metadata": {},
   "source": [
    "# Functions"
   ]
  },
  {
   "cell_type": "code",
   "execution_count": 206,
   "id": "dbb33660",
   "metadata": {},
   "outputs": [
    {
     "name": "stdout",
     "output_type": "stream",
     "text": [
      "the area is 8\n"
     ]
    }
   ],
   "source": [
    "def calculate_area(length, breadth): #calculate_area is the identifier or function name and length, breadth are the parameters\n",
    "    area = length * breadth #how to find the area\n",
    "    return area\n",
    "\n",
    "length = 2\n",
    "breadth = 4\n",
    "\n",
    "area = calculate_area(length,breadth) \n",
    "#before answer = calculate_area(l,b) will execute, it will go to the def function the returns with the formula which gives the answer\n",
    "print(f\"the area is {area}\")\n",
    "\n"
   ]
  },
  {
   "cell_type": "code",
   "execution_count": 17,
   "id": "6acb9520",
   "metadata": {},
   "outputs": [
    {
     "name": "stdout",
     "output_type": "stream",
     "text": [
      "Area is 8\n"
     ]
    }
   ],
   "source": [
    "def calculate_area(length, breadth): #calculate_area is the identifier or function name and length, breadth are the parameters\n",
    "    area = length * breadth #how to find the area\n",
    "    return area\n",
    "\n",
    "l = 2\n",
    "b = 4\n",
    "\n",
    "area = calculate_area(length,breadth) \n",
    "#before answer = calculate_area(l,b) will execute, it will go to the def function the returns with the formula which gives the answer\n",
    "print(f\"Area is {area}\")\n",
    "\n"
   ]
  },
  {
   "cell_type": "markdown",
   "id": "490857fb",
   "metadata": {},
   "source": [
    "The might ask line of execution.\n",
    "confirm with chag"
   ]
  },
  {
   "cell_type": "markdown",
   "id": "cfba03aa",
   "metadata": {},
   "source": [
    "### Another"
   ]
  },
  {
   "cell_type": "code",
   "execution_count": 14,
   "id": "59cb9f13",
   "metadata": {},
   "outputs": [
    {
     "name": "stdout",
     "output_type": "stream",
     "text": [
      "The area is 8\n"
     ]
    }
   ],
   "source": [
    "def calculate_area(length, breadth): #calculate_area is the identifier or function name and length, breadth are the parameters\n",
    "    area = length * breadth #how to find the area\n",
    "    return area\n",
    "\n",
    "length = 2\n",
    "breadth = 4\n",
    "\n",
    "area = calculate_area(length,breadth) \n",
    "\n",
    "print(f\"The area is {calculate_area(length,breadth) }\")"
   ]
  },
  {
   "cell_type": "markdown",
   "id": "1ee82652",
   "metadata": {},
   "source": [
    "### What I like"
   ]
  },
  {
   "cell_type": "code",
   "execution_count": 205,
   "id": "ce703832",
   "metadata": {},
   "outputs": [
    {
     "name": "stdout",
     "output_type": "stream",
     "text": [
      "The area is 8\n"
     ]
    }
   ],
   "source": [
    "def calculate_area(length, breadth): #calculate_area is the identifier or function name and length, breadth are the parameters\n",
    "    area = length * breadth #how to find the area\n",
    "    return (f\"The area is {area}\")\n",
    "print(calculate_area(2,4))"
   ]
  },
  {
   "cell_type": "markdown",
   "id": "69abc1fc",
   "metadata": {},
   "source": [
    "## PALINDROME\n",
    "#### A word that if you reverse, it will still be the same like MADAM"
   ]
  },
  {
   "cell_type": "code",
   "execution_count": 25,
   "id": "743aca7d",
   "metadata": {},
   "outputs": [
    {
     "name": "stdout",
     "output_type": "stream",
     "text": [
      "It is a Palindrome\n"
     ]
    }
   ],
   "source": [
    "def palindrome_checker(the_word):\n",
    "    reverse_the_word = the_word[::-1]\n",
    "    \n",
    "    if reverse_the_word == the_word:\n",
    "        return \"It is a Palindrome\"\n",
    "    else:\n",
    "        return \"It is not a Palindrome\"\n",
    "the_word = \"madam\"\n",
    "\n",
    "\n",
    "answer = palindrome_checker(the_word)\n",
    "print(answer)"
   ]
  },
  {
   "cell_type": "code",
   "execution_count": 221,
   "id": "053f3866",
   "metadata": {},
   "outputs": [
    {
     "name": "stdout",
     "output_type": "stream",
     "text": [
      "0\n",
      "1\n",
      "2\n",
      "3\n",
      "4\n",
      "5\n",
      "6\n",
      "7\n",
      "8\n",
      "9\n"
     ]
    }
   ],
   "source": [
    "for i in range(10):\n",
    "    print(i)"
   ]
  },
  {
   "cell_type": "code",
   "execution_count": null,
   "id": "2cb8b260",
   "metadata": {},
   "outputs": [],
   "source": [
    "def palindrome_checker(the_word):\n",
    "    reverse_the_word = the_word[::1]\n",
    "    if reverse_the_word == the_word:\n",
    "        print(\"It is a palindrome\")\n",
    "    else:\n",
    "        print(\"It is not a palindrome\")\n",
    "answer palindro"
   ]
  },
  {
   "cell_type": "code",
   "execution_count": null,
   "id": "1c3d38ef",
   "metadata": {},
   "outputs": [],
   "source": []
  },
  {
   "cell_type": "code",
   "execution_count": 26,
   "id": "feaa30a7",
   "metadata": {},
   "outputs": [
    {
     "name": "stdout",
     "output_type": "stream",
     "text": [
      "It is an email\n"
     ]
    }
   ],
   "source": [
    "email = \"charisoneyemi@gmail.com\"\n",
    "at = \"@\"\n",
    "\n",
    "if at in email:\n",
    "    print(\"It is an email\")\n",
    "else:\n",
    "    print(\"It is not an email\")"
   ]
  },
  {
   "cell_type": "code",
   "execution_count": 31,
   "id": "a4bfaf04",
   "metadata": {},
   "outputs": [
    {
     "name": "stdout",
     "output_type": "stream",
     "text": [
      "It is an email\n",
      "None\n"
     ]
    }
   ],
   "source": [
    "def checkEmailValidity (email):\n",
    "    if at and dotCom in email:\n",
    "        print(\"It is an email\")\n",
    "    else:\n",
    "        print(\"It is not an email\")\n",
    "email = \"charisoneyemi@gmail.com\"\n",
    "at = \"@\"\n",
    "dotCom =\".com\"\n",
    "\n",
    "answer = checkEmailValidity (email)\n",
    "print(answer)"
   ]
  },
  {
   "cell_type": "markdown",
   "id": "8087ff28",
   "metadata": {},
   "source": [
    "##### why none and none not in bottom"
   ]
  },
  {
   "cell_type": "code",
   "execution_count": 30,
   "id": "5813ddac",
   "metadata": {},
   "outputs": [
    {
     "name": "stdout",
     "output_type": "stream",
     "text": [
      "It is an email\n"
     ]
    }
   ],
   "source": [
    "def checkEmailValidity (email):\n",
    "    if at and dotCom in email:\n",
    "        return(\"It is an email\")\n",
    "    else:\n",
    "        return(\"It is not an email\")\n",
    "email = \"charisoneyemi@gmail.com\"\n",
    "at = \"@\"\n",
    "dotCom =\".com\"\n",
    "\n",
    "answer = checkEmailValidity (email)\n",
    "print(answer)"
   ]
  },
  {
   "cell_type": "code",
   "execution_count": 236,
   "id": "41b9f8f5",
   "metadata": {},
   "outputs": [
    {
     "name": "stdout",
     "output_type": "stream",
     "text": [
      "It is an email\n"
     ]
    }
   ],
   "source": [
    "def checkEmailValidity (email, at, dotCom):\n",
    "    if at in email and dotCom in email:\n",
    "        return(\"It is an email\")\n",
    "    else:\n",
    "        return(\"It is not an email\")\n",
    "\n",
    "print(checkEmailValidity(\"charisoneyemi@gmail.com\", \"@\", \".com\"))"
   ]
  },
  {
   "cell_type": "code",
   "execution_count": 237,
   "id": "8844b56d",
   "metadata": {},
   "outputs": [
    {
     "name": "stdout",
     "output_type": "stream",
     "text": [
      "It is not an email\n"
     ]
    }
   ],
   "source": [
    "def checkEmailValidity (email, at, dotCom):\n",
    "    if at in email and dotCom in email:\n",
    "        return(\"It is an email\")\n",
    "    else:\n",
    "        return(\"It is not an email\")\n",
    "\n",
    "print(checkEmailValidity(\"charisoneyemiatgmail.com\", \"@\", \".com\"))"
   ]
  },
  {
   "cell_type": "code",
   "execution_count": 23,
   "id": "fcaed9df",
   "metadata": {},
   "outputs": [
    {
     "name": "stdout",
     "output_type": "stream",
     "text": [
      "The word 'madam' is It is a Palindrome\n"
     ]
    }
   ],
   "source": [
    "def palindrome_checker(the_word):  # palindrome_checker is the identifier or function name and the_word is the parameter\n",
    "    reverse_the_word = the_word[::-1]  # how to reverse the word\n",
    "    \n",
    "    if reverse_the_word == the_word:  # check if the reversed word is the same as the original\n",
    "        return \"It is a Palindrome\"  # return this if it's a palindrome\n",
    "    else:\n",
    "        return \"It is not a Palindrome\"  # return this if it's not a palindrome\n",
    "\n",
    "the_word = \"madam\"  # input word\n",
    "\n",
    "answer = palindrome_checker(the_word)  # store the result in the variable 'answer'\n",
    "\n",
    "print(f\"The word '{the_word}' is {answer}\")  # print the result with formatting\n"
   ]
  },
  {
   "cell_type": "code",
   "execution_count": 20,
   "id": "09c27223",
   "metadata": {},
   "outputs": [
    {
     "name": "stdout",
     "output_type": "stream",
     "text": [
      "It is a Palindrome\n"
     ]
    }
   ],
   "source": [
    "def palindrome_checker(the_word):\n",
    "    reverse_the_word = the_word[::-1]\n",
    "    \n",
    "    if reverse_the_word == the_word:\n",
    "        return \"It is a Palindrome\"\n",
    "    else:\n",
    "        return \"It is not a Palindrome\"\n",
    "\n",
    "answer = palindrome_checker(\"madam\")\n",
    "print(answer)"
   ]
  },
  {
   "cell_type": "markdown",
   "id": "8d81d7fb",
   "metadata": {},
   "source": [
    "###### find out what [-1::-1] does"
   ]
  },
  {
   "cell_type": "markdown",
   "id": "aec9b7eb",
   "metadata": {},
   "source": [
    "### MOSH MOSH LOL FUNCTION"
   ]
  },
  {
   "cell_type": "code",
   "execution_count": 2,
   "id": "8a0bfe96",
   "metadata": {},
   "outputs": [
    {
     "name": "stdout",
     "output_type": "stream",
     "text": [
      "Hi there\n",
      "\n",
      "Welcome aboard\n"
     ]
    }
   ],
   "source": [
    "def greet():\n",
    "    print(\"Hi there\\n\")\n",
    "    print(\"Welcome aboard\")\n",
    "    \n",
    "    \n",
    "# To call the function\n",
    "greet()"
   ]
  },
  {
   "cell_type": "markdown",
   "id": "0651987b",
   "metadata": {},
   "source": [
    "#### Whats the diff btw greet and print?\n",
    "#### print takes an input\n",
    "#### greet doesn't take an input"
   ]
  },
  {
   "cell_type": "code",
   "execution_count": 3,
   "id": "a7f4ee7e",
   "metadata": {},
   "outputs": [
    {
     "name": "stdout",
     "output_type": "stream",
     "text": [
      "Hi Alice Bay\n",
      "Welcome aboard\n"
     ]
    }
   ],
   "source": [
    "def greet (fname, lname): #our parameters\n",
    "    print(f\"Hi {fname} {lname}\")\n",
    "    print(\"Welcome aboard\")\n",
    "\n",
    "#when calling we have to supply arguments for the greet function for the parameters\n",
    "#a parameter is the input that you define for your function and the argument is the  actual value for a parameter\n",
    "greet (\"Alice\", \"Bay\")"
   ]
  },
  {
   "cell_type": "markdown",
   "id": "31ce5f31",
   "metadata": {},
   "source": [
    "We have 2 types of functions\n",
    "functions that \n",
    "- perform a task and \n",
    "- function that calculates and returns a values"
   ]
  },
  {
   "cell_type": "code",
   "execution_count": 5,
   "id": "1efe5517",
   "metadata": {},
   "outputs": [
    {
     "name": "stdout",
     "output_type": "stream",
     "text": [
      "Hi Mosh\n"
     ]
    }
   ],
   "source": [
    "def greeting(name):\n",
    "    return (f\"Hi {name}\")\n",
    "    #we use the return statement to return a value from this function\n",
    "    \n",
    "message = greeting(\"Mosh\")\n",
    "print(message)"
   ]
  },
  {
   "cell_type": "code",
   "execution_count": 6,
   "id": "d3d9e7e3",
   "metadata": {},
   "outputs": [
    {
     "name": "stdout",
     "output_type": "stream",
     "text": [
      "Hi Alice Bay\n",
      "Welcome aboard\n",
      "None\n"
     ]
    }
   ],
   "source": [
    "def greet (fname, lname): #our parameters\n",
    "    print(f\"Hi {fname} {lname}\")\n",
    "    print(\"Welcome aboard\")\n",
    "\n",
    "\n",
    "print(greet (\"Alice\", \"Bay\"))"
   ]
  },
  {
   "cell_type": "markdown",
   "id": "e36bdb1e",
   "metadata": {},
   "source": [
    "none is the return value of the function.\n",
    "if we return something non won't show"
   ]
  },
  {
   "cell_type": "code",
   "execution_count": 1,
   "id": "4689dee1",
   "metadata": {},
   "outputs": [
    {
     "name": "stdout",
     "output_type": "stream",
     "text": [
      "7\n",
      "7\n",
      "6\n"
     ]
    },
    {
     "data": {
      "text/plain": [
       "7"
      ]
     },
     "execution_count": 1,
     "metadata": {},
     "output_type": "execute_result"
    }
   ],
   "source": [
    "def add1 (x, y):\n",
    "    return x + y\n",
    "\n",
    "result = add1(2,5)\n",
    "print(result)\n",
    "#or you can just do this\n",
    "print(add1(2,5))\n",
    "print(add1(2,4)) #this worked lol\n",
    "\n",
    "add1(2,5)"
   ]
  },
  {
   "cell_type": "code",
   "execution_count": 12,
   "id": "0f331341",
   "metadata": {},
   "outputs": [
    {
     "name": "stdout",
     "output_type": "stream",
     "text": [
      "7\n"
     ]
    }
   ],
   "source": [
    "def add1 (x, y):\n",
    "    return x + y\n",
    "\n",
    "\n",
    "print(add1(2,5))\n"
   ]
  },
  {
   "cell_type": "code",
   "execution_count": 13,
   "id": "e7afc741",
   "metadata": {},
   "outputs": [
    {
     "name": "stdout",
     "output_type": "stream",
     "text": [
      "14\n"
     ]
    }
   ],
   "source": [
    "def area2 (length, breadth):\n",
    "    return length * breadth\n",
    "print(area2(2,7))"
   ]
  },
  {
   "cell_type": "code",
   "execution_count": 14,
   "id": "20e8dffe",
   "metadata": {},
   "outputs": [
    {
     "name": "stdout",
     "output_type": "stream",
     "text": [
      "20\n"
     ]
    }
   ],
   "source": [
    "#we can specify a default value to use incase it's not specified when calling it\n",
    "\n",
    "def area3 (l,b=4):\n",
    "    return l*b\n",
    "\n",
    "print(area3(5))"
   ]
  },
  {
   "cell_type": "code",
   "execution_count": 15,
   "id": "19c2db14",
   "metadata": {},
   "outputs": [
    {
     "data": {
      "text/plain": [
       "20"
      ]
     },
     "execution_count": 15,
     "metadata": {},
     "output_type": "execute_result"
    }
   ],
   "source": [
    "def area3 (l,b=4):\n",
    "    return l*b\n",
    "\n",
    "\n",
    "area3(5)"
   ]
  },
  {
   "cell_type": "markdown",
   "id": "76a29b03",
   "metadata": {},
   "source": [
    "### A function to convert from KM to meter"
   ]
  },
  {
   "cell_type": "code",
   "execution_count": 21,
   "id": "efee117e",
   "metadata": {},
   "outputs": [
    {
     "name": "stdout",
     "output_type": "stream",
     "text": [
      "0.007\n"
     ]
    }
   ],
   "source": [
    "def kmConvert (meter):\n",
    "    return meter / 1000\n",
    "\n",
    "print(kmConvert(7))"
   ]
  },
  {
   "cell_type": "markdown",
   "id": "2fafca5b",
   "metadata": {},
   "source": [
    "### A function to convert from meter to KM"
   ]
  },
  {
   "cell_type": "code",
   "execution_count": 23,
   "id": "4f29756a",
   "metadata": {},
   "outputs": [
    {
     "name": "stdout",
     "output_type": "stream",
     "text": [
      "7000\n"
     ]
    }
   ],
   "source": [
    "def meterConvert(km):\n",
    "    return km * 1000\n",
    "\n",
    "print(meterConvert(7))\n"
   ]
  },
  {
   "cell_type": "code",
   "execution_count": 6,
   "id": "7d99a47d",
   "metadata": {},
   "outputs": [
    {
     "name": "stdout",
     "output_type": "stream",
     "text": [
      "james 20\n",
      "biodun 56\n",
      "kaka 76\n",
      "jumoke 30\n",
      "bolaji 23\n"
     ]
    }
   ],
   "source": [
    "list1 = ['james', 'biodun', 'kaka', 'jumoke', 'bolaji']\n",
    "list2 = [20, 56, 76, 30, 23, 40]\n",
    "\n",
    "\n",
    "for name, age in zip(list1, list2):\n",
    "    print(f\"{name} {age}\")"
   ]
  },
  {
   "cell_type": "markdown",
   "id": "e21a94b6",
   "metadata": {},
   "source": [
    "#### zip merges two list together as long as they have the same number or elements"
   ]
  },
  {
   "cell_type": "code",
   "execution_count": 7,
   "id": "2fcb611a",
   "metadata": {},
   "outputs": [
    {
     "name": "stdout",
     "output_type": "stream",
     "text": [
      "james 20\n",
      "biodun 56\n",
      "kaka 76\n",
      "jumoke 30\n",
      "bolaji 23\n"
     ]
    }
   ],
   "source": [
    "list1 = ['james', 'biodun', 'kaka', 'jumoke', 'bolaji']\n",
    "list2 = [20, 56, 76, 30, 23, 40]\n",
    "\n",
    "\n",
    "for name, age in zip(list1, list2):\n",
    "    print(name + \" \" + str(age)) #don't forget the str"
   ]
  },
  {
   "cell_type": "markdown",
   "id": "b1aca704",
   "metadata": {},
   "source": [
    "#### now we want to push it to a txt file"
   ]
  },
  {
   "cell_type": "markdown",
   "id": "e4e40d2b",
   "metadata": {},
   "source": [
    "## File handling"
   ]
  },
  {
   "cell_type": "code",
   "execution_count": 12,
   "id": "a13f97fe",
   "metadata": {},
   "outputs": [],
   "source": [
    "list1 = ['james', 'biodun', 'kaka', 'jumoke', 'bolaji']\n",
    "list2 = [20, 56, 76, 30, 23, 40]\n",
    "\n",
    "file_handle = open(\"output.txt\", \"w\") #this is to write to a file named output.txt\n",
    "for name, age in zip(list1, list2):#take note of the fact that the var names are d/f as in name age list1 list2\n",
    "    file_handle.write(name + \" \" + str(age) + \"\\n\")\n",
    "file_handle.close()"
   ]
  },
  {
   "cell_type": "markdown",
   "id": "bc4ebdd7",
   "metadata": {},
   "source": [
    "#### the open function takes in two parameters where we want to write to and the mode of writing here is w. It could be read"
   ]
  },
  {
   "cell_type": "markdown",
   "id": "d0bf7ace",
   "metadata": {},
   "source": [
    "##### file_handle.close() you can't rename till you close? ask chag if it's so"
   ]
  },
  {
   "cell_type": "code",
   "execution_count": 16,
   "id": "b2442ef7",
   "metadata": {},
   "outputs": [
    {
     "ename": "IndentationError",
     "evalue": "expected an indented block after 'if' statement on line 8 (1391818986.py, line 9)",
     "output_type": "error",
     "traceback": [
      "\u001b[0;36m  Cell \u001b[0;32mIn[16], line 9\u001b[0;36m\u001b[0m\n\u001b[0;31m    tracker = tracker + 1\u001b[0m\n\u001b[0m                         ^\u001b[0m\n\u001b[0;31mIndentationError\u001b[0m\u001b[0;31m:\u001b[0m expected an indented block after 'if' statement on line 8\n"
     ]
    }
   ],
   "source": [
    "list1 = ['james', 'biodun', 'kaka', 'jumoke', 'bolaji']\n",
    "list2 = [20, 56, 76, 30, 23, 40]\n",
    "length = len(list)-1\n",
    "tracker = 0\n",
    "\n",
    "file_handle = open(\"output.txt\", \"w\") #this is to write to a file named output.txt\n",
    "for name, age in zip(list1, list2):#take note of the fact that the var names are d/f as in name age list1 list2\n",
    "    if tracker < length:\n",
    "tracker = tracker + 1\n",
    "    else:\n",
    "        file_handle.write(name + \" \" + str(age) + \"\\n\")\n",
    "\n",
    "file_handle.close()"
   ]
  },
  {
   "cell_type": "markdown",
   "id": "f805949b",
   "metadata": {},
   "source": [
    "#### ask chag what the issue is here"
   ]
  },
  {
   "cell_type": "code",
   "execution_count": 37,
   "id": "e3d23a4a",
   "metadata": {},
   "outputs": [
    {
     "name": "stdout",
     "output_type": "stream",
     "text": [
      "Hi my name is Charis, what is yours?\n"
     ]
    }
   ],
   "source": [
    "# read from output.txt\n",
    "\n",
    "#reader = open(\"output.txt\", \"r\")\n",
    "reader = open(\"/Users/caleboneyemi/Documents/charis.txt\", \"r\")\n",
    "for each_line in reader:\n",
    "    print(each_line)\n",
    "reader.close()"
   ]
  },
  {
   "cell_type": "markdown",
   "id": "a16f49b2",
   "metadata": {},
   "source": [
    "/Users/caleboneyemi/Documents/charis.txt"
   ]
  },
  {
   "cell_type": "code",
   "execution_count": 38,
   "id": "e0575f80",
   "metadata": {},
   "outputs": [
    {
     "name": "stdout",
     "output_type": "stream",
     "text": [
      "james 20\n",
      "\n",
      "biodun 56\n",
      "\n",
      "kaka 76\n",
      "\n",
      "jumoke 30\n",
      "\n",
      "bolaji 23\n"
     ]
    }
   ],
   "source": [
    "# read from output.txt\n",
    "\n",
    "#reader = open(\"output.txt\", \"r\")\n",
    "reader = open(\"/Users/caleboneyemi/Documents/james.txt\", \"r\")\n",
    "for each_line in reader:\n",
    "    print(each_line)\n",
    "reader.close()"
   ]
  },
  {
   "cell_type": "code",
   "execution_count": 39,
   "id": "dd3076c1",
   "metadata": {},
   "outputs": [],
   "source": [
    "#HOME WORK create a function to check if a users passwork is correct"
   ]
  },
  {
   "cell_type": "code",
   "execution_count": null,
   "id": "d3e86464",
   "metadata": {},
   "outputs": [],
   "source": []
  },
  {
   "cell_type": "code",
   "execution_count": null,
   "id": "9af0a3b8",
   "metadata": {},
   "outputs": [],
   "source": []
  },
  {
   "cell_type": "code",
   "execution_count": null,
   "id": "2659e9da",
   "metadata": {},
   "outputs": [],
   "source": []
  },
  {
   "cell_type": "code",
   "execution_count": null,
   "id": "b80edfec",
   "metadata": {},
   "outputs": [],
   "source": []
  },
  {
   "cell_type": "markdown",
   "id": "baa76828",
   "metadata": {},
   "source": [
    "# NUMPY"
   ]
  },
  {
   "cell_type": "markdown",
   "id": "ff43a03a",
   "metadata": {},
   "source": [
    "Numpy is a multidimentional array library, ID, 2D, 3D, 4D...\n",
    "\n",
    "\n",
    "Why we use Numpy over List\n",
    "\n",
    "Numpy is faster than list because numpt uses fixed types\n",
    "\n",
    "a = [1,3,5]\n",
    "b = [1,2,3]\n",
    "a*b = ERROR\n",
    "\n",
    "a = np.array([1,3,5])\n",
    "b = np.array([1,2,3])\n",
    "a*b = np.array([1,6,15]\n",
    "\n",
    "Applications of NunPy\n",
    "- Matlab replacement\n",
    "- Plotting\n",
    "- Backend(Pandas, Connect 4, Digital Photography)\n",
    "- Machine Learning\n"
   ]
  },
  {
   "cell_type": "code",
   "execution_count": 1,
   "id": "1bd94583",
   "metadata": {},
   "outputs": [],
   "source": [
    "import numpy as np"
   ]
  },
  {
   "cell_type": "markdown",
   "id": "4e37e096",
   "metadata": {},
   "source": [
    "The Basics"
   ]
  },
  {
   "cell_type": "markdown",
   "id": "91e84342",
   "metadata": {},
   "source": [
    "Initialize"
   ]
  },
  {
   "cell_type": "code",
   "execution_count": 4,
   "id": "e936fd18",
   "metadata": {},
   "outputs": [
    {
     "ename": "TypeError",
     "evalue": "'builtin_function_or_method' object is not subscriptable",
     "output_type": "error",
     "traceback": [
      "\u001b[0;31m---------------------------------------------------------------------------\u001b[0m",
      "\u001b[0;31mTypeError\u001b[0m                                 Traceback (most recent call last)",
      "Cell \u001b[0;32mIn[4], line 1\u001b[0m\n\u001b[0;32m----> 1\u001b[0m a \u001b[38;5;241m=\u001b[39m np\u001b[38;5;241m.\u001b[39marray[\u001b[38;5;241m1\u001b[39m,\u001b[38;5;241m2\u001b[39m,\u001b[38;5;241m3\u001b[39m]\n\u001b[1;32m      2\u001b[0m \u001b[38;5;28mprint\u001b[39m(a)\n",
      "\u001b[0;31mTypeError\u001b[0m: 'builtin_function_or_method' object is not subscriptable"
     ]
    }
   ],
   "source": [
    "a = np.array[1,2,3]\n",
    "print(a)"
   ]
  },
  {
   "cell_type": "code",
   "execution_count": 5,
   "id": "32da6d68",
   "metadata": {},
   "outputs": [
    {
     "name": "stdout",
     "output_type": "stream",
     "text": [
      "[1 2 3]\n"
     ]
    }
   ],
   "source": [
    "a = np.array([1,2,3])\n",
    "print(a)"
   ]
  },
  {
   "cell_type": "code",
   "execution_count": 7,
   "id": "6b8d6c8a",
   "metadata": {},
   "outputs": [
    {
     "ename": "TypeError",
     "evalue": "Field elements must be 2- or 3-tuples, got '1'",
     "output_type": "error",
     "traceback": [
      "\u001b[0;31m---------------------------------------------------------------------------\u001b[0m",
      "\u001b[0;31mTypeError\u001b[0m                                 Traceback (most recent call last)",
      "Cell \u001b[0;32mIn[7], line 1\u001b[0m\n\u001b[0;32m----> 1\u001b[0m b \u001b[38;5;241m=\u001b[39m np\u001b[38;5;241m.\u001b[39marray([\u001b[38;5;241m1\u001b[39m,\u001b[38;5;241m3\u001b[39m,\u001b[38;5;241m5\u001b[39m], [\u001b[38;5;241m1\u001b[39m,\u001b[38;5;241m13\u001b[39m,\u001b[38;5;241m8\u001b[39m])\n\u001b[1;32m      2\u001b[0m \u001b[38;5;28mprint\u001b[39m(b)\n",
      "\u001b[0;31mTypeError\u001b[0m: Field elements must be 2- or 3-tuples, got '1'"
     ]
    }
   ],
   "source": [
    "b = np.array([1,3,5], [1,13,8])\n",
    "print(b)"
   ]
  },
  {
   "cell_type": "code",
   "execution_count": 10,
   "id": "7e456647",
   "metadata": {},
   "outputs": [
    {
     "name": "stdout",
     "output_type": "stream",
     "text": [
      "[[ 1  3  5]\n",
      " [ 1 13  8]]\n"
     ]
    }
   ],
   "source": [
    "b = np.array([[1,3,5],[1,13,8]])\n",
    "print(b)\n",
    "#2d array"
   ]
  },
  {
   "cell_type": "markdown",
   "id": "cfc33652",
   "metadata": {},
   "source": [
    "How to get the dimension"
   ]
  },
  {
   "cell_type": "code",
   "execution_count": 11,
   "id": "2fffcb97",
   "metadata": {},
   "outputs": [
    {
     "data": {
      "text/plain": [
       "1"
      ]
     },
     "execution_count": 11,
     "metadata": {},
     "output_type": "execute_result"
    }
   ],
   "source": [
    "a.ndim\n",
    "#number dimesions"
   ]
  },
  {
   "cell_type": "code",
   "execution_count": 15,
   "id": "ce64123c",
   "metadata": {},
   "outputs": [
    {
     "name": "stdout",
     "output_type": "stream",
     "text": [
      "2\n"
     ]
    }
   ],
   "source": [
    "print(b.ndim)"
   ]
  },
  {
   "cell_type": "code",
   "execution_count": 12,
   "id": "07095b8d",
   "metadata": {},
   "outputs": [
    {
     "data": {
      "text/plain": [
       "(3,)"
      ]
     },
     "execution_count": 12,
     "metadata": {},
     "output_type": "execute_result"
    }
   ],
   "source": [
    "a.shape"
   ]
  },
  {
   "cell_type": "code",
   "execution_count": 14,
   "id": "1f7459cd",
   "metadata": {},
   "outputs": [
    {
     "data": {
      "text/plain": [
       "(2, 3)"
      ]
     },
     "execution_count": 14,
     "metadata": {},
     "output_type": "execute_result"
    }
   ],
   "source": [
    "b.shape\n",
    "#ie 2x 3"
   ]
  },
  {
   "cell_type": "code",
   "execution_count": 17,
   "id": "b52f0b14",
   "metadata": {},
   "outputs": [
    {
     "name": "stdout",
     "output_type": "stream",
     "text": [
      "int64\n"
     ]
    }
   ],
   "source": [
    "print(a.dtype)\n",
    "#datatype"
   ]
  },
  {
   "cell_type": "code",
   "execution_count": 18,
   "id": "3d9be730",
   "metadata": {},
   "outputs": [
    {
     "name": "stdout",
     "output_type": "stream",
     "text": [
      "int64\n"
     ]
    }
   ],
   "source": [
    "print(b.dtype)\n"
   ]
  },
  {
   "cell_type": "code",
   "execution_count": 22,
   "id": "b6712749",
   "metadata": {},
   "outputs": [],
   "source": [
    "#If you want to specify the type\n",
    "aa = np.array([1,2,3], dtype = \"int16\")"
   ]
  },
  {
   "cell_type": "code",
   "execution_count": 24,
   "id": "9cf3b82d",
   "metadata": {},
   "outputs": [
    {
     "name": "stdout",
     "output_type": "stream",
     "text": [
      "int16\n"
     ]
    }
   ],
   "source": [
    "print(aa.dtype)"
   ]
  },
  {
   "cell_type": "code",
   "execution_count": 28,
   "id": "6bb59cc1",
   "metadata": {},
   "outputs": [
    {
     "data": {
      "text/plain": [
       "8"
      ]
     },
     "execution_count": 28,
     "metadata": {},
     "output_type": "execute_result"
    }
   ],
   "source": [
    "b.itemsize\n",
    "#it's just telling you the number of bytes"
   ]
  },
  {
   "cell_type": "code",
   "execution_count": 26,
   "id": "9add4152",
   "metadata": {},
   "outputs": [
    {
     "data": {
      "text/plain": [
       "8"
      ]
     },
     "execution_count": 26,
     "metadata": {},
     "output_type": "execute_result"
    }
   ],
   "source": [
    "a.itemsize"
   ]
  },
  {
   "cell_type": "code",
   "execution_count": 27,
   "id": "0a3b18f9",
   "metadata": {},
   "outputs": [
    {
     "data": {
      "text/plain": [
       "2"
      ]
     },
     "execution_count": 27,
     "metadata": {},
     "output_type": "execute_result"
    }
   ],
   "source": [
    "aa.itemsize"
   ]
  },
  {
   "cell_type": "code",
   "execution_count": 29,
   "id": "5ddc781b",
   "metadata": {},
   "outputs": [
    {
     "data": {
      "text/plain": [
       "3"
      ]
     },
     "execution_count": 29,
     "metadata": {},
     "output_type": "execute_result"
    }
   ],
   "source": [
    "a.size"
   ]
  },
  {
   "cell_type": "code",
   "execution_count": 30,
   "id": "a397ff17",
   "metadata": {},
   "outputs": [
    {
     "data": {
      "text/plain": [
       "6"
      ]
     },
     "execution_count": 30,
     "metadata": {},
     "output_type": "execute_result"
    }
   ],
   "source": [
    "b.size\n",
    "#that is the number of elements"
   ]
  },
  {
   "cell_type": "code",
   "execution_count": 31,
   "id": "ee4e6434",
   "metadata": {},
   "outputs": [
    {
     "data": {
      "text/plain": [
       "24"
      ]
     },
     "execution_count": 31,
     "metadata": {},
     "output_type": "execute_result"
    }
   ],
   "source": [
    "#get total size\n",
    "a.size * a.itemsize"
   ]
  },
  {
   "cell_type": "code",
   "execution_count": 34,
   "id": "e53fd281",
   "metadata": {},
   "outputs": [
    {
     "data": {
      "text/plain": [
       "24"
      ]
     },
     "execution_count": 34,
     "metadata": {},
     "output_type": "execute_result"
    }
   ],
   "source": [
    "#or you can just do\n",
    "a.nbytes"
   ]
  },
  {
   "cell_type": "markdown",
   "id": "5467aff0",
   "metadata": {},
   "source": [
    "Accessing or changing specific elements, rows, columns..."
   ]
  },
  {
   "cell_type": "code",
   "execution_count": 37,
   "id": "58e5e292",
   "metadata": {},
   "outputs": [
    {
     "ename": "TypeError",
     "evalue": "Field elements must be 2- or 3-tuples, got '2'",
     "output_type": "error",
     "traceback": [
      "\u001b[0;31m---------------------------------------------------------------------------\u001b[0m",
      "\u001b[0;31mTypeError\u001b[0m                                 Traceback (most recent call last)",
      "Cell \u001b[0;32mIn[37], line 1\u001b[0m\n\u001b[0;32m----> 1\u001b[0m q \u001b[38;5;241m=\u001b[39m np\u001b[38;5;241m.\u001b[39marray([\u001b[38;5;241m1\u001b[39m,\u001b[38;5;241m2\u001b[39m,\u001b[38;5;241m3\u001b[39m,\u001b[38;5;241m4\u001b[39m,\u001b[38;5;241m4\u001b[39m,\u001b[38;5;241m5\u001b[39m,\u001b[38;5;241m6\u001b[39m,\u001b[38;5;241m5\u001b[39m,\u001b[38;5;241m7\u001b[39m,\u001b[38;5;241m7\u001b[39m,\u001b[38;5;241m77\u001b[39m], [\u001b[38;5;241m2\u001b[39m,\u001b[38;5;241m4\u001b[39m,\u001b[38;5;241m5\u001b[39m,\u001b[38;5;241m12\u001b[39m,\u001b[38;5;241m4\u001b[39m,\u001b[38;5;241m5\u001b[39m,\u001b[38;5;241m7\u001b[39m,\u001b[38;5;241m4\u001b[39m,\u001b[38;5;241m6\u001b[39m,\u001b[38;5;241m78\u001b[39m,\u001b[38;5;241m56\u001b[39m])\n\u001b[1;32m      2\u001b[0m \u001b[38;5;28mprint\u001b[39m(q)\n",
      "\u001b[0;31mTypeError\u001b[0m: Field elements must be 2- or 3-tuples, got '2'"
     ]
    }
   ],
   "source": [
    "q = np.array([1,2,3,4,4,5,6,5,7,7,77], [2,4,5,12,4,5,7,4,6,78,56])\n",
    "print(q)"
   ]
  },
  {
   "cell_type": "code",
   "execution_count": 38,
   "id": "6305d2b1",
   "metadata": {},
   "outputs": [
    {
     "name": "stdout",
     "output_type": "stream",
     "text": [
      "[[ 1  2  3  4  4  5  6  5  7  7 77]\n",
      " [ 2  4  5 12  4  5  7  4  6 78 56]]\n"
     ]
    }
   ],
   "source": [
    "q = np.array([[1,2,3,4,4,5,6,5,7,7,77], [2,4,5,12,4,5,7,4,6,78,56]])\n",
    "print(q)"
   ]
  },
  {
   "cell_type": "code",
   "execution_count": 39,
   "id": "b7a9d2bf",
   "metadata": {},
   "outputs": [
    {
     "data": {
      "text/plain": [
       "(2, 11)"
      ]
     },
     "execution_count": 39,
     "metadata": {},
     "output_type": "execute_result"
    }
   ],
   "source": [
    "q.shape"
   ]
  },
  {
   "cell_type": "code",
   "execution_count": 43,
   "id": "4ed2f364",
   "metadata": {},
   "outputs": [
    {
     "data": {
      "text/plain": [
       "7"
      ]
     },
     "execution_count": 43,
     "metadata": {},
     "output_type": "execute_result"
    }
   ],
   "source": [
    "# Get a specific element [r, c]\n",
    "#remember indexing starts at 0 so the first row is 0 and the first column is 0\n",
    "\n",
    "q[1, 6]"
   ]
  },
  {
   "cell_type": "code",
   "execution_count": 46,
   "id": "5b24d55b",
   "metadata": {},
   "outputs": [
    {
     "data": {
      "text/plain": [
       "7"
      ]
     },
     "execution_count": 46,
     "metadata": {},
     "output_type": "execute_result"
    }
   ],
   "source": [
    "q[1,-5]"
   ]
  },
  {
   "cell_type": "code",
   "execution_count": 47,
   "id": "df68e069",
   "metadata": {},
   "outputs": [
    {
     "data": {
      "text/plain": [
       "7"
      ]
     },
     "execution_count": 47,
     "metadata": {},
     "output_type": "execute_result"
    }
   ],
   "source": [
    "q[-1,-5]"
   ]
  },
  {
   "cell_type": "code",
   "execution_count": 49,
   "id": "cf5735d9",
   "metadata": {},
   "outputs": [
    {
     "data": {
      "text/plain": [
       "array([[ 1,  2,  3,  4,  4,  5,  6,  5,  7,  7, 77],\n",
       "       [ 2,  4,  5, 12,  4,  5,  7,  4,  6, 78, 56]])"
      ]
     },
     "execution_count": 49,
     "metadata": {},
     "output_type": "execute_result"
    }
   ],
   "source": [
    "# Get a specific row\n",
    "q[0 :]"
   ]
  },
  {
   "cell_type": "code",
   "execution_count": 50,
   "id": "703a39fa",
   "metadata": {},
   "outputs": [
    {
     "data": {
      "text/plain": [
       "array([ 1,  2,  3,  4,  4,  5,  6,  5,  7,  7, 77])"
      ]
     },
     "execution_count": 50,
     "metadata": {},
     "output_type": "execute_result"
    }
   ],
   "source": [
    "q[0, :]"
   ]
  },
  {
   "cell_type": "code",
   "execution_count": 51,
   "id": "5d55cc2f",
   "metadata": {},
   "outputs": [],
   "source": [
    "# So we have to put , else it will give us the whole array"
   ]
  },
  {
   "cell_type": "code",
   "execution_count": 52,
   "id": "53c6f67d",
   "metadata": {},
   "outputs": [
    {
     "data": {
      "text/plain": [
       "array([[ 1,  2,  3,  4,  4,  5,  6,  5,  7,  7, 77],\n",
       "       [ 2,  4,  5, 12,  4,  5,  7,  4,  6, 78, 56]])"
      ]
     },
     "execution_count": 52,
     "metadata": {},
     "output_type": "execute_result"
    }
   ],
   "source": [
    "#Get a specific column\n",
    "\n",
    "q [: 6]"
   ]
  },
  {
   "cell_type": "code",
   "execution_count": 53,
   "id": "82305e43",
   "metadata": {},
   "outputs": [],
   "source": [
    "#same comma thing for column"
   ]
  },
  {
   "cell_type": "code",
   "execution_count": 54,
   "id": "0b6586af",
   "metadata": {},
   "outputs": [
    {
     "data": {
      "text/plain": [
       "array([6, 7])"
      ]
     },
     "execution_count": 54,
     "metadata": {},
     "output_type": "execute_result"
    }
   ],
   "source": [
    "q[:, 6]"
   ]
  },
  {
   "cell_type": "code",
   "execution_count": 55,
   "id": "4ec7681d",
   "metadata": {},
   "outputs": [],
   "source": [
    "# So this just gets the 7th column that is at index 6"
   ]
  },
  {
   "cell_type": "code",
   "execution_count": 56,
   "id": "3d9ce8b8",
   "metadata": {},
   "outputs": [],
   "source": [
    "#[start:end:step]"
   ]
  },
  {
   "cell_type": "code",
   "execution_count": 57,
   "id": "a458a2d4",
   "metadata": {},
   "outputs": [
    {
     "data": {
      "text/plain": [
       "array([2, 4, 5, 5])"
      ]
     },
     "execution_count": 57,
     "metadata": {},
     "output_type": "execute_result"
    }
   ],
   "source": [
    "q[0, 1:8:2]\n",
    "#that is in the first row, we want to get from the 2nd column at the 1st index to the 8th with the 8th not inclusive and we want it to skip"
   ]
  },
  {
   "cell_type": "code",
   "execution_count": 59,
   "id": "b74faadc",
   "metadata": {},
   "outputs": [
    {
     "data": {
      "text/plain": [
       "array([ 4, 12,  5,  4, 78])"
      ]
     },
     "execution_count": 59,
     "metadata": {},
     "output_type": "execute_result"
    }
   ],
   "source": [
    "q[1, 1:-1:2]"
   ]
  },
  {
   "cell_type": "code",
   "execution_count": 62,
   "id": "14a7e88a",
   "metadata": {},
   "outputs": [
    {
     "name": "stdout",
     "output_type": "stream",
     "text": [
      "[[ 1  2  3  4  4  5  6  5  7  7 17]\n",
      " [ 2  4  5 12  4  5  7  4  6 78 56]]\n"
     ]
    }
   ],
   "source": [
    "# Say we want to change something\n",
    "\n",
    "q[0, 10]= 17\n",
    "print(q)"
   ]
  },
  {
   "cell_type": "code",
   "execution_count": 63,
   "id": "b537f6f2",
   "metadata": {},
   "outputs": [
    {
     "name": "stdout",
     "output_type": "stream",
     "text": [
      "[[ 1  2  3  4  4  5  6  5  7 17 77]\n",
      " [ 2  4  5 12  4  5  7  4  6 78 56]]\n"
     ]
    }
   ],
   "source": [
    "#lets not fotget indexing, i wanted to change the 10th element \n",
    "#from 7 to 7th but because I used the 10th index, it was the last\n",
    "#so i'd change both now\n",
    "\n",
    "q[0,9]= 17\n",
    "q[0,10]= 77\n",
    "print(q)"
   ]
  },
  {
   "cell_type": "code",
   "execution_count": 65,
   "id": "948ffa41",
   "metadata": {},
   "outputs": [
    {
     "name": "stdout",
     "output_type": "stream",
     "text": [
      "[[ 1  2  3  4 10  5  6  5  7 17 77]\n",
      " [ 2  4  5 12 10  5  7  4  6 78 56]]\n"
     ]
    }
   ],
   "source": [
    "#say i want to change all the values in a particular columns\n",
    "q[:, 4]= 10\n",
    "print(q)"
   ]
  },
  {
   "cell_type": "code",
   "execution_count": 66,
   "id": "cdf8800c",
   "metadata": {},
   "outputs": [
    {
     "name": "stdout",
     "output_type": "stream",
     "text": [
      "[[ 1  2  3  4 10  5  6 15  7 17 77]\n",
      " [ 2  4  5 12 10  5  7 14  6 78 56]]\n"
     ]
    }
   ],
   "source": [
    "q[:, 7]= 15,14\n",
    "print(q)"
   ]
  },
  {
   "cell_type": "markdown",
   "id": "cc3d75af",
   "metadata": {},
   "source": [
    "3D Example"
   ]
  },
  {
   "cell_type": "code",
   "execution_count": 68,
   "id": "f0ed32ed",
   "metadata": {},
   "outputs": [
    {
     "name": "stdout",
     "output_type": "stream",
     "text": [
      "[[[1 2]\n",
      "  [3 4]]\n",
      "\n",
      " [[5 6]\n",
      "  [7 8]]]\n"
     ]
    }
   ],
   "source": [
    "b = np.array([[[1,2],[3,4]],[[5,6], [7,8]]])\n",
    "print(b)"
   ]
  },
  {
   "cell_type": "code",
   "execution_count": null,
   "id": "d0dd686f",
   "metadata": {},
   "outputs": [],
   "source": []
  },
  {
   "cell_type": "markdown",
   "id": "2ea40128",
   "metadata": {},
   "source": [
    "# W3 Numpy"
   ]
  },
  {
   "cell_type": "markdown",
   "id": "c2b07011",
   "metadata": {},
   "source": [
    "### Create a NumPy array:\n",
    "np.array() is the function"
   ]
  },
  {
   "cell_type": "code",
   "execution_count": 70,
   "id": "0a82a85b",
   "metadata": {},
   "outputs": [
    {
     "name": "stdout",
     "output_type": "stream",
     "text": [
      "[1 2 3 4 5]\n",
      "<class 'numpy.ndarray'>\n"
     ]
    }
   ],
   "source": [
    "my_arr= np.array([1,2,3,4,5])\n",
    "print(my_arr)\n",
    "print(type(my_arr))"
   ]
  },
  {
   "cell_type": "markdown",
   "id": "5fb575d1",
   "metadata": {},
   "source": [
    "NumPy is a Python library used for working with arrays.\n",
    "In Python we have lists that serve the purpose of arrays, but they are slow to process.\n",
    "\n",
    "NumPy aims to provide an array object that is up to 50x faster than traditional Python lists.\n",
    "\n",
    "The array object in NumPy is called ndarray, it provides a lot of supporting functions that make working with ndarray very easy.\n",
    "\n",
    "Why is NumPy Faster Than Lists?\n",
    "NumPy arrays are stored at one continuous place in memory unlike lists, so processes can access and manipulate them very efficiently.\n",
    "\n",
    "This behavior is called locality of reference in computer science.\n",
    "\n",
    "This is the main reason why NumPy is faster than lists. Also it is optimized to work with latest CPU architectures.\n",
    "\n"
   ]
  },
  {
   "cell_type": "markdown",
   "id": "8e98c000",
   "metadata": {},
   "source": [
    "## Dimensions in Arrays\n",
    "A dimension in arrays is one level of array depth (nested arrays).\n",
    "\n",
    "nested array: are arrays that have arrays as their elements.\n",
    "\n",
    "0-D arrays, or Scalars, are the elements in an array. Each value in an array is a 0-D array.\n",
    "\n",
    "\n"
   ]
  },
  {
   "cell_type": "markdown",
   "id": "d96e4199",
   "metadata": {},
   "source": [
    "### 0-D array"
   ]
  },
  {
   "cell_type": "code",
   "execution_count": 72,
   "id": "b750007f",
   "metadata": {},
   "outputs": [
    {
     "name": "stdout",
     "output_type": "stream",
     "text": [
      "42\n"
     ]
    }
   ],
   "source": [
    "#Create a 0-D array with value 42\n",
    "\n",
    "scalar_arr = np.array(42)\n",
    "print(scalar_arr)"
   ]
  },
  {
   "cell_type": "markdown",
   "id": "7662f606",
   "metadata": {},
   "source": [
    "### 1-D array\n",
    "An array that has 0-D arrays as its elements is called uni-dimensional or 1-D array.\n",
    "\n"
   ]
  },
  {
   "cell_type": "code",
   "execution_count": 73,
   "id": "87d87244",
   "metadata": {},
   "outputs": [
    {
     "name": "stdout",
     "output_type": "stream",
     "text": [
      "[1 2 3 4 5]\n"
     ]
    }
   ],
   "source": [
    "oneD_arr = np.array([1,2,3,4,5])\n",
    "print(oneD_arr)"
   ]
  },
  {
   "cell_type": "markdown",
   "id": "0a41fb76",
   "metadata": {},
   "source": [
    "### 2-D Arrays\n",
    "An array that has 1-D arrays as its elements is called a 2-D array.\n",
    "\n",
    "These are often used to represent matrix or 2nd order tensors"
   ]
  },
  {
   "cell_type": "code",
   "execution_count": 74,
   "id": "2db5bf41",
   "metadata": {},
   "outputs": [
    {
     "ename": "TypeError",
     "evalue": "Field elements must be 2- or 3-tuples, got '4'",
     "output_type": "error",
     "traceback": [
      "\u001b[0;31m---------------------------------------------------------------------------\u001b[0m",
      "\u001b[0;31mTypeError\u001b[0m                                 Traceback (most recent call last)",
      "Cell \u001b[0;32mIn[74], line 1\u001b[0m\n\u001b[0;32m----> 1\u001b[0m twoD_arr \u001b[38;5;241m=\u001b[39m np\u001b[38;5;241m.\u001b[39marray([\u001b[38;5;241m1\u001b[39m,\u001b[38;5;241m2\u001b[39m,\u001b[38;5;241m3\u001b[39m], [\u001b[38;5;241m4\u001b[39m,\u001b[38;5;241m5\u001b[39m,\u001b[38;5;241m6\u001b[39m])\n\u001b[1;32m      2\u001b[0m \u001b[38;5;28mprint\u001b[39m(twoD_arr)\n",
      "\u001b[0;31mTypeError\u001b[0m: Field elements must be 2- or 3-tuples, got '4'"
     ]
    }
   ],
   "source": [
    "twoD_arr = np.array([1,2,3], [4,5,6])\n",
    "print(twoD_arr)"
   ]
  },
  {
   "cell_type": "markdown",
   "id": "a823fae8",
   "metadata": {},
   "source": [
    "### NOTE:\n",
    "So when creating a 2D array you wrap each array in their own [] [] and the you wrap all in one [] with comma seperating the arrays inside ie [[],[]]"
   ]
  },
  {
   "cell_type": "code",
   "execution_count": 75,
   "id": "665bcbca",
   "metadata": {},
   "outputs": [
    {
     "name": "stdout",
     "output_type": "stream",
     "text": [
      "[[1 2 3]\n",
      " [4 5 6]]\n"
     ]
    }
   ],
   "source": [
    "twoD_arr = np.array([[1,2,3], [4,5,6]])\n",
    "print(twoD_arr)"
   ]
  },
  {
   "cell_type": "code",
   "execution_count": 76,
   "id": "6717d2d9",
   "metadata": {},
   "outputs": [
    {
     "ename": "NameError",
     "evalue": "name 'ndim' is not defined",
     "output_type": "error",
     "traceback": [
      "\u001b[0;31m---------------------------------------------------------------------------\u001b[0m",
      "\u001b[0;31mNameError\u001b[0m                                 Traceback (most recent call last)",
      "Cell \u001b[0;32mIn[76], line 1\u001b[0m\n\u001b[0;32m----> 1\u001b[0m ndim(twoD_arr)\n",
      "\u001b[0;31mNameError\u001b[0m: name 'ndim' is not defined"
     ]
    }
   ],
   "source": [
    "ndim(twoD_arr)"
   ]
  },
  {
   "cell_type": "code",
   "execution_count": 77,
   "id": "20d51340",
   "metadata": {},
   "outputs": [
    {
     "data": {
      "text/plain": [
       "2"
      ]
     },
     "execution_count": 77,
     "metadata": {},
     "output_type": "execute_result"
    }
   ],
   "source": [
    "twoD_arr.ndim"
   ]
  },
  {
   "cell_type": "code",
   "execution_count": 80,
   "id": "c33aefed",
   "metadata": {},
   "outputs": [
    {
     "name": "stdout",
     "output_type": "stream",
     "text": [
      "[[4 5 6]]\n"
     ]
    },
    {
     "data": {
      "text/plain": [
       "2"
      ]
     },
     "execution_count": 80,
     "metadata": {},
     "output_type": "execute_result"
    }
   ],
   "source": [
    "twD_arr = np.array([[4,5,6]])\n",
    "print(twD_arr)\n",
    "twD_arr.ndim"
   ]
  },
  {
   "cell_type": "code",
   "execution_count": 81,
   "id": "df595358",
   "metadata": {},
   "outputs": [
    {
     "name": "stdout",
     "output_type": "stream",
     "text": [
      "[[4 5 6]]\n"
     ]
    },
    {
     "data": {
      "text/plain": [
       "3"
      ]
     },
     "execution_count": 81,
     "metadata": {},
     "output_type": "execute_result"
    }
   ],
   "source": [
    "tw_arr = np.array([[[4,5,6]]])\n",
    "print(twD_arr)\n",
    "tw_arr.ndim"
   ]
  },
  {
   "cell_type": "markdown",
   "id": "fad004a2",
   "metadata": {},
   "source": [
    "### This is how you know the dimension. If it's in just one [ ] it's one dimension if it's two [[ ]] it's two dimension, if it's 3 [[[ ]]] its 3 dimension, even if it's just one element inside. For example look below:"
   ]
  },
  {
   "cell_type": "code",
   "execution_count": 82,
   "id": "c5ee89d6",
   "metadata": {},
   "outputs": [
    {
     "name": "stdout",
     "output_type": "stream",
     "text": [
      "[1]\n",
      "1\n"
     ]
    }
   ],
   "source": [
    "testing1Dimension = np.array([1])\n",
    "print(testing1Dimension)\n",
    "print(testing1Dimension.ndim)"
   ]
  },
  {
   "cell_type": "code",
   "execution_count": 83,
   "id": "a445379e",
   "metadata": {},
   "outputs": [
    {
     "name": "stdout",
     "output_type": "stream",
     "text": [
      "[[1]]\n",
      "2\n"
     ]
    }
   ],
   "source": [
    "testing1Dimension = np.array([[1]])\n",
    "print(testing1Dimension)\n",
    "print(testing1Dimension.ndim)"
   ]
  },
  {
   "cell_type": "code",
   "execution_count": 84,
   "id": "db8ff48b",
   "metadata": {},
   "outputs": [
    {
     "name": "stdout",
     "output_type": "stream",
     "text": [
      "[[[1]]]\n",
      "3\n"
     ]
    }
   ],
   "source": [
    "testing1Dimension = np.array([[[1]]])\n",
    "print(testing1Dimension)\n",
    "print(testing1Dimension.ndim)"
   ]
  },
  {
   "cell_type": "code",
   "execution_count": null,
   "id": "d8f3df23",
   "metadata": {},
   "outputs": [],
   "source": [
    "threeD_arr = np.array()"
   ]
  },
  {
   "cell_type": "code",
   "execution_count": null,
   "id": "e82d7e99",
   "metadata": {},
   "outputs": [],
   "source": []
  },
  {
   "cell_type": "code",
   "execution_count": null,
   "id": "77c80ad3",
   "metadata": {},
   "outputs": [],
   "source": []
  },
  {
   "cell_type": "code",
   "execution_count": 85,
   "id": "e5d1d973",
   "metadata": {},
   "outputs": [
    {
     "name": "stdout",
     "output_type": "stream",
     "text": [
      "[1 2 3 4 5]\n"
     ]
    }
   ],
   "source": [
    "s_arr = np.array([1,2,3,4,5])\n",
    "print(s_arr)"
   ]
  },
  {
   "cell_type": "code",
   "execution_count": 87,
   "id": "33d669d1",
   "metadata": {},
   "outputs": [
    {
     "name": "stdout",
     "output_type": "stream",
     "text": [
      "(5,)\n"
     ]
    }
   ],
   "source": [
    "print(s_arr.shape)\n",
    "#That is how many elements are there"
   ]
  },
  {
   "cell_type": "markdown",
   "id": "7e467bba",
   "metadata": {},
   "source": [
    "### (5, ) meaning there are 5 elements in one dimension array. Returning (5,) indicates that s_arr is a 1D array (or a vector) with 5 elements, not a 2D array with rows and columns like in the (3, 4) case which means 3 rows and 4 columns"
   ]
  },
  {
   "cell_type": "code",
   "execution_count": 90,
   "id": "37759051",
   "metadata": {},
   "outputs": [
    {
     "name": "stdout",
     "output_type": "stream",
     "text": [
      "1\n"
     ]
    }
   ],
   "source": [
    "print(s_arr.ndim)\n",
    "#ndim is the dimension in this case it's a 1 dimension array"
   ]
  },
  {
   "cell_type": "code",
   "execution_count": 126,
   "id": "19364cad",
   "metadata": {},
   "outputs": [
    {
     "name": "stdout",
     "output_type": "stream",
     "text": [
      "[2]\n"
     ]
    }
   ],
   "source": [
    "ss_arr = np.array([2])\n",
    "print(ss_arr)\n"
   ]
  },
  {
   "cell_type": "code",
   "execution_count": 127,
   "id": "54421b7f",
   "metadata": {},
   "outputs": [
    {
     "name": "stdout",
     "output_type": "stream",
     "text": [
      "(1,)\n",
      "1\n"
     ]
    }
   ],
   "source": [
    "print(ss_arr.shape)\n",
    "print(ss_arr.ndim)"
   ]
  },
  {
   "cell_type": "code",
   "execution_count": 93,
   "id": "5b005e2b",
   "metadata": {},
   "outputs": [
    {
     "name": "stdout",
     "output_type": "stream",
     "text": [
      "[[1 3]\n",
      " [2 3]\n",
      " [5 4]]\n"
     ]
    }
   ],
   "source": [
    "d_arr = np.array([[1,3], [2,3], [5,4]])\n",
    "print(d_arr)\n"
   ]
  },
  {
   "cell_type": "code",
   "execution_count": 94,
   "id": "6071d267",
   "metadata": {},
   "outputs": [
    {
     "name": "stdout",
     "output_type": "stream",
     "text": [
      "(3, 2)\n",
      "2\n"
     ]
    }
   ],
   "source": [
    "print(d_arr.shape)\n",
    "print(d_arr.ndim)"
   ]
  },
  {
   "cell_type": "code",
   "execution_count": 95,
   "id": "28cc300c",
   "metadata": {},
   "outputs": [],
   "source": [
    "#The shape is (3,2) meaning it's 3 rows and 2 columns"
   ]
  },
  {
   "cell_type": "code",
   "execution_count": 97,
   "id": "9e22b37b",
   "metadata": {},
   "outputs": [
    {
     "name": "stdout",
     "output_type": "stream",
     "text": [
      "[[1 2 3 4]\n",
      " [5 4 3 2]\n",
      " [1 3 4 5]]\n"
     ]
    }
   ],
   "source": [
    "f_arr = np.array([[1,2,3,4], [5,4,3,2], [1,3,4,5]])\n",
    "print(f_arr)"
   ]
  },
  {
   "cell_type": "code",
   "execution_count": 98,
   "id": "51234318",
   "metadata": {},
   "outputs": [
    {
     "name": "stdout",
     "output_type": "stream",
     "text": [
      "(3, 4)\n"
     ]
    }
   ],
   "source": [
    "print(f_arr.shape)"
   ]
  },
  {
   "cell_type": "code",
   "execution_count": 105,
   "id": "edd5e895",
   "metadata": {},
   "outputs": [
    {
     "name": "stdout",
     "output_type": "stream",
     "text": [
      "2\n"
     ]
    }
   ],
   "source": [
    "print(f_arr.ndim)"
   ]
  },
  {
   "cell_type": "markdown",
   "id": "88e34fb2",
   "metadata": {},
   "source": [
    "# The shoe rack example with Charis"
   ]
  },
  {
   "cell_type": "code",
   "execution_count": 109,
   "id": "42f4ea0e",
   "metadata": {},
   "outputs": [
    {
     "name": "stdout",
     "output_type": "stream",
     "text": [
      "[1 2 3 4]\n"
     ]
    }
   ],
   "source": [
    "shoeRack1 = np.array([1,2,3,4])\n",
    "print(shoeRack1)"
   ]
  },
  {
   "cell_type": "code",
   "execution_count": 112,
   "id": "e938991f",
   "metadata": {},
   "outputs": [
    {
     "name": "stdout",
     "output_type": "stream",
     "text": [
      "(4,)\n"
     ]
    }
   ],
   "source": [
    "print(shoeRack1.shape)\n",
    "#Getting the number of elements in a 1D\n",
    "#Just for 1D"
   ]
  },
  {
   "cell_type": "code",
   "execution_count": 111,
   "id": "d3e2c5b9",
   "metadata": {},
   "outputs": [
    {
     "name": "stdout",
     "output_type": "stream",
     "text": [
      "1\n"
     ]
    }
   ],
   "source": [
    "print(shoeRack1.ndim)"
   ]
  },
  {
   "cell_type": "code",
   "execution_count": 117,
   "id": "5e1e1517",
   "metadata": {},
   "outputs": [
    {
     "name": "stdout",
     "output_type": "stream",
     "text": [
      "[[ 1  2  3  4]\n",
      " [ 5  6  7  8]\n",
      " [ 9 10 11 12]]\n"
     ]
    }
   ],
   "source": [
    "shoeRack2 = np.array([\n",
    "    [1,2,3,4],\n",
    "    [5,6,7,8],\n",
    "    [9,10,11,12]\n",
    "])\n",
    "\n",
    "print(shoeRack2)"
   ]
  },
  {
   "cell_type": "code",
   "execution_count": 118,
   "id": "7635315a",
   "metadata": {},
   "outputs": [
    {
     "name": "stdout",
     "output_type": "stream",
     "text": [
      "(3, 4)\n"
     ]
    }
   ],
   "source": [
    "print(shoeRack2.shape)"
   ]
  },
  {
   "cell_type": "code",
   "execution_count": 119,
   "id": "867d450d",
   "metadata": {},
   "outputs": [],
   "source": [
    "shoeRack3 = np.array(\n",
    "[\n",
    "    [1,2],\n",
    "    [3,4],\n",
    "    [5,6],\n",
    "    [7,8]\n",
    "]\n",
    ")"
   ]
  },
  {
   "cell_type": "code",
   "execution_count": 120,
   "id": "f863e927",
   "metadata": {},
   "outputs": [
    {
     "name": "stdout",
     "output_type": "stream",
     "text": [
      "[[1 2]\n",
      " [3 4]\n",
      " [5 6]\n",
      " [7 8]]\n"
     ]
    }
   ],
   "source": [
    "print(shoeRack3)"
   ]
  },
  {
   "cell_type": "code",
   "execution_count": 122,
   "id": "0461b75e",
   "metadata": {},
   "outputs": [
    {
     "name": "stdout",
     "output_type": "stream",
     "text": [
      "(4, 2)\n"
     ]
    }
   ],
   "source": [
    "print(shoeRack3.shape)"
   ]
  },
  {
   "cell_type": "code",
   "execution_count": 123,
   "id": "d026753e",
   "metadata": {},
   "outputs": [
    {
     "name": "stdout",
     "output_type": "stream",
     "text": [
      "2\n"
     ]
    }
   ],
   "source": [
    "print(shoeRack3.ndim)"
   ]
  },
  {
   "cell_type": "code",
   "execution_count": 128,
   "id": "db523224",
   "metadata": {},
   "outputs": [],
   "source": [
    "shoeRack4 = np.array(\n",
    "[\n",
    "    [\n",
    "        [1,2,3],\n",
    "        [4,5,6],\n",
    "        [7,8,9]\n",
    "    ],\n",
    "    [\n",
    "        [10,11,12],\n",
    "        [13,14,15],\n",
    "        [16,17,18]\n",
    "    ]\n",
    "]\n",
    ")"
   ]
  },
  {
   "cell_type": "code",
   "execution_count": 129,
   "id": "c78dbe60",
   "metadata": {},
   "outputs": [
    {
     "name": "stdout",
     "output_type": "stream",
     "text": [
      "[[[ 1  2  3]\n",
      "  [ 4  5  6]\n",
      "  [ 7  8  9]]\n",
      "\n",
      " [[10 11 12]\n",
      "  [13 14 15]\n",
      "  [16 17 18]]]\n"
     ]
    }
   ],
   "source": [
    "print(shoeRack4)"
   ]
  },
  {
   "cell_type": "code",
   "execution_count": 130,
   "id": "2a11bec0",
   "metadata": {},
   "outputs": [
    {
     "name": "stdout",
     "output_type": "stream",
     "text": [
      "(2, 3, 3)\n"
     ]
    }
   ],
   "source": [
    "print(shoeRack4.shape)"
   ]
  },
  {
   "cell_type": "code",
   "execution_count": 131,
   "id": "845e1387",
   "metadata": {},
   "outputs": [],
   "source": [
    "shoeRack5 = np.array(\n",
    "[\n",
    "    [\n",
    "        [1,2,3],\n",
    "        [4,5,6],\n",
    "        [7,8,9]\n",
    "    ],\n",
    "    [\n",
    "        [10,11,12],\n",
    "        [13,14,15],\n",
    "        [16,17,18]\n",
    "    ],\n",
    "    [\n",
    "        [19,20,21],\n",
    "        [22,23,24],\n",
    "        [25,26,27]\n",
    "    ]\n",
    "]\n",
    ")"
   ]
  },
  {
   "cell_type": "code",
   "execution_count": 132,
   "id": "ec961e26",
   "metadata": {},
   "outputs": [
    {
     "name": "stdout",
     "output_type": "stream",
     "text": [
      "[[[ 1  2  3]\n",
      "  [ 4  5  6]\n",
      "  [ 7  8  9]]\n",
      "\n",
      " [[10 11 12]\n",
      "  [13 14 15]\n",
      "  [16 17 18]]\n",
      "\n",
      " [[19 20 21]\n",
      "  [22 23 24]\n",
      "  [25 26 27]]]\n"
     ]
    }
   ],
   "source": [
    "print(shoeRack5)"
   ]
  },
  {
   "cell_type": "code",
   "execution_count": 133,
   "id": "a6106d78",
   "metadata": {},
   "outputs": [
    {
     "name": "stdout",
     "output_type": "stream",
     "text": [
      "(3, 3, 3)\n"
     ]
    }
   ],
   "source": [
    "print(shoeRack5.shape)"
   ]
  },
  {
   "cell_type": "code",
   "execution_count": 134,
   "id": "3b165c05",
   "metadata": {},
   "outputs": [
    {
     "name": "stdout",
     "output_type": "stream",
     "text": [
      "3\n"
     ]
    }
   ],
   "source": [
    "print(shoeRack5.ndim)"
   ]
  },
  {
   "cell_type": "code",
   "execution_count": 135,
   "id": "70f3d105",
   "metadata": {},
   "outputs": [],
   "source": [
    "l = np.array([\n",
    "    [1,2,3,4,5,6,7],\n",
    "    [8,9,10,11,12,13,14]\n",
    "])"
   ]
  },
  {
   "cell_type": "code",
   "execution_count": 136,
   "id": "f65aaad8",
   "metadata": {},
   "outputs": [
    {
     "name": "stdout",
     "output_type": "stream",
     "text": [
      "[[ 1  2  3  4  5  6  7]\n",
      " [ 8  9 10 11 12 13 14]]\n"
     ]
    }
   ],
   "source": [
    "print(l)"
   ]
  },
  {
   "cell_type": "markdown",
   "id": "8096eab8",
   "metadata": {},
   "source": [
    "### Getting a particular element"
   ]
  },
  {
   "cell_type": "code",
   "execution_count": 138,
   "id": "179f7c47",
   "metadata": {},
   "outputs": [
    {
     "name": "stdout",
     "output_type": "stream",
     "text": [
      "13\n"
     ]
    }
   ],
   "source": [
    "print(l[1,5])"
   ]
  },
  {
   "cell_type": "markdown",
   "id": "4601686b",
   "metadata": {},
   "source": [
    "### Slicing in numpy"
   ]
  },
  {
   "cell_type": "code",
   "execution_count": 139,
   "id": "2edfc293",
   "metadata": {},
   "outputs": [
    {
     "name": "stdout",
     "output_type": "stream",
     "text": [
      "[1 2 3 4 5 6 7]\n"
     ]
    }
   ],
   "source": [
    "print(l[0,:])"
   ]
  },
  {
   "cell_type": "code",
   "execution_count": null,
   "id": "55e39a12",
   "metadata": {},
   "outputs": [],
   "source": []
  },
  {
   "cell_type": "markdown",
   "id": "86e11714",
   "metadata": {},
   "source": [
    "# Free code camp Numpy"
   ]
  },
  {
   "cell_type": "code",
   "execution_count": 140,
   "id": "6975c7a0",
   "metadata": {},
   "outputs": [
    {
     "name": "stdout",
     "output_type": "stream",
     "text": [
      "[1 2 3]\n"
     ]
    }
   ],
   "source": [
    "a_arr = np.array([1,2,3])\n",
    "print(a_arr)"
   ]
  },
  {
   "cell_type": "code",
   "execution_count": 141,
   "id": "0a7fcf74",
   "metadata": {},
   "outputs": [
    {
     "name": "stdout",
     "output_type": "stream",
     "text": [
      "[[1 2 3]\n",
      " [4 5 6]]\n"
     ]
    }
   ],
   "source": [
    "b_arr = np.array([[1,2,3],[4,5,6]])\n",
    "print(b_arr)"
   ]
  },
  {
   "cell_type": "markdown",
   "id": "eec54dd7",
   "metadata": {},
   "source": [
    "### To get the dimensions, ndim"
   ]
  },
  {
   "cell_type": "code",
   "execution_count": 142,
   "id": "a2e42f70",
   "metadata": {},
   "outputs": [
    {
     "data": {
      "text/plain": [
       "(3,)"
      ]
     },
     "execution_count": 142,
     "metadata": {},
     "output_type": "execute_result"
    }
   ],
   "source": [
    "a_arr.ndim\n",
    "a_arr.shape"
   ]
  },
  {
   "cell_type": "code",
   "execution_count": 143,
   "id": "7ea49ed3",
   "metadata": {},
   "outputs": [
    {
     "name": "stdout",
     "output_type": "stream",
     "text": [
      "1\n"
     ]
    }
   ],
   "source": [
    "print(a_arr.ndim)"
   ]
  },
  {
   "cell_type": "code",
   "execution_count": 144,
   "id": "59141856",
   "metadata": {},
   "outputs": [
    {
     "name": "stdout",
     "output_type": "stream",
     "text": [
      "(3,)\n"
     ]
    }
   ],
   "source": [
    "print(a_arr.shape)\n",
    "#It's of size 3"
   ]
  },
  {
   "cell_type": "code",
   "execution_count": 145,
   "id": "a2fff021",
   "metadata": {},
   "outputs": [
    {
     "name": "stdout",
     "output_type": "stream",
     "text": [
      "2\n",
      "(2, 3)\n"
     ]
    }
   ],
   "source": [
    "print(b_arr.ndim)\n",
    "print(b_arr.shape)"
   ]
  },
  {
   "cell_type": "markdown",
   "id": "058a73ac",
   "metadata": {},
   "source": [
    "### Access specific elements, rows, columns"
   ]
  },
  {
   "cell_type": "code",
   "execution_count": 146,
   "id": "60ec1c76",
   "metadata": {},
   "outputs": [
    {
     "name": "stdout",
     "output_type": "stream",
     "text": [
      "[[ 1  2  3  4  5  6  7]\n",
      " [ 8  9 10 11 12 13 14]]\n",
      "2\n",
      "14\n"
     ]
    }
   ],
   "source": [
    "c_arr = np.array([[1,2,3,4,5,6,7],[8,9,10,11,12,13,14]])\n",
    "print(c_arr)\n",
    "print(c_arr.ndim)#2 dimension\n",
    "print(c_arr.size)#should be 2 x 7 ie 2 rows and 7 columns"
   ]
  },
  {
   "cell_type": "markdown",
   "id": "b4a9c31f",
   "metadata": {},
   "source": [
    "### Get a specific element [r,c]\n",
    "### Don't forget indexing"
   ]
  },
  {
   "cell_type": "code",
   "execution_count": 148,
   "id": "36dc62a4",
   "metadata": {},
   "outputs": [
    {
     "name": "stdout",
     "output_type": "stream",
     "text": [
      "13\n"
     ]
    }
   ],
   "source": [
    "print(c_arr[1,5]) #ie the 2nd row and the 6th element in the 2nd row but 1,5 instead of 2,6 because of indexing"
   ]
  },
  {
   "cell_type": "markdown",
   "id": "5bbd5c7e",
   "metadata": {},
   "source": [
    "### Get a specific row"
   ]
  },
  {
   "cell_type": "code",
   "execution_count": 149,
   "id": "23c1f61e",
   "metadata": {},
   "outputs": [
    {
     "name": "stdout",
     "output_type": "stream",
     "text": [
      "[1 2 3 4 5 6 7]\n"
     ]
    }
   ],
   "source": [
    "print(c_arr[0, :])\n",
    "#We want the 1st row ie index 0 but since we want the whole row, we do the regular slicing technique : and leave it blank to show that it's everything"
   ]
  },
  {
   "cell_type": "code",
   "execution_count": 152,
   "id": "ea487e1b",
   "metadata": {},
   "outputs": [
    {
     "name": "stdout",
     "output_type": "stream",
     "text": [
      "[1 2 3 4 5 6 7]\n"
     ]
    }
   ],
   "source": [
    "print(c_arr[0, 0:7])\n",
    "#So this also works because we specified it, but you don't have to liek the above\n",
    "#So 7 because in indexing, the number we put won't be included, if we left it at 6, the last element will not show"
   ]
  },
  {
   "cell_type": "markdown",
   "id": "029b53ab",
   "metadata": {},
   "source": [
    "### Get a specific column"
   ]
  },
  {
   "cell_type": "code",
   "execution_count": 154,
   "id": "7a5143e4",
   "metadata": {},
   "outputs": [
    {
     "name": "stdout",
     "output_type": "stream",
     "text": [
      "[ 3 10]\n"
     ]
    }
   ],
   "source": [
    "print(c_arr[:, 2])\n",
    "#the comma is after the number on the lhs and before on the rhs\n",
    "#so this returns column 3 but index 2 column"
   ]
  },
  {
   "cell_type": "markdown",
   "id": "e7107e86",
   "metadata": {},
   "source": [
    "### Getting a little more fancy [start:end:step]"
   ]
  },
  {
   "cell_type": "code",
   "execution_count": 155,
   "id": "08f783dc",
   "metadata": {},
   "outputs": [
    {
     "name": "stdout",
     "output_type": "stream",
     "text": [
      "[[ 1  2  3  4  5  6  7]\n",
      " [ 8  9 10 11 12 13 14]]\n"
     ]
    }
   ],
   "source": [
    "print(c_arr)"
   ]
  },
  {
   "cell_type": "code",
   "execution_count": 157,
   "id": "41a31bf2",
   "metadata": {},
   "outputs": [
    {
     "name": "stdout",
     "output_type": "stream",
     "text": [
      "[2 4 6]\n"
     ]
    }
   ],
   "source": [
    "#So let's say we want to get 2,4,6 from the first row\n",
    "print(c_arr[0, 1:6:2])\n",
    "#that is 0 for the first row\n",
    "#then in the first row, start at index 1 down to index 6 excluding index 6 and step by 2"
   ]
  },
  {
   "cell_type": "code",
   "execution_count": 158,
   "id": "ffeaf3ad",
   "metadata": {},
   "outputs": [
    {
     "name": "stdout",
     "output_type": "stream",
     "text": [
      "[11 13]\n"
     ]
    }
   ],
   "source": [
    "#Let's say we want to get 11 and 13 from the second row\n",
    "print(c_arr[1, 3:6:2])"
   ]
  },
  {
   "cell_type": "code",
   "execution_count": 159,
   "id": "706ac037",
   "metadata": {},
   "outputs": [
    {
     "ename": "IndexError",
     "evalue": "too many indices for array: array is 2-dimensional, but 3 were indexed",
     "output_type": "error",
     "traceback": [
      "\u001b[0;31m---------------------------------------------------------------------------\u001b[0m",
      "\u001b[0;31mIndexError\u001b[0m                                Traceback (most recent call last)",
      "Cell \u001b[0;32mIn[159], line 2\u001b[0m\n\u001b[1;32m      1\u001b[0m \u001b[38;5;66;03m#let's say we want to get the first and last column\u001b[39;00m\n\u001b[0;32m----> 2\u001b[0m \u001b[38;5;28mprint\u001b[39m(c_arr[:, \u001b[38;5;241m0\u001b[39m,\u001b[38;5;241m7\u001b[39m])\n",
      "\u001b[0;31mIndexError\u001b[0m: too many indices for array: array is 2-dimensional, but 3 were indexed"
     ]
    }
   ],
   "source": [
    "#let's say we want to get the first and last column\n",
    "print(c_arr[:, 0,7])"
   ]
  },
  {
   "cell_type": "code",
   "execution_count": 161,
   "id": "97018dfc",
   "metadata": {},
   "outputs": [
    {
     "name": "stdout",
     "output_type": "stream",
     "text": [
      "[ 5 12]\n"
     ]
    }
   ],
   "source": [
    "# remember to get a particular column we do\n",
    "print(c_arr[:, 4])#this returns the 5the column"
   ]
  },
  {
   "cell_type": "code",
   "execution_count": 162,
   "id": "348cac9c",
   "metadata": {},
   "outputs": [
    {
     "ename": "IndexError",
     "evalue": "index 7 is out of bounds for axis 1 with size 7",
     "output_type": "error",
     "traceback": [
      "\u001b[0;31m---------------------------------------------------------------------------\u001b[0m",
      "\u001b[0;31mIndexError\u001b[0m                                Traceback (most recent call last)",
      "Cell \u001b[0;32mIn[162], line 3\u001b[0m\n\u001b[1;32m      1\u001b[0m \u001b[38;5;66;03m#Now if we want to get two columns at once from a 2D array, we do this\u001b[39;00m\n\u001b[1;32m      2\u001b[0m \u001b[38;5;66;03m#say we want to get the 1st and last columns\u001b[39;00m\n\u001b[0;32m----> 3\u001b[0m \u001b[38;5;28mprint\u001b[39m(c_arr[:, [\u001b[38;5;241m0\u001b[39m,\u001b[38;5;241m7\u001b[39m]])\n",
      "\u001b[0;31mIndexError\u001b[0m: index 7 is out of bounds for axis 1 with size 7"
     ]
    }
   ],
   "source": [
    "#Now if we want to get two columns at once from a 2D array, we do this\n",
    "#say we want to get the 1st and last columns\n",
    "print(c_arr[:, [0,7]])\n",
    "\n"
   ]
  },
  {
   "cell_type": "code",
   "execution_count": 163,
   "id": "ea4301d5",
   "metadata": {},
   "outputs": [
    {
     "name": "stdout",
     "output_type": "stream",
     "text": [
      "[[ 1  7]\n",
      " [ 8 14]]\n"
     ]
    }
   ],
   "source": [
    "print(c_arr[:, [0,6]])\n"
   ]
  },
  {
   "cell_type": "markdown",
   "id": "8e2f02a6",
   "metadata": {},
   "source": [
    "So for slicing, you know how, it's one before the actual nuber, like column 5 will be index 4 \n",
    "\n",
    "And then when we want to print the whole array out, we include the actual length like\n",
    "atest= [1,8,9]\n",
    "print(atest[0:3]) \n",
    "\n",
    "if we leave it at 2, it won't print it all out.\n",
    "\n",
    "But in the case of print a particular column in numpy whether it is the last column or not, it's just the index we are looking at, we're not checking if it's the last and doing that length stuff"
   ]
  },
  {
   "cell_type": "code",
   "execution_count": 165,
   "id": "d9943a49",
   "metadata": {},
   "outputs": [
    {
     "name": "stdout",
     "output_type": "stream",
     "text": [
      "[1, 8]\n"
     ]
    }
   ],
   "source": [
    "atest= [1,8,9]\n",
    "print(atest[0:2])"
   ]
  },
  {
   "cell_type": "code",
   "execution_count": 166,
   "id": "e1c08293",
   "metadata": {},
   "outputs": [
    {
     "name": "stdout",
     "output_type": "stream",
     "text": [
      "[1, 8, 9]\n"
     ]
    }
   ],
   "source": [
    "atest= [1,8,9]\n",
    "print(atest[0:3])"
   ]
  },
  {
   "cell_type": "code",
   "execution_count": null,
   "id": "f3e95804",
   "metadata": {},
   "outputs": [],
   "source": []
  },
  {
   "cell_type": "code",
   "execution_count": 167,
   "id": "edeec70e",
   "metadata": {},
   "outputs": [
    {
     "name": "stdout",
     "output_type": "stream",
     "text": [
      "[2 4 6]\n"
     ]
    }
   ],
   "source": [
    "print(c_arr[0, 1:-1:2])"
   ]
  },
  {
   "cell_type": "code",
   "execution_count": 169,
   "id": "ebeab930",
   "metadata": {},
   "outputs": [
    {
     "name": "stdout",
     "output_type": "stream",
     "text": [
      "[[ 1  2  3  4  5  6  7]\n",
      " [ 8  9 10 11 12 13 14]]\n"
     ]
    }
   ],
   "source": [
    "print(c_arr)"
   ]
  },
  {
   "cell_type": "code",
   "execution_count": 182,
   "id": "06d9a643",
   "metadata": {},
   "outputs": [
    {
     "name": "stdout",
     "output_type": "stream",
     "text": [
      "55\n",
      "[[ 1  2  3  4 55  6  7]\n",
      " [ 8  9 10 11 12 13 14]]\n"
     ]
    }
   ],
   "source": [
    "#Say we want to change 5 to 55, here's what we do\n",
    "\n",
    "#print(c_arr[0:, 5])# this is to get the 5 column actally although that 0 is not needed\n",
    "# to get a specific element, we do [r,c]\n",
    "print(c_arr[0,4])\n",
    "\n",
    "#now chnaging it would be\n",
    "#print(c_arr[0,5]=20) don't print this way, run first then print\n",
    "\n",
    "c_arr[0,4] = 55\n",
    "print(c_arr)\n"
   ]
  },
  {
   "cell_type": "markdown",
   "id": "70c46aea",
   "metadata": {},
   "source": [
    "5 will now be 55\n",
    "\n",
    "Say we want to change a whole column, let's do that will the last column"
   ]
  },
  {
   "cell_type": "code",
   "execution_count": 183,
   "id": "ee05e6dc",
   "metadata": {},
   "outputs": [
    {
     "name": "stdout",
     "output_type": "stream",
     "text": [
      "[[ 1  2  3  4 55  6 77]\n",
      " [ 8  9 10 11 12 13 77]]\n"
     ]
    }
   ],
   "source": [
    "c_arr[:, 6] = 77\n",
    "print(c_arr)"
   ]
  },
  {
   "cell_type": "markdown",
   "id": "97263b3a",
   "metadata": {},
   "source": [
    "# 3D NUMPY ARRAY"
   ]
  },
  {
   "cell_type": "code",
   "execution_count": 187,
   "id": "4ed451ea",
   "metadata": {},
   "outputs": [
    {
     "name": "stdout",
     "output_type": "stream",
     "text": [
      "[[[1, 2, 3], [4, 5, 6]], [[11, 22, 33], [44, 55, 66]]]\n"
     ]
    }
   ],
   "source": [
    "threeD_arr = [[[1,2,3],[4,5,6]], [[11,22,33], [44,55,66]]]\n",
    "\n",
    "\n",
    "print(threeD_arr)\n",
    "\n"
   ]
  },
  {
   "cell_type": "code",
   "execution_count": 188,
   "id": "7ba16ff5",
   "metadata": {},
   "outputs": [
    {
     "ename": "AttributeError",
     "evalue": "'list' object has no attribute 'ndim'",
     "output_type": "error",
     "traceback": [
      "\u001b[0;31m---------------------------------------------------------------------------\u001b[0m",
      "\u001b[0;31mAttributeError\u001b[0m                            Traceback (most recent call last)",
      "Cell \u001b[0;32mIn[188], line 1\u001b[0m\n\u001b[0;32m----> 1\u001b[0m threeD_arr\u001b[38;5;241m.\u001b[39mndim\n",
      "\u001b[0;31mAttributeError\u001b[0m: 'list' object has no attribute 'ndim'"
     ]
    }
   ],
   "source": [
    "threeD_arr.ndim\n"
   ]
  },
  {
   "cell_type": "markdown",
   "id": "eccad9ee",
   "metadata": {},
   "source": [
    "The above gave an errror because, we didn't specify it as a numpy, it's a list here"
   ]
  },
  {
   "cell_type": "code",
   "execution_count": 190,
   "id": "2bd6e071",
   "metadata": {},
   "outputs": [
    {
     "ename": "AttributeError",
     "evalue": "'list' object has no attribute 'ndim'",
     "output_type": "error",
     "traceback": [
      "\u001b[0;31m---------------------------------------------------------------------------\u001b[0m",
      "\u001b[0;31mAttributeError\u001b[0m                            Traceback (most recent call last)",
      "Cell \u001b[0;32mIn[190], line 2\u001b[0m\n\u001b[1;32m      1\u001b[0m threeD_arr \u001b[38;5;241m=\u001b[39m [[[\u001b[38;5;241m1\u001b[39m,\u001b[38;5;241m2\u001b[39m,\u001b[38;5;241m3\u001b[39m],[\u001b[38;5;241m4\u001b[39m,\u001b[38;5;241m5\u001b[39m,\u001b[38;5;241m6\u001b[39m]], [[\u001b[38;5;241m11\u001b[39m,\u001b[38;5;241m22\u001b[39m,\u001b[38;5;241m33\u001b[39m],[\u001b[38;5;241m44\u001b[39m,\u001b[38;5;241m55\u001b[39m,\u001b[38;5;241m66\u001b[39m]]]\n\u001b[0;32m----> 2\u001b[0m \u001b[38;5;28mprint\u001b[39m(threeD_arr\u001b[38;5;241m.\u001b[39mndim)\n",
      "\u001b[0;31mAttributeError\u001b[0m: 'list' object has no attribute 'ndim'"
     ]
    }
   ],
   "source": [
    "threeD_arr = [[[1,2,3],[4,5,6]], [[11,22,33],[44,55,66]]]\n",
    "print(threeD_arr.ndim)\n",
    "\n",
    "\n",
    "\n"
   ]
  },
  {
   "cell_type": "markdown",
   "id": "b548146c",
   "metadata": {},
   "source": [
    "# Take note of this error, stop forgetting to put your np.array() function"
   ]
  },
  {
   "cell_type": "code",
   "execution_count": 192,
   "id": "aabdaf45",
   "metadata": {},
   "outputs": [
    {
     "name": "stdout",
     "output_type": "stream",
     "text": [
      "[[[ 1  2  3]\n",
      "  [ 4  5  6]]\n",
      "\n",
      " [[11 22 33]\n",
      "  [44 55 66]]]\n"
     ]
    }
   ],
   "source": [
    "threeD_arr = np.array([[[1,2,3],[4,5,6]], [[11,22,33],[44,55,66]]])\n",
    "\n",
    "print(threeD_arr)\n",
    "\n"
   ]
  },
  {
   "cell_type": "markdown",
   "id": "a64f609b",
   "metadata": {},
   "source": [
    "Now to get a particular element in your 3 D array, remember the 2D was like below"
   ]
  },
  {
   "cell_type": "code",
   "execution_count": 196,
   "id": "807444da",
   "metadata": {},
   "outputs": [
    {
     "name": "stdout",
     "output_type": "stream",
     "text": [
      "[[1 2 3]\n",
      " [1 3 5]]\n",
      "5\n"
     ]
    }
   ],
   "source": [
    "twoD2 = np.array([[1,2,3],[1,3,5]])\n",
    "print(twoD2)\n",
    "\n",
    "#to get a specific element is \n",
    "print(twoD2[1,2])#This will get row 2 index 1 and row 3 index 2\n"
   ]
  },
  {
   "cell_type": "markdown",
   "id": "3ca7b307",
   "metadata": {},
   "source": [
    "Now in 3D, we do this, we first condider the outer like we have 2 shelves or 3 shelves... We first say,w hich shelf are we looking at, the in that shelf, which row then whuch element"
   ]
  },
  {
   "cell_type": "code",
   "execution_count": 198,
   "id": "8ea18bd4",
   "metadata": {},
   "outputs": [
    {
     "name": "stdout",
     "output_type": "stream",
     "text": [
      "[[[ 1  2  3]\n",
      "  [ 4  5  6]]\n",
      "\n",
      " [[11 22 33]\n",
      "  [44 55 66]]]\n"
     ]
    }
   ],
   "source": [
    "print(threeD_arr)"
   ]
  },
  {
   "cell_type": "code",
   "execution_count": 201,
   "id": "2b065970",
   "metadata": {},
   "outputs": [
    {
     "name": "stdout",
     "output_type": "stream",
     "text": [
      "33\n"
     ]
    }
   ],
   "source": [
    "# Say we want 33\n",
    "# 33 IN IN THE SECOND SHELF AT INDEX 1, IT'S IN THE FIRST ROW AT INDEX 0 AND IT'S THE 3RD INDEX\n",
    "print(threeD_arr[1,0,2])\n",
    "\n",
    "\n"
   ]
  },
  {
   "cell_type": "code",
   "execution_count": 202,
   "id": "93b4da70",
   "metadata": {},
   "outputs": [
    {
     "name": "stdout",
     "output_type": "stream",
     "text": [
      "3\n"
     ]
    }
   ],
   "source": [
    "print(threeD_arr.ndim)"
   ]
  },
  {
   "cell_type": "code",
   "execution_count": 204,
   "id": "b5642508",
   "metadata": {},
   "outputs": [
    {
     "name": "stdout",
     "output_type": "stream",
     "text": [
      "(2, 2, 3)\n"
     ]
    }
   ],
   "source": [
    "print(threeD_arr.shape)\n",
    "# It will give (2,2,3)\n",
    "# That is 2 shelves, and each of the shelves have 2 rows and 3 columns\n"
   ]
  },
  {
   "cell_type": "markdown",
   "id": "024fe732",
   "metadata": {},
   "source": [
    "### Say we want to get the last rows in our 3D, like all of them from all shelves\n",
    "\n",
    "#### That is in the case of threeD_arr we want to get 4,5,6 and 44,55,66"
   ]
  },
  {
   "cell_type": "code",
   "execution_count": 205,
   "id": "d3ba6f97",
   "metadata": {},
   "outputs": [
    {
     "name": "stdout",
     "output_type": "stream",
     "text": [
      "[[[ 1  2  3]\n",
      "  [ 4  5  6]]\n",
      "\n",
      " [[11 22 33]\n",
      "  [44 55 66]]]\n"
     ]
    }
   ],
   "source": [
    "print(threeD_arr)"
   ]
  },
  {
   "cell_type": "code",
   "execution_count": 206,
   "id": "0f73fcb1",
   "metadata": {},
   "outputs": [
    {
     "name": "stdout",
     "output_type": "stream",
     "text": [
      "[[[ 4  5  6]]\n",
      "\n",
      " [[44 55 66]]]\n"
     ]
    }
   ],
   "source": [
    "print(threeD_arr[:,1:])"
   ]
  },
  {
   "cell_type": "markdown",
   "id": "174c1529",
   "metadata": {},
   "source": [
    "So what this means is that \n",
    ": we want all \n",
    ",1 we want the 2 row that is at index 1\n",
    "\": \" ie the column and space just wants to get all of it from that 2nd row which is at index 1\n",
    "\n",
    "\n",
    "chag\n",
    "\n",
    ": selects all sub-arrays (both sub-arrays).\n",
    "1: means \"start from row 1 and include all subsequent rows\" for each sub-array."
   ]
  },
  {
   "cell_type": "markdown",
   "id": "f6bfd4be",
   "metadata": {},
   "source": [
    "Let's try this out by trying to get the first row"
   ]
  },
  {
   "cell_type": "code",
   "execution_count": 207,
   "id": "d45c4530",
   "metadata": {},
   "outputs": [
    {
     "name": "stdout",
     "output_type": "stream",
     "text": [
      "[[[ 1  2  3]\n",
      "  [ 4  5  6]]\n",
      "\n",
      " [[11 22 33]\n",
      "  [44 55 66]]]\n"
     ]
    }
   ],
   "source": [
    "print(threeD_arr[:,0:])"
   ]
  },
  {
   "cell_type": "markdown",
   "id": "0d4d7680",
   "metadata": {},
   "source": [
    "The above prints all, that's not what we want, that happened because we didn't specify the last"
   ]
  },
  {
   "cell_type": "code",
   "execution_count": 208,
   "id": "292e85c7",
   "metadata": {},
   "outputs": [
    {
     "name": "stdout",
     "output_type": "stream",
     "text": [
      "[[[ 1  2  3]]\n",
      "\n",
      " [[11 22 33]]]\n"
     ]
    }
   ],
   "source": [
    "print(threeD_arr[:,0:1])"
   ]
  },
  {
   "cell_type": "markdown",
   "id": "d3a91913",
   "metadata": {},
   "source": [
    "0:1 means \"select row 0 but keep it as a sub-array,\" keeping the shape of the result as a 3D array.\n",
    ": selects all elements (columns) in that row.\n"
   ]
  },
  {
   "cell_type": "code",
   "execution_count": null,
   "id": "3ebf6f1d",
   "metadata": {},
   "outputs": [],
   "source": []
  },
  {
   "cell_type": "markdown",
   "id": "a8824fcd",
   "metadata": {},
   "source": [
    "# Initialize different types of arrays"
   ]
  },
  {
   "cell_type": "code",
   "execution_count": 265,
   "id": "307a078d",
   "metadata": {},
   "outputs": [
    {
     "name": "stdout",
     "output_type": "stream",
     "text": [
      "[[0. 0. 0.]\n",
      " [0. 0. 0.]]\n",
      "2\n"
     ]
    }
   ],
   "source": [
    "# All 0's matrix\n",
    "zeros = np.zeros((2,3))# 2 dimension. So just 1 shelf that had 2 rows and 3 columns\n",
    "print(zeros)\n",
    "print(zeros.ndim)"
   ]
  },
  {
   "cell_type": "code",
   "execution_count": 216,
   "id": "b521c12f",
   "metadata": {},
   "outputs": [
    {
     "name": "stdout",
     "output_type": "stream",
     "text": [
      "[[[0. 0. 0. 0.]\n",
      "  [0. 0. 0. 0.]\n",
      "  [0. 0. 0. 0.]]\n",
      "\n",
      " [[0. 0. 0. 0.]\n",
      "  [0. 0. 0. 0.]\n",
      "  [0. 0. 0. 0.]]]\n",
      "3\n"
     ]
    }
   ],
   "source": [
    "# All 0's matrix\n",
    "zeros = np.zeros((2,3,4))# 3 dimension\n",
    "print(zeros)\n",
    "print(zeros.ndim)"
   ]
  },
  {
   "cell_type": "code",
   "execution_count": 218,
   "id": "69d9a549",
   "metadata": {},
   "outputs": [
    {
     "name": "stdout",
     "output_type": "stream",
     "text": [
      "[[[1. 1. 1.]\n",
      "  [1. 1. 1.]]\n",
      "\n",
      " [[1. 1. 1.]\n",
      "  [1. 1. 1.]]\n",
      "\n",
      " [[1. 1. 1.]\n",
      "  [1. 1. 1.]]\n",
      "\n",
      " [[1. 1. 1.]\n",
      "  [1. 1. 1.]]]\n"
     ]
    }
   ],
   "source": [
    "#All 1s matrix\n",
    "one = np.ones((4,2,3))\n",
    "print(one)"
   ]
  },
  {
   "cell_type": "code",
   "execution_count": 220,
   "id": "ea890a60",
   "metadata": {},
   "outputs": [
    {
     "name": "stdout",
     "output_type": "stream",
     "text": [
      "[[99 99]\n",
      " [99 99]]\n"
     ]
    }
   ],
   "source": [
    "fullmatrix = np.full((2,2), 99)\n",
    "# It takes two values, the shape and then the element we want in it\n",
    "\n",
    "#By the shape, i mean a 2x2 matrix, ie 2 rows and 2 columns \n",
    "print(fullmatrix)\n"
   ]
  },
  {
   "cell_type": "code",
   "execution_count": 221,
   "id": "b69220a3",
   "metadata": {},
   "outputs": [
    {
     "name": "stdout",
     "output_type": "stream",
     "text": [
      "[[55 55]\n",
      " [55 55]\n",
      " [55 55]]\n"
     ]
    }
   ],
   "source": [
    "test3x2_55 = np.full((3,2), 55)\n",
    "\n",
    "print(test3x2_55)"
   ]
  },
  {
   "cell_type": "code",
   "execution_count": 224,
   "id": "abe2151f",
   "metadata": {},
   "outputs": [
    {
     "name": "stdout",
     "output_type": "stream",
     "text": [
      "[[[55 55]\n",
      "  [55 55]\n",
      "  [55 55]]\n",
      "\n",
      " [[55 55]\n",
      "  [55 55]\n",
      "  [55 55]]\n",
      "\n",
      " [[55 55]\n",
      "  [55 55]\n",
      "  [55 55]]\n",
      "\n",
      " [[55 55]\n",
      "  [55 55]\n",
      "  [55 55]]]\n"
     ]
    }
   ],
   "source": [
    "test4_3x2_55 = np.full((4,3,2), 55)\n",
    "print(test4_3x2_55)\n",
    "#The shape has 4 shelves, 3 rows and 2 columns in each"
   ]
  },
  {
   "cell_type": "markdown",
   "id": "7f90200c",
   "metadata": {},
   "source": [
    "### Full like, allows us to use the sixe if a particular array"
   ]
  },
  {
   "cell_type": "code",
   "execution_count": 225,
   "id": "25a13314",
   "metadata": {},
   "outputs": [
    {
     "ename": "TypeError",
     "evalue": "only integer scalar arrays can be converted to a scalar index",
     "output_type": "error",
     "traceback": [
      "\u001b[0;31m---------------------------------------------------------------------------\u001b[0m",
      "\u001b[0;31mTypeError\u001b[0m                                 Traceback (most recent call last)",
      "Cell \u001b[0;32mIn[225], line 1\u001b[0m\n\u001b[0;32m----> 1\u001b[0m copying_c_arr \u001b[38;5;241m=\u001b[39m np\u001b[38;5;241m.\u001b[39mfull((c_arr), \u001b[38;5;241m7\u001b[39m)\n",
      "File \u001b[0;32m~/anaconda3/lib/python3.11/site-packages/numpy/core/numeric.py:344\u001b[0m, in \u001b[0;36mfull\u001b[0;34m(shape, fill_value, dtype, order, like)\u001b[0m\n\u001b[1;32m    342\u001b[0m     fill_value \u001b[38;5;241m=\u001b[39m asarray(fill_value)\n\u001b[1;32m    343\u001b[0m     dtype \u001b[38;5;241m=\u001b[39m fill_value\u001b[38;5;241m.\u001b[39mdtype\n\u001b[0;32m--> 344\u001b[0m a \u001b[38;5;241m=\u001b[39m empty(shape, dtype, order)\n\u001b[1;32m    345\u001b[0m multiarray\u001b[38;5;241m.\u001b[39mcopyto(a, fill_value, casting\u001b[38;5;241m=\u001b[39m\u001b[38;5;124m'\u001b[39m\u001b[38;5;124munsafe\u001b[39m\u001b[38;5;124m'\u001b[39m)\n\u001b[1;32m    346\u001b[0m \u001b[38;5;28;01mreturn\u001b[39;00m a\n",
      "\u001b[0;31mTypeError\u001b[0m: only integer scalar arrays can be converted to a scalar index"
     ]
    }
   ],
   "source": [
    "copying_c_arr = np.full((c_arr), 7)"
   ]
  },
  {
   "cell_type": "code",
   "execution_count": 238,
   "id": "6cf723dc",
   "metadata": {},
   "outputs": [],
   "source": [
    "copying_c_arr = np.full(c_arr.shape, 7)"
   ]
  },
  {
   "cell_type": "code",
   "execution_count": 236,
   "id": "9514e6ce",
   "metadata": {},
   "outputs": [
    {
     "ename": "TypeError",
     "evalue": "'numpy.ndarray' object is not callable",
     "output_type": "error",
     "traceback": [
      "\u001b[0;31m---------------------------------------------------------------------------\u001b[0m",
      "\u001b[0;31mTypeError\u001b[0m                                 Traceback (most recent call last)",
      "Cell \u001b[0;32mIn[236], line 1\u001b[0m\n\u001b[0;32m----> 1\u001b[0m copying_c_arr(c_arr\u001b[38;5;241m.\u001b[39mshape, \u001b[38;5;241m7\u001b[39m)\n",
      "\u001b[0;31mTypeError\u001b[0m: 'numpy.ndarray' object is not callable"
     ]
    }
   ],
   "source": [
    "copying_c_arr(c_arr.shape, 7)"
   ]
  },
  {
   "cell_type": "code",
   "execution_count": 235,
   "id": "e176f12f",
   "metadata": {},
   "outputs": [
    {
     "ename": "AttributeError",
     "evalue": "'numpy.ndarray' object has no attribute 'full'",
     "output_type": "error",
     "traceback": [
      "\u001b[0;31m---------------------------------------------------------------------------\u001b[0m",
      "\u001b[0;31mAttributeError\u001b[0m                            Traceback (most recent call last)",
      "Cell \u001b[0;32mIn[235], line 1\u001b[0m\n\u001b[0;32m----> 1\u001b[0m copying_c_arr\u001b[38;5;241m.\u001b[39mfull(c_arr\u001b[38;5;241m.\u001b[39mshape, \u001b[38;5;241m7\u001b[39m)\n",
      "\u001b[0;31mAttributeError\u001b[0m: 'numpy.ndarray' object has no attribute 'full'"
     ]
    }
   ],
   "source": [
    "copying_c_arr.full(c_arr.shape, 7)"
   ]
  },
  {
   "cell_type": "code",
   "execution_count": 239,
   "id": "e8f592db",
   "metadata": {},
   "outputs": [],
   "source": [
    "copying_c_arr = np.full(c_arr.shape, 7) # don't do this"
   ]
  },
  {
   "cell_type": "code",
   "execution_count": 233,
   "id": "85d90344",
   "metadata": {},
   "outputs": [
    {
     "data": {
      "text/plain": [
       "array([[7, 7, 7, 7, 7, 7, 7],\n",
       "       [7, 7, 7, 7, 7, 7, 7]])"
      ]
     },
     "execution_count": 233,
     "metadata": {},
     "output_type": "execute_result"
    }
   ],
   "source": [
    "np.full(c_arr.shape, 7)"
   ]
  },
  {
   "cell_type": "code",
   "execution_count": 232,
   "id": "e986bcbd",
   "metadata": {},
   "outputs": [
    {
     "data": {
      "text/plain": [
       "array([[[7, 7],\n",
       "        [7, 7],\n",
       "        [7, 7]],\n",
       "\n",
       "       [[7, 7],\n",
       "        [7, 7],\n",
       "        [7, 7]],\n",
       "\n",
       "       [[7, 7],\n",
       "        [7, 7],\n",
       "        [7, 7]],\n",
       "\n",
       "       [[7, 7],\n",
       "        [7, 7],\n",
       "        [7, 7]]])"
      ]
     },
     "execution_count": 232,
     "metadata": {},
     "output_type": "execute_result"
    }
   ],
   "source": [
    "np.full(test4_3x2_55.shape, 7)"
   ]
  },
  {
   "cell_type": "markdown",
   "id": "71ab7392",
   "metadata": {},
   "source": [
    " ## Initialize a matrix of random decimal numbers"
   ]
  },
  {
   "cell_type": "code",
   "execution_count": 245,
   "id": "71199d0e",
   "metadata": {},
   "outputs": [
    {
     "name": "stdout",
     "output_type": "stream",
     "text": [
      "[[0.72983568 0.55004443]\n",
      " [0.23923367 0.10330459]\n",
      " [0.12027251 0.02053589]\n",
      " [0.54607705 0.83396793]]\n"
     ]
    }
   ],
   "source": [
    "ran = np.random.rand(4,2)\n",
    "print(ran)\n",
    "# rand means Each value in the array is a random floating-point number in the range [0, 1).\n"
   ]
  },
  {
   "cell_type": "code",
   "execution_count": 244,
   "id": "aafdf547",
   "metadata": {},
   "outputs": [
    {
     "ename": "TypeError",
     "evalue": "'module' object is not callable",
     "output_type": "error",
     "traceback": [
      "\u001b[0;31m---------------------------------------------------------------------------\u001b[0m",
      "\u001b[0;31mTypeError\u001b[0m                                 Traceback (most recent call last)",
      "Cell \u001b[0;32mIn[244], line 1\u001b[0m\n\u001b[0;32m----> 1\u001b[0m ran2 \u001b[38;5;241m=\u001b[39m np\u001b[38;5;241m.\u001b[39mrandom(\u001b[38;5;241m4\u001b[39m,\u001b[38;5;241m2\u001b[39m)\n\u001b[1;32m      2\u001b[0m \u001b[38;5;28mprint\u001b[39m(ran2)\n",
      "\u001b[0;31mTypeError\u001b[0m: 'module' object is not callable"
     ]
    }
   ],
   "source": [
    "ran2 = np.random(4,2)\n",
    "print(ran2)"
   ]
  },
  {
   "cell_type": "code",
   "execution_count": 247,
   "id": "32cedfb8",
   "metadata": {},
   "outputs": [
    {
     "name": "stdout",
     "output_type": "stream",
     "text": [
      "[[[0.47855061 0.30080666]\n",
      "  [0.29570253 0.32453032]\n",
      "  [0.30663414 0.68052096]]\n",
      "\n",
      " [[0.58546576 0.93058948]\n",
      "  [0.51680113 0.82095531]\n",
      "  [0.3606895  0.76000756]]\n",
      "\n",
      " [[0.74306859 0.14655501]\n",
      "  [0.53879046 0.68736856]\n",
      "  [0.23172874 0.11996277]]\n",
      "\n",
      " [[0.03836628 0.30797489]\n",
      "  [0.27390451 0.14081185]\n",
      "  [0.32560022 0.95379385]]]\n"
     ]
    }
   ],
   "source": [
    "ran3 = np.random.rand(4,3,2)\n",
    "print(ran3)"
   ]
  },
  {
   "cell_type": "markdown",
   "id": "4ced7a7c",
   "metadata": {},
   "source": [
    " ## Initialize a matrix of random integer numbers"
   ]
  },
  {
   "cell_type": "code",
   "execution_count": 248,
   "id": "6f1c50c8",
   "metadata": {},
   "outputs": [
    {
     "ename": "ValueError",
     "evalue": "low >= high",
     "output_type": "error",
     "traceback": [
      "\u001b[0;31m---------------------------------------------------------------------------\u001b[0m",
      "\u001b[0;31mValueError\u001b[0m                                Traceback (most recent call last)",
      "Cell \u001b[0;32mIn[248], line 1\u001b[0m\n\u001b[0;32m----> 1\u001b[0m ranInt \u001b[38;5;241m=\u001b[39m np\u001b[38;5;241m.\u001b[39mrandom\u001b[38;5;241m.\u001b[39mrandint(\u001b[38;5;241m4\u001b[39m,\u001b[38;5;241m3\u001b[39m,\u001b[38;5;241m2\u001b[39m)\n",
      "File \u001b[0;32mmtrand.pyx:765\u001b[0m, in \u001b[0;36mnumpy.random.mtrand.RandomState.randint\u001b[0;34m()\u001b[0m\n",
      "File \u001b[0;32m_bounded_integers.pyx:1247\u001b[0m, in \u001b[0;36mnumpy.random._bounded_integers._rand_int64\u001b[0;34m()\u001b[0m\n",
      "\u001b[0;31mValueError\u001b[0m: low >= high"
     ]
    }
   ],
   "source": [
    "ranInt = np.random.randint(4,3,2)"
   ]
  },
  {
   "cell_type": "markdown",
   "id": "4c51c615",
   "metadata": {},
   "source": [
    "So rand is different from randint and for randint, we don't just do (the 4,3,2 ie 4 shelves with 2 rows and 3 columns), we actually do the number we want (not exactly the number we want, like if we say 5, it picks between 0 and 5 and 0 is inclusive and 5 is exclusive), the size=(3 rows, 4 columns)\n",
    "\n",
    "\n",
    "If you don't want 0-7, you can specify\n",
    "\n",
    "4,7"
   ]
  },
  {
   "cell_type": "code",
   "execution_count": 256,
   "id": "b958dfeb",
   "metadata": {},
   "outputs": [
    {
     "name": "stdout",
     "output_type": "stream",
     "text": [
      "[[4 5]\n",
      " [6 5]\n",
      " [6 4]]\n"
     ]
    }
   ],
   "source": [
    "ranInt4_7 = np.random.randint(4,7, size=(3,2))\n",
    "print(ranInt4_7)"
   ]
  },
  {
   "cell_type": "code",
   "execution_count": 252,
   "id": "3358b4aa",
   "metadata": {},
   "outputs": [
    {
     "name": "stdout",
     "output_type": "stream",
     "text": [
      "[[3 6]\n",
      " [3 3]\n",
      " [5 5]\n",
      " [6 5]]\n"
     ]
    }
   ],
   "source": [
    "ranInt = np.random.randint(7, size=(4,2)) \n",
    "print(ranInt)"
   ]
  },
  {
   "cell_type": "markdown",
   "id": "a73116fa",
   "metadata": {},
   "source": [
    "I forgot to say this if we dont specify the size, it jsu"
   ]
  },
  {
   "cell_type": "code",
   "execution_count": 254,
   "id": "e7b6551d",
   "metadata": {},
   "outputs": [
    {
     "name": "stdout",
     "output_type": "stream",
     "text": [
      "0\n"
     ]
    }
   ],
   "source": [
    "ranInt2 = np.random.randint(7) \n",
    "print(ranInt2)"
   ]
  },
  {
   "cell_type": "code",
   "execution_count": 257,
   "id": "7f32ad51",
   "metadata": {},
   "outputs": [
    {
     "name": "stdout",
     "output_type": "stream",
     "text": [
      "[[ 0  3]\n",
      " [ 5 -1]\n",
      " [ 2  6]]\n"
     ]
    }
   ],
   "source": [
    "ranInt4_7 = np.random.randint(-2,7, size=(3,2))\n",
    "print(ranInt4_7)"
   ]
  },
  {
   "cell_type": "code",
   "execution_count": 258,
   "id": "2c935c6e",
   "metadata": {},
   "outputs": [
    {
     "data": {
      "text/plain": [
       "array([[1., 0., 0.],\n",
       "       [0., 1., 0.],\n",
       "       [0., 0., 1.]])"
      ]
     },
     "execution_count": 258,
     "metadata": {},
     "output_type": "execute_result"
    }
   ],
   "source": [
    "# Identity matrix\n",
    "\n",
    "np.identity(3)"
   ]
  },
  {
   "cell_type": "code",
   "execution_count": 260,
   "id": "feeddc93",
   "metadata": {},
   "outputs": [
    {
     "name": "stdout",
     "output_type": "stream",
     "text": [
      "[[1. 0. 0. 0. 0.]\n",
      " [0. 1. 0. 0. 0.]\n",
      " [0. 0. 1. 0. 0.]\n",
      " [0. 0. 0. 1. 0.]\n",
      " [0. 0. 0. 0. 1.]]\n"
     ]
    }
   ],
   "source": [
    "fiveIden = np.identity(5)\n",
    "print(fiveIden)"
   ]
  },
  {
   "cell_type": "markdown",
   "id": "791093aa",
   "metadata": {},
   "source": [
    "## To repeat an array let;s say 2 times"
   ]
  },
  {
   "cell_type": "code",
   "execution_count": 262,
   "id": "165ac293",
   "metadata": {},
   "outputs": [
    {
     "name": "stdout",
     "output_type": "stream",
     "text": [
      "[1 1 2 2 3 3 4 4]\n"
     ]
    }
   ],
   "source": [
    "arr2repeat = np.array([1,2,3,4])\n",
    "rptarr2repeat = np.repeat(arr2repeat, 2)\n",
    "print(rptarr2repeat)"
   ]
  },
  {
   "cell_type": "code",
   "execution_count": 274,
   "id": "b2c978f8",
   "metadata": {},
   "outputs": [
    {
     "name": "stdout",
     "output_type": "stream",
     "text": [
      "[1 1 1 2 2 2 3 3 3]\n"
     ]
    }
   ],
   "source": [
    "#repeating 3 times\n",
    "\n",
    "arr2repeat = np.array([1,2,3])\n",
    "rptarr2repeat = np.repeat(arr2repeat, 3)\n",
    "print(rptarr2repeat)"
   ]
  },
  {
   "cell_type": "markdown",
   "id": "68929906",
   "metadata": {},
   "source": [
    "If you want to repeat it like\n",
    "123\n",
    "123\n",
    "123\n",
    "we make the array 2 Dimensional by wrapping it in another [] and then we specify our axis =0\n",
    "\n"
   ]
  },
  {
   "cell_type": "code",
   "execution_count": 276,
   "id": "d533b271",
   "metadata": {},
   "outputs": [
    {
     "name": "stdout",
     "output_type": "stream",
     "text": [
      "[[1 2 3]\n",
      " [1 2 3]\n",
      " [1 2 3]]\n"
     ]
    }
   ],
   "source": [
    "#repeating 3 times\n",
    "\n",
    "arr2repeat = np.array([[1,2,3]])\n",
    "rptarr2repeat = np.repeat(arr2repeat, 3, axis = 0)\n",
    "print(rptarr2repeat)"
   ]
  },
  {
   "cell_type": "markdown",
   "id": "735284fe",
   "metadata": {},
   "source": [
    "If we leave the axis as one, it doesn't do it like the above but like the previous above"
   ]
  },
  {
   "cell_type": "code",
   "execution_count": 283,
   "id": "5dc0da5a",
   "metadata": {},
   "outputs": [
    {
     "name": "stdout",
     "output_type": "stream",
     "text": [
      "[[1 1 1 2 2 2 3 3 3]]\n"
     ]
    }
   ],
   "source": [
    "arr2repeatagain = np.array([[1,2,3]])\n",
    "uu = np.repeat(arr2repeatagain, 3, axis= 1)\n",
    "print(uu)"
   ]
  },
  {
   "cell_type": "code",
   "execution_count": 285,
   "id": "7ce0ce5c",
   "metadata": {},
   "outputs": [
    {
     "name": "stdout",
     "output_type": "stream",
     "text": [
      "[[1 2 3]\n",
      " [1 2 3]\n",
      " [1 2 3]]\n"
     ]
    }
   ],
   "source": [
    "arr2repeatagain = np.array([[1,2,3]])\n",
    "ww = np.repeat(arr2repeatagain, 3, axis= 0)\n",
    "print(ww)"
   ]
  },
  {
   "cell_type": "code",
   "execution_count": null,
   "id": "d49b0784",
   "metadata": {},
   "outputs": [],
   "source": []
  },
  {
   "cell_type": "code",
   "execution_count": null,
   "id": "08c1bd2d",
   "metadata": {},
   "outputs": [],
   "source": []
  },
  {
   "cell_type": "code",
   "execution_count": null,
   "id": "b6cc20d2",
   "metadata": {},
   "outputs": [],
   "source": []
  },
  {
   "cell_type": "code",
   "execution_count": null,
   "id": "39bff904",
   "metadata": {},
   "outputs": [],
   "source": []
  },
  {
   "cell_type": "code",
   "execution_count": null,
   "id": "f33705b4",
   "metadata": {},
   "outputs": [],
   "source": []
  },
  {
   "cell_type": "code",
   "execution_count": null,
   "id": "39c7f157",
   "metadata": {},
   "outputs": [],
   "source": []
  },
  {
   "cell_type": "code",
   "execution_count": null,
   "id": "27f0af3c",
   "metadata": {},
   "outputs": [],
   "source": []
  },
  {
   "cell_type": "code",
   "execution_count": null,
   "id": "01f4842e",
   "metadata": {},
   "outputs": [],
   "source": []
  },
  {
   "cell_type": "code",
   "execution_count": null,
   "id": "e5b81d11",
   "metadata": {},
   "outputs": [],
   "source": []
  },
  {
   "cell_type": "code",
   "execution_count": null,
   "id": "45549c9b",
   "metadata": {},
   "outputs": [],
   "source": []
  },
  {
   "cell_type": "code",
   "execution_count": null,
   "id": "ad053034",
   "metadata": {},
   "outputs": [],
   "source": []
  },
  {
   "cell_type": "code",
   "execution_count": null,
   "id": "487e4ff8",
   "metadata": {},
   "outputs": [],
   "source": []
  },
  {
   "cell_type": "code",
   "execution_count": null,
   "id": "b28e38fc",
   "metadata": {},
   "outputs": [],
   "source": []
  },
  {
   "cell_type": "code",
   "execution_count": null,
   "id": "3f52d2dc",
   "metadata": {},
   "outputs": [],
   "source": []
  },
  {
   "cell_type": "code",
   "execution_count": null,
   "id": "a05c0705",
   "metadata": {},
   "outputs": [],
   "source": []
  },
  {
   "cell_type": "code",
   "execution_count": null,
   "id": "664030dd",
   "metadata": {},
   "outputs": [],
   "source": []
  },
  {
   "cell_type": "code",
   "execution_count": null,
   "id": "4fd52ec8",
   "metadata": {},
   "outputs": [],
   "source": []
  },
  {
   "cell_type": "code",
   "execution_count": null,
   "id": "15c0d7ea",
   "metadata": {},
   "outputs": [],
   "source": []
  },
  {
   "cell_type": "markdown",
   "id": "63c952d3",
   "metadata": {},
   "source": [
    "# Element Wise Addition"
   ]
  },
  {
   "cell_type": "code",
   "execution_count": 264,
   "id": "ec3625b9",
   "metadata": {},
   "outputs": [
    {
     "name": "stdout",
     "output_type": "stream",
     "text": [
      "[4 5 6 7]\n"
     ]
    }
   ],
   "source": [
    "u = np.array([2,3,4,5])\n",
    "additionWith2 = u + 2\n",
    "print(additionWith2)"
   ]
  },
  {
   "cell_type": "markdown",
   "id": "36a89690",
   "metadata": {},
   "source": [
    "# Linear ALgebra"
   ]
  },
  {
   "cell_type": "code",
   "execution_count": 269,
   "id": "e331c92f",
   "metadata": {},
   "outputs": [
    {
     "name": "stdout",
     "output_type": "stream",
     "text": [
      "[[1. 1. 1.]\n",
      " [1. 1. 1.]]\n"
     ]
    }
   ],
   "source": [
    "m1 = np.ones((2,3))\n",
    "print(m1)"
   ]
  },
  {
   "cell_type": "code",
   "execution_count": 272,
   "id": "f2bca197",
   "metadata": {},
   "outputs": [
    {
     "name": "stdout",
     "output_type": "stream",
     "text": [
      "[[9 9 9]\n",
      " [9 9 9]]\n"
     ]
    }
   ],
   "source": [
    "m2 = np.full((2,3), 9)\n",
    "print(m2)"
   ]
  },
  {
   "cell_type": "code",
   "execution_count": 273,
   "id": "352252ec",
   "metadata": {},
   "outputs": [
    {
     "ename": "ValueError",
     "evalue": "matmul: Input operand 1 has a mismatch in its core dimension 0, with gufunc signature (n?,k),(k,m?)->(n?,m?) (size 2 is different from 3)",
     "output_type": "error",
     "traceback": [
      "\u001b[0;31m---------------------------------------------------------------------------\u001b[0m",
      "\u001b[0;31mValueError\u001b[0m                                Traceback (most recent call last)",
      "Cell \u001b[0;32mIn[273], line 1\u001b[0m\n\u001b[0;32m----> 1\u001b[0m d \u001b[38;5;241m=\u001b[39m np\u001b[38;5;241m.\u001b[39mmatmul(m1,m2)\n\u001b[1;32m      2\u001b[0m \u001b[38;5;28mprint\u001b[39m(d)\n",
      "\u001b[0;31mValueError\u001b[0m: matmul: Input operand 1 has a mismatch in its core dimension 0, with gufunc signature (n?,k),(k,m?)->(n?,m?) (size 2 is different from 3)"
     ]
    }
   ],
   "source": [
    "d = np.matmul(m1,m2)\n",
    "print(d)"
   ]
  },
  {
   "cell_type": "markdown",
   "id": "bcd0e313",
   "metadata": {},
   "source": [
    "So the above didn't work because of our matrix rule where if we have to multipy a matrix, the columns of the first have to be same as the rows of the second (like same number)\n",
    "\n",
    "So let's redo it"
   ]
  },
  {
   "cell_type": "code",
   "execution_count": 290,
   "id": "adc0d4db",
   "metadata": {},
   "outputs": [
    {
     "name": "stdout",
     "output_type": "stream",
     "text": [
      "[[12. 12. 12. 12. 12. 12. 12.]\n",
      " [12. 12. 12. 12. 12. 12. 12.]]\n"
     ]
    }
   ],
   "source": [
    "matrix1 = np.ones((2,3))\n",
    "\n",
    "\n",
    "matrix2 = np.full((3,7), 4)\n",
    "\n",
    "uuu = np.matmul(matrix1, matrix2)\n",
    "\n",
    "print(uuu)\n",
    "\n"
   ]
  },
  {
   "cell_type": "markdown",
   "id": "9b273c12",
   "metadata": {},
   "source": [
    "So this is how we got 12\n",
    "\n",
    "Our matrix1 basically is a 2 x 3 matrix of only one's and our matrix2 is a 3 X 7 matrix with 2 as elements\n",
    "\n",
    "So the first element in the uuu is calculated by\n",
    "\n",
    "(matrix1 * matrix2) + (matrix1 * matrix2) +(matrix1 * matrix2)\n",
    "\n",
    "It's 3 times because 3 columns are multiplying 3 rows\n",
    "\n",
    "So it's (1*4) + (1*4) + (1*4)\n",
    "\n",
    "Then the shape is obviously 2 by 7 because 2 rows and 7 columns \n",
    "\n",
    "Let's test the reverse for better understanding"
   ]
  },
  {
   "cell_type": "code",
   "execution_count": 291,
   "id": "2067aaba",
   "metadata": {},
   "outputs": [
    {
     "ename": "NameError",
     "evalue": "name 'uv' is not defined",
     "output_type": "error",
     "traceback": [
      "\u001b[0;31m---------------------------------------------------------------------------\u001b[0m",
      "\u001b[0;31mNameError\u001b[0m                                 Traceback (most recent call last)",
      "Cell \u001b[0;32mIn[291], line 5\u001b[0m\n\u001b[1;32m      2\u001b[0m mat2 \u001b[38;5;241m=\u001b[39m np\u001b[38;5;241m.\u001b[39mones((\u001b[38;5;241m2\u001b[39m,\u001b[38;5;241m3\u001b[39m))\n\u001b[1;32m      4\u001b[0m mat1_2 \u001b[38;5;241m=\u001b[39m (mat1, mat2)\n\u001b[0;32m----> 5\u001b[0m \u001b[38;5;28mprint\u001b[39m(uv)\n",
      "\u001b[0;31mNameError\u001b[0m: name 'uv' is not defined"
     ]
    }
   ],
   "source": [
    "mat1 = np.full((2,7), 4)\n",
    "mat2 = np.ones((2,3))\n",
    "\n",
    "mat1_2 = (mat1, mat2)\n",
    "print(uv)"
   ]
  },
  {
   "cell_type": "code",
   "execution_count": 295,
   "id": "644c6aa5",
   "metadata": {},
   "outputs": [
    {
     "ename": "AttributeError",
     "evalue": "module 'numpy' has no attribute 'mathmul'",
     "output_type": "error",
     "traceback": [
      "\u001b[0;31m---------------------------------------------------------------------------\u001b[0m",
      "\u001b[0;31mAttributeError\u001b[0m                            Traceback (most recent call last)",
      "Cell \u001b[0;32mIn[295], line 3\u001b[0m\n\u001b[1;32m      1\u001b[0m mat1 \u001b[38;5;241m=\u001b[39m np\u001b[38;5;241m.\u001b[39mfull((\u001b[38;5;241m2\u001b[39m,\u001b[38;5;241m7\u001b[39m), \u001b[38;5;241m4\u001b[39m)\n\u001b[1;32m      2\u001b[0m mat2 \u001b[38;5;241m=\u001b[39m np\u001b[38;5;241m.\u001b[39mones((\u001b[38;5;241m2\u001b[39m,\u001b[38;5;241m3\u001b[39m))\n\u001b[0;32m----> 3\u001b[0m mat1_2 \u001b[38;5;241m=\u001b[39m np\u001b[38;5;241m.\u001b[39mmathmul(mat1,mat2)\n\u001b[1;32m      4\u001b[0m \u001b[38;5;28mprint\u001b[39m(mat1_2)\n",
      "File \u001b[0;32m~/anaconda3/lib/python3.11/site-packages/numpy/__init__.py:320\u001b[0m, in \u001b[0;36m__getattr__\u001b[0;34m(attr)\u001b[0m\n\u001b[1;32m    317\u001b[0m     \u001b[38;5;28;01mfrom\u001b[39;00m \u001b[38;5;21;01m.\u001b[39;00m\u001b[38;5;21;01mtesting\u001b[39;00m \u001b[38;5;28;01mimport\u001b[39;00m Tester\n\u001b[1;32m    318\u001b[0m     \u001b[38;5;28;01mreturn\u001b[39;00m Tester\n\u001b[0;32m--> 320\u001b[0m \u001b[38;5;28;01mraise\u001b[39;00m \u001b[38;5;167;01mAttributeError\u001b[39;00m(\u001b[38;5;124m\"\u001b[39m\u001b[38;5;124mmodule \u001b[39m\u001b[38;5;132;01m{!r}\u001b[39;00m\u001b[38;5;124m has no attribute \u001b[39m\u001b[38;5;124m\"\u001b[39m\n\u001b[1;32m    321\u001b[0m                      \u001b[38;5;124m\"\u001b[39m\u001b[38;5;132;01m{!r}\u001b[39;00m\u001b[38;5;124m\"\u001b[39m\u001b[38;5;241m.\u001b[39mformat(\u001b[38;5;18m__name__\u001b[39m, attr))\n",
      "\u001b[0;31mAttributeError\u001b[0m: module 'numpy' has no attribute 'mathmul'"
     ]
    }
   ],
   "source": [
    "mat1 = np.full((2,7), 4)\n",
    "mat2 = np.ones((2,3))\n",
    "mat1_2 = np.mathmul(mat1,mat2)\n",
    "print(mat1_2)"
   ]
  },
  {
   "cell_type": "code",
   "execution_count": 296,
   "id": "c10dd595",
   "metadata": {},
   "outputs": [
    {
     "ename": "NameError",
     "evalue": "name 'matmul' is not defined",
     "output_type": "error",
     "traceback": [
      "\u001b[0;31m---------------------------------------------------------------------------\u001b[0m",
      "\u001b[0;31mNameError\u001b[0m                                 Traceback (most recent call last)",
      "Cell \u001b[0;32mIn[296], line 3\u001b[0m\n\u001b[1;32m      1\u001b[0m mat1 \u001b[38;5;241m=\u001b[39m np\u001b[38;5;241m.\u001b[39mfull((\u001b[38;5;241m2\u001b[39m,\u001b[38;5;241m7\u001b[39m), \u001b[38;5;241m4\u001b[39m)\n\u001b[1;32m      2\u001b[0m mat2 \u001b[38;5;241m=\u001b[39m np\u001b[38;5;241m.\u001b[39mones((\u001b[38;5;241m2\u001b[39m,\u001b[38;5;241m3\u001b[39m))\n\u001b[0;32m----> 3\u001b[0m mat1_2 \u001b[38;5;241m=\u001b[39m matmul(mat1,mat2)\n\u001b[1;32m      4\u001b[0m \u001b[38;5;28mprint\u001b[39m(mat1_2)\n",
      "\u001b[0;31mNameError\u001b[0m: name 'matmul' is not defined"
     ]
    }
   ],
   "source": [
    "mat1 = np.full((2,7), 4)\n",
    "mat2 = np.ones((2,3))\n",
    "mat1_2 = matmul(mat1,mat2)\n",
    "print(mat1_2)"
   ]
  },
  {
   "cell_type": "code",
   "execution_count": 298,
   "id": "4486b4e2",
   "metadata": {},
   "outputs": [
    {
     "ename": "ValueError",
     "evalue": "matmul: Input operand 1 has a mismatch in its core dimension 0, with gufunc signature (n?,k),(k,m?)->(n?,m?) (size 2 is different from 7)",
     "output_type": "error",
     "traceback": [
      "\u001b[0;31m---------------------------------------------------------------------------\u001b[0m",
      "\u001b[0;31mValueError\u001b[0m                                Traceback (most recent call last)",
      "Cell \u001b[0;32mIn[298], line 3\u001b[0m\n\u001b[1;32m      1\u001b[0m mat1 \u001b[38;5;241m=\u001b[39m np\u001b[38;5;241m.\u001b[39mfull((\u001b[38;5;241m3\u001b[39m,\u001b[38;5;241m7\u001b[39m), \u001b[38;5;241m4\u001b[39m)\n\u001b[1;32m      2\u001b[0m mat2 \u001b[38;5;241m=\u001b[39m np\u001b[38;5;241m.\u001b[39mones((\u001b[38;5;241m2\u001b[39m,\u001b[38;5;241m3\u001b[39m))\n\u001b[0;32m----> 3\u001b[0m mat1_2 \u001b[38;5;241m=\u001b[39m np\u001b[38;5;241m.\u001b[39mmatmul(mat1,mat2)\n\u001b[1;32m      4\u001b[0m \u001b[38;5;28mprint\u001b[39m(mat1_2)\n",
      "\u001b[0;31mValueError\u001b[0m: matmul: Input operand 1 has a mismatch in its core dimension 0, with gufunc signature (n?,k),(k,m?)->(n?,m?) (size 2 is different from 7)"
     ]
    }
   ],
   "source": [
    "mat1 = np.full((3,7), 4)\n",
    "mat2 = np.ones((2,3))\n",
    "mat1_2 = np.matmul(mat1,mat2)\n",
    "print(mat1_2)"
   ]
  },
  {
   "cell_type": "markdown",
   "id": "e2028438",
   "metadata": {},
   "source": [
    "The issue was the column number and row number not being the same, so I flipped it"
   ]
  },
  {
   "cell_type": "code",
   "execution_count": 299,
   "id": "a545c332",
   "metadata": {},
   "outputs": [
    {
     "name": "stdout",
     "output_type": "stream",
     "text": [
      "[[12. 12.]\n",
      " [12. 12.]\n",
      " [12. 12.]\n",
      " [12. 12.]\n",
      " [12. 12.]\n",
      " [12. 12.]\n",
      " [12. 12.]]\n"
     ]
    }
   ],
   "source": [
    "mat1 = np.full((7,3), 4)\n",
    "mat2 = np.ones((3,2))\n",
    "mat1_2 = np.matmul(mat1,mat2)\n",
    "print(mat1_2)"
   ]
  },
  {
   "cell_type": "markdown",
   "id": "5ea284dc",
   "metadata": {},
   "source": [
    "### So in essence, let's compare to see the difference"
   ]
  },
  {
   "cell_type": "code",
   "execution_count": 300,
   "id": "e6e67f21",
   "metadata": {},
   "outputs": [
    {
     "name": "stdout",
     "output_type": "stream",
     "text": [
      "[[12. 12. 12. 12. 12. 12. 12.]\n",
      " [12. 12. 12. 12. 12. 12. 12.]]\n"
     ]
    }
   ],
   "source": [
    "matrix1 = np.ones((2,3))\n",
    "\n",
    "\n",
    "matrix2 = np.full((3,7), 4)\n",
    "\n",
    "uuu = np.matmul(matrix1, matrix2)\n",
    "\n",
    "print(uuu)\n",
    "\n"
   ]
  },
  {
   "cell_type": "code",
   "execution_count": 301,
   "id": "7a25cdde",
   "metadata": {},
   "outputs": [
    {
     "name": "stdout",
     "output_type": "stream",
     "text": [
      "[[12. 12.]\n",
      " [12. 12.]\n",
      " [12. 12.]\n",
      " [12. 12.]\n",
      " [12. 12.]\n",
      " [12. 12.]\n",
      " [12. 12.]]\n"
     ]
    }
   ],
   "source": [
    "mat1 = np.full((7,3), 4)\n",
    "mat2 = np.ones((3,2))\n",
    "mat1_2 = np.matmul(mat1,mat2)\n",
    "print(mat1_2)"
   ]
  },
  {
   "cell_type": "markdown",
   "id": "9c88dfeb",
   "metadata": {},
   "source": [
    "So  I had earlier said this for the first that is uuu\n",
    "\n",
    "Then the shape is obviously 2 by 7 because 2 rows and 7 columns\n",
    "\n",
    "Let's test the reverse for better understanding\n",
    "\n",
    "\n",
    "So yes, to knwo the shape, it take the number of rows of the first and the number of columns of the second. Just like we compared col of 1st to row of 2nd now we're doing the normal way, row of first and column of 2nd to know th shape"
   ]
  },
  {
   "cell_type": "code",
   "execution_count": 304,
   "id": "dca6aa2b",
   "metadata": {},
   "outputs": [
    {
     "name": "stdout",
     "output_type": "stream",
     "text": [
      "2\n",
      "2\n"
     ]
    }
   ],
   "source": [
    "print(uuu.ndim)\n",
    "print(mat1_2.ndim)"
   ]
  },
  {
   "cell_type": "markdown",
   "id": "79035944",
   "metadata": {},
   "source": [
    "## Sum"
   ]
  },
  {
   "cell_type": "code",
   "execution_count": 314,
   "id": "db5f5cb4",
   "metadata": {},
   "outputs": [
    {
     "name": "stdout",
     "output_type": "stream",
     "text": [
      "(2, 3)\n",
      "[[1 2 3]\n",
      " [4 5 6]]\n",
      "2\n"
     ]
    }
   ],
   "source": [
    "sd = np.array([[1,2,3], [4,5,6]])\n",
    "print(sd.shape)\n",
    "\n",
    "print(sd)\n",
    "\n",
    "print(sd.ndim) \n"
   ]
  },
  {
   "cell_type": "markdown",
   "id": "bac547dc",
   "metadata": {},
   "source": [
    "Here, axis=0 means you are summing vertically along the columns ie 1+4 =5, 2+5 = 7, 3+6 = 9\n",
    "\n",
    "Here, axis=1 means you are summing horizontally along the row ie 1+2+3 = 6, 4+5+6 = 15\n",
    "\n",
    "\n",
    "## Axis 0  does in this direction |\n",
    "## Axis 1 does in this direction ___\n"
   ]
  },
  {
   "cell_type": "code",
   "execution_count": 315,
   "id": "570b9fe6",
   "metadata": {},
   "outputs": [
    {
     "name": "stdout",
     "output_type": "stream",
     "text": [
      "[5 7 9]\n",
      "[ 6 15]\n"
     ]
    }
   ],
   "source": [
    "print(np.sum(sd, axis = 0))\n",
    "print(np.sum(sd, axis = 1))"
   ]
  },
  {
   "cell_type": "markdown",
   "id": "2154e71b",
   "metadata": {},
   "source": [
    "## Getting data from txt file"
   ]
  },
  {
   "cell_type": "code",
   "execution_count": 317,
   "id": "47acc974",
   "metadata": {},
   "outputs": [
    {
     "name": "stdout",
     "output_type": "stream",
     "text": [
      "File 'scores.txt' created successfully.\n"
     ]
    }
   ],
   "source": [
    "# Define the content you want to write to the file\n",
    "content = \"\"\"1,2,3,4,5,6,7\n",
    "12,34,67,8,0,12,34\n",
    "3,4,6,7,89,12,12\n",
    "\"\"\"\n",
    "\n",
    "# Specify the file path where you want to save the file\n",
    "file_path = 'scores.txt'  # This will save in the current working directory of the Jupyter notebook\n",
    "\n",
    "# Open the file in write mode and write the content\n",
    "with open(file_path, 'w') as file:\n",
    "    file.write(content)\n",
    "\n",
    "print(\"File 'scores.txt' created successfully.\")\n"
   ]
  },
  {
   "cell_type": "markdown",
   "id": "8977923e",
   "metadata": {},
   "source": [
    "Explanation:\n",
    "np.genfromtxt(\"scores.txt\", delimiter=','):\n",
    "\n",
    "np.genfromtxt(): This is a function from the NumPy library used to read data from a text file and convert it into a NumPy array. It's particularly useful for loading numerical data and handling missing values.\n",
    "\n",
    "\"scores.txt\": This is the name of the text file you want to read. The file should be located in the same directory as your Python script or Jupyter Notebook, or you should provide the full path to the file if it's located elsewhere.\n",
    "\n",
    "delimiter=',': This specifies the character that separates values in the file. In this case, the values are separated by commas, which is typical for CSV (Comma-Separated Values) files."
   ]
  },
  {
   "cell_type": "code",
   "execution_count": 321,
   "id": "5d1eb86d",
   "metadata": {},
   "outputs": [
    {
     "ename": "TypeError",
     "evalue": "genfromtxt() got an unexpected keyword argument 'delimeter'",
     "output_type": "error",
     "traceback": [
      "\u001b[0;31m---------------------------------------------------------------------------\u001b[0m",
      "\u001b[0;31mTypeError\u001b[0m                                 Traceback (most recent call last)",
      "Cell \u001b[0;32mIn[321], line 1\u001b[0m\n\u001b[0;32m----> 1\u001b[0m sh2 \u001b[38;5;241m=\u001b[39m np\u001b[38;5;241m.\u001b[39mgenfromtxt(\u001b[38;5;124m\"\u001b[39m\u001b[38;5;124mscores.txt\u001b[39m\u001b[38;5;124m\"\u001b[39m, delimeter \u001b[38;5;241m=\u001b[39m \u001b[38;5;124m'\u001b[39m\u001b[38;5;124m,\u001b[39m\u001b[38;5;124m'\u001b[39m)\n\u001b[1;32m      2\u001b[0m \u001b[38;5;28mprint\u001b[39m(sh2)\n",
      "\u001b[0;31mTypeError\u001b[0m: genfromtxt() got an unexpected keyword argument 'delimeter'"
     ]
    }
   ],
   "source": [
    "sh2 = np.genfromtxt(\"scores.txt\", delimeter = \",\")\n",
    "print(sh2)"
   ]
  },
  {
   "cell_type": "code",
   "execution_count": 322,
   "id": "4ef4c0ec",
   "metadata": {},
   "outputs": [
    {
     "name": "stdout",
     "output_type": "stream",
     "text": [
      "[[ 1.  2.  3.  4.  5.  6.  7.]\n",
      " [12. 34. 67.  8.  0. 12. 34.]\n",
      " [ 3.  4.  6.  7. 89. 12. 12.]]\n"
     ]
    }
   ],
   "source": [
    "sh2 = np.genfromtxt(\"scores.txt\", delimiter = \",\") \n",
    "#miter not meter\n",
    "print(sh2)"
   ]
  },
  {
   "cell_type": "code",
   "execution_count": 323,
   "id": "acabe993",
   "metadata": {},
   "outputs": [
    {
     "name": "stdout",
     "output_type": "stream",
     "text": [
      "(3, 7)\n"
     ]
    }
   ],
   "source": [
    "print(sh2.shape)"
   ]
  },
  {
   "cell_type": "code",
   "execution_count": 326,
   "id": "56dd79e1",
   "metadata": {},
   "outputs": [
    {
     "name": "stdout",
     "output_type": "stream",
     "text": [
      "[[False False False False False False False]\n",
      " [ True  True  True False False  True  True]\n",
      " [False False False False  True  True  True]]\n"
     ]
    }
   ],
   "source": [
    "greaterThan10 = (sh2 > 10)\n",
    "print(greaterThan10)"
   ]
  },
  {
   "cell_type": "markdown",
   "id": "9735dfd5",
   "metadata": {},
   "source": [
    "Printing directly\n",
    "print(greaterThan10)\n",
    "Will give true and false values\n",
    "\n",
    "\n",
    "But If you want to get teh actual values then sh2[greatThan10]\n"
   ]
  },
  {
   "cell_type": "code",
   "execution_count": 328,
   "id": "9e928901",
   "metadata": {},
   "outputs": [
    {
     "name": "stdout",
     "output_type": "stream",
     "text": [
      "[[False False False False False False False]\n",
      " [ True  True  True False False  True  True]\n",
      " [False False False False  True  True  True]]\n",
      "[12. 34. 67. 12. 34. 89. 12. 12.]\n"
     ]
    }
   ],
   "source": [
    "print(greaterThan10)\n",
    "print(sh2[greaterThan10])"
   ]
  },
  {
   "cell_type": "markdown",
   "id": "f969a42b",
   "metadata": {},
   "source": [
    "## Get Average from the txt"
   ]
  },
  {
   "cell_type": "code",
   "execution_count": 331,
   "id": "77f7d53b",
   "metadata": {},
   "outputs": [
    {
     "name": "stdout",
     "output_type": "stream",
     "text": [
      "[[ 1.  2.  3.  4.  5.  6.  7.]\n",
      " [12. 34. 67.  8.  0. 12. 34.]\n",
      " [ 3.  4.  6.  7. 89. 12. 12.]]\n"
     ]
    }
   ],
   "source": [
    "print(sh2)"
   ]
  },
  {
   "cell_type": "code",
   "execution_count": 332,
   "id": "42d05069",
   "metadata": {},
   "outputs": [
    {
     "name": "stdout",
     "output_type": "stream",
     "text": [
      "15.619047619047619\n"
     ]
    }
   ],
   "source": [
    "avgofScores = np.average(sh2)\n",
    "print(avgofScores)"
   ]
  },
  {
   "cell_type": "markdown",
   "id": "34603f2c",
   "metadata": {},
   "source": [
    "## Get Min and Max from the txt\n"
   ]
  },
  {
   "cell_type": "code",
   "execution_count": 334,
   "id": "02b435c6",
   "metadata": {},
   "outputs": [
    {
     "name": "stdout",
     "output_type": "stream",
     "text": [
      "89.0\n",
      "0.0\n"
     ]
    }
   ],
   "source": [
    "max = np.max(sh2)\n",
    "print(max)\n",
    "\n",
    "min = np.min(sh2)\n",
    "print(min)"
   ]
  },
  {
   "cell_type": "markdown",
   "id": "f962937a",
   "metadata": {},
   "source": [
    "# Get >= "
   ]
  },
  {
   "cell_type": "code",
   "execution_count": 338,
   "id": "e275d7c9",
   "metadata": {},
   "outputs": [
    {
     "name": "stdout",
     "output_type": "stream",
     "text": [
      "[[False False False False False False False]\n",
      " [False  True  True False False False  True]\n",
      " [False False False False  True False False]]\n",
      "[34. 67. 34. 89.]\n",
      "4\n"
     ]
    }
   ],
   "source": [
    "thirtyAndAbove = sh2 >= 30 #True and False values\n",
    "print(thirtyAndAbove)\n",
    "\n",
    "\n",
    "number = sh2[thirtyAndAbove]# Essentially, this translates to extracting the actual numbers from sh2 that meet the condition (being 30 or greater).\n",
    "print(number)\n",
    "print(len(number))\n",
    "\n",
    "\n"
   ]
  },
  {
   "cell_type": "code",
   "execution_count": 342,
   "id": "5834e187",
   "metadata": {},
   "outputs": [
    {
     "name": "stdout",
     "output_type": "stream",
     "text": [
      "[[2700 3000 3000]\n",
      " [2600 2800 2800]\n",
      " [2300 2500 2500]]\n"
     ]
    }
   ],
   "source": [
    "# These are salaries for 3 months\n",
    "\n",
    "jeff_salary = [2700,3000,3000]\n",
    "nick_salary = [2600,2800,2800]\n",
    "tom_salary = [2300,2500,2500] \n",
    "\n",
    "base_salary = np.array([jeff_salary, nick_salary, tom_salary])\n",
    "print(base_salary)\n",
    "\n",
    "# we're just merging here"
   ]
  },
  {
   "cell_type": "code",
   "execution_count": 343,
   "id": "447e4bcc",
   "metadata": {},
   "outputs": [
    {
     "name": "stdout",
     "output_type": "stream",
     "text": [
      "[[500 400 400]\n",
      " [600 300 400]\n",
      " [200 500 400]]\n"
     ]
    }
   ],
   "source": [
    "jeff_bonus = [500,400,400]\n",
    "nick_bonus = [600,300,400]\n",
    "tom_bonus = [200,500,400]\n",
    "bonus = np.array([jeff_bonus, nick_bonus, \n",
    "tom_bonus])\n",
    "print(bonus)\n",
    "\n",
    "# we're just merging here"
   ]
  },
  {
   "cell_type": "code",
   "execution_count": 346,
   "id": "d883c03c",
   "metadata": {},
   "outputs": [
    {
     "name": "stdout",
     "output_type": "stream",
     "text": [
      "[[3200 3400 3400]\n",
      " [3200 3100 3200]\n",
      " [2500 3000 2900]]\n",
      "<class 'numpy.ndarray'>\n"
     ]
    }
   ],
   "source": [
    "salary_bonus = base_salary + bonus\n",
    "print(salary_bonus)\n",
    "\n",
    "\n",
    "print(type(salary_bonus))\n"
   ]
  },
  {
   "cell_type": "markdown",
   "id": "5d5ceb36",
   "metadata": {},
   "source": [
    "So we just added them"
   ]
  },
  {
   "cell_type": "code",
   "execution_count": 348,
   "id": "c96dd7d6",
   "metadata": {},
   "outputs": [
    {
     "name": "stdout",
     "output_type": "stream",
     "text": [
      "3400\n"
     ]
    }
   ],
   "source": [
    "#Say we want to find the max value of the base salary\n",
    "\n",
    "print(salary_bonus.max())"
   ]
  },
  {
   "cell_type": "markdown",
   "id": "6b45c1df",
   "metadata": {},
   "source": [
    "We want to determine the max amount paid to each employee in the past 3 month"
   ]
  },
  {
   "cell_type": "code",
   "execution_count": 349,
   "id": "61d21c3a",
   "metadata": {},
   "outputs": [
    {
     "name": "stdout",
     "output_type": "stream",
     "text": [
      "[3400 3200 3000]\n"
     ]
    }
   ],
   "source": [
    "print(np.amax(salary_bonus, axis = 1))\n",
    "remember axis is left to right ---"
   ]
  },
  {
   "cell_type": "code",
   "execution_count": null,
   "id": "bc97a15b",
   "metadata": {},
   "outputs": [],
   "source": []
  },
  {
   "cell_type": "code",
   "execution_count": 2,
   "id": "4878545c",
   "metadata": {},
   "outputs": [
    {
     "name": "stdout",
     "output_type": "stream",
     "text": [
      "[1, 2, 3, 4, 5, 6]\n"
     ]
    }
   ],
   "source": [
    "# Just testing something in list\n",
    "\n",
    "testlist = [1,2,3,4,5,6,7]\n",
    "print(testlist[:-1])\n",
    "\n",
    "\n",
    "#So it prints all except the last index\n",
    "\n"
   ]
  },
  {
   "cell_type": "code",
   "execution_count": null,
   "id": "646f547c",
   "metadata": {},
   "outputs": [],
   "source": []
  },
  {
   "cell_type": "code",
   "execution_count": null,
   "id": "a25f9594",
   "metadata": {},
   "outputs": [],
   "source": []
  },
  {
   "cell_type": "code",
   "execution_count": null,
   "id": "f75ebf2b",
   "metadata": {},
   "outputs": [],
   "source": []
  },
  {
   "cell_type": "code",
   "execution_count": null,
   "id": "bd060503",
   "metadata": {},
   "outputs": [],
   "source": []
  },
  {
   "cell_type": "code",
   "execution_count": null,
   "id": "ed931421",
   "metadata": {},
   "outputs": [],
   "source": []
  },
  {
   "cell_type": "code",
   "execution_count": 22,
   "id": "3deb8164",
   "metadata": {},
   "outputs": [
    {
     "name": "stdout",
     "output_type": "stream",
     "text": [
      "8\n"
     ]
    }
   ],
   "source": [
    "church7 = 7\n",
    "church_ = 8\n",
    "print (church_)\n",
    "\n",
    "\n",
    "\n",
    "\n",
    "\n",
    "\n",
    "\n"
   ]
  },
  {
   "cell_type": "markdown",
   "id": "61970582",
   "metadata": {},
   "source": [
    "# Exam prep\n"
   ]
  },
  {
   "cell_type": "code",
   "execution_count": 63,
   "id": "f10b7193",
   "metadata": {},
   "outputs": [
    {
     "name": "stdout",
     "output_type": "stream",
     "text": [
      "mes kaka\n",
      "mes\n",
      "james\n",
      " kaka\n",
      "\n"
     ]
    }
   ],
   "source": [
    "# ag = \"Hello, World!\"\n",
    "\n",
    "# print(ag[-1:6:2])\n",
    "\n",
    "\n",
    "\n",
    "# K = 500\n",
    "# print(k)\n",
    "\n",
    "\n",
    "\n",
    "\n",
    "\n",
    "\n",
    "t =\"james kaka\"\n",
    "print(t[2:])\n",
    "print(t[2:5])\n",
    "print(t[0:5])\n",
    "print(t[-5:])\n",
    "t2 =\"james kaka\"\n",
    "print(t2[1:1])#empty"
   ]
  },
  {
   "cell_type": "code",
   "execution_count": 48,
   "id": "bb076d39",
   "metadata": {},
   "outputs": [
    {
     "name": "stdout",
     "output_type": "stream",
     "text": [
      "[2, 3, 4, 5]\n"
     ]
    }
   ],
   "source": [
    "list17 = ['physics', 'chemistry', 1997, 2000]\n",
    "list27 = [1, 2, 3, 4, 5, 6, 7 ]\n",
    "\n",
    "print (list27[1:5])\n",
    "\n",
    "\n"
   ]
  },
  {
   "cell_type": "code",
   "execution_count": 50,
   "id": "2f513242",
   "metadata": {},
   "outputs": [
    {
     "name": "stdout",
     "output_type": "stream",
     "text": [
      "['physics', 'chemistry', 2001, 2000]\n"
     ]
    }
   ],
   "source": [
    "\n",
    "list17[2] = 2001\n",
    "print(list17)\n",
    "\n",
    "\n"
   ]
  },
  {
   "cell_type": "code",
   "execution_count": 51,
   "id": "e7db9f67",
   "metadata": {},
   "outputs": [
    {
     "name": "stdout",
     "output_type": "stream",
     "text": [
      "2001\n"
     ]
    }
   ],
   "source": [
    "print(list17[2])\n",
    "\n"
   ]
  },
  {
   "cell_type": "code",
   "execution_count": 52,
   "id": "f1b7555f",
   "metadata": {},
   "outputs": [
    {
     "name": "stdout",
     "output_type": "stream",
     "text": [
      "['physics', 'chemistry', 2000]\n"
     ]
    }
   ],
   "source": [
    "del list17[2]\n",
    "print(list17)"
   ]
  },
  {
   "cell_type": "code",
   "execution_count": 53,
   "id": "c3dbb7da",
   "metadata": {},
   "outputs": [
    {
     "name": "stdout",
     "output_type": "stream",
     "text": [
      "2000\n"
     ]
    }
   ],
   "source": [
    "print(list17[2])\n"
   ]
  },
  {
   "cell_type": "code",
   "execution_count": 54,
   "id": "09438915",
   "metadata": {},
   "outputs": [
    {
     "data": {
      "text/plain": [
       "[1, 2, 3, 4, 5, 6]"
      ]
     },
     "execution_count": 54,
     "metadata": {},
     "output_type": "execute_result"
    }
   ],
   "source": [
    "[1, 2, 3] + [4, 5, 6]"
   ]
  },
  {
   "cell_type": "code",
   "execution_count": 55,
   "id": "6ccc7048",
   "metadata": {},
   "outputs": [
    {
     "data": {
      "text/plain": [
       "['Hi!', 'Hi!', 'Hi!', 'Hi!']"
      ]
     },
     "execution_count": 55,
     "metadata": {},
     "output_type": "execute_result"
    }
   ],
   "source": [
    "['Hi!'] * 4"
   ]
  },
  {
   "cell_type": "code",
   "execution_count": 57,
   "id": "e4eb8f2f",
   "metadata": {},
   "outputs": [
    {
     "name": "stdout",
     "output_type": "stream",
     "text": [
      "Python\n",
      "Java\n",
      "['Java', 'Python']\n"
     ]
    }
   ],
   "source": [
    "L = ['C++', 'Java', 'Python']\n",
    "print(L[2])\n",
    "print(L[-2] )\n",
    "print(L[1:])"
   ]
  },
  {
   "cell_type": "code",
   "execution_count": 58,
   "id": "75f43bc8",
   "metadata": {},
   "outputs": [
    {
     "name": "stdout",
     "output_type": "stream",
     "text": [
      "[1, 2, 3, 4, 7]\n"
     ]
    }
   ],
   "source": [
    "card= [1,2,3]\n",
    "card2 = [4,7]\n",
    "\n",
    "card.extend(card2)\n",
    "print(card)"
   ]
  },
  {
   "cell_type": "code",
   "execution_count": 59,
   "id": "b1dcb048",
   "metadata": {},
   "outputs": [
    {
     "name": "stdout",
     "output_type": "stream",
     "text": [
      "[1, 3, 10, 7, 9, 0, 5]\n"
     ]
    }
   ],
   "source": [
    "card3 = [1,3,7,9,0,5]\n",
    "card3.insert(2, 10)\n",
    "print(card3)\n",
    "\n"
   ]
  },
  {
   "cell_type": "code",
   "execution_count": 61,
   "id": "540eb055",
   "metadata": {},
   "outputs": [
    {
     "name": "stdout",
     "output_type": "stream",
     "text": [
      "[1, 3, [10, 5], 7, 9, 0, 5]\n"
     ]
    }
   ],
   "source": [
    "card4 = [1,3,7,9,0,5]\n",
    "card5 = [10,5]\n",
    "card4.insert(2, card5)\n",
    "print(card4)\n",
    "\n"
   ]
  },
  {
   "cell_type": "code",
   "execution_count": 66,
   "id": "508b356d",
   "metadata": {},
   "outputs": [
    {
     "name": "stdout",
     "output_type": "stream",
     "text": [
      "5\n"
     ]
    }
   ],
   "source": [
    "aaaas = [1, 2, 3, 4, 5] \n",
    "lengthaaaas = len(aaaas)\n",
    "print(lengthaaaas)"
   ]
  },
  {
   "cell_type": "code",
   "execution_count": 67,
   "id": "f764d5cd",
   "metadata": {},
   "outputs": [
    {
     "name": "stdout",
     "output_type": "stream",
     "text": [
      "[2, 3, 4, 9, 11]\n"
     ]
    }
   ],
   "source": [
    "aaaahs = [11,2,4,9,3]\n",
    "aaaahs.sort()\n",
    "print(aaaahs)"
   ]
  },
  {
   "cell_type": "code",
   "execution_count": 70,
   "id": "4eadd24d",
   "metadata": {},
   "outputs": [
    {
     "name": "stdout",
     "output_type": "stream",
     "text": [
      "[11, 9, 4, 3, 2]\n"
     ]
    }
   ],
   "source": [
    "aaaahs.reverse()\n",
    "print(aaaahs)"
   ]
  },
  {
   "cell_type": "code",
   "execution_count": 78,
   "id": "8ea9bfd5",
   "metadata": {},
   "outputs": [
    {
     "name": "stdout",
     "output_type": "stream",
     "text": [
      "[9, 5, 4, 3, 1, 1]\n"
     ]
    }
   ],
   "source": [
    "numbersj = [3, 1, 4, 1, 5, 9]\n",
    "numbersj.sort(reverse=True)\n",
    "print(numbersj) "
   ]
  },
  {
   "cell_type": "code",
   "execution_count": 80,
   "id": "0b8586a2",
   "metadata": {},
   "outputs": [
    {
     "name": "stdout",
     "output_type": "stream",
     "text": [
      "1\n"
     ]
    }
   ],
   "source": [
    "numbersjj = [3, 1, 4, 1, 5, 9]\n",
    "index = numbersjj.index(1)\n",
    "print(index)"
   ]
  },
  {
   "cell_type": "code",
   "execution_count": 82,
   "id": "f8bf3417",
   "metadata": {},
   "outputs": [
    {
     "name": "stdout",
     "output_type": "stream",
     "text": [
      "2\n"
     ]
    }
   ],
   "source": [
    "count = numbersjj.count(1)\n",
    "print(count)"
   ]
  },
  {
   "cell_type": "code",
   "execution_count": 83,
   "id": "02d5f505",
   "metadata": {},
   "outputs": [
    {
     "name": "stdout",
     "output_type": "stream",
     "text": [
      "['maths', 'biology', 'maths', 'biology']\n"
     ]
    }
   ],
   "source": [
    "ht =  ['maths', 'biology']\n",
    "ht = ht * 2\n",
    "print(ht)"
   ]
  },
  {
   "cell_type": "code",
   "execution_count": 85,
   "id": "4e0493c8",
   "metadata": {},
   "outputs": [
    {
     "name": "stdout",
     "output_type": "stream",
     "text": [
      "2000\n"
     ]
    }
   ],
   "source": [
    "hf =  ['physics', 'chemistry', 1997, 2000]\n",
    "del hf[2]\n",
    "print(hf[2])\n",
    "\n"
   ]
  },
  {
   "cell_type": "code",
   "execution_count": 91,
   "id": "1525ee6f",
   "metadata": {},
   "outputs": [
    {
     "name": "stdout",
     "output_type": "stream",
     "text": [
      "[1, 3, 4, 5, 1, 3, 4, 5]\n",
      "[1, 3, 4, 5, 1, 3, 4, 5, 'physics', 'chemistry', 2000]\n"
     ]
    }
   ],
   "source": [
    "hf2 = [1,3,4,5]*2\n",
    "print(hf2)\n",
    "print(hf2+hf)\n"
   ]
  },
  {
   "cell_type": "code",
   "execution_count": 88,
   "id": "b77b05b1",
   "metadata": {},
   "outputs": [
    {
     "name": "stdout",
     "output_type": "stream",
     "text": [
      "1\n"
     ]
    }
   ],
   "source": [
    "print(hf2[4])"
   ]
  },
  {
   "cell_type": "code",
   "execution_count": 92,
   "id": "dfd5492e",
   "metadata": {},
   "outputs": [
    {
     "name": "stdout",
     "output_type": "stream",
     "text": [
      "[3, 4, 5]\n",
      "[3, 4, 5]\n",
      "[1, 3, 4, 5, 1, 3, 4, 5]\n"
     ]
    }
   ],
   "source": [
    "hf3 = [1,3,4,5]\n",
    "print(hf3[-3:])\n",
    "print(hf3[1:])\n",
    "print(hf3+hf3)"
   ]
  },
  {
   "cell_type": "code",
   "execution_count": 95,
   "id": "3c57f5f0",
   "metadata": {},
   "outputs": [
    {
     "name": "stdout",
     "output_type": "stream",
     "text": [
      "[5, 2, 6]\n"
     ]
    }
   ],
   "source": [
    "hf4= [4,5,6,2,5,6,7,1,3,8]\n",
    "print(hf4[1:6:2])"
   ]
  },
  {
   "cell_type": "code",
   "execution_count": 97,
   "id": "ba785af2",
   "metadata": {},
   "outputs": [
    {
     "name": "stdout",
     "output_type": "stream",
     "text": [
      "[8]\n"
     ]
    }
   ],
   "source": [
    "print(hf4[-1:])"
   ]
  },
  {
   "cell_type": "code",
   "execution_count": 98,
   "id": "c60fc68f",
   "metadata": {},
   "outputs": [
    {
     "name": "stdout",
     "output_type": "stream",
     "text": [
      "[8, 7, 2, 4]\n"
     ]
    }
   ],
   "source": [
    "print(hf4[-1::-3])"
   ]
  },
  {
   "cell_type": "code",
   "execution_count": 104,
   "id": "b902f663",
   "metadata": {},
   "outputs": [
    {
     "name": "stdout",
     "output_type": "stream",
     "text": [
      "[1, 4, 7, 10]\n"
     ]
    }
   ],
   "source": [
    "hf5 = [1, 2, 3, 4, 5, 6, 7, 8, 9, 10, 11, 12]\n",
    "print(hf5[0::3])"
   ]
  },
  {
   "cell_type": "code",
   "execution_count": 106,
   "id": "58f23a76",
   "metadata": {},
   "outputs": [
    {
     "name": "stdout",
     "output_type": "stream",
     "text": [
      "[12, 9, 6, 3]\n"
     ]
    }
   ],
   "source": [
    "print(hf5[-1::-3])"
   ]
  },
  {
   "cell_type": "code",
   "execution_count": 107,
   "id": "631669ee",
   "metadata": {},
   "outputs": [
    {
     "name": "stdout",
     "output_type": "stream",
     "text": [
      "[12]\n"
     ]
    }
   ],
   "source": [
    "print(hf5[-1::3])"
   ]
  },
  {
   "cell_type": "code",
   "execution_count": 109,
   "id": "11f46772",
   "metadata": {},
   "outputs": [
    {
     "name": "stdout",
     "output_type": "stream",
     "text": [
      "[2]\n"
     ]
    }
   ],
   "source": [
    "print(hf5[1::-3])"
   ]
  },
  {
   "cell_type": "code",
   "execution_count": 110,
   "id": "bfd54cfb",
   "metadata": {},
   "outputs": [
    {
     "name": "stdout",
     "output_type": "stream",
     "text": [
      "[12]\n"
     ]
    }
   ],
   "source": [
    "print(hf5[-1:])"
   ]
  },
  {
   "cell_type": "code",
   "execution_count": 111,
   "id": "9c70dc8a",
   "metadata": {},
   "outputs": [
    {
     "name": "stdout",
     "output_type": "stream",
     "text": [
      "[12]\n"
     ]
    }
   ],
   "source": [
    "print(hf5[-1::3])"
   ]
  },
  {
   "cell_type": "code",
   "execution_count": 112,
   "id": "d0a6d039",
   "metadata": {},
   "outputs": [
    {
     "name": "stdout",
     "output_type": "stream",
     "text": [
      "[2, 5, 8, 11]\n"
     ]
    }
   ],
   "source": [
    "print(hf5[1::3])"
   ]
  },
  {
   "cell_type": "code",
   "execution_count": 113,
   "id": "d4666df9",
   "metadata": {},
   "outputs": [
    {
     "name": "stdout",
     "output_type": "stream",
     "text": [
      "[12, 9, 6, 3]\n"
     ]
    }
   ],
   "source": [
    "print(hf5[-1::-3])"
   ]
  },
  {
   "cell_type": "code",
   "execution_count": 114,
   "id": "41a6f9e9",
   "metadata": {},
   "outputs": [
    {
     "name": "stdout",
     "output_type": "stream",
     "text": [
      "[0, 4, 8, 7, 6, 5, 4]\n"
     ]
    }
   ],
   "source": [
    "hf6 = [4, 5, 6, 7, 8, 4, 0]\n",
    "print(hf6[::-1])"
   ]
  },
  {
   "cell_type": "code",
   "execution_count": 116,
   "id": "dfdfaa25",
   "metadata": {},
   "outputs": [
    {
     "name": "stdout",
     "output_type": "stream",
     "text": [
      "<class 'bool'>\n"
     ]
    }
   ],
   "source": [
    "xd= False\n",
    "print(type(xd))"
   ]
  },
  {
   "cell_type": "code",
   "execution_count": 140,
   "id": "ca89eee9",
   "metadata": {},
   "outputs": [
    {
     "name": "stdout",
     "output_type": "stream",
     "text": [
      "e\n",
      "llo\n",
      "llo World!\n"
     ]
    }
   ],
   "source": [
    "my_stringXD = 'Hello World!'\n",
    "print(my_stringXD[1])\n",
    "print (my_stringXD[2:5])\n",
    "print (my_stringXD[2:])\n"
   ]
  },
  {
   "cell_type": "code",
   "execution_count": 129,
   "id": "1aa67ccb",
   "metadata": {},
   "outputs": [
    {
     "name": "stdout",
     "output_type": "stream",
     "text": [
      "5\n"
     ]
    }
   ],
   "source": [
    "my_stringXfD = 'Hi ya'\n",
    "print(len(my_stringXfD))"
   ]
  },
  {
   "cell_type": "code",
   "execution_count": 134,
   "id": "11c5f84b",
   "metadata": {},
   "outputs": [
    {
     "name": "stdout",
     "output_type": "stream",
     "text": [
      "llo \n"
     ]
    }
   ],
   "source": [
    "my_stringXD = 'Hello World!'\n",
    "slicedmy_stringXD = my_stringXD[2:6]\n",
    "print(slicedmy_stringXD)\n"
   ]
  },
  {
   "cell_type": "code",
   "execution_count": 135,
   "id": "be27f60f",
   "metadata": {},
   "outputs": [
    {
     "name": "stdout",
     "output_type": "stream",
     "text": [
      "4\n"
     ]
    }
   ],
   "source": [
    "print(len(slicedmy_stringXD))"
   ]
  },
  {
   "cell_type": "code",
   "execution_count": 141,
   "id": "66f3ff4a",
   "metadata": {},
   "outputs": [
    {
     "ename": "NameError",
     "evalue": "name 'e' is not defined",
     "output_type": "error",
     "traceback": [
      "\u001b[0;31m---------------------------------------------------------------------------\u001b[0m",
      "\u001b[0;31mNameError\u001b[0m                                 Traceback (most recent call last)",
      "Cell \u001b[0;32mIn[141], line 2\u001b[0m\n\u001b[1;32m      1\u001b[0m age \u001b[38;5;241m=\u001b[39m \u001b[38;5;241m23\u001b[39m\n\u001b[0;32m----> 2\u001b[0m \u001b[38;5;28mprint\u001b[39m(ag\u001b[38;5;241m%\u001b[39me)\n",
      "\u001b[0;31mNameError\u001b[0m: name 'e' is not defined"
     ]
    }
   ],
   "source": [
    "age = 23\n",
    "print(ag%e)"
   ]
  },
  {
   "cell_type": "code",
   "execution_count": 145,
   "id": "56ae310d",
   "metadata": {},
   "outputs": [
    {
     "name": "stdout",
     "output_type": "stream",
     "text": [
      "23\n"
     ]
    }
   ],
   "source": [
    "_try = 23\n",
    "print(_try)\n",
    "#try is a keyword but not _try"
   ]
  },
  {
   "cell_type": "code",
   "execution_count": 168,
   "id": "5482f06a",
   "metadata": {},
   "outputs": [
    {
     "name": "stdout",
     "output_type": "stream",
     "text": [
      "\n"
     ]
    }
   ],
   "source": [
    "my_stringtry = \"Hello, World!\"\n",
    "substringtry = my_stringtry[-1:6:2]\n",
    "print(substringtry)"
   ]
  },
  {
   "cell_type": "code",
   "execution_count": 154,
   "id": "d6585078",
   "metadata": {},
   "outputs": [
    {
     "name": "stdout",
     "output_type": "stream",
     "text": [
      "3\n"
     ]
    }
   ],
   "source": [
    "print(len(substringtry))"
   ]
  },
  {
   "cell_type": "code",
   "execution_count": 11,
   "id": "1b3ff3f7",
   "metadata": {},
   "outputs": [
    {
     "name": "stdout",
     "output_type": "stream",
     "text": [
      "3\n",
      "[1, 2, [2, 3, 4], 3, 10]\n"
     ]
    }
   ],
   "source": [
    "vc= [1,2,3,10]\n",
    "print(vc.index(10))\n",
    "cv= 10\n",
    "vcc = [2,3,4]\n",
    "\n",
    "vc.insert(2, vcc)\n",
    "print (vc)\n"
   ]
  },
  {
   "cell_type": "code",
   "execution_count": 10,
   "id": "c60c832c",
   "metadata": {},
   "outputs": [
    {
     "data": {
      "text/plain": [
       "4"
      ]
     },
     "execution_count": 10,
     "metadata": {},
     "output_type": "execute_result"
    }
   ],
   "source": [
    "vc.index(10) #now 4 and not 3"
   ]
  },
  {
   "cell_type": "code",
   "execution_count": 12,
   "id": "b484dd51",
   "metadata": {},
   "outputs": [
    {
     "name": "stdout",
     "output_type": "stream",
     "text": [
      "[3, 4, 5]\n"
     ]
    }
   ],
   "source": [
    "vc = [1,3,4,5]*2\n",
    "print(vc[-3:])"
   ]
  },
  {
   "cell_type": "code",
   "execution_count": 13,
   "id": "2f28ba68",
   "metadata": {},
   "outputs": [
    {
     "name": "stdout",
     "output_type": "stream",
     "text": [
      "[1, 3, 4, 5, 1, 3, 4, 5]\n"
     ]
    }
   ],
   "source": [
    "print(vc)"
   ]
  },
  {
   "cell_type": "code",
   "execution_count": 14,
   "id": "3916dc4c",
   "metadata": {},
   "outputs": [
    {
     "data": {
      "text/plain": [
       "[5]"
      ]
     },
     "execution_count": 14,
     "metadata": {},
     "output_type": "execute_result"
    }
   ],
   "source": [
    "vc[-1:]"
   ]
  },
  {
   "cell_type": "code",
   "execution_count": 15,
   "id": "cb289cf9",
   "metadata": {},
   "outputs": [
    {
     "data": {
      "text/plain": [
       "[5]"
      ]
     },
     "execution_count": 15,
     "metadata": {},
     "output_type": "execute_result"
    }
   ],
   "source": [
    "vc[-1::3]"
   ]
  },
  {
   "cell_type": "code",
   "execution_count": 18,
   "id": "663466c3",
   "metadata": {},
   "outputs": [
    {
     "ename": "AttributeError",
     "evalue": "'list' object has no attribute 'rfind'",
     "output_type": "error",
     "traceback": [
      "\u001b[0;31m---------------------------------------------------------------------------\u001b[0m",
      "\u001b[0;31mAttributeError\u001b[0m                            Traceback (most recent call last)",
      "Cell \u001b[0;32mIn[18], line 1\u001b[0m\n\u001b[0;32m----> 1\u001b[0m vc\u001b[38;5;241m.\u001b[39mrfind(\u001b[38;5;241m4\u001b[39m)\n",
      "\u001b[0;31mAttributeError\u001b[0m: 'list' object has no attribute 'rfind'"
     ]
    }
   ],
   "source": [
    "vc.rfind(4)"
   ]
  },
  {
   "cell_type": "code",
   "execution_count": 20,
   "id": "a83f28a5",
   "metadata": {},
   "outputs": [
    {
     "name": "stdout",
     "output_type": "stream",
     "text": [
      "24\n"
     ]
    }
   ],
   "source": [
    "str1 = \"Welcome to tutorialspoint\"\n",
    "\n",
    "index = str1.rindex('t')\n",
    "print(index)"
   ]
  },
  {
   "cell_type": "code",
   "execution_count": 25,
   "id": "ad9f1725",
   "metadata": {},
   "outputs": [
    {
     "name": "stdout",
     "output_type": "stream",
     "text": [
      "24\n"
     ]
    }
   ],
   "source": [
    "\n",
    "str1 = \"Welcome to tutorialspoint\"\n",
    "\n",
    "index = len(str1) - 1 - str1[::-1].index('t')\n",
    "print(index)"
   ]
  },
  {
   "cell_type": "code",
   "execution_count": 28,
   "id": "bae26fd6",
   "metadata": {},
   "outputs": [
    {
     "name": "stdout",
     "output_type": "stream",
     "text": [
      "!dlroW\n",
      "!dlro\n"
     ]
    }
   ],
   "source": [
    "ggggg= \"Hello, World!\"\n",
    "print(ggggg[-1:6:-1])\n",
    "print(ggggg[-1:-6:-1])"
   ]
  },
  {
   "cell_type": "markdown",
   "id": "2a509ab8",
   "metadata": {},
   "source": [
    "# NOTE!!!!"
   ]
  },
  {
   "cell_type": "code",
   "execution_count": 54,
   "id": "6d6b6d66",
   "metadata": {},
   "outputs": [
    {
     "name": "stdout",
     "output_type": "stream",
     "text": [
      "!ygo\n",
      "!ygol\n",
      "\n",
      "\n",
      "!\n",
      "!\n",
      "!\n",
      "\n",
      "!ygolohcirT\n",
      "\n",
      "!ygolohci\n",
      "\n"
     ]
    }
   ],
   "source": [
    "hhhhh= \"Trichology!\"\n",
    "print(hhhhh[-1:6:-1])\n",
    "print(hhhhh[-1:-6:-1])\n",
    "print(hhhhh[-1:-6]) #EMPTY\n",
    "print(hhhhh[-1:6]) #EMPTY\n",
    "print(hhhhh[-1:]) #!\n",
    "print(hhhhh[-1::]) #!\n",
    "print(hhhhh[-1::1]) #!\n",
    "print(hhhhh[-1:-1]) #EMPTY\n",
    "print(hhhhh[-1::-1]) #REVERESE\n",
    "print(hhhhh[-1:-1:-1]) #REVERESE\n",
    "print(hhhhh[-1:1:-1]) #REVERSE W/O STOPPING AT 1 EXCLUDING 1\n",
    "print(hhhhh[-1:1:1]) #REVERSE W/O STOPPING AT 1 EXCLUDING 1\n"
   ]
  },
  {
   "cell_type": "code",
   "execution_count": 47,
   "id": "46aa2118",
   "metadata": {},
   "outputs": [
    {
     "name": "stdout",
     "output_type": "stream",
     "text": [
      "\n"
     ]
    }
   ],
   "source": [
    "print(hhhhh[-1:1:1]) #REVERSE W/O STOPPING AT 1 EXCLUDING 1"
   ]
  },
  {
   "cell_type": "code",
   "execution_count": 57,
   "id": "50457216",
   "metadata": {},
   "outputs": [
    {
     "name": "stdout",
     "output_type": "stream",
     "text": [
      "richology!\n",
      "!\n"
     ]
    },
    {
     "ename": "IndexError",
     "evalue": "string index out of range",
     "output_type": "error",
     "traceback": [
      "\u001b[0;31m---------------------------------------------------------------------------\u001b[0m",
      "\u001b[0;31mIndexError\u001b[0m                                Traceback (most recent call last)",
      "Cell \u001b[0;32mIn[57], line 3\u001b[0m\n\u001b[1;32m      1\u001b[0m \u001b[38;5;28mprint\u001b[39m(hhhhh[\u001b[38;5;241m1\u001b[39m:\u001b[38;5;241m90\u001b[39m])\n\u001b[1;32m      2\u001b[0m \u001b[38;5;28mprint\u001b[39m(hhhhh[\u001b[38;5;241m10\u001b[39m:\u001b[38;5;241m90\u001b[39m])\n\u001b[0;32m----> 3\u001b[0m \u001b[38;5;28mprint\u001b[39m(hhhhh[\u001b[38;5;241m90\u001b[39m])\n",
      "\u001b[0;31mIndexError\u001b[0m: string index out of range"
     ]
    }
   ],
   "source": [
    "print(hhhhh[1:90])\n",
    "print(hhhhh[10:90])\n",
    "print(hhhhh[90])"
   ]
  },
  {
   "cell_type": "code",
   "execution_count": 50,
   "id": "eedeccc7",
   "metadata": {},
   "outputs": [],
   "source": [
    "e = [1, 'hi', \"hey\"]"
   ]
  },
  {
   "cell_type": "code",
   "execution_count": 51,
   "id": "b72a415b",
   "metadata": {},
   "outputs": [
    {
     "name": "stdout",
     "output_type": "stream",
     "text": [
      "[1, 'hi', 'hey']\n"
     ]
    }
   ],
   "source": [
    "print(e)"
   ]
  },
  {
   "cell_type": "code",
   "execution_count": 52,
   "id": "c1bb7eb7",
   "metadata": {},
   "outputs": [
    {
     "name": "stdout",
     "output_type": "stream",
     "text": [
      "[3, 4]\n"
     ]
    }
   ],
   "source": [
    "f = [1,2,3,4]\n",
    "print(f[2:9])"
   ]
  },
  {
   "cell_type": "code",
   "execution_count": 60,
   "id": "1b0b41a4",
   "metadata": {},
   "outputs": [
    {
     "ename": "TypeError",
     "evalue": "'tuple' object does not support item assignment",
     "output_type": "error",
     "traceback": [
      "\u001b[0;31m---------------------------------------------------------------------------\u001b[0m",
      "\u001b[0;31mTypeError\u001b[0m                                 Traceback (most recent call last)",
      "Cell \u001b[0;32mIn[60], line 2\u001b[0m\n\u001b[1;32m      1\u001b[0m x \u001b[38;5;241m=\u001b[39m (\u001b[38;5;241m1\u001b[39m,\u001b[38;5;241m2\u001b[39m,\u001b[38;5;241m3\u001b[39m,\u001b[38;5;241m4\u001b[39m)\n\u001b[0;32m----> 2\u001b[0m x[\u001b[38;5;241m3\u001b[39m]\u001b[38;5;241m=\u001b[39m \u001b[38;5;241m9\u001b[39m\n\u001b[1;32m      3\u001b[0m \u001b[38;5;28mprint\u001b[39m(x)\n",
      "\u001b[0;31mTypeError\u001b[0m: 'tuple' object does not support item assignment"
     ]
    }
   ],
   "source": [
    "x = (1,2,3,4)\n",
    "x[3]= 9\n",
    "print(x)"
   ]
  },
  {
   "cell_type": "code",
   "execution_count": 66,
   "id": "c6e370ae",
   "metadata": {},
   "outputs": [
    {
     "ename": "TypeError",
     "evalue": "can only concatenate str (not \"tuple\") to str",
     "output_type": "error",
     "traceback": [
      "\u001b[0;31m---------------------------------------------------------------------------\u001b[0m",
      "\u001b[0;31mTypeError\u001b[0m                                 Traceback (most recent call last)",
      "Cell \u001b[0;32mIn[66], line 3\u001b[0m\n\u001b[1;32m      1\u001b[0m x \u001b[38;5;241m=\u001b[39m (\u001b[38;5;241m1\u001b[39m,\u001b[38;5;241m2\u001b[39m,\u001b[38;5;241m3\u001b[39m,\u001b[38;5;241m4\u001b[39m)\n\u001b[1;32m      2\u001b[0m y \u001b[38;5;241m=\u001b[39m (\u001b[38;5;124m\"\u001b[39m\u001b[38;5;124m9\u001b[39m\u001b[38;5;124m\"\u001b[39m)\n\u001b[0;32m----> 3\u001b[0m d \u001b[38;5;241m=\u001b[39m y\u001b[38;5;241m+\u001b[39mx\n\u001b[1;32m      4\u001b[0m \u001b[38;5;28mprint\u001b[39m(d)\n",
      "\u001b[0;31mTypeError\u001b[0m: can only concatenate str (not \"tuple\") to str"
     ]
    }
   ],
   "source": [
    "x = (1,2,3,4)\n",
    "y = (9)\n",
    "d = y+x\n",
    "print(d)"
   ]
  },
  {
   "cell_type": "code",
   "execution_count": 67,
   "id": "d8aea1d1",
   "metadata": {},
   "outputs": [
    {
     "name": "stdout",
     "output_type": "stream",
     "text": [
      "(12, 34.56, 'abc', 'xyz')\n"
     ]
    }
   ],
   "source": [
    "tup1 = (12, 34.56)\n",
    "tup2 = ('abc', 'xyz')\n",
    "tup3 = tup1 + tup2\n",
    "print (tup3)"
   ]
  },
  {
   "cell_type": "code",
   "execution_count": 70,
   "id": "8e972e04",
   "metadata": {},
   "outputs": [
    {
     "ename": "TypeError",
     "evalue": "can only concatenate tuple (not \"str\") to tuple",
     "output_type": "error",
     "traceback": [
      "\u001b[0;31m---------------------------------------------------------------------------\u001b[0m",
      "\u001b[0;31mTypeError\u001b[0m                                 Traceback (most recent call last)",
      "Cell \u001b[0;32mIn[70], line 3\u001b[0m\n\u001b[1;32m      1\u001b[0m x \u001b[38;5;241m=\u001b[39m (\u001b[38;5;241m1\u001b[39m,\u001b[38;5;241m2\u001b[39m,\u001b[38;5;241m3\u001b[39m,\u001b[38;5;241m4\u001b[39m)\n\u001b[1;32m      2\u001b[0m y \u001b[38;5;241m=\u001b[39m (\u001b[38;5;124m'\u001b[39m\u001b[38;5;124mdd\u001b[39m\u001b[38;5;124m'\u001b[39m)\n\u001b[0;32m----> 3\u001b[0m z \u001b[38;5;241m=\u001b[39m x \u001b[38;5;241m+\u001b[39m y\n\u001b[1;32m      4\u001b[0m \u001b[38;5;28mprint\u001b[39m(z)\n",
      "\u001b[0;31mTypeError\u001b[0m: can only concatenate tuple (not \"str\") to tuple"
     ]
    }
   ],
   "source": [
    "x = (1,2,3,4)\n",
    "y = ('dd')\n",
    "z = x + y\n",
    "print(z)"
   ]
  },
  {
   "cell_type": "code",
   "execution_count": 71,
   "id": "b7abc38a",
   "metadata": {},
   "outputs": [
    {
     "name": "stdout",
     "output_type": "stream",
     "text": [
      "(1, 2, 3, 4, 'dd', 'll')\n"
     ]
    }
   ],
   "source": [
    "x = (1,2,3,4)\n",
    "y = ('dd', 'll')\n",
    "z = x + y\n",
    "print(z)"
   ]
  },
  {
   "cell_type": "code",
   "execution_count": 72,
   "id": "bb38ceb5",
   "metadata": {},
   "outputs": [
    {
     "name": "stdout",
     "output_type": "stream",
     "text": [
      "(9, 5, 1, 2, 3, 4)\n"
     ]
    }
   ],
   "source": [
    "x = (1,2,3,4)\n",
    "y = (9,5)\n",
    "d = y+x\n",
    "print(d)"
   ]
  },
  {
   "cell_type": "code",
   "execution_count": 74,
   "id": "8caad2a1",
   "metadata": {},
   "outputs": [
    {
     "name": "stdout",
     "output_type": "stream",
     "text": [
      "[1, 2, 3, 4, 9]\n"
     ]
    }
   ],
   "source": [
    "x = [1,2,3,4]\n",
    "y = [9]\n",
    "d = x+y\n",
    "print(d)"
   ]
  },
  {
   "cell_type": "code",
   "execution_count": 75,
   "id": "d10e2aff",
   "metadata": {},
   "outputs": [
    {
     "name": "stdout",
     "output_type": "stream",
     "text": [
      "(1, 2, 3, 4, 'dd')\n"
     ]
    }
   ],
   "source": [
    "x = (1,2,3,4)\n",
    "y = ('dd',)\n",
    "z = x + y\n",
    "print(z)"
   ]
  },
  {
   "cell_type": "code",
   "execution_count": 77,
   "id": "b58b6ed1",
   "metadata": {},
   "outputs": [
    {
     "name": "stdout",
     "output_type": "stream",
     "text": [
      "(1, 2, 3, 4, 9)\n"
     ]
    }
   ],
   "source": [
    "x = (1,2,3,4)\n",
    "y = (9,)\n",
    "d = x+y\n",
    "print(d)"
   ]
  },
  {
   "cell_type": "code",
   "execution_count": 81,
   "id": "b1f2429d",
   "metadata": {},
   "outputs": [
    {
     "ename": "SyntaxError",
     "evalue": "invalid syntax (3495437385.py, line 4)",
     "output_type": "error",
     "traceback": [
      "\u001b[0;36m  Cell \u001b[0;32mIn[81], line 4\u001b[0;36m\u001b[0m\n\u001b[0;31m    listx.del(3)\u001b[0m\n\u001b[0m          ^\u001b[0m\n\u001b[0;31mSyntaxError\u001b[0m\u001b[0;31m:\u001b[0m invalid syntax\n"
     ]
    }
   ],
   "source": [
    "x = (1,2,3,4)\n",
    "\n",
    "listx = list(x)\n",
    "listx.del(3)\n",
    "print(listx)"
   ]
  },
  {
   "cell_type": "code",
   "execution_count": 82,
   "id": "e5de80b7",
   "metadata": {},
   "outputs": [
    {
     "name": "stdout",
     "output_type": "stream",
     "text": [
      "[1, 2, 4]\n"
     ]
    }
   ],
   "source": [
    "x = (1,2,3,4)\n",
    "\n",
    "listx = list(x)\n",
    "listx.remove(3)\n",
    "print(listx)"
   ]
  },
  {
   "cell_type": "code",
   "execution_count": 88,
   "id": "74183c09",
   "metadata": {},
   "outputs": [
    {
     "name": "stdout",
     "output_type": "stream",
     "text": [
      "[1, 2, 3]\n"
     ]
    }
   ],
   "source": [
    "x = (1,2,3,11)\n",
    "\n",
    "listx = list(x)\n",
    "listx.remove(11)\n",
    "x = listx\n",
    "\n",
    "print(x)"
   ]
  },
  {
   "cell_type": "code",
   "execution_count": 90,
   "id": "74833ebb",
   "metadata": {},
   "outputs": [
    {
     "name": "stdout",
     "output_type": "stream",
     "text": [
      "<class 'list'>\n"
     ]
    }
   ],
   "source": [
    "print (type(x))"
   ]
  },
  {
   "cell_type": "code",
   "execution_count": 91,
   "id": "f6373e24",
   "metadata": {},
   "outputs": [
    {
     "name": "stdout",
     "output_type": "stream",
     "text": [
      "(1, 2, 3)\n"
     ]
    }
   ],
   "source": [
    "x = tuple(listx)\n",
    "print(x)"
   ]
  },
  {
   "cell_type": "code",
   "execution_count": 93,
   "id": "2a1a993b",
   "metadata": {},
   "outputs": [
    {
     "name": "stdout",
     "output_type": "stream",
     "text": [
      "(1, 2, 3, 4, 5, 6)\n",
      "('Hi!', 'Hi!', 'Hi!', 'Hi!')\n"
     ]
    }
   ],
   "source": [
    "s = (1, 2, 3) + (4, 5, 6) \n",
    "j = ('Hi!',) * 4\n",
    "\n",
    "print(s)\n",
    "print(j)\n"
   ]
  },
  {
   "cell_type": "code",
   "execution_count": 96,
   "id": "39bacf05",
   "metadata": {},
   "outputs": [
    {
     "name": "stdout",
     "output_type": "stream",
     "text": [
      "[1, 2, 3, 4, 5, 6]\n",
      "['Hi!', 'Hi!', 'Hi!', 'Hi!']\n"
     ]
    }
   ],
   "source": [
    "s = [1, 2, 3] + [4, 5, 6]\n",
    "j = ['Hi!',] * 4\n",
    "\n",
    "print(s)\n",
    "print(j)\n"
   ]
  },
  {
   "cell_type": "code",
   "execution_count": 101,
   "id": "fc3a471a",
   "metadata": {},
   "outputs": [
    {
     "name": "stdout",
     "output_type": "stream",
     "text": [
      "Python\n",
      "Java\n",
      "('Java', 'Python')\n",
      "('C++', 'Java', 'Python')\n"
     ]
    }
   ],
   "source": [
    "T=('C++', 'Java', 'Python')\n",
    "print(T[2]) \n",
    "print(T[-2]) \n",
    "print(T[1:])\n",
    "print(T[-3:])"
   ]
  },
  {
   "cell_type": "code",
   "execution_count": 106,
   "id": "39d18210",
   "metadata": {},
   "outputs": [
    {
     "name": "stdout",
     "output_type": "stream",
     "text": [
      "{'name': 'esther', 'age': 24, 'class': 'first'}\n"
     ]
    }
   ],
   "source": [
    "dict = {\"name\":\"esther\", \"age\":24, \"class\":\"first\"}\n",
    "print(dict)"
   ]
  },
  {
   "cell_type": "code",
   "execution_count": 107,
   "id": "f669a806",
   "metadata": {},
   "outputs": [
    {
     "ename": "NameError",
     "evalue": "name 'age' is not defined",
     "output_type": "error",
     "traceback": [
      "\u001b[0;31m---------------------------------------------------------------------------\u001b[0m",
      "\u001b[0;31mNameError\u001b[0m                                 Traceback (most recent call last)",
      "Cell \u001b[0;32mIn[107], line 1\u001b[0m\n\u001b[0;32m----> 1\u001b[0m \u001b[38;5;28mprint\u001b[39m(\u001b[38;5;28mdict\u001b[39m[age])\n",
      "\u001b[0;31mNameError\u001b[0m: name 'age' is not defined"
     ]
    }
   ],
   "source": [
    "print(dict[age])"
   ]
  },
  {
   "cell_type": "code",
   "execution_count": 108,
   "id": "cb256a31",
   "metadata": {},
   "outputs": [
    {
     "name": "stdout",
     "output_type": "stream",
     "text": [
      "24\n"
     ]
    }
   ],
   "source": [
    "print(dict[\"age\"])"
   ]
  },
  {
   "cell_type": "code",
   "execution_count": 109,
   "id": "00783d37",
   "metadata": {},
   "outputs": [
    {
     "name": "stdout",
     "output_type": "stream",
     "text": [
      "{'name': 'esther', 'age': 24, 'class': 'first', 'school': 'FA'}\n"
     ]
    }
   ],
   "source": [
    "#Updating it\n",
    "dict[\"school\"]= \"FA\"\n",
    "print(dict)"
   ]
  },
  {
   "cell_type": "code",
   "execution_count": 111,
   "id": "55e3c4f7",
   "metadata": {},
   "outputs": [
    {
     "name": "stdout",
     "output_type": "stream",
     "text": [
      "{'name': 'esther', 'age': 14, 'class': 'first', 'school': 'FA'}\n"
     ]
    }
   ],
   "source": [
    "dict[\"age\"]=14\n",
    "print(dict)"
   ]
  },
  {
   "cell_type": "code",
   "execution_count": 114,
   "id": "ead99c70",
   "metadata": {},
   "outputs": [
    {
     "name": "stdout",
     "output_type": "stream",
     "text": [
      "['maths', 'biology', 'maths', 'biology']\n"
     ]
    }
   ],
   "source": [
    "list2 = ['maths', 'biology']\n",
    "list2 = list2 * 2\n",
    "print(list2)"
   ]
  },
  {
   "cell_type": "code",
   "execution_count": 116,
   "id": "7f0486a8",
   "metadata": {},
   "outputs": [
    {
     "name": "stdout",
     "output_type": "stream",
     "text": [
      "45\n"
     ]
    }
   ],
   "source": [
    "tup1 = (12, 34.56,45)\n",
    "#tup1[0] = 13\n",
    "print(tup1[-1])"
   ]
  },
  {
   "cell_type": "markdown",
   "id": "06293dc9",
   "metadata": {},
   "source": [
    "## TESTING CLASS WORK LECTURE 6"
   ]
  },
  {
   "cell_type": "code",
   "execution_count": 117,
   "id": "fdf405ae",
   "metadata": {},
   "outputs": [
    {
     "ename": "IndexError",
     "evalue": "list assignment index out of range",
     "output_type": "error",
     "traceback": [
      "\u001b[0;31m---------------------------------------------------------------------------\u001b[0m",
      "\u001b[0;31mIndexError\u001b[0m                                Traceback (most recent call last)",
      "Cell \u001b[0;32mIn[117], line 2\u001b[0m\n\u001b[1;32m      1\u001b[0m a \u001b[38;5;241m=\u001b[39m [\u001b[38;5;124m'\u001b[39m\u001b[38;5;124mphysics\u001b[39m\u001b[38;5;124m'\u001b[39m, \u001b[38;5;124m'\u001b[39m\u001b[38;5;124mchemistry\u001b[39m\u001b[38;5;124m'\u001b[39m, \u001b[38;5;241m1997\u001b[39m, \u001b[38;5;241m2000\u001b[39m]\n\u001b[0;32m----> 2\u001b[0m a[\u001b[38;5;241m9\u001b[39m] \u001b[38;5;241m=\u001b[39m \u001b[38;5;241m8\u001b[39m\n\u001b[1;32m      3\u001b[0m \u001b[38;5;28mprint\u001b[39m(a)\n",
      "\u001b[0;31mIndexError\u001b[0m: list assignment index out of range"
     ]
    }
   ],
   "source": [
    "a = ['physics', 'chemistry', 1997, 2000]\n",
    "a[9] = 8\n",
    "print(a)"
   ]
  },
  {
   "cell_type": "code",
   "execution_count": 118,
   "id": "5a15c918",
   "metadata": {},
   "outputs": [
    {
     "ename": "IndexError",
     "evalue": "list assignment index out of range",
     "output_type": "error",
     "traceback": [
      "\u001b[0;31m---------------------------------------------------------------------------\u001b[0m",
      "\u001b[0;31mIndexError\u001b[0m                                Traceback (most recent call last)",
      "Cell \u001b[0;32mIn[118], line 2\u001b[0m\n\u001b[1;32m      1\u001b[0m a \u001b[38;5;241m=\u001b[39m [\u001b[38;5;124m'\u001b[39m\u001b[38;5;124mphysics\u001b[39m\u001b[38;5;124m'\u001b[39m, \u001b[38;5;124m'\u001b[39m\u001b[38;5;124mchemistry\u001b[39m\u001b[38;5;124m'\u001b[39m, \u001b[38;5;241m1997\u001b[39m, \u001b[38;5;241m2000\u001b[39m]\n\u001b[0;32m----> 2\u001b[0m \u001b[38;5;28;01mdel\u001b[39;00m a[\u001b[38;5;241m4\u001b[39m]\n\u001b[1;32m      3\u001b[0m \u001b[38;5;28mprint\u001b[39m(a)\n",
      "\u001b[0;31mIndexError\u001b[0m: list assignment index out of range"
     ]
    }
   ],
   "source": [
    "a = ['physics', 'chemistry', 1997, 2000]\n",
    "del a[4]\n",
    "print(a)"
   ]
  },
  {
   "cell_type": "code",
   "execution_count": 119,
   "id": "bbdf7c40",
   "metadata": {},
   "outputs": [
    {
     "name": "stdout",
     "output_type": "stream",
     "text": [
      "['maths', 'biology', 'maths', 'biology']\n"
     ]
    }
   ],
   "source": [
    "list2 = ['maths', 'biology']\n",
    "list2 = list2 *2\n",
    "print (list2)"
   ]
  },
  {
   "cell_type": "code",
   "execution_count": 120,
   "id": "74d8a782",
   "metadata": {},
   "outputs": [
    {
     "name": "stdout",
     "output_type": "stream",
     "text": [
      "['chemistry', 1997, 2000]\n"
     ]
    }
   ],
   "source": [
    "list = ['physics', 'chemistry', 1997, 2000]\n",
    "print(list[-3:])"
   ]
  },
  {
   "cell_type": "code",
   "execution_count": 121,
   "id": "381c7ff3",
   "metadata": {},
   "outputs": [
    {
     "ename": "TypeError",
     "evalue": "'tuple' object does not support item assignment",
     "output_type": "error",
     "traceback": [
      "\u001b[0;31m---------------------------------------------------------------------------\u001b[0m",
      "\u001b[0;31mTypeError\u001b[0m                                 Traceback (most recent call last)",
      "Cell \u001b[0;32mIn[121], line 2\u001b[0m\n\u001b[1;32m      1\u001b[0m tup1 \u001b[38;5;241m=\u001b[39m (\u001b[38;5;241m12\u001b[39m, \u001b[38;5;241m34.56\u001b[39m,\u001b[38;5;241m45\u001b[39m)\n\u001b[0;32m----> 2\u001b[0m tup1[\u001b[38;5;241m0\u001b[39m] \u001b[38;5;241m=\u001b[39m \u001b[38;5;241m13\u001b[39m\n\u001b[1;32m      3\u001b[0m \u001b[38;5;28mprint\u001b[39m(tup1[\u001b[38;5;241m-\u001b[39m\u001b[38;5;241m1\u001b[39m])\n",
      "\u001b[0;31mTypeError\u001b[0m: 'tuple' object does not support item assignment"
     ]
    }
   ],
   "source": [
    "tup1 = (12, 34.56,45)\n",
    "tup1[0] = 13\n",
    "print(tup1[-1])"
   ]
  },
  {
   "cell_type": "code",
   "execution_count": 124,
   "id": "467df0b9",
   "metadata": {},
   "outputs": [
    {
     "name": "stdout",
     "output_type": "stream",
     "text": [
      "kaz\n"
     ]
    }
   ],
   "source": [
    "k = {\"name\":\"kaz\",\"age\":12}\n",
    "print(k['name'])\n"
   ]
  },
  {
   "cell_type": "code",
   "execution_count": 125,
   "id": "a15b37e8",
   "metadata": {},
   "outputs": [
    {
     "ename": "KeyError",
     "evalue": "'seX'",
     "output_type": "error",
     "traceback": [
      "\u001b[0;31m---------------------------------------------------------------------------\u001b[0m",
      "\u001b[0;31mKeyError\u001b[0m                                  Traceback (most recent call last)",
      "Cell \u001b[0;32mIn[125], line 2\u001b[0m\n\u001b[1;32m      1\u001b[0m k[\u001b[38;5;124m'\u001b[39m\u001b[38;5;124msex\u001b[39m\u001b[38;5;124m'\u001b[39m] \u001b[38;5;241m=\u001b[39m \u001b[38;5;124m'\u001b[39m\u001b[38;5;124mM\u001b[39m\u001b[38;5;124m'\u001b[39m\n\u001b[0;32m----> 2\u001b[0m \u001b[38;5;28mprint\u001b[39m(k[\u001b[38;5;124m'\u001b[39m\u001b[38;5;124mseX\u001b[39m\u001b[38;5;124m'\u001b[39m])\n",
      "\u001b[0;31mKeyError\u001b[0m: 'seX'"
     ]
    }
   ],
   "source": [
    "k['sex'] = 'M'\n",
    "print(k['seX'])"
   ]
  },
  {
   "cell_type": "code",
   "execution_count": 126,
   "id": "39fab7f3",
   "metadata": {},
   "outputs": [
    {
     "name": "stdout",
     "output_type": "stream",
     "text": [
      "1997\n"
     ]
    }
   ],
   "source": [
    "list1 = ['physics', 'chemistry', 1997, 2000]\n",
    "list2 = [1, 2, 3, 4, 5, 6, 7 ]\n",
    "print(list1[2])"
   ]
  },
  {
   "cell_type": "code",
   "execution_count": 127,
   "id": "cfdbebcf",
   "metadata": {},
   "outputs": [
    {
     "name": "stdout",
     "output_type": "stream",
     "text": [
      "2000\n"
     ]
    }
   ],
   "source": [
    "a = ['physics', 'chemistry', 1997, 2000]\n",
    "del a[2]\n",
    "print(a[2])"
   ]
  },
  {
   "cell_type": "code",
   "execution_count": 128,
   "id": "984cd383",
   "metadata": {},
   "outputs": [
    {
     "ename": "IndexError",
     "evalue": "list assignment index out of range",
     "output_type": "error",
     "traceback": [
      "\u001b[0;31m---------------------------------------------------------------------------\u001b[0m",
      "\u001b[0;31mIndexError\u001b[0m                                Traceback (most recent call last)",
      "Cell \u001b[0;32mIn[128], line 2\u001b[0m\n\u001b[1;32m      1\u001b[0m a \u001b[38;5;241m=\u001b[39m [\u001b[38;5;124m'\u001b[39m\u001b[38;5;124mphysics\u001b[39m\u001b[38;5;124m'\u001b[39m, \u001b[38;5;124m'\u001b[39m\u001b[38;5;124mchemistry\u001b[39m\u001b[38;5;124m'\u001b[39m, \u001b[38;5;241m1997\u001b[39m, \u001b[38;5;241m2000\u001b[39m]\n\u001b[0;32m----> 2\u001b[0m a[\u001b[38;5;241m4\u001b[39m] \u001b[38;5;241m=\u001b[39m \u001b[38;5;241m3000\u001b[39m\n\u001b[1;32m      3\u001b[0m \u001b[38;5;28mprint\u001b[39m(a[\u001b[38;5;241m4\u001b[39m])\n",
      "\u001b[0;31mIndexError\u001b[0m: list assignment index out of range"
     ]
    }
   ],
   "source": [
    "a = ['physics', 'chemistry', 1997, 2000]\n",
    "a[4] = 3000\n",
    "print(a[4])"
   ]
  },
  {
   "cell_type": "code",
   "execution_count": 130,
   "id": "1b969604",
   "metadata": {},
   "outputs": [
    {
     "name": "stdout",
     "output_type": "stream",
     "text": [
      "element in the zeroth index is:  1997\n"
     ]
    }
   ],
   "source": [
    "list1 = ['physics', 'chemistry', 1997, 2000]\n",
    "list2 = [1, 2, 3, 4, 5, 6, 7 ]\n",
    "print('element in the zeroth index is: ', list1[2])"
   ]
  },
  {
   "cell_type": "code",
   "execution_count": 131,
   "id": "8e3e02bd",
   "metadata": {},
   "outputs": [],
   "source": [
    "a = ['physics', 'chemistry', 1997, 2000]\n",
    "del a[2]"
   ]
  },
  {
   "cell_type": "code",
   "execution_count": 132,
   "id": "52cc2816",
   "metadata": {},
   "outputs": [
    {
     "name": "stdout",
     "output_type": "stream",
     "text": [
      "2000\n"
     ]
    }
   ],
   "source": [
    "print(a[2])"
   ]
  },
  {
   "cell_type": "code",
   "execution_count": 133,
   "id": "85cdec02",
   "metadata": {},
   "outputs": [
    {
     "ename": "IndexError",
     "evalue": "list assignment index out of range",
     "output_type": "error",
     "traceback": [
      "\u001b[0;31m---------------------------------------------------------------------------\u001b[0m",
      "\u001b[0;31mIndexError\u001b[0m                                Traceback (most recent call last)",
      "Cell \u001b[0;32mIn[133], line 1\u001b[0m\n\u001b[0;32m----> 1\u001b[0m a[\u001b[38;5;241m4\u001b[39m] \u001b[38;5;241m=\u001b[39m \u001b[38;5;241m3000\u001b[39m\n\u001b[1;32m      2\u001b[0m \u001b[38;5;28mprint\u001b[39m(a[\u001b[38;5;241m4\u001b[39m])\n",
      "\u001b[0;31mIndexError\u001b[0m: list assignment index out of range"
     ]
    }
   ],
   "source": [
    "a[4] = 3000\n",
    "print(a[4])"
   ]
  },
  {
   "cell_type": "code",
   "execution_count": 134,
   "id": "6381ef27",
   "metadata": {},
   "outputs": [
    {
     "ename": "IndexError",
     "evalue": "list index out of range",
     "output_type": "error",
     "traceback": [
      "\u001b[0;31m---------------------------------------------------------------------------\u001b[0m",
      "\u001b[0;31mIndexError\u001b[0m                                Traceback (most recent call last)",
      "Cell \u001b[0;32mIn[134], line 2\u001b[0m\n\u001b[1;32m      1\u001b[0m s \u001b[38;5;241m=\u001b[39m [\u001b[38;5;241m1\u001b[39m,\u001b[38;5;241m3\u001b[39m,\u001b[38;5;241m4\u001b[39m,\u001b[38;5;241m5\u001b[39m]\u001b[38;5;241m*\u001b[39m\u001b[38;5;241m2\u001b[39m\n\u001b[0;32m----> 2\u001b[0m \u001b[38;5;28mprint\u001b[39m(s[\u001b[38;5;241m8\u001b[39m])\n",
      "\u001b[0;31mIndexError\u001b[0m: list index out of range"
     ]
    }
   ],
   "source": [
    "s = [1,3,4,5]*2\n",
    "print(s[8])"
   ]
  },
  {
   "cell_type": "code",
   "execution_count": 135,
   "id": "dc1b3783",
   "metadata": {},
   "outputs": [
    {
     "name": "stdout",
     "output_type": "stream",
     "text": [
      "[3, 4, 5]\n",
      "[3, 4, 5]\n"
     ]
    }
   ],
   "source": [
    "s = [1,3,4,5]\n",
    "print(s[-3:])\n",
    "print(s[1:])"
   ]
  },
  {
   "cell_type": "code",
   "execution_count": 137,
   "id": "512c6229",
   "metadata": {},
   "outputs": [
    {
     "ename": "TypeError",
     "evalue": "'tuple' object does not support item assignment",
     "output_type": "error",
     "traceback": [
      "\u001b[0;31m---------------------------------------------------------------------------\u001b[0m",
      "\u001b[0;31mTypeError\u001b[0m                                 Traceback (most recent call last)",
      "Cell \u001b[0;32mIn[137], line 4\u001b[0m\n\u001b[1;32m      2\u001b[0m a \u001b[38;5;241m=\u001b[39m (\u001b[38;5;241m4\u001b[39m,\u001b[38;5;241m3\u001b[39m,\u001b[38;5;241m4\u001b[39m,\u001b[38;5;241m5\u001b[39m,\u001b[38;5;241m6\u001b[39m) \n\u001b[1;32m      3\u001b[0m b \u001b[38;5;241m=\u001b[39m a[\u001b[38;5;241m3\u001b[39m]\n\u001b[0;32m----> 4\u001b[0m a[\u001b[38;5;241m4\u001b[39m]\u001b[38;5;241m=\u001b[39m\u001b[38;5;241m7\u001b[39m\n\u001b[1;32m      5\u001b[0m \u001b[38;5;28mprint\u001b[39m(a[\u001b[38;5;241m4\u001b[39m])\n",
      "\u001b[0;31mTypeError\u001b[0m: 'tuple' object does not support item assignment"
     ]
    }
   ],
   "source": [
    "b= 6 \n",
    "a = (4,3,4,5,6) \n",
    "b = a[3]\n",
    "a[4]=7\n",
    "print(a[4])"
   ]
  },
  {
   "cell_type": "code",
   "execution_count": 139,
   "id": "12951fe9",
   "metadata": {},
   "outputs": [
    {
     "name": "stdout",
     "output_type": "stream",
     "text": [
      "['physics', 'chemistry', 1997, 2000, 'maths', 'biology', 'maths']\n"
     ]
    }
   ],
   "source": [
    "list = ['physics', 'chemistry', 1997, 2000]\n",
    "list2 = ['maths', 'biology']\n",
    "list2 = list2 *2\n",
    "del list2[3]\n",
    "list = list + list2\n",
    "print (list)"
   ]
  },
  {
   "cell_type": "code",
   "execution_count": 140,
   "id": "e4e6305d",
   "metadata": {},
   "outputs": [
    {
     "name": "stdout",
     "output_type": "stream",
     "text": [
      "['chemistry', 1997, 2000]\n"
     ]
    }
   ],
   "source": [
    "list = ['physics', 'chemistry', 1997, 2000]\n",
    "print(list[-3:])"
   ]
  },
  {
   "cell_type": "code",
   "execution_count": 141,
   "id": "dc4b4308",
   "metadata": {},
   "outputs": [
    {
     "ename": "TypeError",
     "evalue": "'tuple' object does not support item assignment",
     "output_type": "error",
     "traceback": [
      "\u001b[0;31m---------------------------------------------------------------------------\u001b[0m",
      "\u001b[0;31mTypeError\u001b[0m                                 Traceback (most recent call last)",
      "Cell \u001b[0;32mIn[141], line 2\u001b[0m\n\u001b[1;32m      1\u001b[0m tup1 \u001b[38;5;241m=\u001b[39m (\u001b[38;5;241m12\u001b[39m, \u001b[38;5;241m34.56\u001b[39m)\n\u001b[0;32m----> 2\u001b[0m tup1[\u001b[38;5;241m0\u001b[39m] \u001b[38;5;241m=\u001b[39m \u001b[38;5;241m13\u001b[39m\n\u001b[1;32m      3\u001b[0m \u001b[38;5;28mprint\u001b[39m(tup1[\u001b[38;5;241m0\u001b[39m])\n",
      "\u001b[0;31mTypeError\u001b[0m: 'tuple' object does not support item assignment"
     ]
    }
   ],
   "source": [
    "tup1 = (12, 34.56)\n",
    "tup1[0] = 13\n",
    "print(tup1[0])"
   ]
  },
  {
   "cell_type": "code",
   "execution_count": 143,
   "id": "42da93b6",
   "metadata": {},
   "outputs": [
    {
     "ename": "TypeError",
     "evalue": "'tuple' object does not support item assignment",
     "output_type": "error",
     "traceback": [
      "\u001b[0;31m---------------------------------------------------------------------------\u001b[0m",
      "\u001b[0;31mTypeError\u001b[0m                                 Traceback (most recent call last)",
      "Cell \u001b[0;32mIn[143], line 2\u001b[0m\n\u001b[1;32m      1\u001b[0m list3 \u001b[38;5;241m=\u001b[39m (\u001b[38;5;241m10\u001b[39m, \u001b[38;5;241m4\u001b[39m, \u001b[38;5;241m5\u001b[39m)\n\u001b[0;32m----> 2\u001b[0m list3[\u001b[38;5;241m1\u001b[39m] \u001b[38;5;241m=\u001b[39m \u001b[38;5;241m15\u001b[39m\n\u001b[1;32m      3\u001b[0m \u001b[38;5;28mprint\u001b[39m(list3)\n",
      "\u001b[0;31mTypeError\u001b[0m: 'tuple' object does not support item assignment"
     ]
    }
   ],
   "source": [
    "list3 = (10, 4, 5)\n",
    "list3[1] = 15\n",
    "print(list3)\n",
    "#actually a tuple nt list"
   ]
  },
  {
   "cell_type": "code",
   "execution_count": 148,
   "id": "2eb460d3",
   "metadata": {},
   "outputs": [
    {
     "ename": "SyntaxError",
     "evalue": "invalid syntax (952659000.py, line 9)",
     "output_type": "error",
     "traceback": [
      "\u001b[0;36m  Cell \u001b[0;32mIn[148], line 9\u001b[0;36m\u001b[0m\n\u001b[0;31m    elif(a =! b):\u001b[0m\n\u001b[0m           ^\u001b[0m\n\u001b[0;31mSyntaxError\u001b[0m\u001b[0;31m:\u001b[0m invalid syntax\n"
     ]
    }
   ],
   "source": [
    "a = 5\n",
    "b = 10\n",
    "if(a == b):\n",
    "    print('a and b are the same')\n",
    "elif(a > b):\n",
    "    print(f\"{a} is greater than {b}\")\n",
    "elif(a >= b):\n",
    "    print(f\"{a} is greater than or equal to {b}\")\n",
    "elif(a =! b):\n",
    "    print(f\"{a} is not equal to {b}\")\n",
    "elif(a <= b):\n",
    "    print(f\"{a} is less than or equal to {b}\")\n",
    "elif(a < b):\n",
    "    print(f\"{a} is less than {b}\")\n",
    "    \n"
   ]
  },
  {
   "cell_type": "code",
   "execution_count": 149,
   "id": "aee8b733",
   "metadata": {},
   "outputs": [
    {
     "name": "stdout",
     "output_type": "stream",
     "text": [
      "5 is not equal to 10\n"
     ]
    }
   ],
   "source": [
    "a = 5\n",
    "b = 10\n",
    "if(a == b):\n",
    "    print('a and b are the same')\n",
    "elif(a > b):\n",
    "    print(f\"{a} is greater than {b}\")\n",
    "elif(a >= b):\n",
    "    print(f\"{a} is greater than or equal to {b}\")\n",
    "elif(a != b):\n",
    "    print(f\"{a} is not equal to {b}\")\n",
    "elif(a <= b):\n",
    "    print(f\"{a} is less than or equal to {b}\")\n",
    "elif(a < b):\n",
    "    print(f\"{a} is less than {b}\")\n",
    "    \n"
   ]
  },
  {
   "cell_type": "code",
   "execution_count": 150,
   "id": "db5d7c19",
   "metadata": {},
   "outputs": [
    {
     "name": "stdout",
     "output_type": "stream",
     "text": [
      "5 is less than 10\n"
     ]
    }
   ],
   "source": [
    "a = 5\n",
    "b = 10\n",
    "if(a == b):\n",
    "    print('a and b are the same')\n",
    "elif(a > b):\n",
    "    print(f\"{a} is greater than {b}\")\n",
    "else:\n",
    "    print(f\"{a} is less than {b}\")\n",
    "    \n"
   ]
  },
  {
   "cell_type": "code",
   "execution_count": 145,
   "id": "45c789d8",
   "metadata": {},
   "outputs": [
    {
     "name": "stdout",
     "output_type": "stream",
     "text": [
      "a and b are not the same\n"
     ]
    }
   ],
   "source": [
    "a = True\n",
    "b = False\n",
    "if (a == b):\n",
    "    print('a and b are the same')\n",
    "else:\n",
    "    print('a and b are not the same')"
   ]
  },
  {
   "cell_type": "code",
   "execution_count": 146,
   "id": "253189dc",
   "metadata": {},
   "outputs": [
    {
     "name": "stdout",
     "output_type": "stream",
     "text": [
      "a and b are the same\n"
     ]
    }
   ],
   "source": [
    "a = False\n",
    "b = False\n",
    "if (a == b):\n",
    "    print('a and b are the same')\n",
    "else:\n",
    "    print('a and b are not the same')"
   ]
  },
  {
   "cell_type": "code",
   "execution_count": 147,
   "id": "f917480e",
   "metadata": {},
   "outputs": [
    {
     "name": "stdout",
     "output_type": "stream",
     "text": [
      "a and b are the same\n"
     ]
    }
   ],
   "source": [
    "a = True\n",
    "b = True\n",
    "if (a == b):\n",
    "    print('a and b are the same')\n",
    "else:\n",
    "    print('a and b are not the same')"
   ]
  },
  {
   "cell_type": "code",
   "execution_count": null,
   "id": "e426f6d9",
   "metadata": {},
   "outputs": [],
   "source": [
    "a = True\n",
    "b = True\n",
    "if (a == b):\n",
    "    print('a and b are the same')\n",
    "else:\n",
    "    print('a and b are not the same')"
   ]
  },
  {
   "cell_type": "code",
   "execution_count": 152,
   "id": "bfaa5815",
   "metadata": {},
   "outputs": [
    {
     "name": "stdout",
     "output_type": "stream",
     "text": [
      "a and b are the same\n"
     ]
    }
   ],
   "source": [
    "a = True\n",
    "b = True\n",
    "if (a and b):\n",
    "    print('a and b are the same')\n",
    "else:\n",
    "    print('a and b are not the same')"
   ]
  },
  {
   "cell_type": "code",
   "execution_count": 154,
   "id": "741202aa",
   "metadata": {},
   "outputs": [
    {
     "name": "stdout",
     "output_type": "stream",
     "text": [
      "a and b are the same\n"
     ]
    }
   ],
   "source": [
    "a = 5\n",
    "b = 10\n",
    "if (a and b):\n",
    "    print('a and b are the same')\n",
    "else:\n",
    "    print('a and b are not the same')"
   ]
  },
  {
   "cell_type": "code",
   "execution_count": 155,
   "id": "00518b53",
   "metadata": {},
   "outputs": [],
   "source": [
    "#the if (a and b): statement does not compare a and b directly. Instead, it checks if both a and b are truthy values (non-zero, non-None, etc.).\n",
    "\n"
   ]
  },
  {
   "cell_type": "code",
   "execution_count": 156,
   "id": "d1736a37",
   "metadata": {},
   "outputs": [
    {
     "name": "stdout",
     "output_type": "stream",
     "text": [
      "a and b are not the same\n"
     ]
    }
   ],
   "source": [
    "a = True\n",
    "b = False\n",
    "if (a and b):\n",
    "    print('a and b are the same')\n",
    "else:\n",
    "    print('a and b are not the same')"
   ]
  },
  {
   "cell_type": "code",
   "execution_count": 157,
   "id": "e417ba93",
   "metadata": {},
   "outputs": [
    {
     "name": "stdout",
     "output_type": "stream",
     "text": [
      "a and b are not the same\n"
     ]
    }
   ],
   "source": [
    "a = True\n",
    "b = False\n",
    "if (a and b):\n",
    "    print('a and b are the same')\n",
    "else:\n",
    "    print('a and b are not the same')"
   ]
  },
  {
   "cell_type": "code",
   "execution_count": 158,
   "id": "a61037bf",
   "metadata": {},
   "outputs": [
    {
     "name": "stdout",
     "output_type": "stream",
     "text": [
      "a and b are the same\n"
     ]
    }
   ],
   "source": [
    "a = True\n",
    "b = False\n",
    "if (a or b):\n",
    "    print('a and b are the same')\n",
    "else:\n",
    "    print('a and b are not the same')"
   ]
  },
  {
   "cell_type": "code",
   "execution_count": 159,
   "id": "ed2259ce",
   "metadata": {},
   "outputs": [
    {
     "ename": "SyntaxError",
     "evalue": "invalid syntax. Perhaps you forgot a comma? (2856899342.py, line 3)",
     "output_type": "error",
     "traceback": [
      "\u001b[0;36m  Cell \u001b[0;32mIn[159], line 3\u001b[0;36m\u001b[0m\n\u001b[0;31m    if (a not b):\u001b[0m\n\u001b[0m        ^\u001b[0m\n\u001b[0;31mSyntaxError\u001b[0m\u001b[0;31m:\u001b[0m invalid syntax. Perhaps you forgot a comma?\n"
     ]
    }
   ],
   "source": [
    "a = True\n",
    "b = False\n",
    "if (a not b):\n",
    "    print('a and b are the same')\n",
    "else:\n",
    "    print('a and b are not the same')"
   ]
  },
  {
   "cell_type": "code",
   "execution_count": 160,
   "id": "c14c48c8",
   "metadata": {},
   "outputs": [
    {
     "name": "stdout",
     "output_type": "stream",
     "text": [
      "Both conditions are True\n"
     ]
    }
   ],
   "source": [
    "x = 10\n",
    "y = 20\n",
    "if x > 5 and y < 30:\n",
    "    print(\"Both conditions are True\")  # This will print\n"
   ]
  },
  {
   "cell_type": "code",
   "execution_count": 161,
   "id": "00b85fc4",
   "metadata": {},
   "outputs": [
    {
     "name": "stdout",
     "output_type": "stream",
     "text": [
      "At least one is True\n"
     ]
    }
   ],
   "source": [
    "a = True\n",
    "b = False\n",
    "if a or b:\n",
    "    print(\"At least one is True\")  # This will print because a is True\n",
    "else:\n",
    "    print(\"Both are False\")\n"
   ]
  },
  {
   "cell_type": "code",
   "execution_count": 162,
   "id": "f8997c24",
   "metadata": {},
   "outputs": [
    {
     "name": "stdout",
     "output_type": "stream",
     "text": [
      "x is not greater than 15\n"
     ]
    }
   ],
   "source": [
    "x = 10\n",
    "if not x > 15:\n",
    "    print(\"x is not greater than 15\")  # This will print because x is not > 15\n"
   ]
  },
  {
   "cell_type": "code",
   "execution_count": 163,
   "id": "7062b3b6",
   "metadata": {},
   "outputs": [
    {
     "name": "stdout",
     "output_type": "stream",
     "text": [
      "At least one condition is True\n"
     ]
    }
   ],
   "source": [
    "x = 10\n",
    "y = 20\n",
    "if x > 5 or y > 30:\n",
    "    print(\"At least one condition is True\")  # This will print because x > 5 is true\n",
    "else:\n",
    "    print(\"Both conditions are False\")\n"
   ]
  },
  {
   "cell_type": "code",
   "execution_count": 166,
   "id": "a49c5e48",
   "metadata": {},
   "outputs": [
    {
     "name": "stdout",
     "output_type": "stream",
     "text": [
      "x is not greater than 15\n"
     ]
    }
   ],
   "source": [
    "x = 10\n",
    "y = 20\n",
    "if not x > 15:\n",
    "    print(\"x is not greater than 15\")  # This will print because x > 15 is False, so not False is True\n",
    "else:\n",
    "    print(\"x is greater than 15\")\n"
   ]
  },
  {
   "cell_type": "code",
   "execution_count": 168,
   "id": "b28c2e68",
   "metadata": {},
   "outputs": [
    {
     "name": "stdout",
     "output_type": "stream",
     "text": [
      "i\n",
      "s\n",
      "m\n",
      "s\n"
     ]
    }
   ],
   "source": [
    "i='isms'\n",
    "for letter in i:\n",
    "    print (letter)"
   ]
  },
  {
   "cell_type": "code",
   "execution_count": 169,
   "id": "87060f93",
   "metadata": {},
   "outputs": [
    {
     "name": "stdout",
     "output_type": "stream",
     "text": [
      "i s m s "
     ]
    }
   ],
   "source": [
    "i='isms'\n",
    "for letter in i:\n",
    "    print (letter, end = \" \")"
   ]
  },
  {
   "cell_type": "code",
   "execution_count": 172,
   "id": "7240c78e",
   "metadata": {},
   "outputs": [
    {
     "name": "stdout",
     "output_type": "stream",
     "text": [
      "Current fruit: banana\n",
      "Current fruit: apple\n",
      "Current fruit: pear\n",
      "Good bye!\n"
     ]
    }
   ],
   "source": [
    "fruits = ['banana', 'apple', 'pear']\n",
    "for fruit in fruits:\n",
    "    print ('Current fruit:', fruit)\n",
    "print (\"Good bye!\")"
   ]
  },
  {
   "cell_type": "code",
   "execution_count": 176,
   "id": "e085c52f",
   "metadata": {},
   "outputs": [
    {
     "name": "stdout",
     "output_type": "stream",
     "text": [
      "The count is: 0\n",
      "The count is: 1\n",
      "The count is: 2\n",
      "The count is: 3\n",
      "The count is: 4\n",
      "The count is: 5\n",
      "The count is: 6\n",
      "The count is: 7\n",
      "The count is: 8\n",
      "The count is: 9\n",
      "‘Good bye!’\n"
     ]
    }
   ],
   "source": [
    "count = 0\n",
    "while (count < 10):\n",
    "    print ('The count is:', count)\n",
    "    count = count + 1\n",
    "print (\"‘Good bye!’\")"
   ]
  },
  {
   "cell_type": "code",
   "execution_count": 177,
   "id": "fd6e7be4",
   "metadata": {},
   "outputs": [
    {
     "name": "stdout",
     "output_type": "stream",
     "text": [
      "The count is: 0\n",
      "The count is: 1\n",
      "The count is: 2\n",
      "The count is: 3\n",
      "The count is: 4\n",
      "The count is: 5\n",
      "The count is: 6\n",
      "The count is: 7\n",
      "The count is: 8\n",
      "The count is: 9\n"
     ]
    }
   ],
   "source": [
    "count = 0\n",
    "while (count < 10):\n",
    "    print ('The count is:', count)\n",
    "    count = count + 1"
   ]
  },
  {
   "cell_type": "code",
   "execution_count": 178,
   "id": "5e8cb0fe",
   "metadata": {},
   "outputs": [
    {
     "data": {
      "text/plain": [
       "1"
      ]
     },
     "execution_count": 178,
     "metadata": {},
     "output_type": "execute_result"
    }
   ],
   "source": [
    "ty = (1,2,3)\n",
    "min(ty)"
   ]
  },
  {
   "cell_type": "code",
   "execution_count": 179,
   "id": "caa9cc49",
   "metadata": {},
   "outputs": [
    {
     "data": {
      "text/plain": [
       "3"
      ]
     },
     "execution_count": 179,
     "metadata": {},
     "output_type": "execute_result"
    }
   ],
   "source": [
    "max(ty)"
   ]
  },
  {
   "cell_type": "code",
   "execution_count": 181,
   "id": "18e2644a",
   "metadata": {},
   "outputs": [
    {
     "data": {
      "text/plain": [
       "2"
      ]
     },
     "execution_count": 181,
     "metadata": {},
     "output_type": "execute_result"
    }
   ],
   "source": [
    "yt = [8,9,6,2]\n",
    "min(yt)"
   ]
  },
  {
   "cell_type": "code",
   "execution_count": 182,
   "id": "aa4b8a08",
   "metadata": {},
   "outputs": [
    {
     "data": {
      "text/plain": [
       "9"
      ]
     },
     "execution_count": 182,
     "metadata": {},
     "output_type": "execute_result"
    }
   ],
   "source": [
    "max(yt)"
   ]
  },
  {
   "cell_type": "code",
   "execution_count": 184,
   "id": "629416dc",
   "metadata": {},
   "outputs": [
    {
     "name": "stdout",
     "output_type": "stream",
     "text": [
      "[10, 20, 30]\n"
     ]
    }
   ],
   "source": [
    "numbers = [10, 20, 30, 40]\n",
    "numbers.pop()\n",
    "print(numbers)"
   ]
  },
  {
   "cell_type": "code",
   "execution_count": 185,
   "id": "a3e6958c",
   "metadata": {},
   "outputs": [
    {
     "name": "stdout",
     "output_type": "stream",
     "text": [
      "[10, 20, 40]\n"
     ]
    }
   ],
   "source": [
    "numbers = [10, 20, 30, 40]\n",
    "numbers.pop(2)\n",
    "print(numbers)"
   ]
  },
  {
   "cell_type": "code",
   "execution_count": 187,
   "id": "f2fa42f7",
   "metadata": {},
   "outputs": [
    {
     "name": "stdout",
     "output_type": "stream",
     "text": [
      "[2, 4, 6]\n",
      "[1, 3, 5, 7]\n"
     ]
    }
   ],
   "source": [
    "Numbers = [1,2,3,4,5,6,7]\n",
    "evenList = []\n",
    "oddList = []\n",
    "\n",
    "for number in Numbers:\n",
    "    if number % 2 ==0:\n",
    "        evenList.append(number)\n",
    "    else:\n",
    "        oddList.append(number)\n",
    "print(evenList)\n",
    "print(oddList)"
   ]
  },
  {
   "cell_type": "code",
   "execution_count": null,
   "id": "f221ee93",
   "metadata": {},
   "outputs": [],
   "source": [
    "numbers = [1,2,3,4,5,6,7,8,9,10]\n",
    "evenNumbers = []\n",
    "oddNumbers = []\n",
    "\n",
    "for number in numbers:\n",
    "    if(number % 2 == 0):\n",
    "        evenNumbers.append(number)\n",
    "    else:\n",
    "        oddNumbers.append(number)\n",
    "print(\"The even numbers are: \", evenNumbers)\n",
    "print(\"The odd numbers are: \", oddNumbers)"
   ]
  },
  {
   "cell_type": "code",
   "execution_count": 192,
   "id": "ebc1bdde",
   "metadata": {},
   "outputs": [
    {
     "name": "stdout",
     "output_type": "stream",
     "text": [
      "12\n"
     ]
    }
   ],
   "source": [
    "evenSum = 0\n",
    "for i in evenList:\n",
    "    evenSum += i\n",
    "print(evenSum)"
   ]
  },
  {
   "cell_type": "code",
   "execution_count": 194,
   "id": "0095fa1f",
   "metadata": {},
   "outputs": [
    {
     "name": "stdout",
     "output_type": "stream",
     "text": [
      "16\n"
     ]
    }
   ],
   "source": [
    "oddSum = 0\n",
    "for i in oddList:\n",
    "    oddSum += i\n",
    "print(oddSum)"
   ]
  },
  {
   "cell_type": "code",
   "execution_count": 198,
   "id": "e6a7ca64",
   "metadata": {},
   "outputs": [
    {
     "name": "stdout",
     "output_type": "stream",
     "text": [
      "19km is 19000m\n"
     ]
    }
   ],
   "source": [
    "def convert_km_to_m (num_in_km):\n",
    "    num_in_meter = num_in_km * 1000\n",
    "    return(f\"{num_in_km}km is {num_in_meter}m\")\n",
    "print(convert_km_to_m(19))"
   ]
  },
  {
   "cell_type": "code",
   "execution_count": 202,
   "id": "37011459",
   "metadata": {},
   "outputs": [
    {
     "name": "stdout",
     "output_type": "stream",
     "text": [
      "30c is 86f\n"
     ]
    }
   ],
   "source": [
    "def celsius_to_fahrenheit_converter(celsius_degree):\n",
    "    fahren_degree = round((celsius_degree * 9/5) + 32)\n",
    "    return(f\"{celsius_degree}c is {fahren_degree}f\")\n",
    "print(celsius_to_fahrenheit_converter(30))"
   ]
  },
  {
   "cell_type": "code",
   "execution_count": 203,
   "id": "8c29d2e1",
   "metadata": {},
   "outputs": [
    {
     "name": "stdout",
     "output_type": "stream",
     "text": [
      "The area is 8\n"
     ]
    }
   ],
   "source": [
    "def calculate_area(length, breadth): #calculate_area is the identifier or function name and length, breadth are the parameters\n",
    "    area = length * breadth #how to find the area\n",
    "    return area\n",
    "\n",
    "length = 2\n",
    "breadth = 4\n",
    "\n",
    "area = calculate_area(length,breadth) \n",
    "\n",
    "print(f\"The area is {calculate_area(length,breadth) }\")"
   ]
  },
  {
   "cell_type": "code",
   "execution_count": 204,
   "id": "ffe2e3ca",
   "metadata": {},
   "outputs": [
    {
     "name": "stdout",
     "output_type": "stream",
     "text": [
      "The area is 8\n"
     ]
    }
   ],
   "source": [
    "def calculate_area(length, breadth): #calculate_area is the identifier or function name and length, breadth are the parameters\n",
    "    area = length * breadth #how to find the area\n",
    "    return (f\"The area is {area}\")\n",
    "print(calculate_area(2,4))"
   ]
  },
  {
   "cell_type": "code",
   "execution_count": 222,
   "id": "1912371d",
   "metadata": {},
   "outputs": [
    {
     "name": "stdout",
     "output_type": "stream",
     "text": [
      "It's not a palindrome\n"
     ]
    }
   ],
   "source": [
    "def palindrome_checker(the_word):\n",
    "    reversed_word = the_word[::-1]\n",
    "    if reversed_word == the_word:\n",
    "        return (\"It's a palandrome\")\n",
    "    else:\n",
    "        return (\"It's not a palindrome\")\n",
    "print(palindrome_checker(\"madame\"))"
   ]
  },
  {
   "cell_type": "code",
   "execution_count": 223,
   "id": "eb7c5b46",
   "metadata": {},
   "outputs": [
    {
     "name": "stdout",
     "output_type": "stream",
     "text": [
      "It's a palandrome\n"
     ]
    }
   ],
   "source": [
    "def palindrome_checker(the_word):\n",
    "    reversed_word = the_word[::-1]\n",
    "    if reversed_word == the_word:\n",
    "        return (\"It's a palandrome\")\n",
    "    else:\n",
    "        return (\"It's not a palindrome\")\n",
    "print(palindrome_checker(\"madam\"))"
   ]
  },
  {
   "cell_type": "code",
   "execution_count": 228,
   "id": "afb8a93d",
   "metadata": {},
   "outputs": [
    {
     "name": "stdout",
     "output_type": "stream",
     "text": [
      "It's a palandrome\n"
     ]
    }
   ],
   "source": [
    "def palindrome_checker(the_word):\n",
    "    reversed_word = the_word[::-1]\n",
    "    if reversed_word == the_word:\n",
    "        return \"It's a palandrome\"\n",
    "    else:\n",
    "        return \"It's not a palindrome\"\n",
    "print(palindrome_checker(\"madam\"))"
   ]
  },
  {
   "cell_type": "code",
   "execution_count": 224,
   "id": "e537c641",
   "metadata": {},
   "outputs": [
    {
     "name": "stdout",
     "output_type": "stream",
     "text": [
      "It's not a palindrome\n",
      "None\n"
     ]
    }
   ],
   "source": [
    "def palindrome_checker(the_word):\n",
    "    reversed_word = the_word[::-1]\n",
    "    if reversed_word == the_word:\n",
    "        print (\"It's a palandrome\")\n",
    "    else:\n",
    "        print (\"It's not a palindrome\")\n",
    "print(palindrome_checker(\"madame\"))"
   ]
  },
  {
   "cell_type": "code",
   "execution_count": 227,
   "id": "66a83f8c",
   "metadata": {},
   "outputs": [
    {
     "ename": "SyntaxError",
     "evalue": "'return' outside function (1037980722.py, line 7)",
     "output_type": "error",
     "traceback": [
      "\u001b[0;36m  Cell \u001b[0;32mIn[227], line 7\u001b[0;36m\u001b[0m\n\u001b[0;31m    return(palindrome_checker(\"madame\"))\u001b[0m\n\u001b[0m    ^\u001b[0m\n\u001b[0;31mSyntaxError\u001b[0m\u001b[0;31m:\u001b[0m 'return' outside function\n"
     ]
    }
   ],
   "source": [
    "def palindrome_checker(the_word):\n",
    "    reversed_word = the_word[::-1]\n",
    "    if reversed_word == the_word:\n",
    "        print (\"It's a palandrome\")\n",
    "    else:\n",
    "        print (\"It's not a palindrome\")\n",
    "return(palindrome_checker(\"madame\"))"
   ]
  },
  {
   "cell_type": "markdown",
   "id": "771811ee",
   "metadata": {},
   "source": [
    "So summary of the above, we need the return inside and we'd call the function outside with our desired argument for the parameter lol. \n",
    "\n",
    "Paradventure you use print and no return, it doesn't return anything so the value will be None after your print statement"
   ]
  },
  {
   "cell_type": "code",
   "execution_count": 231,
   "id": "8aff0fb7",
   "metadata": {},
   "outputs": [
    {
     "name": "stdout",
     "output_type": "stream",
     "text": [
      "wrong password\n"
     ]
    }
   ],
   "source": [
    "def passChecker (password):\n",
    "    if password == \"pau@2D\":\n",
    "        return (\"Correct password\")\n",
    "    else:\n",
    "        return (\"wrong password\")\n",
    "print(passChecker(\"pau2D\"))"
   ]
  },
  {
   "cell_type": "code",
   "execution_count": 238,
   "id": "e0f8b117",
   "metadata": {},
   "outputs": [
    {
     "name": "stdout",
     "output_type": "stream",
     "text": [
      "It is not an email\n"
     ]
    }
   ],
   "source": [
    "def checkEmailValidity (email, at, dotCom):\n",
    "    if at in email and dotCom in email:\n",
    "        return(\"It is an email\")\n",
    "    else:\n",
    "        return(\"It is not an email\")\n",
    "\n",
    "print(checkEmailValidity(\"charisoneyemiatgmail.com\", \"@\", \".com\"))"
   ]
  },
  {
   "cell_type": "code",
   "execution_count": 239,
   "id": "12e497f6",
   "metadata": {},
   "outputs": [
    {
     "name": "stdout",
     "output_type": "stream",
     "text": [
      "It is an email\n"
     ]
    }
   ],
   "source": [
    "def checkEmailValidity (email, at, dotCom):\n",
    "    if at in email and dotCom in email:\n",
    "        return(\"It is an email\")\n",
    "    else:\n",
    "        return(\"It is not an email\")\n",
    "\n",
    "print(checkEmailValidity(\"charisoneyemi@gmail.com\", \"@\", \".com\"))"
   ]
  },
  {
   "cell_type": "code",
   "execution_count": 1,
   "id": "7885dcf8",
   "metadata": {},
   "outputs": [
    {
     "name": "stdout",
     "output_type": "stream",
     "text": [
      "james 20\n",
      "biodun 56\n",
      "kaka 76\n",
      "jumoke 30\n",
      "bolaji 23\n"
     ]
    }
   ],
   "source": [
    "names = ['james', 'biodun', 'kaka', 'jumoke', 'bolaji']\n",
    "ages = [20, 56, 76, 30, 23, 40]\n",
    "\n",
    "\n",
    "for name, age in zip(names, ages):\n",
    "    print(f\"{name} {age}\")"
   ]
  },
  {
   "cell_type": "code",
   "execution_count": 2,
   "id": "f52188ec",
   "metadata": {},
   "outputs": [],
   "source": [
    "names = ['james', 'biodun', 'kaka', 'jumoke', 'bolaji']\n",
    "ages = [20, 56, 76, 30, 23, 40]\n",
    "\n",
    "file_handle = open(\"testing.txt\", \"w\") #This opens (or creates if it doesn't exist) a file named output.txt in write mode (\"w\")\n",
    "for name, age in zip(names, ages):#zip(names, ages)) pairs each element of names with the corresponding element of ages:\n",
    "    file_handle.write(f\"{name} {age}\\n\") #The file_handle.write() function is used to write a string of text into a file.\n",
    "file_handle.close()#Properly closes the file to ensure all data is saved and resources are freed.\n",
    "\n"
   ]
  },
  {
   "cell_type": "code",
   "execution_count": null,
   "id": "5c2bbf2b",
   "metadata": {},
   "outputs": [],
   "source": [
    "names = ['james', 'biodun', 'kaka', 'jumoke', 'bolaji']\n",
    "ages = [20, 56, 76, 30, 23, 40]\n",
    "length = len(list)-1\n",
    "tracker = 0\n",
    "\n",
    "file_handle = open(\"output.txt\", \"w\") #this is to write to a file named output.txt\n",
    "for name, age in zip(names, ages):#take note of the fact that the var names are d/f as in name age list1 list2\n",
    "    if tracker < length:\n",
    "tracker = tracker + 1\n",
    "    else:\n",
    "        file_handle.write(name + \" \" + str(age) + \"\\n\")\n",
    "\n",
    "file_handle.close()"
   ]
  },
  {
   "cell_type": "code",
   "execution_count": 5,
   "id": "94030a4b",
   "metadata": {},
   "outputs": [
    {
     "name": "stdout",
     "output_type": "stream",
     "text": [
      "[[ 1  2  3  4  5  6  7]\n",
      " [ 8  9 10 11 12 13 14]]\n"
     ]
    }
   ],
   "source": [
    "import numpy as np\n",
    "\n",
    "a = np.array([[1, 2, 3, 4, 5, 6, 7],\n",
    "              [8, 9, 10, 11, 12, 13, 14]])\n",
    "\n",
    "print(a)\n"
   ]
  },
  {
   "cell_type": "code",
   "execution_count": 7,
   "id": "9f4887af",
   "metadata": {},
   "outputs": [
    {
     "name": "stdout",
     "output_type": "stream",
     "text": [
      "[[ 1  2  3  4  5  6  7]\n",
      " [ 8  9 10 11 12 13 14]]\n"
     ]
    }
   ],
   "source": [
    "print(a[0:30])"
   ]
  },
  {
   "cell_type": "code",
   "execution_count": 8,
   "id": "bb6479ec",
   "metadata": {},
   "outputs": [
    {
     "name": "stdout",
     "output_type": "stream",
     "text": [
      "4\n"
     ]
    }
   ],
   "source": [
    "print(a[0,3])"
   ]
  },
  {
   "cell_type": "code",
   "execution_count": 9,
   "id": "38b4e8d1",
   "metadata": {},
   "outputs": [
    {
     "name": "stdout",
     "output_type": "stream",
     "text": [
      "[ 8  9 10 11 12 13 14]\n"
     ]
    }
   ],
   "source": [
    "print(a[1,:])#ie all of row 1"
   ]
  },
  {
   "cell_type": "code",
   "execution_count": 11,
   "id": "85ef3523",
   "metadata": {},
   "outputs": [
    {
     "name": "stdout",
     "output_type": "stream",
     "text": [
      "[ 3 10]\n"
     ]
    }
   ],
   "source": [
    "print(a[:,2]) #ie all of column 2"
   ]
  },
  {
   "cell_type": "code",
   "execution_count": 12,
   "id": "36a8e3d4",
   "metadata": {},
   "outputs": [
    {
     "name": "stdout",
     "output_type": "stream",
     "text": [
      "[4 5 6]\n"
     ]
    }
   ],
   "source": [
    "print(a[0,3:6])"
   ]
  },
  {
   "cell_type": "code",
   "execution_count": 13,
   "id": "af79b980",
   "metadata": {},
   "outputs": [
    {
     "name": "stdout",
     "output_type": "stream",
     "text": [
      "[ 7 14]\n"
     ]
    }
   ],
   "source": [
    "print(a[:,-1])"
   ]
  },
  {
   "cell_type": "code",
   "execution_count": 14,
   "id": "f23473a9",
   "metadata": {},
   "outputs": [
    {
     "name": "stdout",
     "output_type": "stream",
     "text": [
      "[ 9 10 11 12]\n"
     ]
    }
   ],
   "source": [
    "print(a[1,1:5])"
   ]
  },
  {
   "cell_type": "code",
   "execution_count": 17,
   "id": "e970cec6",
   "metadata": {},
   "outputs": [
    {
     "name": "stdout",
     "output_type": "stream",
     "text": [
      "[[1 2 3 4 5 6 7]]\n"
     ]
    }
   ],
   "source": [
    "print(a[0:1])"
   ]
  },
  {
   "cell_type": "code",
   "execution_count": 19,
   "id": "8249b3d4",
   "metadata": {},
   "outputs": [
    {
     "name": "stdout",
     "output_type": "stream",
     "text": [
      "9\n"
     ]
    }
   ],
   "source": [
    "print(a[1,1])"
   ]
  },
  {
   "cell_type": "code",
   "execution_count": 21,
   "id": "17b8a9a1",
   "metadata": {},
   "outputs": [
    {
     "name": "stdout",
     "output_type": "stream",
     "text": [
      "[1 2 3]\n"
     ]
    }
   ],
   "source": [
    "print(a[0,:3])"
   ]
  },
  {
   "cell_type": "code",
   "execution_count": 22,
   "id": "ee10d45f",
   "metadata": {},
   "outputs": [
    {
     "name": "stdout",
     "output_type": "stream",
     "text": [
      "[1 2 3 4]\n"
     ]
    }
   ],
   "source": [
    "print(a[0,:-3])"
   ]
  },
  {
   "cell_type": "code",
   "execution_count": 24,
   "id": "e5d82c54",
   "metadata": {},
   "outputs": [
    {
     "name": "stdout",
     "output_type": "stream",
     "text": [
      "[[ 1  2  3  4  5  6  7]\n",
      " [ 8  9 10 11 34 13 14]]\n"
     ]
    }
   ],
   "source": [
    "a = np.array([[1,2,3,4,5,6,7],[8,9,10,11,12,13,14]])\n",
    "a[1,4] = 34\n",
    "print(a)"
   ]
  },
  {
   "cell_type": "code",
   "execution_count": 29,
   "id": "895f848e",
   "metadata": {},
   "outputs": [
    {
     "name": "stdout",
     "output_type": "stream",
     "text": [
      "[1 2 3 4 5 6 7]\n"
     ]
    }
   ],
   "source": [
    "print(a[0,:])#ie all of row 1\n"
   ]
  },
  {
   "cell_type": "code",
   "execution_count": 28,
   "id": "b7e0957e",
   "metadata": {},
   "outputs": [
    {
     "name": "stdout",
     "output_type": "stream",
     "text": [
      "[[ 8  9 10 11 34 13 14]]\n"
     ]
    }
   ],
   "source": [
    "print(a[1:2])#ie all of row 1"
   ]
  },
  {
   "cell_type": "code",
   "execution_count": 30,
   "id": "0b896a3a",
   "metadata": {},
   "outputs": [
    {
     "name": "stdout",
     "output_type": "stream",
     "text": [
      "34\n",
      "[[10  3  4  5  6  7  8]\n",
      " [ 8  9 10 11 34 13 14]]\n"
     ]
    }
   ],
   "source": [
    "a = np.array([[1,2,3,4,5,6,7],[8,9,10,11,12,13,14]])\n",
    "a[1,4] = 34\n",
    "print(a[1,4])\n",
    "a[0,:] = [10,3,4,5,6,7,8]\n",
    "print(a)"
   ]
  },
  {
   "cell_type": "code",
   "execution_count": 31,
   "id": "354da69b",
   "metadata": {},
   "outputs": [
    {
     "name": "stdout",
     "output_type": "stream",
     "text": [
      "(3, 1, 2)\n"
     ]
    }
   ],
   "source": [
    "s = np.array( [[[1,2]],[[3,4]], [[13,4]]])\n",
    "print(s.shape)"
   ]
  },
  {
   "cell_type": "code",
   "execution_count": 32,
   "id": "d6d93426",
   "metadata": {},
   "outputs": [
    {
     "name": "stdout",
     "output_type": "stream",
     "text": [
      "(4,)\n"
     ]
    }
   ],
   "source": [
    "a = np.array([1, 2, 3, 4])\n",
    "print(a.shape)\n"
   ]
  },
  {
   "cell_type": "code",
   "execution_count": 33,
   "id": "2b0e1836",
   "metadata": {},
   "outputs": [
    {
     "name": "stdout",
     "output_type": "stream",
     "text": [
      "(2, 2)\n"
     ]
    }
   ],
   "source": [
    "b = np.array([[1, 2], [3, 4]])\n",
    "print(b.shape)\n"
   ]
  },
  {
   "cell_type": "code",
   "execution_count": 34,
   "id": "143d8b75",
   "metadata": {},
   "outputs": [
    {
     "name": "stdout",
     "output_type": "stream",
     "text": [
      "(2, 1, 2)\n"
     ]
    }
   ],
   "source": [
    "c = np.array([[[1, 2]], [[3, 4]]])\n",
    "print(c.shape)\n"
   ]
  },
  {
   "cell_type": "code",
   "execution_count": 35,
   "id": "41582741",
   "metadata": {},
   "outputs": [
    {
     "name": "stdout",
     "output_type": "stream",
     "text": [
      "(2, 2, 3)\n"
     ]
    }
   ],
   "source": [
    "d = np.array([[[1, 2, 3], [4, 5, 6]], [[7, 8, 9], [10, 11, 12]]])\n",
    "print(d.shape)\n"
   ]
  },
  {
   "cell_type": "code",
   "execution_count": 36,
   "id": "e6b1f986",
   "metadata": {},
   "outputs": [
    {
     "name": "stdout",
     "output_type": "stream",
     "text": [
      "(1, 1, 1, 2)\n"
     ]
    }
   ],
   "source": [
    "e = np.array([[[[1, 2]]]])\n",
    "print(e.shape)\n"
   ]
  },
  {
   "cell_type": "code",
   "execution_count": 37,
   "id": "71599154",
   "metadata": {},
   "outputs": [
    {
     "name": "stdout",
     "output_type": "stream",
     "text": [
      "(3, 1, 1)\n"
     ]
    }
   ],
   "source": [
    "f = np.array([[[1]], [[2]], [[3]]])\n",
    "print(f.shape)\n"
   ]
  },
  {
   "cell_type": "code",
   "execution_count": 38,
   "id": "b0ad5ae3",
   "metadata": {},
   "outputs": [
    {
     "name": "stdout",
     "output_type": "stream",
     "text": [
      "(1, 3)\n"
     ]
    }
   ],
   "source": [
    "g = np.array([[1, 2, 3]])\n",
    "print(g.shape)\n"
   ]
  },
  {
   "cell_type": "code",
   "execution_count": 42,
   "id": "40712b83",
   "metadata": {},
   "outputs": [
    {
     "name": "stdout",
     "output_type": "stream",
     "text": [
      "(1, 1, 1, 1, 3)\n"
     ]
    }
   ],
   "source": [
    "g = np.array([[[[[1, 2, 3]]]]])\n",
    "print(g.shape)\n"
   ]
  },
  {
   "cell_type": "code",
   "execution_count": 44,
   "id": "0bdaf912",
   "metadata": {},
   "outputs": [
    {
     "name": "stdout",
     "output_type": "stream",
     "text": [
      "(3, 1, 2)\n",
      "3\n",
      "[[[379 777]]\n",
      "\n",
      " [[  3   4]]\n",
      "\n",
      " [[ 13   4]]]\n"
     ]
    }
   ],
   "source": [
    "s = np.array( [[[1,2]],[[3,4]], [[13,4]]])\n",
    "print(s.shape)\n",
    "print(s.ndim)\n",
    "s[0,:] = [379,777]\n",
    "print(s)"
   ]
  },
  {
   "cell_type": "code",
   "execution_count": 45,
   "id": "04a17ab0",
   "metadata": {},
   "outputs": [
    {
     "name": "stdout",
     "output_type": "stream",
     "text": [
      "[[3 2 3]\n",
      " [1 2 1]\n",
      " [3 3 3]\n",
      " [2 1 2]]\n"
     ]
    }
   ],
   "source": [
    "ranin = np.random.randint(0,4,size=(4,3))\n",
    "print(ranin)"
   ]
  },
  {
   "cell_type": "code",
   "execution_count": 46,
   "id": "ecef0241",
   "metadata": {},
   "outputs": [
    {
     "name": "stdout",
     "output_type": "stream",
     "text": [
      "[3 4 5]\n"
     ]
    }
   ],
   "source": [
    "s = np.array([1,2,3])\n",
    "print(s+2)"
   ]
  },
  {
   "cell_type": "code",
   "execution_count": 47,
   "id": "3881de9c",
   "metadata": {},
   "outputs": [
    {
     "name": "stdout",
     "output_type": "stream",
     "text": [
      "[2 4 6]\n"
     ]
    }
   ],
   "source": [
    "s = np.array([1,2,3])\n",
    "print(s*2)"
   ]
  },
  {
   "cell_type": "code",
   "execution_count": null,
   "id": "eb21b4a6",
   "metadata": {},
   "outputs": [],
   "source": []
  },
  {
   "cell_type": "code",
   "execution_count": null,
   "id": "0d882042",
   "metadata": {},
   "outputs": [],
   "source": []
  },
  {
   "cell_type": "code",
   "execution_count": null,
   "id": "44589412",
   "metadata": {},
   "outputs": [],
   "source": []
  },
  {
   "cell_type": "code",
   "execution_count": null,
   "id": "85d85401",
   "metadata": {},
   "outputs": [],
   "source": []
  },
  {
   "cell_type": "markdown",
   "id": "3b86dc6b",
   "metadata": {},
   "source": [
    "# ALL ABOUT NUMPY"
   ]
  },
  {
   "cell_type": "markdown",
   "id": "cc4f66b2",
   "metadata": {},
   "source": [
    "## NumPy Vectorization\n",
    "\n",
    "Vectorised array operations refer to performing operations on arrays or elements in an array at once rather than looping through each element individually"
   ]
  },
  {
   "cell_type": "markdown",
   "id": "50ef7f2b",
   "metadata": {},
   "source": [
    "How we would do it w/o using numpy"
   ]
  },
  {
   "cell_type": "code",
   "execution_count": 9,
   "id": "1ef2d4b8",
   "metadata": {},
   "outputs": [
    {
     "name": "stdout",
     "output_type": "stream",
     "text": [
      "[5, 7, 9]\n"
     ]
    }
   ],
   "source": [
    "x = [1, 2, 3]\n",
    "y = [4, 5, 6]\n",
    "\n",
    "result = []\n",
    "for i in range(len(x)):\n",
    "    result.append(x[i] + y[i])\n",
    "    \n",
    "print(result)"
   ]
  },
  {
   "cell_type": "markdown",
   "id": "30dda2a6",
   "metadata": {},
   "source": [
    "How we would do it using numpy"
   ]
  },
  {
   "cell_type": "code",
   "execution_count": 10,
   "id": "cb2fc4cc",
   "metadata": {},
   "outputs": [
    {
     "name": "stdout",
     "output_type": "stream",
     "text": [
      "[5 7 9]\n"
     ]
    }
   ],
   "source": [
    "x = [1, 2, 3]\n",
    "y = [4, 5, 6]\n",
    "\n",
    "result = np.array(x) + np.array(y)\n",
    "\n",
    "print(result)\n"
   ]
  },
  {
   "cell_type": "code",
   "execution_count": null,
   "id": "2cc2ba76",
   "metadata": {},
   "outputs": [],
   "source": []
  },
  {
   "cell_type": "markdown",
   "id": "4ede4aed",
   "metadata": {},
   "source": [
    "## CREATING A NUMPY ARRAY"
   ]
  },
  {
   "cell_type": "markdown",
   "id": "5c5b9966",
   "metadata": {},
   "source": [
    "Syntax\n",
    "\n",
    "---\n",
    "import numpy as np\n",
    "\n",
    "---\n",
    "a = np.array([])\n"
   ]
  },
  {
   "cell_type": "markdown",
   "id": "600f5476",
   "metadata": {},
   "source": [
    "## 1D NP ARRAY"
   ]
  },
  {
   "cell_type": "code",
   "execution_count": 2,
   "id": "57382435",
   "metadata": {},
   "outputs": [],
   "source": [
    "import numpy as np\n",
    "a = np.array([1,2,3,4])"
   ]
  },
  {
   "cell_type": "code",
   "execution_count": 4,
   "id": "abb3a59c",
   "metadata": {},
   "outputs": [
    {
     "name": "stdout",
     "output_type": "stream",
     "text": [
      "[1 2 3 4]\n"
     ]
    }
   ],
   "source": [
    "print(a)"
   ]
  },
  {
   "cell_type": "code",
   "execution_count": 5,
   "id": "e3328383",
   "metadata": {},
   "outputs": [
    {
     "name": "stdout",
     "output_type": "stream",
     "text": [
      "(4,)\n"
     ]
    }
   ],
   "source": [
    "print(a.shape)"
   ]
  },
  {
   "cell_type": "code",
   "execution_count": 6,
   "id": "78432009",
   "metadata": {},
   "outputs": [
    {
     "name": "stdout",
     "output_type": "stream",
     "text": [
      "1\n"
     ]
    }
   ],
   "source": [
    "print(a.ndim)"
   ]
  },
  {
   "cell_type": "markdown",
   "id": "bc7dca45",
   "metadata": {},
   "source": [
    "So the above is a 1D array and it has 4 elements that's why we see (4,)"
   ]
  },
  {
   "cell_type": "markdown",
   "id": "2f322326",
   "metadata": {},
   "source": [
    "## 2D NP ARRAY"
   ]
  },
  {
   "cell_type": "code",
   "execution_count": 13,
   "id": "5121ccf8",
   "metadata": {},
   "outputs": [
    {
     "ename": "TypeError",
     "evalue": "'builtin_function_or_method' object is not subscriptable",
     "output_type": "error",
     "traceback": [
      "\u001b[0;31m---------------------------------------------------------------------------\u001b[0m",
      "\u001b[0;31mTypeError\u001b[0m                                 Traceback (most recent call last)",
      "Cell \u001b[0;32mIn[13], line 1\u001b[0m\n\u001b[0;32m----> 1\u001b[0m a \u001b[38;5;241m=\u001b[39m np\u001b[38;5;241m.\u001b[39marray[[\u001b[38;5;241m1\u001b[39m,\u001b[38;5;241m2\u001b[39m]]\n",
      "\u001b[0;31mTypeError\u001b[0m: 'builtin_function_or_method' object is not subscriptable"
     ]
    }
   ],
   "source": [
    "a = np.array[[1,2]]"
   ]
  },
  {
   "cell_type": "markdown",
   "id": "a9b96e60",
   "metadata": {},
   "source": [
    "We had that code error because we didnt put our array in ()"
   ]
  },
  {
   "cell_type": "code",
   "execution_count": 15,
   "id": "9c17a5d9",
   "metadata": {},
   "outputs": [
    {
     "name": "stdout",
     "output_type": "stream",
     "text": [
      "2\n"
     ]
    }
   ],
   "source": [
    "a = np.array([[4,7]])\n",
    "print(a.ndim)"
   ]
  },
  {
   "cell_type": "markdown",
   "id": "bc8841f6",
   "metadata": {},
   "source": [
    "Now this is a 2D array aand here's why\n",
    "\n",
    "\n",
    "[4,7] this alone is a 1D\n",
    "\n",
    "2D holds one or more 1D so inside it's [] we have one or more one D\n",
    "\n",
    "For better viz of [[[4,7]]\n",
    "\n",
    "[\n",
    "\n",
    "    [4,7]\n",
    "]\n",
    "The shape is 1,2 no matter how many extra one d we have it we be x,2 because we alwyas have two columns for this particlar arry. See below"
   ]
  },
  {
   "cell_type": "code",
   "execution_count": 16,
   "id": "b6c30e3e",
   "metadata": {},
   "outputs": [
    {
     "name": "stdout",
     "output_type": "stream",
     "text": [
      "(1, 2)\n"
     ]
    }
   ],
   "source": [
    "print(a.shape)"
   ]
  },
  {
   "cell_type": "code",
   "execution_count": 17,
   "id": "f74360ba",
   "metadata": {},
   "outputs": [
    {
     "name": "stdout",
     "output_type": "stream",
     "text": [
      "2\n",
      "(3, 2)\n"
     ]
    }
   ],
   "source": [
    "a = np.array([[4,7],[2,5], [9,0]])\n",
    "print(a.ndim)\n",
    "print(a.shape)"
   ]
  },
  {
   "cell_type": "markdown",
   "id": "1781c706",
   "metadata": {},
   "source": [
    "Shape is 3 rows 2 columns for better visualisation\n",
    "\n",
    "[\n",
    "\n",
    "    [4,7],\n",
    "    [2,5],\n",
    "    [9,0]\n",
    "\n",
    "]\n",
    "\n",
    "We have 3 rows and 2  columns"
   ]
  },
  {
   "cell_type": "code",
   "execution_count": 18,
   "id": "63591645",
   "metadata": {},
   "outputs": [],
   "source": [
    "a = np.array([[1,3,4,5],[2,3,4,5],[4,5,6,7]])"
   ]
  },
  {
   "cell_type": "code",
   "execution_count": 19,
   "id": "02238e2e",
   "metadata": {},
   "outputs": [
    {
     "name": "stdout",
     "output_type": "stream",
     "text": [
      "(3, 4)\n",
      "2\n"
     ]
    }
   ],
   "source": [
    "print(a.shape) #It will be 3,4\n",
    "print(a.ndim) #It will be 2"
   ]
  },
  {
   "cell_type": "code",
   "execution_count": 21,
   "id": "86910626",
   "metadata": {},
   "outputs": [],
   "source": [
    "s = np.array([[[1,4,5],[2,4,5],[5,6,7]],[[3,5,6],[1,4,5],[1,6,7]]])"
   ]
  },
  {
   "cell_type": "markdown",
   "id": "34a98a1e",
   "metadata": {},
   "source": [
    "Let's figure out what the shape and dimension would be\n",
    "\n",
    "[\n",
    "    [\n",
    "        [1,4,5],\n",
    "        [2,4,5],\n",
    "        [5,6,7]\n",
    "    ],\n",
    "    [\n",
    "        [3,5,6],\n",
    "        [1,4,5],\n",
    "        [1,6,7]\n",
    "    ]\n",
    "]\n",
    "\n",
    "\n",
    "So we have 1D as [1,4,5]\n",
    "\n",
    "We have 2 2Ds \n",
    "    [\n",
    "        [1,4,5],\n",
    "        [2,4,5],\n",
    "        [5,6,7]\n",
    "    ],\n",
    "    [\n",
    "        [3,5,6],\n",
    "        [1,4,5],\n",
    "        [1,6,7]\n",
    "    ]\n",
    "    \n",
    "And they're wrapped in another [] so it is 3D, LET'S TEST IT"
   ]
  },
  {
   "cell_type": "code",
   "execution_count": 22,
   "id": "4d8f0450",
   "metadata": {},
   "outputs": [
    {
     "name": "stdout",
     "output_type": "stream",
     "text": [
      "3\n"
     ]
    }
   ],
   "source": [
    "print(s.ndim)"
   ]
  },
  {
   "cell_type": "code",
   "execution_count": 23,
   "id": "b533e5d7",
   "metadata": {},
   "outputs": [
    {
     "name": "stdout",
     "output_type": "stream",
     "text": [
      "(2, 3, 3)\n"
     ]
    }
   ],
   "source": [
    "print(s.shape)"
   ]
  },
  {
   "cell_type": "markdown",
   "id": "6e2eccb0",
   "metadata": {},
   "source": [
    "The shape is (2,3,3) here's why\n",
    "\n",
    "[[1,4,5],[2,4,5],[5,6,7]],\n",
    "[[3,5,6],[1,4,5],[1,6,7]]\n",
    "\n",
    "\n",
    "Looking at it this way we have how many 2D's we have 2 and each block has 3 rows and 3 columns. You can just pick one and look at [1,4,5],\n",
    "                 [2,4,5],\n",
    "                 [5,6,7]\n",
    "                 \n",
    "Hence the 2,3,3                 \n",
    "\n",
    "\n",
    "The shape of the below will be 3,2,4 ie 3 blocks and each have 2 rows and 4 columns"
   ]
  },
  {
   "cell_type": "code",
   "execution_count": 41,
   "id": "2cbcfc51",
   "metadata": {},
   "outputs": [
    {
     "ename": "AttributeError",
     "evalue": "'module' object has no attribute 'array'",
     "output_type": "error",
     "traceback": [
      "\u001b[0;31m---------------------------------------------------------------------------\u001b[0m",
      "\u001b[0;31mAttributeError\u001b[0m                            Traceback (most recent call last)",
      "Cell \u001b[0;32mIn[41], line 2\u001b[0m\n\u001b[1;32m      1\u001b[0m \u001b[38;5;66;03m# Reset redefined variables\u001b[39;00m\n\u001b[0;32m----> 2\u001b[0m \u001b[38;5;28;01mdel\u001b[39;00m np\u001b[38;5;241m.\u001b[39marray\n\u001b[1;32m      3\u001b[0m \u001b[38;5;28;01mdel\u001b[39;00m \u001b[38;5;28mlist\u001b[39m\n\u001b[1;32m      5\u001b[0m \u001b[38;5;66;03m# Then re-import NumPy\u001b[39;00m\n",
      "\u001b[0;31mAttributeError\u001b[0m: 'module' object has no attribute 'array'"
     ]
    }
   ],
   "source": [
    "# Reset redefined variables\n",
    "del np.array\n",
    "del list\n",
    "\n",
    "# Then re-import NumPy\n",
    "import numpy as np\n"
   ]
  },
  {
   "cell_type": "code",
   "execution_count": 39,
   "id": "e6a56187",
   "metadata": {},
   "outputs": [
    {
     "ename": "TypeError",
     "evalue": "'list' object is not callable",
     "output_type": "error",
     "traceback": [
      "\u001b[0;31m---------------------------------------------------------------------------\u001b[0m",
      "\u001b[0;31mTypeError\u001b[0m                                 Traceback (most recent call last)",
      "Cell \u001b[0;32mIn[39], line 2\u001b[0m\n\u001b[1;32m      1\u001b[0m \u001b[38;5;28;01mimport\u001b[39;00m \u001b[38;5;21;01mnumpy\u001b[39;00m \u001b[38;5;28;01mas\u001b[39;00m \u001b[38;5;21;01mnp\u001b[39;00m\n\u001b[0;32m----> 2\u001b[0m a \u001b[38;5;241m=\u001b[39m np\u001b[38;5;241m.\u001b[39marray([[[\u001b[38;5;241m2\u001b[39m,\u001b[38;5;241m2\u001b[39m,\u001b[38;5;241m3\u001b[39m,\u001b[38;5;241m4\u001b[39m],[\u001b[38;5;241m5\u001b[39m,\u001b[38;5;241m5\u001b[39m,\u001b[38;5;241m4\u001b[39m,\u001b[38;5;241m6\u001b[39m]], [[\u001b[38;5;241m5\u001b[39m,\u001b[38;5;241m5\u001b[39m,\u001b[38;5;241m4\u001b[39m,\u001b[38;5;241m3\u001b[39m],[\u001b[38;5;241m2\u001b[39m,\u001b[38;5;241m2\u001b[39m,\u001b[38;5;241m3\u001b[39m,\u001b[38;5;241m4\u001b[39m]], [[\u001b[38;5;241m2\u001b[39m,\u001b[38;5;241m2\u001b[39m,\u001b[38;5;241m3\u001b[39m,\u001b[38;5;241m4\u001b[39m],[\u001b[38;5;241m5\u001b[39m,\u001b[38;5;241m5\u001b[39m,\u001b[38;5;241m4\u001b[39m,\u001b[38;5;241m3\u001b[39m]]])\n\u001b[1;32m      3\u001b[0m \u001b[38;5;28mprint\u001b[39m(a\u001b[38;5;241m.\u001b[39mshape)\n",
      "\u001b[0;31mTypeError\u001b[0m: 'list' object is not callable"
     ]
    }
   ],
   "source": [
    "import numpy as np\n",
    "a = np.array([[[2,2,3,4],[5,5,4,6]], [[5,5,4,3],[2,2,3,4]], [[2,2,3,4],[5,5,4,3]]])\n",
    "print(a.shape)"
   ]
  },
  {
   "cell_type": "code",
   "execution_count": 38,
   "id": "0b746de9",
   "metadata": {},
   "outputs": [
    {
     "ename": "TypeError",
     "evalue": "'list' object is not callable",
     "output_type": "error",
     "traceback": [
      "\u001b[0;31m---------------------------------------------------------------------------\u001b[0m",
      "\u001b[0;31mTypeError\u001b[0m                                 Traceback (most recent call last)",
      "Cell \u001b[0;32mIn[38], line 2\u001b[0m\n\u001b[1;32m      1\u001b[0m \u001b[38;5;28;01mimport\u001b[39;00m \u001b[38;5;21;01mnumpy\u001b[39;00m \u001b[38;5;28;01mas\u001b[39;00m \u001b[38;5;21;01mnp\u001b[39;00m\n\u001b[0;32m----> 2\u001b[0m a \u001b[38;5;241m=\u001b[39m np\u001b[38;5;241m.\u001b[39marray([\n\u001b[1;32m      3\u001b[0m     [\n\u001b[1;32m      4\u001b[0m         [\u001b[38;5;241m1\u001b[39m,\u001b[38;5;241m2\u001b[39m,\u001b[38;5;241m3\u001b[39m,\u001b[38;5;241m4\u001b[39m],\n\u001b[1;32m      5\u001b[0m         [\u001b[38;5;241m1\u001b[39m,\u001b[38;5;241m2\u001b[39m,\u001b[38;5;241m3\u001b[39m,\u001b[38;5;241m4\u001b[39m]\n\u001b[1;32m      6\u001b[0m     ],\n\u001b[1;32m      7\u001b[0m     [\n\u001b[1;32m      8\u001b[0m         [\u001b[38;5;241m1\u001b[39m,\u001b[38;5;241m2\u001b[39m,\u001b[38;5;241m3\u001b[39m,\u001b[38;5;241m4\u001b[39m],\n\u001b[1;32m      9\u001b[0m         [\u001b[38;5;241m1\u001b[39m,\u001b[38;5;241m2\u001b[39m,\u001b[38;5;241m3\u001b[39m,\u001b[38;5;241m4\u001b[39m]\n\u001b[1;32m     10\u001b[0m     ],\n\u001b[1;32m     11\u001b[0m     [\n\u001b[1;32m     12\u001b[0m         [\u001b[38;5;241m1\u001b[39m,\u001b[38;5;241m2\u001b[39m,\u001b[38;5;241m3\u001b[39m,\u001b[38;5;241m4\u001b[39m],\n\u001b[1;32m     13\u001b[0m         [\u001b[38;5;241m1\u001b[39m,\u001b[38;5;241m2\u001b[39m,\u001b[38;5;241m3\u001b[39m,\u001b[38;5;241m4\u001b[39m]\n\u001b[1;32m     14\u001b[0m     ]\n\u001b[1;32m     15\u001b[0m ])\n",
      "\u001b[0;31mTypeError\u001b[0m: 'list' object is not callable"
     ]
    }
   ],
   "source": [
    "import numpy as np\n",
    "a = np.array([\n",
    "    [\n",
    "        [1,2,3,4],\n",
    "        [1,2,3,4]\n",
    "    ],\n",
    "    [\n",
    "        [1,2,3,4],\n",
    "        [1,2,3,4]\n",
    "    ],\n",
    "    [\n",
    "        [1,2,3,4],\n",
    "        [1,2,3,4]\n",
    "    ]\n",
    "])"
   ]
  },
  {
   "cell_type": "code",
   "execution_count": 36,
   "id": "b01ac960",
   "metadata": {},
   "outputs": [
    {
     "name": "stdout",
     "output_type": "stream",
     "text": [
      "2\n"
     ]
    }
   ],
   "source": [
    "print(a.ndim)"
   ]
  },
  {
   "cell_type": "code",
   "execution_count": 4,
   "id": "8538b6b0",
   "metadata": {},
   "outputs": [
    {
     "name": "stdout",
     "output_type": "stream",
     "text": [
      "!lo\n"
     ]
    }
   ],
   "source": [
    "a = \"Hello, World!\"\n",
    "print(a[-1:6:-2])"
   ]
  },
  {
   "cell_type": "code",
   "execution_count": 16,
   "id": "9569f054",
   "metadata": {},
   "outputs": [
    {
     "name": "stdout",
     "output_type": "stream",
     "text": [
      "\n"
     ]
    }
   ],
   "source": [
    "a = \"trichology\"\n",
    "print(a[1:1])"
   ]
  },
  {
   "cell_type": "code",
   "execution_count": null,
   "id": "560df265",
   "metadata": {},
   "outputs": [],
   "source": []
  }
 ],
 "metadata": {
  "kernelspec": {
   "display_name": "Python 3 (ipykernel)",
   "language": "python",
   "name": "python3"
  },
  "language_info": {
   "codemirror_mode": {
    "name": "ipython",
    "version": 3
   },
   "file_extension": ".py",
   "mimetype": "text/x-python",
   "name": "python",
   "nbconvert_exporter": "python",
   "pygments_lexer": "ipython3",
   "version": "3.11.5"
  }
 },
 "nbformat": 4,
 "nbformat_minor": 5
}
